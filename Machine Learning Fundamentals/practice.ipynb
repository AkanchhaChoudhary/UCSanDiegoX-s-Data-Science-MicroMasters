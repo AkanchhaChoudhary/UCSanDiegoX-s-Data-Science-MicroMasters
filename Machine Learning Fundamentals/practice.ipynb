{
 "cells": [
  {
   "cell_type": "code",
   "execution_count": 1,
   "id": "dd9f3baa-5535-4fa6-846f-755c27f220d0",
   "metadata": {},
   "outputs": [],
   "source": [
    "india = [\"mumbai\",\"banglor\",\"delhi\",\"chennai\"]\n",
    "pakistan = [\"lahore\",\"karachi\",\"islamabad\"]\n",
    "bangladesh = [\"dhaka\",\"khulna\",\"rangpur\"]"
   ]
  },
  {
   "cell_type": "code",
   "execution_count": 10,
   "id": "ca5cf577-d057-4ecb-933d-3f330f5d1d8d",
   "metadata": {},
   "outputs": [
    {
     "name": "stdin",
     "output_type": "stream",
     "text": [
      "enter city name dhaka\n"
     ]
    },
    {
     "name": "stdout",
     "output_type": "stream",
     "text": [
      "dhaka is in bangladesh\n"
     ]
    }
   ],
   "source": [
    "city = input(\"enter city name\")\n",
    "if city  in india:\n",
    "  print(f'{city} is in india')\n",
    "elif city  in pakistan:\n",
    "  print(f'{city} is in pakistan')\n",
    "elif city  in bangladesh:\n",
    "  print(f'{city} is in bangladesh')\n",
    "else:\n",
    "  print(\"i do not know\")"
   ]
  },
  {
   "cell_type": "code",
   "execution_count": 19,
   "id": "78af4fde-d6eb-473c-95e0-66310b29adb8",
   "metadata": {},
   "outputs": [
    {
     "name": "stdin",
     "output_type": "stream",
     "text": [
      "enter first city islambad\n",
      "enter 2nd city punjab\n"
     ]
    },
    {
     "name": "stdout",
     "output_type": "stream",
     "text": [
      "no\n"
     ]
    }
   ],
   "source": [
    "city1 = input(\"enter first city\")\n",
    "city2 = input(\"enter 2nd city\")\n",
    "if city1 and city2 in india:\n",
    "    print(\"both are in india\")\n",
    "elif city1 and city2 in pakistan:\n",
    "    print(\"both are in pakistan\")\n",
    "elif city1 and city2 in bangladesh:\n",
    "    print(\"both are in bangladesh\")\n",
    "else:\n",
    "    print(\"no\")\n"
   ]
  },
  {
   "cell_type": "code",
   "execution_count": 27,
   "id": "9e33927a-32b2-4fdc-b0e5-093a13335f13",
   "metadata": {},
   "outputs": [
    {
     "name": "stdout",
     "output_type": "stream",
     "text": [
      "\n",
      "exercise1\n",
      "\n",
      "heads counts is: 3\n"
     ]
    }
   ],
   "source": [
    "print(\"\\nexercise1\\n\")\n",
    "result = (\"heads\",\"tails\",\"tails\",\"heads\",\"tails\",\"heads\",\"tails\",\"tails\",\"tails\")\n",
    "count = 0\n",
    "for item in result:\n",
    "    if item == \"heads\":\n",
    "     count +=1\n",
    "print(\"heads counts is:\",count)\n",
    "       \n",
    "       "
   ]
  },
  {
   "cell_type": "code",
   "execution_count": 39,
   "id": "53e2008e-f0b3-40a9-948e-d8d7def5f8aa",
   "metadata": {},
   "outputs": [
    {
     "name": "stdout",
     "output_type": "stream",
     "text": [
      "\n",
      "Exercise 2\n",
      "\n",
      "1\n",
      "9\n",
      "25\n",
      "49\n",
      "81\n"
     ]
    }
   ],
   "source": [
    "\n",
    "print(\"\\nExercise 2\\n\")\n",
    "for i in range(1,11):\n",
    "    if i % 2 == 0:\n",
    "        continue\n",
    "    print(i*i)\n"
   ]
  },
  {
   "cell_type": "code",
   "execution_count": 40,
   "id": "4ba1cc93-4e0c-4546-991c-d80a65215af9",
   "metadata": {},
   "outputs": [],
   "source": [
    "expense_list= [2340,2500,2100,3100,2980]\n",
    "count = 0\n",
    "expense = input(\"enter yiur expense\"):\n",
    "for i in range(len(expense_list))\n",
    "   print"
   ]
  },
  {
   "cell_type": "markdown",
   "id": "4ae5fe2f-da4b-49c3-8d9a-90af12ec82e0",
   "metadata": {},
   "source": [
    "Write a function called calculate_area that takes base and height as an input and returns and area of a triangle. Equation of an area of a triangle is,"
   ]
  },
  {
   "cell_type": "code",
   "execution_count": 17,
   "id": "2a5847c7-e710-4529-bb3c-42bd98de94f5",
   "metadata": {},
   "outputs": [],
   "source": [
    "def calculate_area(dimension1,dimension2,shape=\"triangle\"):\n",
    "    if shape==\"triangle\":\n",
    "        area=1/2*(dimension1*dimension2)\n",
    "    elif shape==\"rectangle\":\n",
    "        area=dimension1*dimension2 \n",
    "    else:\n",
    "        print(\"Error: Input shape is neither triangle nor rectangle.\")\n",
    "        area=None \n",
    "    return area\n",
    "    "
   ]
  },
  {
   "cell_type": "code",
   "execution_count": 18,
   "id": "5880b7f6-30c9-4085-b5f0-a9bdf2bef5bc",
   "metadata": {},
   "outputs": [
    {
     "name": "stdout",
     "output_type": "stream",
     "text": [
      "Area of triangle is: 25.0\n"
     ]
    }
   ],
   "source": [
    "base=10\n",
    "height=5\n",
    "triangle_area=calculate_area(base,height,\"triangle\")\n",
    "print(\"Area of triangle is:\",triangle_area)\n"
   ]
  },
  {
   "cell_type": "code",
   "execution_count": null,
   "id": "66aebca9-f3bd-4308-b7a4-283861a4268d",
   "metadata": {},
   "outputs": [],
   "source": []
  },
  {
   "cell_type": "code",
   "execution_count": 1,
   "id": "4512eec2-762f-4c5f-ba32-27a7f947cbd3",
   "metadata": {},
   "outputs": [],
   "source": [
    "population = {'china':'43', 'india':'143','India':'136','USA':'32','Pakistan':'21'\n",
    "}"
   ]
  },
  {
   "cell_type": "code",
   "execution_count": 2,
   "id": "828085a0-b12e-448c-ba87-39f93f584103",
   "metadata": {},
   "outputs": [
    {
     "ename": "NameError",
     "evalue": "name 'country' is not defined",
     "output_type": "error",
     "traceback": [
      "\u001b[0;31m---------------------------------------------------------------------------\u001b[0m",
      "\u001b[0;31mNameError\u001b[0m                                 Traceback (most recent call last)",
      "Cell \u001b[0;32mIn[2], line 1\u001b[0m\n\u001b[0;32m----> 1\u001b[0m \u001b[43mcountry\u001b[49m[\u001b[38;5;124m'\u001b[39m\u001b[38;5;124mchina\u001b[39m\u001b[38;5;124m'\u001b[39m]\n",
      "\u001b[0;31mNameError\u001b[0m: name 'country' is not defined"
     ]
    }
   ],
   "source": [
    "country['china']"
   ]
  },
  {
   "cell_type": "code",
   "execution_count": 3,
   "id": "700732c4-c8f3-4415-aa81-096af53553c9",
   "metadata": {},
   "outputs": [
    {
     "name": "stdin",
     "output_type": "stream",
     "text": [
      "type print china\n"
     ]
    }
   ],
   "source": [
    "prnt_city = input(\"type print\")\n",
    "if prnt_city==\"print\":\n",
    "   for team in country:\n",
    "    print(team, \"==>\" ,country[team])\n"
   ]
  },
  {
   "cell_type": "code",
   "execution_count": 4,
   "id": "3d3b169f-a7d3-46df-b96e-5f1e21d46448",
   "metadata": {},
   "outputs": [],
   "source": [
    "def add():\n",
    "    country=input(\"Enter country name to add:\")\n",
    "    country=country.lower()\n",
    "    if country in population:\n",
    "        print(\"Country already exist in our dataset. Terminating\")\n",
    "        return\n",
    "    p=input(f\"Enter population for {country}\")\n",
    "    p=float(p)\n",
    "    population[country]=p # Adds new key value pair to dictionary\n",
    "    print_all()\n",
    "def remove():\n",
    "    country = input(\"Enter country name to remove:\")\n",
    "    country = country.lower()\n",
    "    if country not in population:\n",
    "        print(\"Country doesn't exist in our dataset. Terminating\")\n",
    "        return\n",
    "    del population[country]\n",
    "    print_all()\n",
    "\n",
    "def query():\n",
    "    country = input(\"Enter country name to query:\")\n",
    "    country = country.lower()\n",
    "    if country not in population:\n",
    "        print(\"Country doesn't exist in our dataset. Terminating\")\n",
    "        return\n",
    "    print(f\"Population of {country} is: {population[country]} crore\")\n",
    "\n",
    "def print_all():\n",
    "    for country, p in population.items():\n",
    "        print(f\"{country}==>{p}\")"
   ]
  },
  {
   "cell_type": "code",
   "execution_count": 6,
   "id": "c2db78a0-cf44-454d-924c-f8c94d687e3d",
   "metadata": {},
   "outputs": [
    {
     "name": "stdin",
     "output_type": "stream",
     "text": [
      "Enter operation (add, remove, query or print): bang\n"
     ]
    }
   ],
   "source": [
    "def main():\n",
    "    op=input(\"Enter operation (add, remove, query or print):\")\n",
    "    if op.lower() == 'add':\n",
    "        add()\n",
    "    elif op.lower() == 'remove':\n",
    "        remove()\n",
    "    elif op.lower() == 'query':\n",
    "        query()\n",
    "    elif op.lower() == 'print':\n",
    "        print_all()\n",
    "\n",
    "if __name__ == '__main__':\n",
    "    main()"
   ]
  },
  {
   "cell_type": "code",
   "execution_count": 66,
   "id": "76d25b27-fce8-43f3-94ce-c3f8b5d09ab5",
   "metadata": {},
   "outputs": [
    {
     "name": "stdin",
     "output_type": "stream",
     "text": [
      "enter city to add bangladesh\n"
     ]
    }
   ],
   "source": [
    "prnt_city1 = input(\"enter city to add\")\n",
    "if prnt_city1 in country:\n",
    "    print(\"it exist\")\n",
    "    \n",
    "      "
   ]
  },
  {
   "cell_type": "code",
   "execution_count": 88,
   "id": "8312088b-9af9-4886-aa85-015ec29cfaea",
   "metadata": {},
   "outputs": [
    {
     "data": {
      "text/plain": [
       "{'china': '43', 'india': '143', 'India': '136', 'USA': '32', 'Pakistan': '21'}"
      ]
     },
     "execution_count": 88,
     "metadata": {},
     "output_type": "execute_result"
    }
   ],
   "source": [
    "population"
   ]
  },
  {
   "cell_type": "code",
   "execution_count": 7,
   "id": "9b11c9f6-b000-4f28-8406-abc97e2b01f5",
   "metadata": {},
   "outputs": [
    {
     "data": {
      "text/html": [
       "<div>\n",
       "<style scoped>\n",
       "    .dataframe tbody tr th:only-of-type {\n",
       "        vertical-align: middle;\n",
       "    }\n",
       "\n",
       "    .dataframe tbody tr th {\n",
       "        vertical-align: top;\n",
       "    }\n",
       "\n",
       "    .dataframe thead th {\n",
       "        text-align: right;\n",
       "    }\n",
       "</style>\n",
       "<table border=\"1\" class=\"dataframe\">\n",
       "  <thead>\n",
       "    <tr style=\"text-align: right;\">\n",
       "      <th></th>\n",
       "      <th>day</th>\n",
       "      <th>temperature</th>\n",
       "      <th>windspeed</th>\n",
       "      <th>event</th>\n",
       "    </tr>\n",
       "  </thead>\n",
       "  <tbody>\n",
       "    <tr>\n",
       "      <th>0</th>\n",
       "      <td>1/1/2017</td>\n",
       "      <td>32</td>\n",
       "      <td>6</td>\n",
       "      <td>Rain</td>\n",
       "    </tr>\n",
       "    <tr>\n",
       "      <th>1</th>\n",
       "      <td>1/2/2017</td>\n",
       "      <td>35</td>\n",
       "      <td>7</td>\n",
       "      <td>Sunny</td>\n",
       "    </tr>\n",
       "    <tr>\n",
       "      <th>2</th>\n",
       "      <td>1/3/2017</td>\n",
       "      <td>28</td>\n",
       "      <td>2</td>\n",
       "      <td>Snow</td>\n",
       "    </tr>\n",
       "    <tr>\n",
       "      <th>3</th>\n",
       "      <td>1/4/2017</td>\n",
       "      <td>24</td>\n",
       "      <td>7</td>\n",
       "      <td>Snow</td>\n",
       "    </tr>\n",
       "    <tr>\n",
       "      <th>4</th>\n",
       "      <td>1/5/2017</td>\n",
       "      <td>32</td>\n",
       "      <td>4</td>\n",
       "      <td>Rain</td>\n",
       "    </tr>\n",
       "    <tr>\n",
       "      <th>5</th>\n",
       "      <td>1/6/2017</td>\n",
       "      <td>31</td>\n",
       "      <td>2</td>\n",
       "      <td>Sunny</td>\n",
       "    </tr>\n",
       "  </tbody>\n",
       "</table>\n",
       "</div>"
      ],
      "text/plain": [
       "        day  temperature  windspeed  event\n",
       "0  1/1/2017           32          6   Rain\n",
       "1  1/2/2017           35          7  Sunny\n",
       "2  1/3/2017           28          2   Snow\n",
       "3  1/4/2017           24          7   Snow\n",
       "4  1/5/2017           32          4   Rain\n",
       "5  1/6/2017           31          2  Sunny"
      ]
     },
     "execution_count": 7,
     "metadata": {},
     "output_type": "execute_result"
    }
   ],
   "source": [
    "import pandas as pd\n",
    "weather_data = {\n",
    "    'day': ['1/1/2017','1/2/2017','1/3/2017','1/4/2017','1/5/2017','1/6/2017'],\n",
    "    'temperature': [32,35,28,24,32,31],\n",
    "    'windspeed': [6,7,2,7,4,2],\n",
    "    'event': ['Rain', 'Sunny', 'Snow','Snow','Rain', 'Sunny']\n",
    "}\n",
    "df = pd.DataFrame(weather_data)\n",
    "df = pd.read_csv(\"weather_data.csv\")\n",
    "df"
   ]
  },
  {
   "cell_type": "code",
   "execution_count": 19,
   "id": "e0f2a823-7cca-4ef3-8310-99f56de81ccc",
   "metadata": {},
   "outputs": [
    {
     "data": {
      "text/html": [
       "<div>\n",
       "<style scoped>\n",
       "    .dataframe tbody tr th:only-of-type {\n",
       "        vertical-align: middle;\n",
       "    }\n",
       "\n",
       "    .dataframe tbody tr th {\n",
       "        vertical-align: top;\n",
       "    }\n",
       "\n",
       "    .dataframe thead th {\n",
       "        text-align: right;\n",
       "    }\n",
       "</style>\n",
       "<table border=\"1\" class=\"dataframe\">\n",
       "  <thead>\n",
       "    <tr style=\"text-align: right;\">\n",
       "      <th></th>\n",
       "      <th>day</th>\n",
       "      <th>temperature</th>\n",
       "      <th>windspeed</th>\n",
       "      <th>event</th>\n",
       "    </tr>\n",
       "  </thead>\n",
       "  <tbody>\n",
       "    <tr>\n",
       "      <th>1</th>\n",
       "      <td>1/2/2017</td>\n",
       "      <td>35</td>\n",
       "      <td>7</td>\n",
       "      <td>Sunny</td>\n",
       "    </tr>\n",
       "  </tbody>\n",
       "</table>\n",
       "</div>"
      ],
      "text/plain": [
       "        day  temperature  windspeed  event\n",
       "1  1/2/2017           35          7  Sunny"
      ]
     },
     "execution_count": 19,
     "metadata": {},
     "output_type": "execute_result"
    }
   ],
   "source": [
    "df[df['temperature']>32]"
   ]
  },
  {
   "cell_type": "code",
   "execution_count": 25,
   "id": "aa112062-0fa4-4131-a880-56e5e36afe90",
   "metadata": {},
   "outputs": [
    {
     "ename": "KeyError",
     "evalue": "'31'",
     "output_type": "error",
     "traceback": [
      "\u001b[0;31m---------------------------------------------------------------------------\u001b[0m",
      "\u001b[0;31mKeyError\u001b[0m                                  Traceback (most recent call last)",
      "Cell \u001b[0;32mIn[25], line 1\u001b[0m\n\u001b[0;32m----> 1\u001b[0m \u001b[43mdf\u001b[49m\u001b[38;5;241;43m.\u001b[39;49m\u001b[43mloc\u001b[49m\u001b[43m[\u001b[49m\u001b[38;5;124;43m'\u001b[39;49m\u001b[38;5;124;43m31\u001b[39;49m\u001b[38;5;124;43m'\u001b[39;49m\u001b[43m]\u001b[49m\n",
      "File \u001b[0;32m~/.local/lib/python3.10/site-packages/pandas/core/indexing.py:1103\u001b[0m, in \u001b[0;36m_LocationIndexer.__getitem__\u001b[0;34m(self, key)\u001b[0m\n\u001b[1;32m   1100\u001b[0m axis \u001b[38;5;241m=\u001b[39m \u001b[38;5;28mself\u001b[39m\u001b[38;5;241m.\u001b[39maxis \u001b[38;5;129;01mor\u001b[39;00m \u001b[38;5;241m0\u001b[39m\n\u001b[1;32m   1102\u001b[0m maybe_callable \u001b[38;5;241m=\u001b[39m com\u001b[38;5;241m.\u001b[39mapply_if_callable(key, \u001b[38;5;28mself\u001b[39m\u001b[38;5;241m.\u001b[39mobj)\n\u001b[0;32m-> 1103\u001b[0m \u001b[38;5;28;01mreturn\u001b[39;00m \u001b[38;5;28;43mself\u001b[39;49m\u001b[38;5;241;43m.\u001b[39;49m\u001b[43m_getitem_axis\u001b[49m\u001b[43m(\u001b[49m\u001b[43mmaybe_callable\u001b[49m\u001b[43m,\u001b[49m\u001b[43m \u001b[49m\u001b[43maxis\u001b[49m\u001b[38;5;241;43m=\u001b[39;49m\u001b[43maxis\u001b[49m\u001b[43m)\u001b[49m\n",
      "File \u001b[0;32m~/.local/lib/python3.10/site-packages/pandas/core/indexing.py:1343\u001b[0m, in \u001b[0;36m_LocIndexer._getitem_axis\u001b[0;34m(self, key, axis)\u001b[0m\n\u001b[1;32m   1341\u001b[0m \u001b[38;5;66;03m# fall thru to straight lookup\u001b[39;00m\n\u001b[1;32m   1342\u001b[0m \u001b[38;5;28mself\u001b[39m\u001b[38;5;241m.\u001b[39m_validate_key(key, axis)\n\u001b[0;32m-> 1343\u001b[0m \u001b[38;5;28;01mreturn\u001b[39;00m \u001b[38;5;28;43mself\u001b[39;49m\u001b[38;5;241;43m.\u001b[39;49m\u001b[43m_get_label\u001b[49m\u001b[43m(\u001b[49m\u001b[43mkey\u001b[49m\u001b[43m,\u001b[49m\u001b[43m \u001b[49m\u001b[43maxis\u001b[49m\u001b[38;5;241;43m=\u001b[39;49m\u001b[43maxis\u001b[49m\u001b[43m)\u001b[49m\n",
      "File \u001b[0;32m~/.local/lib/python3.10/site-packages/pandas/core/indexing.py:1293\u001b[0m, in \u001b[0;36m_LocIndexer._get_label\u001b[0;34m(self, label, axis)\u001b[0m\n\u001b[1;32m   1291\u001b[0m \u001b[38;5;28;01mdef\u001b[39;00m \u001b[38;5;21m_get_label\u001b[39m(\u001b[38;5;28mself\u001b[39m, label, axis: AxisInt):\n\u001b[1;32m   1292\u001b[0m     \u001b[38;5;66;03m# GH#5567 this will fail if the label is not present in the axis.\u001b[39;00m\n\u001b[0;32m-> 1293\u001b[0m     \u001b[38;5;28;01mreturn\u001b[39;00m \u001b[38;5;28;43mself\u001b[39;49m\u001b[38;5;241;43m.\u001b[39;49m\u001b[43mobj\u001b[49m\u001b[38;5;241;43m.\u001b[39;49m\u001b[43mxs\u001b[49m\u001b[43m(\u001b[49m\u001b[43mlabel\u001b[49m\u001b[43m,\u001b[49m\u001b[43m \u001b[49m\u001b[43maxis\u001b[49m\u001b[38;5;241;43m=\u001b[39;49m\u001b[43maxis\u001b[49m\u001b[43m)\u001b[49m\n",
      "File \u001b[0;32m~/.local/lib/python3.10/site-packages/pandas/core/generic.py:4095\u001b[0m, in \u001b[0;36mNDFrame.xs\u001b[0;34m(self, key, axis, level, drop_level)\u001b[0m\n\u001b[1;32m   4093\u001b[0m             new_index \u001b[38;5;241m=\u001b[39m index[loc]\n\u001b[1;32m   4094\u001b[0m \u001b[38;5;28;01melse\u001b[39;00m:\n\u001b[0;32m-> 4095\u001b[0m     loc \u001b[38;5;241m=\u001b[39m \u001b[43mindex\u001b[49m\u001b[38;5;241;43m.\u001b[39;49m\u001b[43mget_loc\u001b[49m\u001b[43m(\u001b[49m\u001b[43mkey\u001b[49m\u001b[43m)\u001b[49m\n\u001b[1;32m   4097\u001b[0m     \u001b[38;5;28;01mif\u001b[39;00m \u001b[38;5;28misinstance\u001b[39m(loc, np\u001b[38;5;241m.\u001b[39mndarray):\n\u001b[1;32m   4098\u001b[0m         \u001b[38;5;28;01mif\u001b[39;00m loc\u001b[38;5;241m.\u001b[39mdtype \u001b[38;5;241m==\u001b[39m np\u001b[38;5;241m.\u001b[39mbool_:\n",
      "File \u001b[0;32m~/.local/lib/python3.10/site-packages/pandas/core/indexes/range.py:349\u001b[0m, in \u001b[0;36mRangeIndex.get_loc\u001b[0;34m(self, key)\u001b[0m\n\u001b[1;32m    347\u001b[0m         \u001b[38;5;28;01mraise\u001b[39;00m \u001b[38;5;167;01mKeyError\u001b[39;00m(key) \u001b[38;5;28;01mfrom\u001b[39;00m \u001b[38;5;21;01merr\u001b[39;00m\n\u001b[1;32m    348\u001b[0m \u001b[38;5;28;01mif\u001b[39;00m \u001b[38;5;28misinstance\u001b[39m(key, Hashable):\n\u001b[0;32m--> 349\u001b[0m     \u001b[38;5;28;01mraise\u001b[39;00m \u001b[38;5;167;01mKeyError\u001b[39;00m(key)\n\u001b[1;32m    350\u001b[0m \u001b[38;5;28mself\u001b[39m\u001b[38;5;241m.\u001b[39m_check_indexing_error(key)\n\u001b[1;32m    351\u001b[0m \u001b[38;5;28;01mraise\u001b[39;00m \u001b[38;5;167;01mKeyError\u001b[39;00m(key)\n",
      "\u001b[0;31mKeyError\u001b[0m: '31'"
     ]
    }
   ],
   "source": [
    "df.loc['31']"
   ]
  },
  {
   "cell_type": "code",
   "execution_count": null,
   "id": "c33094d4-b490-47b1-b1bc-a0bf30d2dc9b",
   "metadata": {},
   "outputs": [],
   "source": []
  }
 ],
 "metadata": {
  "kernelspec": {
   "display_name": "Python 3 (ipykernel)",
   "language": "python",
   "name": "python3"
  },
  "language_info": {
   "codemirror_mode": {
    "name": "ipython",
    "version": 3
   },
   "file_extension": ".py",
   "mimetype": "text/x-python",
   "name": "python",
   "nbconvert_exporter": "python",
   "pygments_lexer": "ipython3",
   "version": "3.10.12"
  }
 },
 "nbformat": 4,
 "nbformat_minor": 5
}
