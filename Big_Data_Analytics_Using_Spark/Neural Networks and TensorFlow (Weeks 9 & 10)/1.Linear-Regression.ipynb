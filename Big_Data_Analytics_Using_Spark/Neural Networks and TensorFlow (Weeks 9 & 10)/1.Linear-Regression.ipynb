{
 "cells": [
  {
   "cell_type": "markdown",
   "metadata": {
    "heading_collapsed": true,
    "slideshow": {
     "slide_type": "slide"
    }
   },
   "source": [
    "## Linear Regression using TensorFlow\n",
    "\n",
    "* This notebook is adapted from [Aymeric Damian's Linear Regression notebook](https://github.com/aymericdamien/TensorFlow-Examples/blob/master/notebooks/2_BasicModels/linear_regression.ipynb) \n",
    "\n",
    "* Clone the full collection [here](https://github.com/aymericdamien/TensorFlow-Examples)."
   ]
  },
  {
   "cell_type": "markdown",
   "metadata": {
    "slideshow": {
     "slide_type": "subslide"
    }
   },
   "source": [
    "## What is a Tensor?\n",
    "\n",
    "A [Tensor](https://en.wikipedia.org/wiki/Tensor) in mathematics is an object that specifies a linear relationship.\n",
    "\n",
    "In **Tensorflow** the term Tensor corresponds to a $k$ dimensional arrays of numbers. Specifically:   \n",
    "1. A $0$-dimensional tensor is a Scalar.\n",
    "2. A $1$-dimensional tensor is a Vector, or a $1$-dimensional numpy array.\n",
    "3. A $2$ dimensional tensor is a Matrix.\n",
    "4. A $k$ dimensional tensor is a $k$ dimensional numpy array.\n",
    "\n",
    "Tensors are the main data type in TensorFlow. In other words, most variables in TensorFlow are numpy arrays."
   ]
  },
  {
   "cell_type": "markdown",
   "metadata": {
    "slideshow": {
     "slide_type": "skip"
    }
   },
   "source": [
    "To quote [TensorFlow's programmer's guide](https://github.com/tensorflow/docs/blob/r1.9/site/en/guide/variables.md):\n",
    ">A TensorFlow variable is the best way to represent shared, persistent state manipulated by your program.\n",
    "\n",
    ">Variables are manipulated via the tf.Variable class. A tf.Variable represents a tensor whose value can be changed by running ops on it. Unlike tf.Tensor objects, a tf.Variable exists outside the context of a single session.run call.\n",
    "\n",
    ">Internally, a tf.Variable stores a persistent tensor. Specific ops allow you to read and modify the values of this tensor. These modifications are visible across multiple tf.Sessions, so multiple workers can see the same values for a tf.Variable."
   ]
  },
  {
   "cell_type": "markdown",
   "metadata": {
    "slideshow": {
     "slide_type": "subslide"
    }
   },
   "source": [
    "* Each operation on Tensors is a node in the TensorFlow graph\n",
    "    * Nodes take Tensors as input\n",
    "    * Return Tensors as output"
   ]
  },
  {
   "cell_type": "markdown",
   "metadata": {
    "slideshow": {
     "slide_type": "skip"
    }
   },
   "source": [
    "## What is Linear Regression?\n",
    "\n",
    "We are assuming that this is not the first time you are using Linear, if it isnt, \n",
    "we recommend you review: [linear regression review in dataschool.io](http://www.dataschool.io/linear-regression-in-python/)\n",
    "\n",
    "Linear regression attempts to model the relationship between two variables by fitting a linear equation to observed data. One variable is considered to be an explanatory variable, and the others are considered to be dependent variables. For our example, we want to relate the variable Y to the variable X using a linear regression model. "
   ]
  },
  {
   "cell_type": "markdown",
   "metadata": {
    "slideshow": {
     "slide_type": "subslide"
    }
   },
   "source": [
    "## A one-dimensional linear model\n",
    "\n",
    "$\\hat{y}$ is a linear function of $x$:  \n",
    "$\\hat{y} = b + w \\times x$  \n",
    "Where:  \n",
    "* $x$ is the input\n",
    "* $y$ is the output\n",
    "* $\\hat{y}$ is the estimate of $y$.\n",
    "* $w$ is the *weight* or *load*\n",
    "* $b$ is the bias"
   ]
  },
  {
   "cell_type": "markdown",
   "metadata": {
    "slideshow": {
     "slide_type": "subslide"
    }
   },
   "source": [
    "### Learning the model\n",
    "We are given a training set:  \n",
    "$(x_1,y_1),(x_2,y_2),\\ldots,(x_n,y_n)$\n",
    "\n",
    "Our goal is to find $b$ and $w$ so that $\\hat{y}_i = b + w \\times x_i$  is close to $y_i$"
   ]
  },
  {
   "cell_type": "markdown",
   "metadata": {
    "slideshow": {
     "slide_type": "subslide"
    }
   },
   "source": [
    "### Some toy data"
   ]
  },
  {
   "cell_type": "code",
   "execution_count": 1,
   "metadata": {
    "ExecuteTime": {
     "end_time": "2018-06-04T21:14:24.025507Z",
     "start_time": "2018-06-04T21:14:22.707649Z"
    },
    "slideshow": {
     "slide_type": "skip"
    }
   },
   "outputs": [
    {
     "name": "stderr",
     "output_type": "stream",
     "text": [
      "/usr/local/lib/python3.6/site-packages/tensorflow/python/framework/dtypes.py:523: FutureWarning: Passing (type, 1) or '1type' as a synonym of type is deprecated; in a future version of numpy, it will be understood as (type, (1,)) / '(1,)type'.\n",
      "  _np_qint8 = np.dtype([(\"qint8\", np.int8, 1)])\n",
      "/usr/local/lib/python3.6/site-packages/tensorflow/python/framework/dtypes.py:524: FutureWarning: Passing (type, 1) or '1type' as a synonym of type is deprecated; in a future version of numpy, it will be understood as (type, (1,)) / '(1,)type'.\n",
      "  _np_quint8 = np.dtype([(\"quint8\", np.uint8, 1)])\n",
      "/usr/local/lib/python3.6/site-packages/tensorflow/python/framework/dtypes.py:525: FutureWarning: Passing (type, 1) or '1type' as a synonym of type is deprecated; in a future version of numpy, it will be understood as (type, (1,)) / '(1,)type'.\n",
      "  _np_qint16 = np.dtype([(\"qint16\", np.int16, 1)])\n",
      "/usr/local/lib/python3.6/site-packages/tensorflow/python/framework/dtypes.py:526: FutureWarning: Passing (type, 1) or '1type' as a synonym of type is deprecated; in a future version of numpy, it will be understood as (type, (1,)) / '(1,)type'.\n",
      "  _np_quint16 = np.dtype([(\"quint16\", np.uint16, 1)])\n",
      "/usr/local/lib/python3.6/site-packages/tensorflow/python/framework/dtypes.py:527: FutureWarning: Passing (type, 1) or '1type' as a synonym of type is deprecated; in a future version of numpy, it will be understood as (type, (1,)) / '(1,)type'.\n",
      "  _np_qint32 = np.dtype([(\"qint32\", np.int32, 1)])\n",
      "/usr/local/lib/python3.6/site-packages/tensorflow/python/framework/dtypes.py:532: FutureWarning: Passing (type, 1) or '1type' as a synonym of type is deprecated; in a future version of numpy, it will be understood as (type, (1,)) / '(1,)type'.\n",
      "  np_resource = np.dtype([(\"resource\", np.ubyte, 1)])\n"
     ]
    }
   ],
   "source": [
    "import tensorflow as tf\n",
    "import numpy as np\n",
    "import matplotlib.pyplot as plt \n",
    "\n",
    "import warnings\n",
    "## Tensorflow produces a lot of warnings. We generally want to suppress them. The below code does exactly that. \n",
    "warnings.filterwarnings('ignore')\n",
    "tf.logging.set_verbosity(tf.logging.ERROR)\n",
    "\n",
    "rng = np.random\n",
    "logs_path = 'logs/lesson1'\n"
   ]
  },
  {
   "cell_type": "code",
   "execution_count": 2,
   "metadata": {
    "ExecuteTime": {
     "end_time": "2018-06-04T21:14:24.035805Z",
     "start_time": "2018-06-04T21:14:24.027903Z"
    },
    "collapsed": true,
    "slideshow": {
     "slide_type": "fragment"
    }
   },
   "outputs": [],
   "source": [
    "train_X = np.asarray([3.3,4.4,5.5,6.71,6.93,4.168,9.779,6.182,7.59,2.167,\n",
    "                         7.042,10.791,5.313,7.997,5.654,9.27,3.1])\n",
    "train_Y = np.asarray([1.7,2.76,2.09,3.19,1.694,1.573,3.366,2.596,2.53,1.221,\n",
    "                         2.827,3.465,1.65,2.904,2.42,2.94,1.3])\n",
    "n_samples = train_X.shape[0]"
   ]
  },
  {
   "cell_type": "markdown",
   "metadata": {
    "slideshow": {
     "slide_type": "subslide"
    }
   },
   "source": [
    "## Tensorflow representation of a Linear Regression Model"
   ]
  },
  {
   "cell_type": "markdown",
   "metadata": {
    "slideshow": {
     "slide_type": "skip"
    }
   },
   "source": [
    "TensorFlow concepts:\n",
    "\n",
    "|  Tensorflow  | common term | Description |\n",
    "| --- | --- | ---|\n",
    "| placeholder | input ports | Associated with an input stream |\n",
    "| variable    | Variables | Maintained between input examples and between epochs |\n",
    "| name_scope  | subroutine name-spaces | Used to encapsulate the functions of a **node** \n",
    "| Session     | Run-time environment | Used to execute the computation graph on training data |"
   ]
  },
  {
   "cell_type": "markdown",
   "metadata": {
    "slideshow": {
     "slide_type": "subslide"
    }
   },
   "source": [
    "### [Placeholders](https://github.com/tensorflow/docs/blob/r1.8/site/en/api_guides/python/io_ops.md#placeholders) \n",
    "Define entry points for training data. Similar to *ports* in computer systems."
   ]
  },
  {
   "cell_type": "code",
   "execution_count": 3,
   "metadata": {
    "ExecuteTime": {
     "end_time": "2018-06-04T21:14:24.060786Z",
     "start_time": "2018-06-04T21:14:24.041266Z"
    },
    "collapsed": true,
    "slideshow": {
     "slide_type": "fragment"
    }
   },
   "outputs": [],
   "source": [
    "# Input to the graph\n",
    "y = tf.placeholder(dtype = tf.float32, name = 'InputData')\n",
    "x = tf.placeholder(dtype = tf.float32, name = 'LabelData')"
   ]
  },
  {
   "cell_type": "markdown",
   "metadata": {
    "slideshow": {
     "slide_type": "subslide"
    }
   },
   "source": [
    "### [Variables](https://github.com/tensorflow/docs/blob/r1.9/site/en/guide/variables.md)\n",
    "Similar to variables in a programming language such as python."
   ]
  },
  {
   "cell_type": "code",
   "execution_count": 4,
   "metadata": {
    "ExecuteTime": {
     "end_time": "2018-06-04T21:14:24.074811Z",
     "start_time": "2018-06-04T21:14:24.062761Z"
    },
    "collapsed": true,
    "slideshow": {
     "slide_type": "fragment"
    }
   },
   "outputs": [],
   "source": [
    "# Model parameters are defined using variables\n",
    "# Variables retain their value even outside the bounds of a session's run call\n",
    "w = tf.Variable(initial_value = rng.randn(), name = \"weight\") \n",
    "b = tf.Variable(initial_value = rng.randn(), name = \"bias\")"
   ]
  },
  {
   "cell_type": "markdown",
   "metadata": {
    "slideshow": {
     "slide_type": "subslide"
    }
   },
   "source": [
    "### name_scope\n",
    "Defines a name-space which is used by a function. and defines a node in the TensorFlow graph."
   ]
  },
  {
   "cell_type": "code",
   "execution_count": 5,
   "metadata": {
    "ExecuteTime": {
     "end_time": "2018-06-04T21:14:24.084003Z",
     "start_time": "2018-06-04T21:14:24.076791Z"
    },
    "collapsed": true,
    "slideshow": {
     "slide_type": "fragment"
    }
   },
   "outputs": [],
   "source": [
    "# Connecting up the nodes in our linear model\n",
    "# y = b + Wx\n",
    "with tf.name_scope('model'):\n",
    "    prediction = tf.add(b, tf.multiply(w, x))\n",
    "\n",
    "# prediction holds the tensor that is the output of the operation add which takes tensors b, and the output of the multiply operation between the weight w, and the input x"
   ]
  },
  {
   "cell_type": "markdown",
   "metadata": {
    "slideshow": {
     "slide_type": "subslide"
    }
   },
   "source": [
    "## Learning the Regression parameters\n",
    "\n",
    "Now that we have the linear model, we need to define the **Loss** and the **Optimizer** that will learn the parameters `w,b` from training data."
   ]
  },
  {
   "cell_type": "markdown",
   "metadata": {
    "slideshow": {
     "slide_type": "subslide"
    }
   },
   "source": [
    "### Defining the average loss\n",
    "We define the loss to be the average of the square errors.\n",
    "$$\\mbox{loss} = \\frac{\\sum_{i=1}^n (\\hat{y} - y)^2}{2n}$$"
   ]
  },
  {
   "cell_type": "code",
   "execution_count": 6,
   "metadata": {
    "ExecuteTime": {
     "end_time": "2018-06-04T21:14:24.101116Z",
     "start_time": "2018-06-04T21:14:24.086878Z"
    },
    "collapsed": true,
    "slideshow": {
     "slide_type": "fragment"
    }
   },
   "outputs": [],
   "source": [
    "with tf.name_scope('Loss'):\n",
    "    loss = tf.reduce_sum( input_tensor = tf.pow(prediction-y, 2))/(2*n_samples)"
   ]
  },
  {
   "cell_type": "code",
   "execution_count": 7,
   "metadata": {
    "ExecuteTime": {
     "end_time": "2018-06-04T21:14:24.110221Z",
     "start_time": "2018-06-04T21:14:24.103318Z"
    },
    "collapsed": true,
    "slideshow": {
     "slide_type": "skip"
    }
   },
   "outputs": [],
   "source": [
    "## The purpose of the following two commands is to log the activity \n",
    "tf.summary.scalar(\"loss\", loss)\n",
    "merged_summary_op = tf.summary.merge_all()"
   ]
  },
  {
   "cell_type": "markdown",
   "metadata": {
    "slideshow": {
     "slide_type": "subslide"
    }
   },
   "source": [
    "## Optimizers In tensorflow\n",
    "The engine of tensorflow is the **optimizer** whose job is to fit the parameters of a model to a training set.\n",
    "\n",
    "Tensorflow provides various built-in optimizers that allow for the optimization of objective functions. "
   ]
  },
  {
   "cell_type": "markdown",
   "metadata": {
    "slideshow": {
     "slide_type": "skip"
    }
   },
   "source": [
    "These inbuilt optimizers are mostly directed toward neural network optimization, but a user can specify their own optimization functions by extending a base class. "
   ]
  },
  {
   "cell_type": "markdown",
   "metadata": {
    "slideshow": {
     "slide_type": "subslide"
    }
   },
   "source": [
    "Our goal is to find the settings of `w,b` that minimize the average loss. **Tensorflow** has a number of [powerful optimizers built-in](https://github.com/tensorflow/docs/blob/r1.8/site/en/api_guides/python/train.md#optimizers). Here we are using one of the simplest ones: Stochastic Gradient Descent(SGD)."
   ]
  },
  {
   "cell_type": "markdown",
   "metadata": {
    "slideshow": {
     "slide_type": "skip"
    }
   },
   "source": [
    "* `GradientDescentOptimizer` automatically computes the gradients of the function being optimized\n",
    "* `Adagrad`, - Big innovation that makes software like Tensorflow and PyTorch possible\n",
    "To optimize this linear regressor, we will use the inbuilt **Gradient Descent Optimizer**."
   ]
  },
  {
   "cell_type": "code",
   "execution_count": 8,
   "metadata": {
    "ExecuteTime": {
     "end_time": "2018-06-04T21:14:24.187413Z",
     "start_time": "2018-06-04T21:14:24.112933Z"
    },
    "collapsed": true,
    "slideshow": {
     "slide_type": "subslide"
    }
   },
   "outputs": [],
   "source": [
    "learning_rate = 0.01\n",
    "with tf.name_scope('SGD'):\n",
    "    optimizer = tf.train.GradientDescentOptimizer(learning_rate).minimize(loss)"
   ]
  },
  {
   "cell_type": "code",
   "execution_count": 9,
   "metadata": {
    "ExecuteTime": {
     "end_time": "2018-06-04T21:14:24.194939Z",
     "start_time": "2018-06-04T21:14:24.189768Z"
    },
    "collapsed": true,
    "slideshow": {
     "slide_type": "fragment"
    }
   },
   "outputs": [],
   "source": [
    "# We also need an operation to initialize our global variables (w and b)\n",
    "init = tf.global_variables_initializer()"
   ]
  },
  {
   "cell_type": "markdown",
   "metadata": {
    "slideshow": {
     "slide_type": "subslide"
    }
   },
   "source": [
    "## The computational graph\n",
    "\n",
    "### Hand-drawn\n",
    "(Using [LucidChart](https://www.lucidchart.com/))\n",
    "<center><img src=\"img/LinearRegression_lucidchart.png\" alt=\"An example image of an ML model visualized using TensorBoard\" style=\"width:1000px;\"></center>"
   ]
  },
  {
   "cell_type": "markdown",
   "metadata": {
    "slideshow": {
     "slide_type": "subslide"
    }
   },
   "source": [
    "### Automatically generated\n",
    "([TensorBoard](https://github.com/tensorflow/docs/blob/r1.9/site/en/guide/summaries_and_tensorboard.md) automatically generates a graph and an interactive GUI from Tensorflow code, will be explained in the logisticregression notebook).\n",
    "\n",
    "<center><img src=\"img/LinearRegression.PNG\" alt=\"An example image of an ML model visualized using TensorBoard\" style=\"width:800px;\"></center>"
   ]
  },
  {
   "cell_type": "markdown",
   "metadata": {
    "slideshow": {
     "slide_type": "notes"
    }
   },
   "source": [
    "TensorFlow uses the **`tf.Session`** class to represent a connection between the client program---typically a Python program, although a similar interface is available in other languages---and the C++ runtime. \n",
    "\n",
    "A `tf.Session` object provides access to devices in the local machine, and remote devices using the distributed TensorFlow runtime. \n",
    "\n",
    "It also caches information about your `tf.Graph` so that you can efficiently run the same computation multiple times.\n",
    "\n"
   ]
  },
  {
   "cell_type": "markdown",
   "metadata": {
    "slideshow": {
     "slide_type": "slide"
    }
   },
   "source": [
    "## Executing the Computational Graph in a session\n",
    "The computational graph defines the computation that is to be done, but it does not execute anything. (If you are interested in immediate execution, you might want to use the [Eager API](https://github.com/tensorflow/docs/blob/r1.9/site/en/guide/eager.md))"
   ]
  },
  {
   "cell_type": "markdown",
   "metadata": {
    "slideshow": {
     "slide_type": "fragment"
    }
   },
   "source": [
    "* Using the classical API, the computational graph is executed inside a **session**"
   ]
  },
  {
   "cell_type": "markdown",
   "metadata": {
    "slideshow": {
     "slide_type": "fragment"
    }
   },
   "source": [
    "* A typical session is divided into **epochs**, each epoch corresponds to a single pass over the training data."
   ]
  },
  {
   "cell_type": "markdown",
   "metadata": {
    "slideshow": {
     "slide_type": "fragment"
    }
   },
   "source": [
    "* The training set is divided into **training samples**. \n",
    "  * A parallelization opportunity: each training sample can reside on a different computer."
   ]
  },
  {
   "cell_type": "markdown",
   "metadata": {
    "slideshow": {
     "slide_type": "subslide"
    }
   },
   "source": [
    "## Session code walkthrough"
   ]
  },
  {
   "cell_type": "markdown",
   "metadata": {
    "ExecuteTime": {
     "end_time": "2018-05-28T18:08:44.650147Z",
     "start_time": "2018-05-28T18:08:35.002860Z"
    },
    "code_folding": [],
    "slideshow": {
     "slide_type": "subslide"
    }
   },
   "source": [
    "* Initializing a few parameters.\n",
    "``` python\n",
    "training_epochs = 1000              # We will run our optimizer for 1000 epochs\n",
    "display_step = 100                  # Display the loss every 100 runs\n",
    "final_w, final_b = 0,0\n",
    "```"
   ]
  },
  {
   "cell_type": "markdown",
   "metadata": {
    "ExecuteTime": {
     "end_time": "2018-05-28T18:08:44.650147Z",
     "start_time": "2018-05-28T18:08:35.002860Z"
    },
    "code_folding": [],
    "slideshow": {
     "slide_type": "subslide"
    }
   },
   "source": [
    "* Initialize Session\n",
    "```python\n",
    "with tf.Session() as sess:\n",
    "    sess.run(init)  # initialize variables\n",
    "    # Initialize logging\n",
    "    summary_writer = tf.summary.FileWriter(logs_path, graph=tf.get_default_graph())\n",
    "```"
   ]
  },
  {
   "cell_type": "markdown",
   "metadata": {
    "slideshow": {
     "slide_type": "subslide"
    }
   },
   "source": [
    "* The main method for a session is `session.run` which recieves as input:\n",
    "   * The graph nodes that must be executed (other nodes will be run to provide needed inputs)\n",
    "   * The datasets that are to be used as input (throught the placeholders)."
   ]
  },
  {
   "cell_type": "markdown",
   "metadata": {
    "ExecuteTime": {
     "end_time": "2018-05-28T18:08:44.650147Z",
     "start_time": "2018-05-28T18:08:35.002860Z"
    },
    "code_folding": [],
    "slideshow": {
     "slide_type": "subslide"
    }
   },
   "source": [
    "* The main part of the code\n",
    "```python\n",
    "    # Fit all training data\n",
    "    for epoch in range(training_epochs):\n",
    "        for (sample_x, sample_y) in zip(train_X, train_Y):\n",
    "            sess.run(optimizer, feed_dict={x: sample_x, y: sample_y})\n",
    "```"
   ]
  },
  {
   "cell_type": "markdown",
   "metadata": {
    "ExecuteTime": {
     "end_time": "2018-05-28T18:08:44.650147Z",
     "start_time": "2018-05-28T18:08:35.002860Z"
    },
    "code_folding": [],
    "slideshow": {
     "slide_type": "subslide"
    }
   },
   "source": [
    "```python\n",
    "        #Display logs per epoch step\n",
    "        if (epoch+1) % display_step == 0:\n",
    "            c , summary= sess.run([loss, merged_summary_op], feed_dict={x: train_X, y:train_Y})\n",
    "            summary_writer.add_summary(summary, epoch)\n",
    "            print(\"Epoch:\", '%04d' % (epoch+1), \"loss=\", \"{:.9f}\".format(c), \\\n",
    "                \"w=\", sess.run(w), \"b=\", sess.run(b))\n",
    "```"
   ]
  },
  {
   "cell_type": "markdown",
   "metadata": {
    "slideshow": {
     "slide_type": "skip"
    }
   },
   "source": [
    "\n",
    "The `run` method runs one \"step\" of TensorFlow computation, by running the necessary graph fragment to execute every Operation and evaluate every Tensor in fetches, substituting the values in feed_dict for the corresponding input values\n",
    "\n",
    "Notice that we pass a batch of Xs and Ys to the feed_dict parameter when we run the optimizer in a session.\n",
    "\n",
    "The `feed_dict` parameter in the `run` function of a session accepts key, value entries where the value is a Python scalar, string, list, or numpy ndarray that can be converted to the same dtype as that tensor represented by the key. Additionally, if the key is a tf.placeholder, the shape of the value will be checked for compatibility with the placeholder."
   ]
  },
  {
   "cell_type": "markdown",
   "metadata": {
    "slideshow": {
     "slide_type": "subslide"
    }
   },
   "source": [
    "## Wrapping up\n",
    "recompute training error at the end, and capture final parameters."
   ]
  },
  {
   "cell_type": "markdown",
   "metadata": {
    "ExecuteTime": {
     "end_time": "2018-05-28T18:08:44.650147Z",
     "start_time": "2018-05-28T18:08:35.002860Z"
    },
    "code_folding": [],
    "slideshow": {
     "slide_type": "fragment"
    }
   },
   "source": [
    "```python\n",
    "    print(\"Optimization Finished!\")\n",
    "    training_loss = sess.run(loss, feed_dict={x: train_X, y:train_Y})\n",
    "    print(\"Training loss=\", training_loss, \"w=\", sess.run(w), \"b=\", sess.run(b), '\\n')\n",
    "    final_w, final_b = sess.run(w), sess.run(b)\n",
    "```"
   ]
  },
  {
   "cell_type": "code",
   "execution_count": 10,
   "metadata": {
    "ExecuteTime": {
     "end_time": "2018-06-04T21:14:30.935113Z",
     "start_time": "2018-06-04T21:14:24.198331Z"
    },
    "slideshow": {
     "slide_type": "subslide"
    }
   },
   "outputs": [
    {
     "name": "stdout",
     "output_type": "stream",
     "text": [
      "Epoch: 0100 loss= 0.078003787 w= 0.26760244 b= 0.67191195\n",
      "Epoch: 0200 loss= 0.077780716 w= 0.265524 b= 0.68686396\n",
      "Epoch: 0300 loss= 0.077606484 w= 0.26368558 b= 0.7000903\n",
      "Epoch: 0400 loss= 0.077470399 w= 0.2620591 b= 0.7117906\n",
      "Epoch: 0500 loss= 0.077364177 w= 0.2606204 b= 0.7221405\n",
      "Epoch: 0600 loss= 0.077281274 w= 0.25934753 b= 0.731297\n",
      "Epoch: 0700 loss= 0.077216581 w= 0.25822163 b= 0.73939735\n",
      "Epoch: 0800 loss= 0.077166140 w= 0.25722575 b= 0.7465617\n",
      "Epoch: 0900 loss= 0.077126831 w= 0.25634462 b= 0.75289994\n",
      "Epoch: 1000 loss= 0.077096187 w= 0.25556517 b= 0.75850755\n",
      "Optimization Finished!\n",
      "Training loss= 0.07709619 w= 0.25556517 b= 0.75850755 \n",
      "\n"
     ]
    }
   ],
   "source": [
    "# Executable cell\n",
    "# We now run the computational graph in a session\n",
    "training_epochs = 1000              # We will run our optimizer for 1000 epochs\n",
    "display_step = 100                  # Display the loss every 100 runs\n",
    "final_w, final_b = 0,0\n",
    "with tf.Session() as sess:\n",
    "    sess.run(init)\n",
    "    summary_writer = tf.summary.FileWriter(logs_path, graph=tf.get_default_graph())\n",
    "\n",
    "    # Fit all training data\n",
    "    for epoch in range(training_epochs):\n",
    "        for (sample_x, sample_y) in zip(train_X, train_Y):\n",
    "            sess.run(optimizer, feed_dict={x: sample_x, y: sample_y})\n",
    "\n",
    "        #Display logs per epoch step\n",
    "        if (epoch+1) % display_step == 0:\n",
    "            c , summary= sess.run([loss, merged_summary_op], feed_dict={x: train_X, y:train_Y})\n",
    "            summary_writer.add_summary(summary, epoch)\n",
    "            print(\"Epoch:\", '%04d' % (epoch+1), \"loss=\", \"{:.9f}\".format(c), \\\n",
    "                \"w=\", sess.run(w), \"b=\", sess.run(b))\n",
    "\n",
    "    print(\"Optimization Finished!\")\n",
    "    training_loss = sess.run(loss, feed_dict={x: train_X, y:train_Y})\n",
    "    print(\"Training loss=\", training_loss, \"w=\", sess.run(w), \"b=\", sess.run(b), '\\n')\n",
    "    final_w, final_b = sess.run(w), sess.run(b)"
   ]
  },
  {
   "cell_type": "code",
   "execution_count": 11,
   "metadata": {
    "ExecuteTime": {
     "end_time": "2018-06-04T21:15:43.630048Z",
     "start_time": "2018-06-04T21:15:43.474252Z"
    },
    "hide_input": true,
    "scrolled": true,
    "slideshow": {
     "slide_type": "subslide"
    }
   },
   "outputs": [
    {
     "data": {
      "image/png": "[encoded data removed]",
      "text/plain": [
       "<Figure size 432x288 with 1 Axes>"
      ]
     },
     "metadata": {},
     "output_type": "display_data"
    }
   ],
   "source": [
    "#Graphic display\n",
    "plt.plot(train_X, train_Y, 'ro', label='Original data')\n",
    "plt.plot(train_X, final_w * train_X + final_b, label='Fitted line')\n",
    "plt.xlabel('x')\n",
    "plt.ylabel('y')\n",
    "plt.legend()\n",
    "plt.show()"
   ]
  },
  {
   "cell_type": "markdown",
   "metadata": {
    "slideshow": {
     "slide_type": "subslide"
    }
   },
   "source": [
    "## The three ingredients of learning NN.\n",
    "There are three ingredients to learning NN:\n",
    "1. **The model architecture:** defines how the the output prediction $\\hat{y}$ is computed from the input $X$ and the parameters $W$.\n",
    "1. **The Loss function:** quantifies the difference between the output $y$ and the prediction $\\hat{y}$.\n",
    "1. **The optimizer:** finds a parameter setting $W^*$ that minimizes the average loss"
   ]
  },
  {
   "cell_type": "markdown",
   "metadata": {
    "slideshow": {
     "slide_type": "subslide"
    }
   },
   "source": [
    "## The parts of a basic Tensorflow program\n",
    "### Basic units:\n",
    "1. **the inputs:** defined as `placeholder`s\n",
    "2. **The weights:** defined as `variable`s\n",
    "\n",
    "### Nodes in the computation graph:\n",
    "3. **The model** \n",
    "4. **The loss function** \n",
    "5. **The optimizer** "
   ]
  },
  {
   "cell_type": "markdown",
   "metadata": {
    "slideshow": {
     "slide_type": "subslide"
    }
   },
   "source": [
    "### The session\n",
    "Defines the order in which the elements of the computation graph are computed.\n",
    "\n",
    "### See you next time\n",
    "* logistic regression."
   ]
  }
 ],
 "metadata": {
  "celltoolbar": "Slideshow",
  "hide_input": false,
  "kernelspec": {
   "display_name": "Python 3 [3.6]",
   "language": "python",
   "name": "python3"
  },
  "language_info": {
   "codemirror_mode": {
    "name": "ipython",
    "version": 3
   },
   "file_extension": ".py",
   "mimetype": "text/x-python",
   "name": "python",
   "nbconvert_exporter": "python",
   "pygments_lexer": "ipython3",
   "version": "3.6.4"
  },
  "toc": {
   "base_numbering": 1,
   "nav_menu": {},
   "number_sections": true,
   "sideBar": true,
   "skip_h1_title": false,
   "title_cell": "Table of Contents",
   "title_sidebar": "Contents",
   "toc_cell": false,
   "toc_position": {},
   "toc_section_display": true,
   "toc_window_display": false
  },
  "varInspector": {
   "cols": {
    "lenName": 16,
    "lenType": 16,
    "lenVar": 40
   },
   "kernels_config": {
    "python": {
     "delete_cmd_postfix": "",
     "delete_cmd_prefix": "del ",
     "library": "var_list.py",
     "varRefreshCmd": "print(var_dic_list())"
    },
    "r": {
     "delete_cmd_postfix": ") ",
     "delete_cmd_prefix": "rm(",
     "library": "var_list.r",
     "varRefreshCmd": "cat(var_dic_list()) "
    }
   },
   "position": {
    "height": "277px",
    "left": "911px",
    "right": "20px",
    "top": "120px",
    "width": "367px"
   },
   "types_to_exclude": [
    "module",
    "function",
    "builtin_function_or_method",
    "instance",
    "_Feature"
   ],
   "window_display": false
  }
 },
 "nbformat": 4,
 "nbformat_minor": 2
}
