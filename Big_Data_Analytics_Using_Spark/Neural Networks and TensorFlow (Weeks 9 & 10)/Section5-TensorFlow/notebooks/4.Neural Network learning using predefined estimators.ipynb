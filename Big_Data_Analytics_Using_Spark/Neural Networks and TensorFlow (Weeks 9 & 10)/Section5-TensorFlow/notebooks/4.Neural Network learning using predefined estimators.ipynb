{
 "cells": [
  {
   "cell_type": "code",
   "execution_count": 1,
   "metadata": {
    "ExecuteTime": {
     "end_time": "2018-06-05T19:05:32.915350Z",
     "start_time": "2018-06-05T19:05:31.778023Z"
    },
    "slideshow": {
     "slide_type": "skip"
    }
   },
   "outputs": [
    {
     "name": "stderr",
     "output_type": "stream",
     "text": [
      "/usr/local/lib/python3.6/site-packages/tensorflow/python/framework/dtypes.py:523: FutureWarning: Passing (type, 1) or '1type' as a synonym of type is deprecated; in a future version of numpy, it will be understood as (type, (1,)) / '(1,)type'.\n",
      "  _np_qint8 = np.dtype([(\"qint8\", np.int8, 1)])\n",
      "/usr/local/lib/python3.6/site-packages/tensorflow/python/framework/dtypes.py:524: FutureWarning: Passing (type, 1) or '1type' as a synonym of type is deprecated; in a future version of numpy, it will be understood as (type, (1,)) / '(1,)type'.\n",
      "  _np_quint8 = np.dtype([(\"quint8\", np.uint8, 1)])\n",
      "/usr/local/lib/python3.6/site-packages/tensorflow/python/framework/dtypes.py:525: FutureWarning: Passing (type, 1) or '1type' as a synonym of type is deprecated; in a future version of numpy, it will be understood as (type, (1,)) / '(1,)type'.\n",
      "  _np_qint16 = np.dtype([(\"qint16\", np.int16, 1)])\n",
      "/usr/local/lib/python3.6/site-packages/tensorflow/python/framework/dtypes.py:526: FutureWarning: Passing (type, 1) or '1type' as a synonym of type is deprecated; in a future version of numpy, it will be understood as (type, (1,)) / '(1,)type'.\n",
      "  _np_quint16 = np.dtype([(\"quint16\", np.uint16, 1)])\n",
      "/usr/local/lib/python3.6/site-packages/tensorflow/python/framework/dtypes.py:527: FutureWarning: Passing (type, 1) or '1type' as a synonym of type is deprecated; in a future version of numpy, it will be understood as (type, (1,)) / '(1,)type'.\n",
      "  _np_qint32 = np.dtype([(\"qint32\", np.int32, 1)])\n",
      "/usr/local/lib/python3.6/site-packages/tensorflow/python/framework/dtypes.py:532: FutureWarning: Passing (type, 1) or '1type' as a synonym of type is deprecated; in a future version of numpy, it will be understood as (type, (1,)) / '(1,)type'.\n",
      "  np_resource = np.dtype([(\"resource\", np.ubyte, 1)])\n"
     ]
    }
   ],
   "source": [
    "import tensorflow as tf\n",
    "import numpy as np\n",
    "\n",
    "import warnings\n",
    "## Tensorflow produces a lot of warnings. We generally want to suppress them. The below code does exactly that. \n",
    "warnings.filterwarnings('ignore')\n",
    "tf.logging.set_verbosity(tf.logging.ERROR)"
   ]
  },
  {
   "cell_type": "markdown",
   "metadata": {
    "slideshow": {
     "slide_type": "slide"
    }
   },
   "source": [
    "## Using predefined estimators\n",
    "In this notebook we recreate the neural network defined first in notebook [3.Neural-Networks.ipynb](3.Neural-Networks.ipynb)  \n",
    "using the predefined estimator `DNNClassifier`"
   ]
  },
  {
   "cell_type": "markdown",
   "metadata": {
    "slideshow": {
     "slide_type": "subslide"
    }
   },
   "source": [
    "## Benefits of Estimators\n",
    "\n",
    "- Estimator-based models are independent of operating environment\n",
    "    - local host\n",
    "    - GPUs\n",
    "    - CPU clusters"
   ]
  },
  {
   "cell_type": "markdown",
   "metadata": {
    "slideshow": {
     "slide_type": "subslide"
    }
   },
   "source": [
    "### More benefits\n",
    "- Simplify model sharing between developers\n",
    "- State of the art model architectures with more intuitive high-level code"
   ]
  },
  {
   "cell_type": "markdown",
   "metadata": {
    "slideshow": {
     "slide_type": "subslide"
    }
   },
   "source": [
    "## Read Data\n",
    "The MNist dataset is available from within TensorFlow tutorials."
   ]
  },
  {
   "cell_type": "code",
   "execution_count": 2,
   "metadata": {
    "ExecuteTime": {
     "end_time": "2018-06-05T19:36:46.775849Z",
     "start_time": "2018-06-05T19:36:46.080280Z"
    },
    "slideshow": {
     "slide_type": "fragment"
    }
   },
   "outputs": [
    {
     "name": "stdout",
     "output_type": "stream",
     "text": [
      "Extracting MNIST_data/train-images-idx3-ubyte.gz\n",
      "Extracting MNIST_data/train-labels-idx1-ubyte.gz\n",
      "Extracting MNIST_data/t10k-images-idx3-ubyte.gz\n",
      "Extracting MNIST_data/t10k-labels-idx1-ubyte.gz\n"
     ]
    }
   ],
   "source": [
    "from tensorflow.examples.tutorials.mnist import input_data\n",
    "mnist = input_data.read_data_sets('MNIST_data')\n",
    "\n",
    "# Wrap input as a function (THE \"input function\" will be defined below)\n",
    "def input(dataset):\n",
    "    return dataset.images, dataset.labels.astype(np.int32)"
   ]
  },
  {
   "cell_type": "markdown",
   "metadata": {
    "slideshow": {
     "slide_type": "subslide"
    }
   },
   "source": [
    "##  Define feature columns"
   ]
  },
  {
   "cell_type": "code",
   "execution_count": 3,
   "metadata": {
    "ExecuteTime": {
     "end_time": "2018-06-05T19:05:43.474804Z",
     "start_time": "2018-06-05T19:05:43.470582Z"
    },
    "collapsed": true,
    "slideshow": {
     "slide_type": "fragment"
    }
   },
   "outputs": [],
   "source": [
    "# Specify feature\n",
    "feature_columns = [tf.feature_column.numeric_column(\"x\", shape=[28, 28])]"
   ]
  },
  {
   "cell_type": "markdown",
   "metadata": {
    "slideshow": {
     "slide_type": "subslide"
    }
   },
   "source": [
    "## Define Neural Network"
   ]
  },
  {
   "cell_type": "code",
   "execution_count": 4,
   "metadata": {
    "ExecuteTime": {
     "end_time": "2018-06-05T19:50:09.313970Z",
     "start_time": "2018-06-05T19:50:09.306304Z"
    },
    "collapsed": true,
    "slideshow": {
     "slide_type": "fragment"
    }
   },
   "outputs": [],
   "source": [
    "# Build 2 layer DNN classifier\n",
    "classifier = tf.estimator.DNNClassifier(\n",
    "    feature_columns=feature_columns,\n",
    "    hidden_units=[256, 256],\n",
    "    optimizer=tf.train.AdamOptimizer(1e-4),\n",
    "    n_classes=10,\n",
    "    dropout=0.1,\n",
    "    model_dir=\"./tmp/mnist_model_256_256\"   # Location for storing checkpoints.\n",
    ")"
   ]
  },
  {
   "cell_type": "markdown",
   "metadata": {
    "slideshow": {
     "slide_type": "subslide"
    }
   },
   "source": [
    "## Define training input function\n",
    "* Supplies data for training, evaluation, prediction\n",
    "* Should yield tuples of:\n",
    "    - Python dict `features`: key = name of feature, value = array of feature values\n",
    "    - Array `label` : label for every example"
   ]
  },
  {
   "cell_type": "code",
   "execution_count": 5,
   "metadata": {
    "ExecuteTime": {
     "end_time": "2018-06-05T19:51:48.515998Z",
     "start_time": "2018-06-05T19:51:48.508173Z"
    },
    "collapsed": true,
    "slideshow": {
     "slide_type": "fragment"
    }
   },
   "outputs": [],
   "source": [
    "# Define the training inputs\n",
    "train_input_fn = tf.estimator.inputs.numpy_input_fn(\n",
    "    x={\"x\": input(mnist.train)[0]},\n",
    "    y=input(mnist.train)[1],\n",
    "    num_epochs=None,\n",
    "    batch_size=50,\n",
    "    shuffle=True\n",
    ")"
   ]
  },
  {
   "cell_type": "markdown",
   "metadata": {
    "slideshow": {
     "slide_type": "subslide"
    }
   },
   "source": [
    "## Train the neural network\n",
    "* Checkpoint used for \"warm start\"\n",
    "* Checkpoints saved"
   ]
  },
  {
   "cell_type": "code",
   "execution_count": 6,
   "metadata": {
    "ExecuteTime": {
     "end_time": "2018-06-05T19:52:20.034065Z",
     "start_time": "2018-06-05T19:51:49.814922Z"
    },
    "scrolled": true,
    "slideshow": {
     "slide_type": "subslide"
    }
   },
   "outputs": [
    {
     "name": "stdout",
     "output_type": "stream",
     "text": [
      "WARNING:tensorflow:From /usr/local/lib/python3.6/site-packages/tensorflow/python/estimator/inputs/queues/feeding_queue_runner.py:62: QueueRunner.__init__ (from tensorflow.python.training.queue_runner_impl) is deprecated and will be removed in a future version.\n",
      "Instructions for updating:\n",
      "To construct input pipelines, use the `tf.data` module.\n",
      "WARNING:tensorflow:From /usr/local/lib/python3.6/site-packages/tensorflow/python/estimator/inputs/queues/feeding_functions.py:500: add_queue_runner (from tensorflow.python.training.queue_runner_impl) is deprecated and will be removed in a future version.\n",
      "Instructions for updating:\n",
      "To construct input pipelines, use the `tf.data` module.\n",
      "INFO:tensorflow:Calling model_fn.\n",
      "INFO:tensorflow:Done calling model_fn.\n",
      "INFO:tensorflow:Create CheckpointSaverHook.\n",
      "INFO:tensorflow:Graph was finalized.\n",
      "INFO:tensorflow:Restoring parameters from ./tmp/mnist_model_256_256/model.ckpt-31000\n",
      "INFO:tensorflow:Running local_init_op.\n",
      "INFO:tensorflow:Done running local_init_op.\n",
      "WARNING:tensorflow:From /usr/local/lib/python3.6/site-packages/tensorflow/python/training/monitored_session.py:804: start_queue_runners (from tensorflow.python.training.queue_runner_impl) is deprecated and will be removed in a future version.\n",
      "Instructions for updating:\n",
      "To construct input pipelines, use the `tf.data` module.\n",
      "INFO:tensorflow:Saving checkpoints for 31000 into ./tmp/mnist_model_256_256/model.ckpt.\n",
      "INFO:tensorflow:loss = 0.084843956, step = 31001\n",
      "INFO:tensorflow:global_step/sec: 375.649\n",
      "INFO:tensorflow:loss = 0.61875224, step = 31101 (0.267 sec)\n",
      "INFO:tensorflow:global_step/sec: 448.713\n",
      "INFO:tensorflow:loss = 0.73152584, step = 31201 (0.223 sec)\n",
      "INFO:tensorflow:global_step/sec: 441.243\n",
      "INFO:tensorflow:loss = 0.91855407, step = 31301 (0.227 sec)\n",
      "INFO:tensorflow:global_step/sec: 439.613\n",
      "INFO:tensorflow:loss = 0.38239026, step = 31401 (0.227 sec)\n",
      "INFO:tensorflow:global_step/sec: 431.182\n",
      "INFO:tensorflow:loss = 1.0638136, step = 31501 (0.232 sec)\n",
      "INFO:tensorflow:global_step/sec: 445\n",
      "INFO:tensorflow:loss = 0.055261552, step = 31601 (0.225 sec)\n",
      "INFO:tensorflow:global_step/sec: 432.941\n",
      "INFO:tensorflow:loss = 0.009869972, step = 31701 (0.231 sec)\n",
      "INFO:tensorflow:global_step/sec: 419.57\n",
      "INFO:tensorflow:loss = 0.4441424, step = 31801 (0.238 sec)\n",
      "INFO:tensorflow:global_step/sec: 430.652\n",
      "INFO:tensorflow:loss = 0.6547493, step = 31901 (0.232 sec)\n",
      "INFO:tensorflow:global_step/sec: 436.275\n",
      "INFO:tensorflow:loss = 0.040341046, step = 32001 (0.230 sec)\n",
      "INFO:tensorflow:global_step/sec: 428.116\n",
      "INFO:tensorflow:loss = 1.6651697, step = 32101 (0.232 sec)\n",
      "INFO:tensorflow:global_step/sec: 398.191\n",
      "INFO:tensorflow:loss = 0.2739524, step = 32201 (0.251 sec)\n",
      "INFO:tensorflow:global_step/sec: 415.308\n",
      "INFO:tensorflow:loss = 0.3899947, step = 32301 (0.241 sec)\n",
      "INFO:tensorflow:global_step/sec: 429.254\n",
      "INFO:tensorflow:loss = 0.3648314, step = 32401 (0.233 sec)\n",
      "INFO:tensorflow:global_step/sec: 424.701\n",
      "INFO:tensorflow:loss = 0.57942724, step = 32501 (0.236 sec)\n",
      "INFO:tensorflow:global_step/sec: 419.513\n",
      "INFO:tensorflow:loss = 0.21007043, step = 32601 (0.238 sec)\n",
      "INFO:tensorflow:global_step/sec: 421.973\n",
      "INFO:tensorflow:loss = 0.2703909, step = 32701 (0.237 sec)\n",
      "INFO:tensorflow:global_step/sec: 432.8\n",
      "INFO:tensorflow:loss = 0.5486701, step = 32801 (0.231 sec)\n",
      "INFO:tensorflow:global_step/sec: 432.466\n",
      "INFO:tensorflow:loss = 0.03988304, step = 32901 (0.232 sec)\n",
      "INFO:tensorflow:global_step/sec: 418.959\n",
      "INFO:tensorflow:loss = 0.4896983, step = 33001 (0.238 sec)\n",
      "INFO:tensorflow:global_step/sec: 431.898\n",
      "INFO:tensorflow:loss = 1.118385, step = 33101 (0.232 sec)\n",
      "INFO:tensorflow:global_step/sec: 414.432\n",
      "INFO:tensorflow:loss = 0.22903633, step = 33201 (0.241 sec)\n",
      "INFO:tensorflow:global_step/sec: 403.308\n",
      "INFO:tensorflow:loss = 0.24456696, step = 33301 (0.248 sec)\n",
      "INFO:tensorflow:global_step/sec: 437.811\n",
      "INFO:tensorflow:loss = 0.12838076, step = 33401 (0.228 sec)\n",
      "INFO:tensorflow:global_step/sec: 416.555\n",
      "INFO:tensorflow:loss = 0.18192749, step = 33501 (0.240 sec)\n",
      "INFO:tensorflow:global_step/sec: 429.002\n",
      "INFO:tensorflow:loss = 0.22019847, step = 33601 (0.234 sec)\n",
      "INFO:tensorflow:global_step/sec: 426.752\n",
      "INFO:tensorflow:loss = 0.7058846, step = 33701 (0.234 sec)\n",
      "INFO:tensorflow:global_step/sec: 423.06\n",
      "INFO:tensorflow:loss = 2.0104957, step = 33801 (0.237 sec)\n",
      "INFO:tensorflow:global_step/sec: 400.483\n",
      "INFO:tensorflow:loss = 0.15325518, step = 33901 (0.249 sec)\n",
      "INFO:tensorflow:global_step/sec: 425.627\n",
      "INFO:tensorflow:loss = 0.31118828, step = 34001 (0.235 sec)\n",
      "INFO:tensorflow:global_step/sec: 413.85\n",
      "INFO:tensorflow:loss = 0.015496585, step = 34101 (0.242 sec)\n",
      "INFO:tensorflow:global_step/sec: 407.293\n",
      "INFO:tensorflow:loss = 0.31863666, step = 34201 (0.245 sec)\n",
      "INFO:tensorflow:global_step/sec: 415.047\n",
      "INFO:tensorflow:loss = 0.25695166, step = 34301 (0.241 sec)\n",
      "INFO:tensorflow:global_step/sec: 424.212\n",
      "INFO:tensorflow:loss = 0.23694354, step = 34401 (0.236 sec)\n",
      "INFO:tensorflow:global_step/sec: 430.298\n",
      "INFO:tensorflow:loss = 0.15856612, step = 34501 (0.232 sec)\n",
      "INFO:tensorflow:global_step/sec: 419.647\n",
      "INFO:tensorflow:loss = 0.11295375, step = 34601 (0.238 sec)\n",
      "INFO:tensorflow:global_step/sec: 419.527\n",
      "INFO:tensorflow:loss = 0.30603716, step = 34701 (0.239 sec)\n",
      "INFO:tensorflow:global_step/sec: 421.413\n",
      "INFO:tensorflow:loss = 0.56190205, step = 34801 (0.237 sec)\n",
      "INFO:tensorflow:global_step/sec: 423.078\n",
      "INFO:tensorflow:loss = 0.39037904, step = 34901 (0.236 sec)\n",
      "INFO:tensorflow:global_step/sec: 429.081\n",
      "INFO:tensorflow:loss = 0.30724156, step = 35001 (0.233 sec)\n",
      "INFO:tensorflow:global_step/sec: 433.554\n",
      "INFO:tensorflow:loss = 0.061016753, step = 35101 (0.231 sec)\n",
      "INFO:tensorflow:global_step/sec: 427.196\n",
      "INFO:tensorflow:loss = 0.09390716, step = 35201 (0.234 sec)\n",
      "INFO:tensorflow:global_step/sec: 419.118\n",
      "INFO:tensorflow:loss = 1.3731575, step = 35301 (0.239 sec)\n",
      "INFO:tensorflow:global_step/sec: 421.503\n",
      "INFO:tensorflow:loss = 0.06338966, step = 35401 (0.237 sec)\n",
      "INFO:tensorflow:global_step/sec: 390.982\n",
      "INFO:tensorflow:loss = 1.7672149, step = 35501 (0.256 sec)\n",
      "INFO:tensorflow:global_step/sec: 381.01\n",
      "INFO:tensorflow:loss = 1.4623688, step = 35601 (0.263 sec)\n",
      "INFO:tensorflow:global_step/sec: 416.585\n",
      "INFO:tensorflow:loss = 0.24845672, step = 35701 (0.240 sec)\n",
      "INFO:tensorflow:global_step/sec: 415.847\n",
      "INFO:tensorflow:loss = 0.09470333, step = 35801 (0.241 sec)\n",
      "INFO:tensorflow:global_step/sec: 388.735\n",
      "INFO:tensorflow:loss = 0.32512042, step = 35901 (0.257 sec)\n",
      "INFO:tensorflow:global_step/sec: 389.086\n",
      "INFO:tensorflow:loss = 1.1777779, step = 36001 (0.257 sec)\n",
      "INFO:tensorflow:global_step/sec: 367.025\n",
      "INFO:tensorflow:loss = 0.44264388, step = 36101 (0.272 sec)\n",
      "INFO:tensorflow:global_step/sec: 381.963\n",
      "INFO:tensorflow:loss = 0.011740828, step = 36201 (0.263 sec)\n",
      "INFO:tensorflow:global_step/sec: 378.486\n",
      "INFO:tensorflow:loss = 0.9012809, step = 36301 (0.263 sec)\n",
      "INFO:tensorflow:global_step/sec: 393.664\n",
      "INFO:tensorflow:loss = 0.04648542, step = 36401 (0.254 sec)\n",
      "INFO:tensorflow:global_step/sec: 367.463\n",
      "INFO:tensorflow:loss = 0.35096216, step = 36501 (0.273 sec)\n",
      "INFO:tensorflow:global_step/sec: 375.95\n",
      "INFO:tensorflow:loss = 1.0459588, step = 36601 (0.266 sec)\n",
      "INFO:tensorflow:global_step/sec: 378.679\n",
      "INFO:tensorflow:loss = 0.23864664, step = 36701 (0.264 sec)\n",
      "INFO:tensorflow:global_step/sec: 385.439\n",
      "INFO:tensorflow:loss = 0.0054205735, step = 36801 (0.261 sec)\n",
      "INFO:tensorflow:global_step/sec: 384.954\n",
      "INFO:tensorflow:loss = 0.27059275, step = 36901 (0.258 sec)\n",
      "INFO:tensorflow:global_step/sec: 361.094\n",
      "INFO:tensorflow:loss = 0.14337957, step = 37001 (0.277 sec)\n",
      "INFO:tensorflow:global_step/sec: 381.991\n",
      "INFO:tensorflow:loss = 0.028652864, step = 37101 (0.262 sec)\n",
      "INFO:tensorflow:global_step/sec: 388.504\n",
      "INFO:tensorflow:loss = 0.20558953, step = 37201 (0.257 sec)\n",
      "INFO:tensorflow:global_step/sec: 392.622\n",
      "INFO:tensorflow:loss = 0.81664646, step = 37301 (0.255 sec)\n",
      "INFO:tensorflow:global_step/sec: 383.021\n",
      "INFO:tensorflow:loss = 0.097146414, step = 37401 (0.261 sec)\n",
      "INFO:tensorflow:global_step/sec: 419.06\n",
      "INFO:tensorflow:loss = 0.83667797, step = 37501 (0.239 sec)\n",
      "INFO:tensorflow:global_step/sec: 426.246\n",
      "INFO:tensorflow:loss = 0.017055191, step = 37601 (0.235 sec)\n",
      "INFO:tensorflow:global_step/sec: 431.922\n",
      "INFO:tensorflow:loss = 0.24032468, step = 37701 (0.231 sec)\n"
     ]
    },
    {
     "name": "stdout",
     "output_type": "stream",
     "text": [
      "INFO:tensorflow:global_step/sec: 416.988\n",
      "INFO:tensorflow:loss = 1.349119, step = 37801 (0.240 sec)\n",
      "INFO:tensorflow:global_step/sec: 437.273\n",
      "INFO:tensorflow:loss = 0.20243056, step = 37901 (0.228 sec)\n",
      "INFO:tensorflow:global_step/sec: 429.468\n",
      "INFO:tensorflow:loss = 1.0956227, step = 38001 (0.233 sec)\n",
      "INFO:tensorflow:global_step/sec: 424.598\n",
      "INFO:tensorflow:loss = 0.33828363, step = 38101 (0.237 sec)\n",
      "INFO:tensorflow:global_step/sec: 438.412\n",
      "INFO:tensorflow:loss = 0.15122673, step = 38201 (0.227 sec)\n",
      "INFO:tensorflow:global_step/sec: 429.597\n",
      "INFO:tensorflow:loss = 0.19989255, step = 38301 (0.233 sec)\n",
      "INFO:tensorflow:global_step/sec: 432.475\n",
      "INFO:tensorflow:loss = 1.3289124, step = 38401 (0.232 sec)\n",
      "INFO:tensorflow:global_step/sec: 430.579\n",
      "INFO:tensorflow:loss = 0.11855115, step = 38501 (0.232 sec)\n",
      "INFO:tensorflow:global_step/sec: 436.143\n",
      "INFO:tensorflow:loss = 1.8282694, step = 38601 (0.229 sec)\n",
      "INFO:tensorflow:global_step/sec: 420.602\n",
      "INFO:tensorflow:loss = 0.034283042, step = 38701 (0.237 sec)\n",
      "INFO:tensorflow:global_step/sec: 419.812\n",
      "INFO:tensorflow:loss = 0.37865132, step = 38801 (0.238 sec)\n",
      "INFO:tensorflow:global_step/sec: 424.572\n",
      "INFO:tensorflow:loss = 0.07623007, step = 38901 (0.236 sec)\n",
      "INFO:tensorflow:global_step/sec: 424.653\n",
      "INFO:tensorflow:loss = 0.2798886, step = 39001 (0.235 sec)\n",
      "INFO:tensorflow:global_step/sec: 426.675\n",
      "INFO:tensorflow:loss = 0.75224054, step = 39101 (0.234 sec)\n",
      "INFO:tensorflow:global_step/sec: 415.497\n",
      "INFO:tensorflow:loss = 0.71337557, step = 39201 (0.241 sec)\n",
      "INFO:tensorflow:global_step/sec: 423.679\n",
      "INFO:tensorflow:loss = 0.22577527, step = 39301 (0.236 sec)\n",
      "INFO:tensorflow:global_step/sec: 428.987\n",
      "INFO:tensorflow:loss = 0.3128444, step = 39401 (0.233 sec)\n",
      "INFO:tensorflow:global_step/sec: 427.5\n",
      "INFO:tensorflow:loss = 0.989833, step = 39501 (0.234 sec)\n",
      "INFO:tensorflow:global_step/sec: 414.786\n",
      "INFO:tensorflow:loss = 0.81018746, step = 39601 (0.241 sec)\n",
      "INFO:tensorflow:global_step/sec: 419.482\n",
      "INFO:tensorflow:loss = 0.5485852, step = 39701 (0.238 sec)\n",
      "INFO:tensorflow:global_step/sec: 429.776\n",
      "INFO:tensorflow:loss = 0.076332346, step = 39801 (0.233 sec)\n",
      "INFO:tensorflow:global_step/sec: 414.34\n",
      "INFO:tensorflow:loss = 3.1334326, step = 39901 (0.241 sec)\n",
      "INFO:tensorflow:global_step/sec: 427.17\n",
      "INFO:tensorflow:loss = 2.948174, step = 40001 (0.234 sec)\n",
      "INFO:tensorflow:global_step/sec: 413.686\n",
      "INFO:tensorflow:loss = 0.6259738, step = 40101 (0.242 sec)\n",
      "INFO:tensorflow:global_step/sec: 431.797\n",
      "INFO:tensorflow:loss = 0.2588396, step = 40201 (0.232 sec)\n",
      "INFO:tensorflow:global_step/sec: 419.561\n",
      "INFO:tensorflow:loss = 0.011793787, step = 40301 (0.238 sec)\n",
      "INFO:tensorflow:global_step/sec: 400.969\n",
      "INFO:tensorflow:loss = 0.08290506, step = 40401 (0.249 sec)\n",
      "INFO:tensorflow:global_step/sec: 420.522\n",
      "INFO:tensorflow:loss = 0.3980626, step = 40501 (0.238 sec)\n",
      "INFO:tensorflow:global_step/sec: 424.387\n",
      "INFO:tensorflow:loss = 1.1409839, step = 40601 (0.235 sec)\n",
      "INFO:tensorflow:global_step/sec: 416.907\n",
      "INFO:tensorflow:loss = 0.44031948, step = 40701 (0.240 sec)\n",
      "INFO:tensorflow:global_step/sec: 427.236\n",
      "INFO:tensorflow:loss = 0.027750924, step = 40801 (0.234 sec)\n",
      "INFO:tensorflow:global_step/sec: 424.586\n",
      "INFO:tensorflow:loss = 2.8813677, step = 40901 (0.235 sec)\n",
      "INFO:tensorflow:Saving checkpoints for 41000 into ./tmp/mnist_model_256_256/model.ckpt.\n",
      "INFO:tensorflow:Loss for final step: 0.07001173.\n"
     ]
    },
    {
     "data": {
      "text/plain": [
       "<tensorflow.python.estimator.canned.dnn.DNNClassifier at 0x7fd5c89ea668>"
      ]
     },
     "execution_count": 6,
     "metadata": {},
     "output_type": "execute_result"
    }
   ],
   "source": [
    "tf.logging.set_verbosity(tf.logging.INFO)\n",
    "classifier.train(input_fn=train_input_fn, steps=10000)"
   ]
  },
  {
   "cell_type": "code",
   "execution_count": 7,
   "metadata": {
    "ExecuteTime": {
     "end_time": "2018-06-05T23:10:29.998938Z",
     "start_time": "2018-06-05T23:10:29.578963Z"
    },
    "slideshow": {
     "slide_type": "subslide"
    }
   },
   "outputs": [
    {
     "name": "stdout",
     "output_type": "stream",
     "text": [
      "-rw-r--r-- 1 ddd_v1_t_RQDE_784948 ddd_v1_t_RQDE_784948      16 Oct  9 21:06 model.ckpt-31000.data-00000-of-00002\r\n",
      "-rw-r--r-- 1 ddd_v1_t_RQDE_784948 ddd_v1_t_RQDE_784948 3231864 Oct  9 21:06 model.ckpt-31000.data-00001-of-00002\r\n",
      "-rw-r--r-- 1 ddd_v1_t_RQDE_784948 apache                   839 Oct  9 21:06 model.ckpt-31000.index\r\n",
      "-rw-r--r-- 1 ddd_v1_t_RQDE_784948 ddd_v1_t_RQDE_784948  161904 Oct  9 21:06 model.ckpt-31000.meta\r\n",
      "-rw-r--r-- 1 ddd_v1_t_RQDE_784948 ddd_v1_t_RQDE_784948      16 Oct  9 21:07 model.ckpt-41000.data-00000-of-00002\r\n",
      "-rw-r--r-- 1 ddd_v1_t_RQDE_784948 ddd_v1_t_RQDE_784948 3231864 Oct  9 21:07 model.ckpt-41000.data-00001-of-00002\r\n",
      "-rw-r--r-- 1 ddd_v1_t_RQDE_784948 ddd_v1_t_RQDE_784948     839 Oct  9 21:07 model.ckpt-41000.index\r\n",
      "-rw-r--r-- 1 ddd_v1_t_RQDE_784948 ddd_v1_t_RQDE_784948     277 Oct  9 21:07 checkpoint\r\n",
      "-rw-r--r-- 1 ddd_v1_t_RQDE_784948 ddd_v1_t_RQDE_784948  161904 Oct  9 21:07 model.ckpt-41000.meta\r\n",
      "-rw-r--r-- 1 ddd_v1_t_RQDE_784948 ddd_v1_t_RQDE_784948 1078409 Oct  9 21:07 events.out.tfevents.1665374795.ip-172-31-30-87\r\n"
     ]
    }
   ],
   "source": [
    "# Have a look at the checkpoint directory.\n",
    "!ls -lrt ./tmp/mnist_model_256_256/ | tail"
   ]
  },
  {
   "cell_type": "markdown",
   "metadata": {
    "slideshow": {
     "slide_type": "subslide"
    }
   },
   "source": [
    "## Define test input function"
   ]
  },
  {
   "cell_type": "code",
   "execution_count": 8,
   "metadata": {
    "ExecuteTime": {
     "end_time": "2018-06-05T19:53:13.190674Z",
     "start_time": "2018-06-05T19:53:13.182678Z"
    },
    "collapsed": true,
    "slideshow": {
     "slide_type": "fragment"
    }
   },
   "outputs": [],
   "source": [
    "test_input_fn = tf.estimator.inputs.numpy_input_fn(\n",
    "    x={\"x\": input(mnist.test)[0]},\n",
    "    y=input(mnist.test)[1],\n",
    "    num_epochs=1,\n",
    "    shuffle=False\n",
    ")"
   ]
  },
  {
   "cell_type": "markdown",
   "metadata": {
    "ExecuteTime": {
     "end_time": "2018-06-05T19:06:04.158220Z",
     "start_time": "2018-06-05T19:06:03.540885Z"
    },
    "slideshow": {
     "slide_type": "subslide"
    }
   },
   "source": [
    "## Evaluate accuracy"
   ]
  },
  {
   "cell_type": "code",
   "execution_count": 9,
   "metadata": {
    "ExecuteTime": {
     "end_time": "2018-06-05T19:53:15.521541Z",
     "start_time": "2018-06-05T19:53:14.970007Z"
    },
    "slideshow": {
     "slide_type": "fragment"
    }
   },
   "outputs": [
    {
     "name": "stdout",
     "output_type": "stream",
     "text": [
      "INFO:tensorflow:Calling model_fn.\n",
      "INFO:tensorflow:Done calling model_fn.\n",
      "INFO:tensorflow:Starting evaluation at 2022-10-10-04:07:32\n",
      "INFO:tensorflow:Graph was finalized.\n",
      "INFO:tensorflow:Restoring parameters from ./tmp/mnist_model_256_256/model.ckpt-41000\n",
      "INFO:tensorflow:Running local_init_op.\n",
      "INFO:tensorflow:Done running local_init_op.\n",
      "INFO:tensorflow:Finished evaluation at 2022-10-10-04:07:33\n",
      "INFO:tensorflow:Saving dict for global step 41000: accuracy = 0.9817, average_loss = 0.074421115, global_step = 41000, loss = 9.420394\n",
      "INFO:tensorflow:Saving 'checkpoint_path' summary for global step 41000: ./tmp/mnist_model_256_256/model.ckpt-41000\n",
      "\n",
      "Test Accuracy: 98.170000%\n",
      "\n"
     ]
    }
   ],
   "source": [
    "accuracy_score = classifier.evaluate(input_fn=test_input_fn)[\"accuracy\"]\n",
    "print(\"\\nTest Accuracy: {0:f}%\\n\".format(accuracy_score*100))"
   ]
  },
  {
   "cell_type": "markdown",
   "metadata": {
    "collapsed": true,
    "slideshow": {
     "slide_type": "subslide"
    }
   },
   "source": [
    "## Summary\n",
    "\n",
    "- We recreated the NN defined in [3.Neural-Networks.ipynb](3.Neural-Networks.ipynb) with a higher-level API.\n",
    "- The **session** was replaced with calls to the estimator.\n",
    "- Checkpoints are automatically available: allows continuation of training on a partially trained NN.\n",
    "- **Next:** creating custom Estimators."
   ]
  }
 ],
 "metadata": {
  "celltoolbar": "Slideshow",
  "kernelspec": {
   "display_name": "Python 3 [3.6]",
   "language": "python",
   "name": "python3"
  },
  "language_info": {
   "codemirror_mode": {
    "name": "ipython",
    "version": 3
   },
   "file_extension": ".py",
   "mimetype": "text/x-python",
   "name": "python",
   "nbconvert_exporter": "python",
   "pygments_lexer": "ipython3",
   "version": "3.6.4"
  },
  "toc": {
   "base_numbering": 1,
   "nav_menu": {},
   "number_sections": true,
   "sideBar": true,
   "skip_h1_title": false,
   "title_cell": "Table of Contents",
   "title_sidebar": "Contents",
   "toc_cell": false,
   "toc_position": {},
   "toc_section_display": true,
   "toc_window_display": false
  },
  "varInspector": {
   "cols": {
    "lenName": 16,
    "lenType": 16,
    "lenVar": 40
   },
   "kernels_config": {
    "python": {
     "delete_cmd_postfix": "",
     "delete_cmd_prefix": "del ",
     "library": "var_list.py",
     "varRefreshCmd": "print(var_dic_list())"
    },
    "r": {
     "delete_cmd_postfix": ") ",
     "delete_cmd_prefix": "rm(",
     "library": "var_list.r",
     "varRefreshCmd": "cat(var_dic_list()) "
    }
   },
   "types_to_exclude": [
    "module",
    "function",
    "builtin_function_or_method",
    "instance",
    "_Feature"
   ],
   "window_display": false
  }
 },
 "nbformat": 4,
 "nbformat_minor": 2
}
