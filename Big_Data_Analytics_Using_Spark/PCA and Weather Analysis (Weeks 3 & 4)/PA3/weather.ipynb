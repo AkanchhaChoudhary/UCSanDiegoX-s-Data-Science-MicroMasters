{
    "cells": [
        {
            "cell_type": "markdown",
            "metadata": {
                "nbgrader": {
                    "grade": false,
                    "grade_id": "cell-7c37655a254ecbf6",
                    "locked": true,
                    "schema_version": 3,
                    "solution": false,
                    "task": false
                },
                "editable": false,
                "deletable": false
            },
            "source": [
                "# Inferring from Weather data\n",
                "\n",
                "In this homework, we are going back to Weather data again. The main task of the homework is to do the spectral analysis of TAVG measurements in India."
            ]
        },
        {
            "cell_type": "code",
            "execution_count": 1,
            "metadata": {
                "collapsed": true,
                "nbgrader": {
                    "grade": false,
                    "grade_id": "cell-7d4569d94ae02436",
                    "locked": true,
                    "schema_version": 3,
                    "solution": false,
                    "task": false
                },
                "tags": [],
                "editable": false,
                "deletable": false
            },
            "outputs": [],
            "source": [
                "country = 'India'\n",
                "meas = 'TAVG'"
            ]
        },
        {
            "cell_type": "markdown",
            "metadata": {
                "nbgrader": {
                    "grade": false,
                    "grade_id": "cell-0643c6c73673d75d",
                    "locked": true,
                    "schema_version": 3,
                    "solution": false,
                    "task": false
                },
                "slideshow": {
                    "slide_type": "skip"
                },
                "editable": false,
                "deletable": false
            },
            "source": [
                "## Part 0: Loading libraries and data"
            ]
        },
        {
            "cell_type": "code",
            "execution_count": 2,
            "metadata": {},
            "outputs": [],
            "source": [
                "%pylab inline\n",
                "\n",
                "import pandas as pd\n",
                "import numpy as np\n",
                "\n",
                "from lib.numpy_pack import unpackArray, unpackAndScale\n",
                "from lib.YearPlotter import YearPlotter\n",
                "from lib.decomposer import decompose_dataframe, Eigen_decomp\n",
                "from lib.Reconstruction_plots import plot_recon_grid, recon_plot\n",
                "\n",
                "import warnings  # Suppress Warnings\n",
                "warnings.filterwarnings('ignore')"
            ]
        },
        {
            "cell_type": "code",
            "execution_count": 3,
            "metadata": {
                "collapsed": true
            },
            "outputs": [],
            "source": [
                "import os\n",
                "import sys\n",
                "os.environ[\"PYSPARK_PYTHON\"] = sys.executable\n",
                "os.environ[\"PYSPARK_DRIVER_PYTHON\"] = sys.executable"
            ]
        },
        {
            "cell_type": "code",
            "execution_count": 4,
            "metadata": {
                "collapsed": true
            },
            "outputs": [],
            "source": [
                "from pyspark import SparkContext\n",
                "from pyspark.sql import SQLContext\n",
                "sc = SparkContext()\n",
                "sqlContext = SQLContext(sc)"
            ]
        },
        {
            "cell_type": "code",
            "execution_count": 5,
            "metadata": {},
            "outputs": [],
            "source": [
                "## load measurement and stations dataframe\n",
                "parquet_root = '.\/resource\/asnlib\/publicdata\/'\n",
                "\n",
                "weather_path = os.path.join(parquet_root, 'weather-{}-{}.parquet'.format(country, meas))\n",
                "weather = sqlContext.read.parquet(weather_path)\n",
                "sqlContext.registerDataFrameAsTable(weather, 'weather')\n",
                "print('weather is a Dataframe (and table) which is a join of measurements and stations with %d records'%(weather.count()))"
            ]
        },
        {
            "cell_type": "code",
            "execution_count": 6,
            "metadata": {
                "collapsed": true,
                "nbgrader": {
                    "grade": false,
                    "grade_id": "cell-4a1376d000de8af3",
                    "locked": true,
                    "schema_version": 3,
                    "solution": false,
                    "task": false
                },
                "editable": false,
                "deletable": false
            },
            "outputs": [],
            "source": [
                "import pickle \n",
                "\n",
                "ms = []\n",
                "pkl_filename = os.path.join(parquet_root, \"%s-TMAX,TMIN,TAVG.pkl\"%(country))\n",
                "with open(pkl_filename,'br') as pkl_file:\n",
                "    STAT = pickle.load(pkl_file)"
            ]
        },
        {
            "cell_type": "markdown",
            "metadata": {
                "nbgrader": {
                    "grade": false,
                    "grade_id": "cell-32a5c9db73503e5e",
                    "locked": true,
                    "schema_version": 3,
                    "solution": false,
                    "task": false
                },
                "slideshow": {
                    "slide_type": "slide"
                },
                "editable": false,
                "deletable": false
            },
            "source": [
                "## Part 1: Exploring the PCA decomposition\n",
                "\n",
                "In this section, we want to construct approximations of TAVG measurements in India using the mean and the 2 top eigenvectors. **Each TAVG measurement is a list of average temperature values measured in a weather station for all days (366 days) in a year.**\n",
                "\n",
                "- `EigVec` is a matrix of shape (366, 2), in which each column is an eigenvector of all the TAVG measurements in India.\n",
                "- `Mean` is a vector of length 366 that has the average TAVG measurements across all stations in India. "
            ]
        },
        {
            "cell_type": "code",
            "execution_count": 7,
            "metadata": {
                "collapsed": true,
                "nbgrader": {
                    "grade": false,
                    "grade_id": "cell-12b46ac4eafccfca",
                    "locked": true,
                    "schema_version": 3,
                    "solution": false,
                    "task": false
                },
                "editable": false,
                "deletable": false
            },
            "outputs": [],
            "source": [
                "k = 2\n",
                "EigVec = np.array(STAT[meas]['eigvec'][:,:k])\n",
                "Mean = STAT[meas]['Mean']"
            ]
        },
        {
            "cell_type": "markdown",
            "metadata": {
                "nbgrader": {
                    "grade": false,
                    "grade_id": "cell-bf6a7c93756f6475",
                    "locked": true,
                    "schema_version": 3,
                    "solution": false,
                    "task": false
                },
                "editable": false,
                "deletable": false
            },
            "source": [
                "First we want to plot the mean and the 2 top eigenvectors as functions of time (days of a year)."
            ]
        },
        {
            "cell_type": "code",
            "execution_count": 8,
            "metadata": {
                "nbgrader": {
                    "grade": false,
                    "grade_id": "cell-06c20ab61986a3b3",
                    "locked": true,
                    "schema_version": 3,
                    "solution": false,
                    "task": false
                },
                "editable": false,
                "deletable": false
            },
            "outputs": [],
            "source": [
                "_norm_Mean = Mean \/ max(Mean) * 0.2 # Combine mean with Eigvecs and scale to similar range.\n",
                "A = [_norm_Mean] + [EigVec[:,i] for i in range(EigVec.shape[1])]\n",
                "Combined = np.stack(A).transpose()\n",
                "fig, axes = plt.subplots(1, 1, sharex='col', sharey='row', figsize=(10,5)); \n",
                "\n",
                "YearPlotter().plot(Combined, fig, axes, title=meas+' Eigs', labels=['Mean'] + ['eig'+str(i+1) for i in range(k)])"
            ]
        },
        {
            "cell_type": "markdown",
            "metadata": {
                "nbgrader": {
                    "grade": false,
                    "grade_id": "cell-b99d2fb4243b3570",
                    "locked": true,
                    "schema_version": 3,
                    "solution": false,
                    "task": false
                },
                "editable": false,
                "deletable": false
            },
            "source": [
                "### Problem 1\n",
                "\n",
                "Given that all the eigenvalues are stored in `eigvals`, plot the percentage of the variance explained by the first 9 eigenvectors. The resulting graph should look like this:\n",
                "![Problem 1](figs\/prob1.png \"Percentage of variance explained\")\n",
                "Note that the graph shows **10** points instead of 9, since it includes the percentage of the variance explained by 0 eigenvector.\n",
                "\n",
                "#### Task:\n",
                "\n",
                "Calculate the numpy array `cumvar_10`.The element of `cumvar_10` on index $i$ is the percentage of the variance explained by the first $i$ eigenvectors. **Note that each value in `cumvar_10` should be a value from 0 to 100.** Check the correctness of your solution by comparing your graph with the graph shown above. \n",
                "\n",
                "You may ignore the fact that some eigenvalues are negative, which may be caused by the numerical errors induced by nan values. You should just treat them as normal eigenvalues and should NOT manually make them positive. Also, you don't have to sort `eigvals` as the first 10 values in `eigvals` are already sorted according to their magnitude. "
            ]
        },
        {
            "cell_type": "code",
            "execution_count": 9,
            "metadata": {
                "nbgrader": {
                    "grade": false,
                    "grade_id": "cell-1a00630e5fe97b40",
                    "locked": false,
                    "schema_version": 3,
                    "solution": true,
                    "task": false
                }
            },
            "outputs": [],
            "source": [
                "eigvals = STAT[meas]['eigval']\n",
                "\n",
                "###\n",
                "### YOUR CODE HERE\n",
                "###\n",
                "\n",
                "cumvar_10 = np.array(cumvar_10)\n",
                "fig,ax=plt.subplots(1,1);\n",
                "ax.plot(cumvar_10); \n",
                "ax.grid(); \n",
                "ax.set_ylabel('Percentage of variance explained')\n",
                "ax.set_xlabel('Number of eigenvectors')\n",
                "ax.set_title('Percentage of variance explained');"
            ]
        },
        {
            "cell_type": "code",
            "execution_count": 10,
            "metadata": {
                "collapsed": true,
                "nbgrader": {
                    "grade": true,
                    "grade_id": "prob1-1",
                    "locked": true,
                    "points": "6",
                    "schema_version": 3,
                    "solution": false,
                    "task": false
                },
                "editable": false,
                "deletable": false
            },
            "outputs": [],
            "source": [
                "## Hidden test cases here\n",
                "###\n",
                "### AUTOGRADER TEST - DO NOT REMOVE\n",
                "###\n"
            ]
        },
        {
            "cell_type": "markdown",
            "metadata": {
                "nbgrader": {
                    "grade": false,
                    "grade_id": "cell-54f697b9378ef8ef",
                    "locked": true,
                    "schema_version": 3,
                    "solution": false,
                    "task": false
                },
                "editable": false,
                "deletable": false
            },
            "source": [
                "Here we construct a Spark DataFrame `df2`, in which each row is a TAVG measurement from a weather station in India. We will be focusing on these columns of `df2` in this notebook:\n",
                "\n",
                "- `Values`: the TAVG temperature measurement, which is a list of the average temperatures for 366 days in a year (encoded in a byte array).\n",
                "- `coeff_[i]`: the projection coefficient in front of the `[i]`th eigenvector in the eigen-decomposition of `Values`.\n",
                "- `res_[i]`: the normalized residual norm of the approximation using the top `[i]` eigenvector.\n",
                "- `Station`: the id of the station from which the measurement was collected.\n",
                "- `latitude`, `longitude`: the latitude and longitude of the station."
            ]
        },
        {
            "cell_type": "code",
            "execution_count": 11,
            "metadata": {
                "nbgrader": {
                    "grade": false,
                    "grade_id": "cell-959ff9384efb90bb",
                    "locked": true,
                    "schema_version": 3,
                    "solution": false,
                    "task": false
                },
                "slideshow": {
                    "slide_type": "subslide"
                },
                "editable": false,
                "deletable": false
            },
            "outputs": [],
            "source": [
                "Query=\"\"\"\n",
                "select *\n",
                "from weather\n",
                "WHERE country='%s' and measurement='%s'\n",
                "\"\"\" % (country, meas)\n",
                "df = sqlContext.sql(Query)\n",
                "\n",
                "df2 = decompose_dataframe(sqlContext, df, EigVec, Mean).cache()\n",
                "df2.toPandas().head()"
            ]
        },
        {
            "cell_type": "markdown",
            "metadata": {
                "nbgrader": {
                    "grade": false,
                    "grade_id": "cell-d47d1961ac429423",
                    "locked": true,
                    "schema_version": 3,
                    "solution": false,
                    "task": false
                },
                "editable": false,
                "deletable": false
            },
            "source": [
                "Then we will study what information `coeff_1` and `coeff_2` can tell us.\n",
                "\n",
                "For each coefficient, \n",
                "\n",
                "1. We first filter out the rows where the approximation residuals are too large.\n",
                "1. Then we sort the rows according to the coefficient values in the increasing order.\n",
                "1. Last we plot the rows that have the lowest and highest coefficient values. \n",
                "\n",
                "Each figure below plots the approximations of each measurement (each row in `df2`). \n",
                "\n",
                "- `mean`: the `Mean` variable.\n",
                "- `target`: the `Values` field of the measurement. \n",
                "- `approx [i]`: the approximation using the first `[i]` eigenvectors. \n",
                "- `c[i]`, `r[i]`: the values of `coeff_[i]`, `res_[i]`."
            ]
        },
        {
            "cell_type": "code",
            "execution_count": 12,
            "metadata": {
                "collapsed": true,
                "nbgrader": {
                    "grade": false,
                    "grade_id": "cell-32cd23f0c17d94dc",
                    "locked": true,
                    "schema_version": 3,
                    "solution": false,
                    "task": false
                },
                "slideshow": {
                    "slide_type": "slide"
                },
                "editable": false,
                "deletable": false
            },
            "outputs": [],
            "source": [
                "# Filter and sort according to coeff_1\n",
                "coeff1_rows = df2.filter(df2.res_1 < 0.3).sort(df2.coeff_1).collect()"
            ]
        },
        {
            "cell_type": "code",
            "execution_count": 13,
            "metadata": {
                "nbgrader": {
                    "grade": false,
                    "grade_id": "cell-006d9a8cff5fef2b",
                    "locked": true,
                    "schema_version": 3,
                    "solution": false,
                    "task": false
                },
                "slideshow": {
                    "slide_type": "subslide"
                },
                "editable": false,
                "deletable": false
            },
            "outputs": [],
            "source": [
                "# Measurements with lowest 12 coeff_1\n",
                "plot_recon_grid(coeff1_rows[0:12], Mean, EigVec, header='c1=%3.2f,r1=%3.2f', params=('coeff_1','res_1'))"
            ]
        },
        {
            "cell_type": "code",
            "execution_count": 14,
            "metadata": {
                "nbgrader": {
                    "grade": false,
                    "grade_id": "cell-1e3c4409213ee851",
                    "locked": true,
                    "schema_version": 3,
                    "solution": false,
                    "task": false
                },
                "slideshow": {
                    "slide_type": "subslide"
                },
                "editable": false,
                "deletable": false
            },
            "outputs": [],
            "source": [
                "# Measurements with highest 12 coeff_1\n",
                "plot_recon_grid(coeff1_rows[-12:], Mean, EigVec, header='c1=%3.2f,r1=%3.2f', params=('coeff_1','res_1'))"
            ]
        },
        {
            "cell_type": "markdown",
            "metadata": {
                "nbgrader": {
                    "grade": false,
                    "locked": true,
                    "solution": false
                },
                "editable": false,
                "deletable": false
            },
            "source": [
                "### Problem 2\n",
                "\n",
                "The following problems ask you to derive information from the 2 figures shown above. You should be able to answer these questions just by looking at the figures. \n",
                "\n",
                "\n",
                "#### Task:\n",
                "\n",
                "Answer the 4 questions below. Put your answers into the corresponding variables in the next cell.\n",
                "\n",
                "1. (`answer2_1`) What is the month with the highest average temperature over all stations?\n",
                "\n",
                "    1. February \n",
                "    \n",
                "    1. Apil\n",
                "    \n",
                "    1. June\n",
                "    \n",
                "    1. August\n",
                "    \n",
                "    1. October\n",
                "    \n",
                "1. (`answer2_2`) What are the three months with almost the same average temperature over all stations?\n",
                "\n",
                "    1. January, February, and March\n",
                "    \n",
                "    1. Apirl, Augest, and Septermper\n",
                "    \n",
                "    1. March, November, and December\n",
                "    \n",
                "    1. January, June, and December\n",
                "    \n",
                "1. (`answer2_3`) What is the relation between the value of the first coefficient (`c1`) and the value of averaging the TAVG (`target`) over the year?\n",
                "\n",
                "    1. Correlated\n",
                "    \n",
                "    1. Anticorrelated\n",
                "    \n",
                "    1. Uncorrelated\n",
                "    \n",
                "1. (`answer2_4`) What is the relation between the value of the first coefficient (`c1`) and the absolute difference of the TAVG (`target`) between winter and summer?\n",
                "\n",
                "    1. Correlated\n",
                "    \n",
                "    1. Anticorrelated\n",
                "    \n",
                "    1. Uncorrelated\n",
                "    \n",
                "    \n",
                "**Hint:**\n",
                "\n",
                "- We say two quantities are correlated when one quantity increases (decreases) and the other increases (decreases).\n",
                "- We say two quantities are anticorrelated when one quantity increases (decreases) and the other decreases (increases).\n",
                "- We say two quantities are uncorrelated when there is no obvious relation between them."
            ]
        },
        {
            "cell_type": "code",
            "execution_count": 15,
            "metadata": {
                "collapsed": true
            },
            "outputs": [],
            "source": [
                "# THIS IS JUST A TEMPLATE. COPY THE VARIABLES AND CHANGE THE VALUES. DO NOT CHANGE VARIABLE NAMES!\n",
                "answer2_1 = 'A'\n",
                "answer2_2 = 'B'\n",
                "answer2_3 = 'C'\n",
                "answer2_4 = 'D'\n",
                "\n",
                "###\n",
                "### YOUR CODE HERE\n",
                "###\n"
            ]
        },
        {
            "cell_type": "code",
            "execution_count": 16,
            "metadata": {
                "collapsed": true,
                "nbgrader": {
                    "grade": true,
                    "grade_id": "prob2-1",
                    "locked": true,
                    "points": "0",
                    "solution": false
                },
                "editable": false,
                "deletable": false
            },
            "outputs": [],
            "source": [
                "answers = ['A', 'B', 'C', 'D', 'E']\n",
                "assert answer2_1 in answers, 'answer2_1 should be one of {}'.format(answers)\n",
                "\n",
                "answers = ['A', 'B', 'C', 'D']\n",
                "assert answer2_2 in answers, 'answer2_2 should be one of {}'.format(answers)\n",
                "\n",
                "answers = ['A', 'B', 'C']\n",
                "assert answer2_3 in answers, 'answer2_3 should be one of {}'.format(answers)\n",
                "\n",
                "answers = ['A', 'B', 'C']\n",
                "assert answer2_4 in answers, 'answer2_4 should be one of {}'.format(answers)"
            ]
        },
        {
            "cell_type": "code",
            "execution_count": 17,
            "metadata": {
                "collapsed": true,
                "nbgrader": {
                    "grade": true,
                    "grade_id": "prob2-2",
                    "locked": true,
                    "points": "3",
                    "solution": false
                },
                "editable": false,
                "deletable": false
            },
            "outputs": [],
            "source": [
                "## Hidden test cases here\n",
                "###\n",
                "### AUTOGRADER TEST - DO NOT REMOVE\n",
                "###\n"
            ]
        },
        {
            "cell_type": "code",
            "execution_count": 18,
            "metadata": {
                "collapsed": true,
                "nbgrader": {
                    "grade": true,
                    "grade_id": "prob2-3",
                    "locked": true,
                    "points": "3",
                    "solution": false
                },
                "editable": false,
                "deletable": false
            },
            "outputs": [],
            "source": [
                "## Hidden test cases here\n",
                "###\n",
                "### AUTOGRADER TEST - DO NOT REMOVE\n",
                "###\n"
            ]
        },
        {
            "cell_type": "code",
            "execution_count": 19,
            "metadata": {
                "collapsed": true,
                "nbgrader": {
                    "grade": true,
                    "grade_id": "prob2-4",
                    "locked": true,
                    "points": "3",
                    "solution": false
                },
                "editable": false,
                "deletable": false
            },
            "outputs": [],
            "source": [
                "## Hidden test cases here\n",
                "###\n",
                "### AUTOGRADER TEST - DO NOT REMOVE\n",
                "###\n"
            ]
        },
        {
            "cell_type": "code",
            "execution_count": 20,
            "metadata": {
                "collapsed": true,
                "nbgrader": {
                    "grade": true,
                    "grade_id": "prob2-5",
                    "locked": true,
                    "points": "3",
                    "solution": false
                },
                "editable": false,
                "deletable": false
            },
            "outputs": [],
            "source": [
                "## Hidden test cases here\n",
                "###\n",
                "### AUTOGRADER TEST - DO NOT REMOVE\n",
                "###\n"
            ]
        },
        {
            "cell_type": "code",
            "execution_count": 21,
            "metadata": {
                "collapsed": true,
                "nbgrader": {
                    "grade": false,
                    "grade_id": "cell-8251bf7f202faed8",
                    "locked": true,
                    "schema_version": 3,
                    "solution": false,
                    "task": false
                },
                "editable": false,
                "deletable": false
            },
            "outputs": [],
            "source": [
                "# Filter and sort according to coeff_2\n",
                "coeff2_rows = df2.filter(df2.res_2 < 0.11).filter(df2.res_1 > 0.2).sort(df2.coeff_2).collect()"
            ]
        },
        {
            "cell_type": "code",
            "execution_count": 22,
            "metadata": {
                "nbgrader": {
                    "grade": false,
                    "grade_id": "cell-4fa5b8c7270e4b92",
                    "locked": true,
                    "schema_version": 3,
                    "solution": false,
                    "task": false
                },
                "editable": false,
                "deletable": false
            },
            "outputs": [],
            "source": [
                "# Measurements with lowest 12 coeff_2\n",
                "plot_recon_grid(coeff2_rows[0:12], Mean, EigVec, header='c2=%3.2f,r2=%3.2f',params=('coeff_2','res_2'))"
            ]
        },
        {
            "cell_type": "code",
            "execution_count": 23,
            "metadata": {
                "nbgrader": {
                    "grade": false,
                    "grade_id": "cell-8c5cb2b0cfcdb6c3",
                    "locked": true,
                    "schema_version": 3,
                    "solution": false,
                    "task": false
                },
                "scrolled": false,
                "editable": false,
                "deletable": false
            },
            "outputs": [],
            "source": [
                "# Measurements with highest 12 coeff_2\n",
                "plot_recon_grid(coeff2_rows[-12:], Mean, EigVec, header='c2=%3.2f,r2=%3.2f',params=('coeff_2','res_2'))"
            ]
        },
        {
            "cell_type": "markdown",
            "metadata": {
                "nbgrader": {
                    "grade": false,
                    "locked": true,
                    "solution": false
                },
                "editable": false,
                "deletable": false
            },
            "source": [
                "### Problem 3\n",
                "\n",
                "The following problems ask you to derive information from the 2 figures shown above. You should be able to answer these questions just by looking at the figures. \n",
                "\n",
                "#### Task:\n",
                "\n",
                "Answer the 2 questions below. Put your answers into the corresponding variables in the next cell.\n",
                "\n",
                "1. (`answer3_1`) What is the relation between the winter temperature and the summer temperature when coefficient 2 (`c2`) is > 800?\n",
                "\n",
                "    1. The winter temperature is usually higher than the summer temperature\n",
                "    \n",
                "    1. The winter temperature is usually lower than the summer temperature\n",
                "    \n",
                "    1. The winter temperature is usually similar to the summer temperature\n",
                "    \n",
                "1. (`answer3_2`) What is the relation between the winter temperature and the summer temperature when coefficient 2 (`c2`) is < 350?\n",
                "\n",
                "    1. The winter temperature is usually higher than the summer temperature\n",
                "    \n",
                "    1. The winter temperature is usually lower than the summer temperature\n",
                "    \n",
                "    1. The winter temperature is usually similar to the summer temperature"
            ]
        },
        {
            "cell_type": "code",
            "execution_count": 24,
            "metadata": {
                "collapsed": true
            },
            "outputs": [],
            "source": [
                "# THIS IS JUST A TEMPLATE. COPY THE VARIABLES AND CHANGE THE VALUES. DO NOT CHANGE VARIABLE NAMES!\n",
                "answer3_1 = 'A'\n",
                "answer3_2 = 'B'\n",
                "\n",
                "###\n",
                "### YOUR CODE HERE\n",
                "###\n"
            ]
        },
        {
            "cell_type": "code",
            "execution_count": 25,
            "metadata": {
                "collapsed": true,
                "nbgrader": {
                    "grade": true,
                    "grade_id": "prob3-1",
                    "locked": true,
                    "points": "0",
                    "solution": false
                },
                "editable": false,
                "deletable": false
            },
            "outputs": [],
            "source": [
                "answers = ['A', 'B', 'C']\n",
                "assert answer3_1 in answers, 'answer3_1 should be one of {}'.format(answers)\n",
                "\n",
                "answers = ['A', 'B', 'C']\n",
                "assert answer3_2 in answers, 'answer3_2 should be one of {}'.format(answers)"
            ]
        },
        {
            "cell_type": "code",
            "execution_count": 26,
            "metadata": {
                "collapsed": true,
                "nbgrader": {
                    "grade": true,
                    "grade_id": "prob3-2",
                    "locked": true,
                    "points": "3",
                    "solution": false
                },
                "editable": false,
                "deletable": false
            },
            "outputs": [],
            "source": [
                "## Hidden test cases here\n",
                "###\n",
                "### AUTOGRADER TEST - DO NOT REMOVE\n",
                "###\n"
            ]
        },
        {
            "cell_type": "code",
            "execution_count": 27,
            "metadata": {
                "collapsed": true,
                "nbgrader": {
                    "grade": true,
                    "grade_id": "prob3-3",
                    "locked": true,
                    "points": "3",
                    "solution": false
                },
                "editable": false,
                "deletable": false
            },
            "outputs": [],
            "source": [
                "## Hidden test cases here\n",
                "###\n",
                "### AUTOGRADER TEST - DO NOT REMOVE\n",
                "###\n"
            ]
        },
        {
            "cell_type": "markdown",
            "metadata": {
                "nbgrader": {
                    "grade": false,
                    "grade_id": "cell-174490f5ce254416",
                    "locked": true,
                    "schema_version": 3,
                    "solution": false,
                    "task": false
                },
                "editable": false,
                "deletable": false
            },
            "source": [
                "Instead of plotting the measurements with lowest and highest coefficients, we can just visualize any measurement and its approximations in an interactive plot, where the different approximations can be seen by manually changing the projection coefficients."
            ]
        },
        {
            "cell_type": "code",
            "execution_count": 28,
            "metadata": {
                "ExecuteTime": {
                    "end_time": "2018-04-26T22:51:50.667707Z",
                    "start_time": "2018-04-26T22:51:50.623874Z"
                },
                "nbgrader": {
                    "grade": false,
                    "grade_id": "cell-341ce4422987831c",
                    "locked": true,
                    "schema_version": 3,
                    "solution": false,
                    "task": false
                },
                "slideshow": {
                    "slide_type": "slide"
                },
                "editable": false,
                "deletable": false
            },
            "outputs": [],
            "source": [
                "# Here we select the measurement (row) with highest `coeff_2`.\n",
                "row = coeff2_rows[-1]\n",
                "\n",
                "target = np.array(unpackArray(row.Values, np.int16), dtype=np.float64)\n",
                "eigen_decomp = Eigen_decomp(None, target, Mean, EigVec)\n",
                "total_var, residuals, coeff = eigen_decomp.compute_var_explained()\n",
                "res = residuals[1]\n",
                "print('residual normalized norm  after mean:', res[0])\n",
                "print('residual normalized norm  after mean + top eigs:', res[:])\n",
                "\n",
                "plotter = recon_plot(eigen_decomp, year_axis=True, interactive=True)\n",
                "display(plotter.get_Interactive())"
            ]
        },
        {
            "cell_type": "markdown",
            "metadata": {
                "nbgrader": {
                    "grade": false,
                    "locked": true,
                    "solution": false
                },
                "editable": false,
                "deletable": false
            },
            "source": [
                "### Problem 4\n",
                "\n",
                "The following problem asks you to play with the interactive plot to see what will happen. You should be able to answer these questions just by changing the sliders for `c0` and `c1`. \n",
                "\n",
                "#### Task:\n",
                "\n",
                "Answer the question below. Put your answers into the corresponding variables in the next cell.\n",
                "\n",
                "1. What are the values of `c0` and `c1` that can recreate the graph shown below?\n",
                "\n",
                "![Problem 4](figs\/prob4.png \"Expected graph for Problem 4\")"
            ]
        },
        {
            "cell_type": "code",
            "execution_count": 29,
            "metadata": {
                "collapsed": true
            },
            "outputs": [],
            "source": [
                "# THIS IS JUST A TEMPLATE. COPY THE VARIABLES AND CHANGE THE VALUES. DO NOT CHANGE VARIABLE NAMES!\n",
                "c0 = 100.0\n",
                "c1 = 200.0\n",
                "\n",
                "###\n",
                "### YOUR CODE HERE\n",
                "###\n"
            ]
        },
        {
            "cell_type": "code",
            "execution_count": 30,
            "metadata": {
                "collapsed": true,
                "nbgrader": {
                    "grade": true,
                    "grade_id": "prob4-1",
                    "locked": true,
                    "points": "0",
                    "solution": false
                },
                "editable": false,
                "deletable": false
            },
            "outputs": [],
            "source": [
                "assert type(c0) == float, 'c0 should be a float number'\n",
                "assert type(c1) == float, 'c1 should be a float number'"
            ]
        },
        {
            "cell_type": "code",
            "execution_count": 31,
            "metadata": {
                "collapsed": true,
                "nbgrader": {
                    "grade": true,
                    "grade_id": "prob4-2",
                    "locked": true,
                    "points": "3",
                    "solution": false
                },
                "editable": false,
                "deletable": false
            },
            "outputs": [],
            "source": [
                "## Hidden test cases here\n",
                "###\n",
                "### AUTOGRADER TEST - DO NOT REMOVE\n",
                "###\n"
            ]
        },
        {
            "cell_type": "code",
            "execution_count": 32,
            "metadata": {
                "collapsed": true,
                "nbgrader": {
                    "grade": true,
                    "grade_id": "prob4-3",
                    "locked": true,
                    "points": "3",
                    "solution": false
                },
                "editable": false,
                "deletable": false
            },
            "outputs": [],
            "source": [
                "## Hidden test cases here\n",
                "###\n",
                "### AUTOGRADER TEST - DO NOT REMOVE\n",
                "###\n"
            ]
        },
        {
            "cell_type": "markdown",
            "metadata": {
                "nbgrader": {
                    "grade": false,
                    "grade_id": "cell-20b390ebeceb3953",
                    "locked": true,
                    "schema_version": 3,
                    "solution": false,
                    "task": false
                },
                "editable": false,
                "deletable": false
            },
            "source": [
                "## Part 2: Partitioning the `coeff_1`, `coeff_2` plane \n",
                "\n",
                "If we view `coeff_1` as the x-axis and `coeff_2` as the y-axis, we can find that the distribution of the coefficients of the first 2 eigenvectors in `df2` shows some clusters. In this section, we will analyze the coefficients by grouping them together.\n",
                "\n",
                "First, we define 7 clusters and manually choose the centers for these clusters. In each center, the first element defines the center for `coeff_1` and the second element defines the center for `coeff_2`. "
            ]
        },
        {
            "cell_type": "code",
            "execution_count": 33,
            "metadata": {
                "collapsed": true,
                "nbgrader": {
                    "grade": false,
                    "grade_id": "cell-a48e897c7cbc4cbc",
                    "locked": true,
                    "schema_version": 3,
                    "solution": false,
                    "task": false
                },
                "editable": false,
                "deletable": false
            },
            "outputs": [],
            "source": [
                "centers = {\n",
                "    '0': (0, 0),\n",
                "    '1': (-250, -250),\n",
                "    '2': (500, 0),\n",
                "    '3': (500, 400),\n",
                "    '4': (-100, 600),\n",
                "    '5': (-1500, 500),\n",
                "    '6': (-200, 100)\n",
                "}\n",
                "\n",
                "C = []\n",
                "for key in centers:     \n",
                "    C.append(centers[key])\n",
                "C = stack(C)"
            ]
        },
        {
            "cell_type": "markdown",
            "metadata": {
                "nbgrader": {
                    "grade": false,
                    "grade_id": "cell-12b483b97cc28f86",
                    "locked": true,
                    "schema_version": 3,
                    "solution": false,
                    "task": false
                },
                "editable": false,
                "deletable": false
            },
            "source": [
                "### Problem 5\n",
                "\n",
                "Here we are doing several things that are useful later:\n",
                "\n",
                "1. Convert `df2` to `df3` by grouping the measurements that are from the same `Station`. Each row of `df3` is a station with its `Station`, `Longitude`, `Latitude` and average values of `coeff_1`, and `coeff_2` of the measurements from the station.\n",
                "1. Count the number of measurements for each `Station` and store the results in `station_counts`.\n",
                "1. Get `pdf` by merging (join) `df3` and `station_counts` on column `Station`.\n",
                "\n",
                "Note that `pdf` is a pandas DataFrame instead of Spark DataFrame to allow less constrained queries.\n",
                "\n",
                "#### Task:\n",
                "\n",
                "Write the code that converts `df2` to `df3` (first point above). \n",
                "- The `coeff_1` and `coeff_2` columns are grouped by taking the average.\n",
                "- The `Longitude` and `Latitude` columns are grouped by taking the average or selecting any of them since the same `Station` will have the same `Longitude` and `Latitude`.\n",
                "- The rest of the columns in `df2` are discarded.\n",
                "- `df3` should have 5 columns: `Station`, `coeff_1`, `coeff_2`, `Longitude`, and `Latitude`. Although your solution doesn't have to have the exact same column names, **you should have the same column order** (1st column is stations, 2nd column and 3rd column are the average coeff_1 and coeff_2 values, and 4th and 5th columns are longitudes and latitudes.) \n",
                "- The order of the rows in `df3` doesn't matter.\n",
                "- You should use Spark DataFrame API instead of pandas DataFrame API for this task.\n",
                "\n",
                "Hints:\n",
                "1. Use [`groupBy`](https:\/\/spark.apache.org\/docs\/latest\/api\/python\/reference\/api\/pyspark.sql.DataFrame.groupBy.html)."
            ]
        },
        {
            "cell_type": "code",
            "execution_count": 34,
            "metadata": {
                "nbgrader": {
                    "grade": false,
                    "grade_id": "cell-11ff4c11c1519743",
                    "locked": false,
                    "schema_version": 3,
                    "solution": true,
                    "task": false
                }
            },
            "outputs": [],
            "source": [
                "###\n",
                "### YOUR CODE HERE\n",
                "###\n",
                "\n",
                "pdf3 = df3.toPandas().sort_values('Station')\n",
                "station_counts = df2.groupBy('Station').count()\n",
                "pdf = pdf3.merge(station_counts.toPandas(), on='Station')\n",
                "print(f'There are in total {pdf.shape[0]} stations')\n",
                "\n",
                "# Assign shorter names to the columns\n",
                "pdf.columns=['Station', 'coeff_1', 'coeff_2', 'Longitude', 'Latitude', 'count']\n",
                "pdf.head()"
            ]
        },
        {
            "cell_type": "code",
            "execution_count": 35,
            "metadata": {
                "collapsed": true,
                "nbgrader": {
                    "grade": true,
                    "grade_id": "prob5-1",
                    "locked": true,
                    "points": 5,
                    "schema_version": 3,
                    "solution": false,
                    "task": false
                },
                "editable": false,
                "deletable": false
            },
            "outputs": [],
            "source": [
                "test = df3.toPandas().sort_values('Station').values\n",
                "answer = np.array([\n",
                "    ['IN001020700', 501.8288947351339, 56.073760669096956, 77.63299999999998, 14.583],\n",
                "    ['IN001050200', 440.2474457975864, -10.410478399340107, 82.23299999999999, 16.95],\n",
                "    ['IN001080500', 269.6244393741326, 135.31734576445672, 78.46999999999997, 17.450000000000006],\n",
                "    ['IN001090500', 318.55671843948204, -95.6192036324071, 79.433, 18.767000000000003],\n",
                "    ['IN001111200', 428.89389515464353, -43.875230463056795, 81.15000000000002, 16.200000000000003]\n",
                "])\n",
                "\n",
                "\n",
                "assert test.shape == (183, 5)\n",
                "assert (test[:5, 0] == answer[:5, 0]).all(), 'Your answer is not correct'\n",
                "assert np.isclose(test[:5, 1:].astype(float), answer[:5, 1:].astype(float), rtol=0, atol=1e-1).all(), 'Your answer is not correct'"
            ]
        },
        {
            "cell_type": "code",
            "execution_count": 36,
            "metadata": {
                "collapsed": true,
                "nbgrader": {
                    "grade": true,
                    "grade_id": "prob5-2",
                    "locked": true,
                    "points": 5,
                    "schema_version": 3,
                    "solution": false,
                    "task": false
                },
                "editable": false,
                "deletable": false
            },
            "outputs": [],
            "source": [
                "## Hidden test cases here\n",
                "###\n",
                "### AUTOGRADER TEST - DO NOT REMOVE\n",
                "###\n"
            ]
        },
        {
            "cell_type": "markdown",
            "metadata": {
                "nbgrader": {
                    "grade": false,
                    "grade_id": "cell-3a227e0f300df332",
                    "locked": true,
                    "schema_version": 3,
                    "solution": false,
                    "task": false
                },
                "editable": false,
                "deletable": false
            },
            "source": [
                "### Problem 6\n",
                "\n",
                "In this cell, we want to group the stations to their closest center that we defined earlier and add their groups to `pdf` DataFrame.\n",
                "\n",
                "#### Task:\n",
                "\n",
                "Given `coeffs`, in which each row contains the `(coeff_1, coeff_2)` of each station, find the index of centers in numpy array `C` that is closest (minimum euclidean distance) to the `(coeff_1, coeff_2)` of each station. Store the results in variable `group`, in which the value in index `i` is the index of the nearest center for `Station i` in `pdf`. \n",
                "\n",
                "Hints:\n",
                "1. Use [`cdist`](https:\/\/docs.scipy.org\/doc\/scipy\/reference\/generated\/scipy.spatial.distance.cdist.html) to calculate the euclidean distance.\n",
                "1. The best implementation should have only 2 lines of code. \n",
                "    1. Calculate the euclidean distances.\n",
                "    1. Select the center with the minimized euclidean distance for each station."
            ]
        },
        {
            "cell_type": "code",
            "execution_count": 37,
            "metadata": {
                "nbgrader": {
                    "grade": false,
                    "grade_id": "cell-fdfb36c8b5cddc9a",
                    "locked": false,
                    "schema_version": 3,
                    "solution": true,
                    "task": false
                }
            },
            "outputs": [],
            "source": [
                "from scipy.spatial.distance import cdist\n",
                "\n",
                "coeffs = np.array(pdf[['coeff_1','coeff_2']])\n",
                "\n",
                "###\n",
                "### YOUR CODE HERE\n",
                "###\n",
                "\n",
                "pdf['group'] = group\n",
                "pdf.head()"
            ]
        },
        {
            "cell_type": "code",
            "execution_count": 38,
            "metadata": {
                "collapsed": true,
                "nbgrader": {
                    "grade": true,
                    "grade_id": "prob6-1",
                    "locked": true,
                    "points": 5,
                    "schema_version": 3,
                    "solution": false,
                    "task": false
                },
                "editable": false,
                "deletable": false
            },
            "outputs": [],
            "source": [
                "answer = array([\n",
                "    2, 2, 2, 2, 2, 0, 2, 2, 2, 2, 2, 6, 0, 6, 6, 0, 0, 6, 6, 6, 6, 6,\n",
                "])\n",
                "\n",
                "assert (group[:22] == answer).all(), 'Your answer for the first 22 stations is not correct'"
            ]
        },
        {
            "cell_type": "code",
            "execution_count": 39,
            "metadata": {
                "collapsed": true,
                "nbgrader": {
                    "grade": true,
                    "grade_id": "prob6-2",
                    "locked": true,
                    "points": 5,
                    "schema_version": 3,
                    "solution": false,
                    "task": false
                },
                "editable": false,
                "deletable": false
            },
            "outputs": [],
            "source": [
                "answer = array([\n",
                "    0, 0, 3, 2, 3, 1, 1\n",
                "])\n",
                "\n",
                "assert (group[-7:] == answer).all(), 'Your answer for the last 7 stations is not correct'"
            ]
        },
        {
            "cell_type": "code",
            "execution_count": 40,
            "metadata": {
                "collapsed": true,
                "nbgrader": {
                    "grade": true,
                    "grade_id": "prob6-3",
                    "locked": true,
                    "points": 10,
                    "schema_version": 3,
                    "solution": false,
                    "task": false
                },
                "editable": false,
                "deletable": false
            },
            "outputs": [],
            "source": [
                "## Hidden test cases here\n",
                "###\n",
                "### AUTOGRADER TEST - DO NOT REMOVE\n",
                "###\n"
            ]
        },
        {
            "cell_type": "markdown",
            "metadata": {
                "nbgrader": {
                    "grade": false,
                    "grade_id": "cell-f7fa3654f469e011",
                    "locked": true,
                    "schema_version": 3,
                    "solution": false,
                    "task": false
                },
                "editable": false,
                "deletable": false
            },
            "source": [
                "### Problem 7\n",
                "\n",
                "Finally, we want to plot the scatter plot of all stations and their groups on the `coeff_1`-`coeff_2` plane.\n",
                "\n",
                "In particular, each dot in the scatter plot represents a station and \n",
                "\n",
                "- The size of the dot indicates the number of measurements of the station (`count` column). \n",
                "- The color of the dot indicates the group to which the station belongs, which is determined by the index of the closest center.\n",
                "    - 0: 'red', 1: 'orange', 2: 'yellow', 3: 'green', 4: 'grey', 5: 'blue', 6: 'purple'\n",
                "    \n",
                "We also want to use text numbers to show the group numbers, which are positioned in the cluster center. \n",
                "\n",
                "#### Task:\n",
                "\n",
                "Follow the steps below to use `pdf` to draw the plot described above.\n",
                "\n",
                "1. Use [`pandas.DataFrame.plot.scatter`](https:\/\/pandas.pydata.org\/docs\/reference\/api\/pandas.DataFrame.plot.scatter.html?highlight=example) to draw the scatters.\n",
                "    - You need to figure out how to call this function and what parameters to pass for arguments `x`, `y`, and `s`. \n",
                "    - You need to figure out how to use the provided `cmap` for the argument `c`. `cmap` is a list of colors where the `cmap[i]` is the color for group i. **Having correct colors is very important as the questions latter rely heavily on this**.\n",
                "    - Use `figsize=[15, 10]` as the parameter when calling this function to match the figure size.\n",
                "1. Use [`matplotlib.pyplot.text`](https:\/\/matplotlib.org\/3.5.0\/api\/_as_gen\/matplotlib.pyplot.text.html), which is already loaded as the `text` function, and cluster centers `C` to draw the group number texts.\n",
                "    - You need to figure out how to call this function, what parameters you need to pass for arguments `x`, `y`, and `s`, and how many times it is needed to be called.\n",
                "    - Use `color='black'` and `size=20` as the parameters when calling this function to match the text colors and text size.\n",
                "\n",
                "#### Hint:\n",
                "\n",
                "Your plot should be the same as the one shown below, except that your plot should have colors.\n",
                "\n",
                "![Problem 7](figs\/prob7.png \"Clusters of coeff_1 and coeff_2\")"
            ]
        },
        {
            "cell_type": "code",
            "execution_count": 41,
            "metadata": {
                "nbgrader": {
                    "grade": false,
                    "grade_id": "cell-14709a2817e2f56c",
                    "locked": false,
                    "schema_version": 3,
                    "solution": true,
                    "task": false
                },
                "scrolled": false,
                "tags": []
            },
            "outputs": [],
            "source": [
                "cmap = ['red', 'orange', 'yellow', 'green', 'black', 'blue', 'purple']\n",
                "\n",
                "###\n",
                "### YOUR CODE HERE\n",
                "###\n",
                "\n",
                "grid()"
            ]
        },
        {
            "cell_type": "markdown",
            "metadata": {
                "nbgrader": {
                    "grade": false,
                    "grade_id": "cell-8261efde641c3c62",
                    "locked": true,
                    "schema_version": 3,
                    "solution": false,
                    "task": false
                },
                "editable": false,
                "deletable": false
            },
            "source": [
                "## Part 3: Visualizing the stations on the map\n",
                "\n",
                "In this section, we will use [`ipyleaflet`](https:\/\/ipyleaflet.readthedocs.io\/en\/latest\/index.html) to visualize the data of `pdf` on an interactive map. "
            ]
        },
        {
            "cell_type": "markdown",
            "metadata": {
                "nbgrader": {
                    "grade": false,
                    "grade_id": "cell-ad9459ed6630d8d2",
                    "locked": true,
                    "schema_version": 3,
                    "solution": false,
                    "task": false
                },
                "editable": false,
                "deletable": false
            },
            "source": [
                "### Problem 8\n",
                "\n",
                "The interactive map is also a scatter plot with a real map as the coordinate system. \n",
                "\n",
                "- Again the color and the size of the circles represent the number of measurements from the station and the group that the station belongs to. \n",
                "- We want to add a blue rectangle to define the boundary of the stations that appeared on the map.\n",
                "- The coordinate system used in the map is (latitude, longitude).\n",
                "\n",
                "\n",
                "#### Task:\n",
                "\n",
                "Follow the instructions below and fill in the blanks (`YOUR CODE HERE`) of the cell to recreate this map step by step. \n",
                "\n",
                "1. Step 1:\n",
                "    1. Find the bounding box of the longitude and latitude in the `pdf` DataFrame\n",
                "    2. Find the center `(latitude, longitude)` of the bounding box and store it in the `center` variable.\n",
                "1. Step 2 (provided in the starter code):\n",
                "    1. Construct the ipyleaflet `Map` object\n",
                "1. Step 3:\n",
                "    1. Construct the blue `Rectangle` object as the bounding box and add it to the map. \n",
                "        - You only need to use the `bounds` and `fill_opacity` parameters of `Rectangle`.\n",
                "1. Step 4:\n",
                "    1. For each row of the `pdf` DataFrame, add a `Circle` object to represent a station on the map. \n",
                "    Here are the instructions for the parameters of `Circle`.\n",
                "        - Use `weight=1`,`opacity=0.7`, and `fill_opacity=0.7`.\n",
                "        - Use $4800 \\times \\sqrt{count}$ for `radius`, where $count$ is the `count` of the station. \n",
                "        You might want to convert the result to an integer.\n",
                "        - Use the list `cmap` and the group that the station belongs to determine the color for `fill_color` and `color`. **Again, having correct colors is very important as the questions later rely heavily on this**.\n",
                "        - You need to figure out what is the value for `location` and you don't have to use other parameters.\n",
                "1. Step 5 (provided in the starter code):\n",
                "    1. Show the map\n",
                "\n",
                "\n",
                "#### Hints:\n",
                "\n",
                "Useful `ipyleaflet` APIs (note that the parameter documentation of the class that you are looking for might appear in its superclass): \n",
                "- [Rectangle](https:\/\/ipyleaflet.readthedocs.io\/en\/latest\/_modules\/ipyleaflet\/leaflet.html#Rectangle)\n",
                "- [Circle](https:\/\/ipyleaflet.readthedocs.io\/en\/latest\/_modules\/ipyleaflet\/leaflet.html#Circle)\n",
                "    \n",
                "Your plot should be the same as the one shown below, except that your plot should have colors and is interactive. \n",
                "\n",
                "![Problem 8](figs\/prob8.png \"Map\")"
            ]
        },
        {
            "cell_type": "code",
            "execution_count": 42,
            "metadata": {
                "nbgrader": {
                    "grade": false,
                    "grade_id": "cell-860e38e2094f7219",
                    "locked": false,
                    "schema_version": 3,
                    "solution": true,
                    "task": false
                },
                "scrolled": false
            },
            "outputs": [],
            "source": [
                "from ipyleaflet import (\n",
                "    Map,\n",
                "    Marker,\n",
                "    TileLayer, ImageOverlay,\n",
                "    Polyline, Polygon, Rectangle, Circle, CircleMarker,\n",
                "    GeoJSON,\n",
                "    DrawControl,\n",
                "    basemaps, basemap_to_tiles\n",
                ")\n",
                "\n",
                "# Step 1\n",
                "###\n",
                "### YOUR CODE HERE\n",
                "###\n",
                "\n",
                "# Step 2\n",
                "zoom = 5\n",
                "m = Map(basemap=basemaps.OpenStreetMap.HOT, default_tiles=TileLayer(opacity=1.0), center=center, zoom=zoom)\n",
                "\n",
                "# Step 3\n",
                "###\n",
                "### YOUR CODE HERE\n",
                "###\n",
                "\n",
                "# Step 4\n",
                "###\n",
                "### YOUR CODE HERE\n",
                "###\n",
                "\n",
                "# Step 5\n",
                "m    "
            ]
        },
        {
            "cell_type": "markdown",
            "metadata": {
                "nbgrader": {
                    "grade": false,
                    "grade_id": "cell-bf6eb7a8fcf4a1ad",
                    "locked": true,
                    "schema_version": 3,
                    "solution": false,
                    "task": false
                },
                "editable": false,
                "deletable": false
            },
            "source": [
                "## Part 4: Yearly temperature profile\n",
                "\n",
                "Lastly, we want to plot the average TAVG measurements of each group as a function of the days in a year. To do this, we first need to construct a pandas DataFrame `profile` from `df2` that only has stations, decoded temperature values, and the group that the station belongs. Note that each row in `profile` is a measurement, so the names in `Stations` column are not unique."
            ]
        },
        {
            "cell_type": "code",
            "execution_count": 43,
            "metadata": {
                "nbgrader": {
                    "grade": false,
                    "grade_id": "cell-6d6c1740511f8a43",
                    "locked": true,
                    "schema_version": 3,
                    "solution": false,
                    "task": false
                },
                "editable": false,
                "deletable": false
            },
            "outputs": [],
            "source": [
                "full_data = df2.rdd.map(lambda x: (x.Station, x.Year, unpackAndScale(x))).collect()\n",
                "profile = pd.DataFrame({'Station':[f[0] for f in full_data], 'Values':[f[2] for f in full_data]})\n",
                "profile = profile.merge(pdf[['Station', 'group']], on='Station')\n",
                "profile.head()"
            ]
        },
        {
            "cell_type": "markdown",
            "metadata": {
                "nbgrader": {
                    "grade": false,
                    "grade_id": "cell-63bb14ffef1d08c1",
                    "locked": true,
                    "schema_version": 3,
                    "solution": false,
                    "task": false
                },
                "editable": false,
                "deletable": false
            },
            "source": [
                "Then we use data in `profile` DataFrame to plot the yearly temperature profiles (the average TAVG measurements of each group as the function of the days in a year). Here we hide the codes that we used to generate the profile graph on purpose, but the profile graph is shown below.\n",
                "- We can see 7 waveforms in the graph, each of which corresponds to the yearly temperature profile of a group.\n",
                "- Note that the colors used in the scatterplot\/map and the profiles do **not** match.\n",
                "\n",
                "![Problem 7](figs\/prob9.png \"Profile\")"
            ]
        },
        {
            "cell_type": "code",
            "execution_count": 44,
            "metadata": {
                "nbgrader": {
                    "grade": true,
                    "grade_id": "cell-cb4163135c7bafa1",
                    "locked": true,
                    "points": "0",
                    "schema_version": 3,
                    "solution": false,
                    "task": false
                },
                "editable": false,
                "deletable": false
            },
            "outputs": [],
            "source": [
                "## The hidden code to generate the profile graph. You can ignore this cell.\n",
                "###\n",
                "### AUTOGRADER TEST - DO NOT REMOVE\n",
                "###\n"
            ]
        },
        {
            "cell_type": "markdown",
            "metadata": {
                "nbgrader": {
                    "grade": false,
                    "grade_id": "cell-76e51b67fe3758ae",
                    "locked": true,
                    "schema_version": 3,
                    "solution": false,
                    "task": false
                },
                "editable": false,
                "deletable": false
            },
            "source": [
                "### Problem 9\n",
                "\n",
                "The following problem summarizes this homework. You are asked to relate different characterizations of the same group. To answer this question, you might want to go back to the visualization tools earlier in the notebook. \n",
                "\n",
                "In this notebook, we have characterized the clusters (groups) of the stations in 3 aspects: \n",
                "1. [A cluster in the scatterplot](#Problem-7).\n",
                "    - group 0: 'red'\n",
                "    - group 1: 'orange'\n",
                "    - group 2: 'yellow'\n",
                "    - group 3: 'green'\n",
                "    - group 4: 'black'\n",
                "    - group 5: 'blue'\n",
                "    - group 6: 'purple'\n",
                "1. [A geographical description of a region in India](#Problem-8) (One region is not described on purpose).\n",
                "    - region A: Southern west coast\n",
                "    - region B: Southern east coast\n",
                "    - region C: New Delhi Area\n",
                "    - region D: The area around Rajkot\/Jamnagar\n",
                "    - region E: Along the Brahmaputra river between Dibrugarh and Guwahati\n",
                "    - region F: Mountain range in the south-west, between Bengaluru and Belagavi\n",
                "1. [A yearly temperature profile](#Part-4:-Yearly-temperature-profile).\n",
                "    - waveform a\n",
                "    - waveform b\n",
                "    - waveform c\n",
                "    - waveform d\n",
                "    - waveform e\n",
                "    - waveform f\n",
                "    - waveform g\n",
                "\n",
                "#### Task:\n",
                "\n",
                "Figure out 6 tuples of the form `(group, region, waveform)`, where the group, region, and waveform in each tuple are characterizing the same cluster (group). That is, figure out which `group` and which `waveform` each `region` corresponds to. Put your answers in 2 dictionaries below where the key is the `region` in uppercase letter and the value is your answer (number for `group` and lowercase letter for `waveform`). \n",
                "\n",
                "For example, the template provided in the cell below says that `(group 0, region 'A', waveform 'a')` are characterizing the same cluster (group), `(group 1, region 'B', waveform 'b')` are characterizing another cluster (group), and so on.\n",
                "\n",
                "**You only need to give the answer (2 dictionaries). You don't have to include the codes that you used to get the answer, since we only grade on the correctness of your answer.**\n",
                "\n",
                "#### Hints:\n",
                "\n",
                "1. First figure out the relations between the groups in the scatterplot and the geographical descriptions.\n",
                "    1. Find out the area on the `ipyleaflet` map based on the description.\n",
                "    1. An area corresponds to a group in the scatterplot if they share the same color.\n",
                "1. There are several ways that you can do to figure out which group each waveform of the yearly temperature profiles corresponds to.\n",
                "    1. Plot the yearly temperature profile by yourself for each group using `profile` DataFrame and compare the shapes of waveforms in your plot and in the plot we showed.\n",
                "    1. Decompose the yearly temperature profile vectors to get the first 2 coefficients. See where the coefficients are in the scatterplot and which group the coefficients are near to."
            ]
        },
        {
            "cell_type": "code",
            "execution_count": 45,
            "metadata": {
                "collapsed": true,
                "nbgrader": {
                    "grade": false,
                    "grade_id": "cell-a13cd1968f5e215f",
                    "locked": false,
                    "schema_version": 3,
                    "solution": true,
                    "task": false
                }
            },
            "outputs": [],
            "source": [
                "# THIS IS JUST A TEMPLATE. COPY THE DICTIONARIES AND CHANGE THE VALUES. DO NOT CHANGE VARIABLE NAMES!\n",
                "group_answer = {'A': 0, 'B': 1, 'C': 2, 'D': 3, 'E': 4, 'F': 5}\n",
                "waveform_answer = {'A': 'a', 'B': 'b', 'C': 'c', 'D': 'd', 'E': 'e', 'F': 'f'}\n",
                "\n",
                "###\n",
                "### YOUR CODE HERE\n",
                "###\n"
            ]
        },
        {
            "cell_type": "code",
            "execution_count": 46,
            "metadata": {
                "collapsed": true,
                "nbgrader": {
                    "grade": true,
                    "grade_id": "prob9-1",
                    "locked": true,
                    "points": 4,
                    "schema_version": 3,
                    "solution": false,
                    "task": false
                },
                "editable": false,
                "deletable": false
            },
            "outputs": [],
            "source": [
                "assert len(group_answer) == 6, 'group_answer should only have 6 keys\/values'\n",
                "assert len(waveform_answer) == 6, 'waveform_answer should only have 6 keys\/values'\n",
                "\n",
                "for region in ['A', 'B', 'C', 'D', 'E', 'F']:\n",
                "    assert region in group_answer, f'Your group_answer is missing region {region}'\n",
                "for region in ['A', 'B', 'C', 'D', 'E', 'F']:\n",
                "    assert region in waveform_answer, f'Your waveform_answer is missing region {region}'\n",
                "\n",
                "unique_group_answer = np.unique(list(group_answer.values()), return_counts=True)\n",
                "unique_waveform_answer = np.unique(list(waveform_answer.values()), return_counts=True)\n",
                "assert (unique_group_answer[1] == 1).all(), 'Your group_answer contains duplicate answers'\n",
                "assert (unique_waveform_answer[1] == 1).all(), 'Your waveform_answer contains duplicate answers'"
            ]
        },
        {
            "cell_type": "code",
            "execution_count": 47,
            "metadata": {
                "collapsed": true,
                "nbgrader": {
                    "grade": true,
                    "grade_id": "prob9-2",
                    "locked": true,
                    "points": 3,
                    "schema_version": 3,
                    "solution": false,
                    "task": false
                },
                "editable": false,
                "deletable": false
            },
            "outputs": [],
            "source": [
                "## Hidden test cases here\n",
                "###\n",
                "### AUTOGRADER TEST - DO NOT REMOVE\n",
                "###\n"
            ]
        },
        {
            "cell_type": "code",
            "execution_count": 48,
            "metadata": {
                "collapsed": true,
                "nbgrader": {
                    "grade": true,
                    "grade_id": "prob9-3",
                    "locked": true,
                    "points": 3,
                    "schema_version": 3,
                    "solution": false,
                    "task": false
                },
                "editable": false,
                "deletable": false
            },
            "outputs": [],
            "source": [
                "## Hidden test cases here\n",
                "###\n",
                "### AUTOGRADER TEST - DO NOT REMOVE\n",
                "###\n"
            ]
        },
        {
            "cell_type": "code",
            "execution_count": 49,
            "metadata": {
                "collapsed": true,
                "nbgrader": {
                    "grade": true,
                    "grade_id": "prob9-4",
                    "locked": true,
                    "points": 3,
                    "schema_version": 3,
                    "solution": false,
                    "task": false
                },
                "editable": false,
                "deletable": false
            },
            "outputs": [],
            "source": [
                "## Hidden test cases here\n",
                "###\n",
                "### AUTOGRADER TEST - DO NOT REMOVE\n",
                "###\n"
            ]
        },
        {
            "cell_type": "code",
            "execution_count": 50,
            "metadata": {
                "collapsed": true,
                "nbgrader": {
                    "grade": true,
                    "grade_id": "prob9-5",
                    "locked": true,
                    "points": 3,
                    "schema_version": 3,
                    "solution": false,
                    "task": false
                },
                "editable": false,
                "deletable": false
            },
            "outputs": [],
            "source": [
                "## Hidden test cases here\n",
                "###\n",
                "### AUTOGRADER TEST - DO NOT REMOVE\n",
                "###\n"
            ]
        },
        {
            "cell_type": "code",
            "execution_count": 51,
            "metadata": {
                "collapsed": true,
                "nbgrader": {
                    "grade": true,
                    "grade_id": "prob9-6",
                    "locked": true,
                    "points": 3,
                    "schema_version": 3,
                    "solution": false,
                    "task": false
                },
                "editable": false,
                "deletable": false
            },
            "outputs": [],
            "source": [
                "## Hidden test cases here\n",
                "###\n",
                "### AUTOGRADER TEST - DO NOT REMOVE\n",
                "###\n"
            ]
        },
        {
            "cell_type": "code",
            "execution_count": 52,
            "metadata": {
                "collapsed": true,
                "nbgrader": {
                    "grade": true,
                    "grade_id": "prob9-7",
                    "locked": true,
                    "points": 3,
                    "schema_version": 3,
                    "solution": false,
                    "task": false
                },
                "editable": false,
                "deletable": false
            },
            "outputs": [],
            "source": [
                "## Hidden test cases here\n",
                "###\n",
                "### AUTOGRADER TEST - DO NOT REMOVE\n",
                "###\n"
            ]
        },
        {
            "cell_type": "code",
            "execution_count": 53,
            "metadata": {
                "collapsed": true,
                "nbgrader": {
                    "grade": true,
                    "grade_id": "prob9-8",
                    "locked": true,
                    "points": 3,
                    "schema_version": 3,
                    "solution": false,
                    "task": false
                },
                "editable": false,
                "deletable": false
            },
            "outputs": [],
            "source": [
                "## Hidden test cases here\n",
                "###\n",
                "### AUTOGRADER TEST - DO NOT REMOVE\n",
                "###\n"
            ]
        },
        {
            "cell_type": "code",
            "execution_count": 54,
            "metadata": {
                "collapsed": true,
                "nbgrader": {
                    "grade": true,
                    "grade_id": "prob9-9",
                    "locked": true,
                    "points": 3,
                    "schema_version": 3,
                    "solution": false,
                    "task": false
                },
                "editable": false,
                "deletable": false
            },
            "outputs": [],
            "source": [
                "## Hidden test cases here\n",
                "###\n",
                "### AUTOGRADER TEST - DO NOT REMOVE\n",
                "###\n"
            ]
        },
        {
            "cell_type": "code",
            "execution_count": 55,
            "metadata": {
                "collapsed": true,
                "nbgrader": {
                    "grade": true,
                    "grade_id": "prob9-10",
                    "locked": true,
                    "points": 3,
                    "schema_version": 3,
                    "solution": false,
                    "task": false
                },
                "editable": false,
                "deletable": false
            },
            "outputs": [],
            "source": [
                "## Hidden test cases here\n",
                "###\n",
                "### AUTOGRADER TEST - DO NOT REMOVE\n",
                "###\n"
            ]
        },
        {
            "cell_type": "code",
            "execution_count": 56,
            "metadata": {
                "collapsed": true,
                "nbgrader": {
                    "grade": true,
                    "grade_id": "prob9-11",
                    "locked": true,
                    "points": 3,
                    "schema_version": 3,
                    "solution": false,
                    "task": false
                },
                "editable": false,
                "deletable": false
            },
            "outputs": [],
            "source": [
                "## Hidden test cases here\n",
                "###\n",
                "### AUTOGRADER TEST - DO NOT REMOVE\n",
                "###\n"
            ]
        },
        {
            "cell_type": "code",
            "execution_count": 57,
            "metadata": {
                "collapsed": true,
                "nbgrader": {
                    "grade": true,
                    "grade_id": "prob9-12",
                    "locked": true,
                    "points": 3,
                    "schema_version": 3,
                    "solution": false,
                    "task": false
                },
                "editable": false,
                "deletable": false
            },
            "outputs": [],
            "source": [
                "## Hidden test cases here\n",
                "###\n",
                "### AUTOGRADER TEST - DO NOT REMOVE\n",
                "###\n"
            ]
        },
        {
            "cell_type": "code",
            "execution_count": 58,
            "metadata": {
                "collapsed": true,
                "nbgrader": {
                    "grade": true,
                    "grade_id": "prob9-13",
                    "locked": true,
                    "points": 3,
                    "schema_version": 3,
                    "solution": false,
                    "task": false
                },
                "editable": false,
                "deletable": false
            },
            "outputs": [],
            "source": [
                "## Hidden test cases here\n",
                "###\n",
                "### AUTOGRADER TEST - DO NOT REMOVE\n",
                "###\n"
            ]
        }
    ],
    "metadata": {
        "anaconda-cloud": [],
        "celltoolbar": "Create Assignment",
        "hide_input": false,
        "kernelspec": {
            "display_name": "Python 3 [3.6]",
            "language": "python",
            "name": "python3"
        },
        "language_info": {
            "codemirror_mode": {
                "name": "ipython",
                "version": 3
            },
            "file_extension": ".py",
            "mimetype": "text\/x-python",
            "name": "python",
            "nbconvert_exporter": "python",
            "pygments_lexer": "ipython3",
            "version": "3.6.4"
        },
        "toc": {
            "base_numbering": 1,
            "nav_menu": {
                "height": "118px",
                "width": "252px"
            },
            "number_sections": true,
            "sideBar": true,
            "skip_h1_title": false,
            "title_cell": "Table of Contents",
            "title_sidebar": "Contents",
            "toc_cell": false,
            "toc_position": [],
            "toc_section_display": "block",
            "toc_window_display": false
        },
        "widgets": {
            "application\/vnd.jupyter.widget-state+json": {
                "state": {
                    "00e88908508346bc8e244906f5b21945": {
                        "model_module": "@jupyter-widgets\/controls",
                        "model_module_version": "1.5.0",
                        "model_name": "SliderStyleModel",
                        "state": {
                            "description_width": ""
                        }
                    },
                    "07715f9cbe274114b15cb6a1bb65c8b8": {
                        "model_module": "@jupyter-widgets\/controls",
                        "model_module_version": "1.5.0",
                        "model_name": "HBoxModel",
                        "state": {
                            "children": [
                                "IPY_MODEL_a06d4dbe3de041f8add6a2c968df4588",
                                "IPY_MODEL_5dfbf2c3ef854f518b503dfa9ae53f04",
                                "IPY_MODEL_7827ed5bbd3e4ec9a44b2d6b706b2f55"
                            ],
                            "layout": "IPY_MODEL_869c7757919c4d87b7a8ba9ab0a7e5ba"
                        }
                    },
                    "09443c955da44586b363f955e1ad0cca": {
                        "model_module": "@jupyter-widgets\/base",
                        "model_module_version": "1.2.0",
                        "model_name": "LayoutModel",
                        "state": []
                    },
                    "102b3695bf2b477199d56bc137f5b08d": {
                        "model_module": "@jupyter-widgets\/controls",
                        "model_module_version": "1.5.0",
                        "model_name": "FloatSliderModel",
                        "state": {
                            "description": "c2",
                            "layout": "IPY_MODEL_9548383d0f1f40058c2128a1a5467291",
                            "max": 59.210094927006,
                            "orientation": "vertical",
                            "step": 5.9210094927006,
                            "style": "IPY_MODEL_73a10b54119540cb880a3eb04d460b8a"
                        }
                    },
                    "1174cbeb3ad343418ee8c4f8cd589441": {
                        "model_module": "@jupyter-widgets\/controls",
                        "model_module_version": "1.5.0",
                        "model_name": "VBoxModel",
                        "state": {
                            "_dom_classes": [
                                "widget-interact"
                            ],
                            "children": [
                                "IPY_MODEL_ec0e65b4d5684d18944d226523614953",
                                "IPY_MODEL_efee7ffa247e4f868e1f26da2313bc61",
                                "IPY_MODEL_102b3695bf2b477199d56bc137f5b08d",
                                "IPY_MODEL_33fccf5d4ab24c2994ebb2474e956eaf"
                            ],
                            "layout": "IPY_MODEL_85ed4a29501b4784b71ecd1ded078096"
                        }
                    },
                    "13dad8ca64a24b03a0d3d45c6bc50859": {
                        "model_module": "@jupyter-widgets\/output",
                        "model_module_version": "1.0.0",
                        "model_name": "OutputModel",
                        "state": {
                            "layout": "IPY_MODEL_f8dd6a87e9df4078af84b44934e0a309",
                            "outputs": [
                                {
                                    "data": {
                                        "image\/png": "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\n",
                                        "text\/plain": "<Figure size 432x288 with 1 Axes>"
                                    },
                                    "metadata": {
                                        "needs_background": "light"
                                    },
                                    "output_type": "display_data"
                                }
                            ]
                        }
                    },
                    "1bf489009b014ef08f4938505f434bf3": {
                        "model_module": "@jupyter-widgets\/base",
                        "model_module_version": "1.2.0",
                        "model_name": "LayoutModel",
                        "state": []
                    },
                    "22293f0a8b7148a38cd4924dd29a81e8": {
                        "model_module": "@jupyter-widgets\/controls",
                        "model_module_version": "1.5.0",
                        "model_name": "VBoxModel",
                        "state": {
                            "children": [
                                "IPY_MODEL_07715f9cbe274114b15cb6a1bb65c8b8",
                                "IPY_MODEL_4c670b32d73c4c2f9a74ac074396b049"
                            ],
                            "layout": "IPY_MODEL_f471b905ccf84677ae5f9e0c72f1a8f4"
                        }
                    },
                    "238d4382d31743f6b96f7aaa56def3f5": {
                        "model_module": "@jupyter-widgets\/controls",
                        "model_module_version": "1.5.0",
                        "model_name": "SliderStyleModel",
                        "state": {
                            "description_width": ""
                        }
                    },
                    "263292baa7034093abefd30e3301b8f3": {
                        "model_module": "@jupyter-widgets\/controls",
                        "model_module_version": "1.5.0",
                        "model_name": "FloatSliderModel",
                        "state": {
                            "description": "c0",
                            "layout": "IPY_MODEL_8c36dc631dfe4fa1a2c397d3673e0e8c",
                            "max": 3771.383300707,
                            "orientation": "vertical",
                            "step": 377.1383300707,
                            "style": "IPY_MODEL_5b58160305934dfaba4700993a988765",
                            "value": 3771.383300707
                        }
                    },
                    "2683dad16b1e4734aa608a3d8178429d": {
                        "model_module": "@jupyter-widgets\/controls",
                        "model_module_version": "1.5.0",
                        "model_name": "VBoxModel",
                        "state": {
                            "children": [
                                "IPY_MODEL_3147c85396e144a0b1f46945ac107dc5",
                                "IPY_MODEL_13dad8ca64a24b03a0d3d45c6bc50859"
                            ],
                            "layout": "IPY_MODEL_a0ee473ec2954aa99fa4cc627da4ebf3"
                        }
                    },
                    "2a164b88c3094a0b92ef1c714f1d14c2": {
                        "model_module": "@jupyter-widgets\/controls",
                        "model_module_version": "1.5.0",
                        "model_name": "FloatSliderModel",
                        "state": {
                            "description": "c1",
                            "layout": "IPY_MODEL_cae985aecadc44e49aa6176c02241ae5",
                            "max": 121.34619064029,
                            "orientation": "vertical",
                            "step": 12.134619064029,
                            "style": "IPY_MODEL_fad5e94896f5488585b751694079cf81",
                            "value": 121.34619064029
                        }
                    },
                    "2b6a136bd2bc4dd4ac0d892a9a52e8be": {
                        "model_module": "@jupyter-widgets\/controls",
                        "model_module_version": "1.5.0",
                        "model_name": "FloatSliderModel",
                        "state": {
                            "description": "c2",
                            "layout": "IPY_MODEL_81301b61f158445a8ec4528e772e8406",
                            "max": 895.01091719944,
                            "orientation": "vertical",
                            "step": 89.501091719944,
                            "style": "IPY_MODEL_a4e0a48d31434f6da04afd20deb8a266",
                            "value": 895.01091719944
                        }
                    },
                    "2ca09967c6234cafa7c6ba97f9d9a1e9": {
                        "model_module": "@jupyter-widgets\/base",
                        "model_module_version": "1.2.0",
                        "model_name": "LayoutModel",
                        "state": []
                    },
                    "2ddac5e4488545b1bfff27930dff283c": {
                        "model_module": "@jupyter-widgets\/controls",
                        "model_module_version": "1.5.0",
                        "model_name": "SliderStyleModel",
                        "state": {
                            "description_width": ""
                        }
                    },
                    "31013e6ea3f246008281e654d6e616a1": {
                        "model_module": "@jupyter-widgets\/base",
                        "model_module_version": "1.2.0",
                        "model_name": "LayoutModel",
                        "state": []
                    },
                    "3147c85396e144a0b1f46945ac107dc5": {
                        "model_module": "@jupyter-widgets\/controls",
                        "model_module_version": "1.5.0",
                        "model_name": "HBoxModel",
                        "state": {
                            "children": [
                                "IPY_MODEL_8343c10ee0e24a7694d0773e5a576f03",
                                "IPY_MODEL_2a164b88c3094a0b92ef1c714f1d14c2",
                                "IPY_MODEL_778e3ec17a154f78a993ddbc4b722525"
                            ],
                            "layout": "IPY_MODEL_4330e59e09cb447186791b379334dbd0"
                        }
                    },
                    "3246b0ee39d249e1ac2f173668bb1ed6": {
                        "model_module": "@jupyter-widgets\/base",
                        "model_module_version": "1.2.0",
                        "model_name": "LayoutModel",
                        "state": []
                    },
                    "33fccf5d4ab24c2994ebb2474e956eaf": {
                        "model_module": "@jupyter-widgets\/output",
                        "model_module_version": "1.0.0",
                        "model_name": "OutputModel",
                        "state": {
                            "layout": "IPY_MODEL_c18c5e7902914a579ca2278f80308ab9",
                            "outputs": [
                                {
                                    "data": {
                                        "image\/png": "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\n",
                                        "text\/plain": "<Figure size 432x288 with 1 Axes>"
                                    },
                                    "metadata": {
                                        "needs_background": "light"
                                    },
                                    "output_type": "display_data"
                                }
                            ]
                        }
                    },
                    "386f7b58b7424e5cb627b1e29f72e01a": {
                        "model_module": "@jupyter-widgets\/controls",
                        "model_module_version": "1.5.0",
                        "model_name": "HBoxModel",
                        "state": {
                            "children": [
                                "IPY_MODEL_263292baa7034093abefd30e3301b8f3",
                                "IPY_MODEL_3c4c2773e82c402f9b5e39a98285defc",
                                "IPY_MODEL_2b6a136bd2bc4dd4ac0d892a9a52e8be"
                            ],
                            "layout": "IPY_MODEL_b97149eb1fc649cd920d6d36eb12ec4c"
                        }
                    },
                    "387d394b82e844849d31b2371d2e80ba": {
                        "model_module": "@jupyter-widgets\/base",
                        "model_module_version": "1.2.0",
                        "model_name": "LayoutModel",
                        "state": []
                    },
                    "3bbfe818c03c4204a5376020c515f32a": {
                        "model_module": "@jupyter-widgets\/base",
                        "model_module_version": "1.2.0",
                        "model_name": "LayoutModel",
                        "state": []
                    },
                    "3c4c2773e82c402f9b5e39a98285defc": {
                        "model_module": "@jupyter-widgets\/controls",
                        "model_module_version": "1.5.0",
                        "model_name": "FloatSliderModel",
                        "state": {
                            "description": "c1",
                            "layout": "IPY_MODEL_4a2b03781728428ab18afbf6895c9540",
                            "max": 2218.6174359304,
                            "orientation": "vertical",
                            "step": 221.86174359304,
                            "style": "IPY_MODEL_f16578199b694886b0d639f23cd30921",
                            "value": 665.58523
                        }
                    },
                    "3e2651ab3d0f46f2a6f890ecccd6b3b5": {
                        "model_module": "@jupyter-widgets\/output",
                        "model_module_version": "1.0.0",
                        "model_name": "OutputModel",
                        "state": {
                            "layout": "IPY_MODEL_4511f1da5e654c0d8d93162967acbec4",
                            "outputs": [
                                {
                                    "data": {
                                        "image\/png": "iVBORw0KGgoAAAANSUhEUgAAAdgAAAFWCAYAAADKY4wxAAAAOXRFWHRTb2Z0d2FyZQBNYXRwbG90bGliIHZlcnNpb24zLjMuNCwgaHR0cHM6Ly9tYXRwbG90bGliLm9yZy8QVMy6AAAACXBIWXMAAAsTAAALEwEAmpwYAABIjklEQVR4nO3deXhU5dnH8e+dyb4vJBAIEARkXwVEKIrivq8VSxVXarWLb+1iF6u21te+am3dS11r3bUquFRFREVUZJV9hxAISSD7nsnc7x8z0IiBkMxMzmRyf66LKzNn\/Z2ZkHueM+c8j6gqxhhjjAmsCKcDGGOMMeHICqwxxhgTBFZgjTHGmCCwAmuMMcYEgRVYY4wxJgiswBpjjDFBYAXWmA4kImtEZKrTOcKdiDwmIrc6ncN0bVZgTacjIttF5OQjXHaBiFwb7EyH2PfTInJn82mqOkxVFziRxykiMlVE8oO4\/StFZGHzaap6var+MVj7NOZIWIE15jBExOV0hrYSkUinM7RVZ8xsTGuswJpObX\/rRUTuFZFSEdkmImf45v0JmAI8JCJVIvKQb\/pgEflAREpEZIOIfLfZ9p4WkUdF5B0RqQZOFJGzRGS5iFSIyE4Ruf2gDN8RkUUiUuabf6WIzAJmAL\/07Xuub9ntInKyiPQUkVoRSW+2nTEisldEonzPrxaRdb7jek9E+h7iNcgVERWRa0QkD5jf2voiMqzZa1AoIr\/xTY8Rkb+KyG7fv7+KSIxv3lQRyReRm0WkSEQKROSqZts8U0TWikiliOwSkZ+LSALwLtDT9zpU+Y79dhF5VUT+JSIVwJUHt\/gPbvmKSG8R+beIFIvIPhF5SESGAI8Bx\/m2XdbsfWy+retEZLPveOeISM9m81RErheRTb7X6mERkUP+0hlzpFTV\/tm\/TvUP2A6c7Ht8JdAIXAe4gB8CuwHxzV8AXNts3QRgJ3AVEAmMBfYCw3zznwbKgcl4P4DGAlOBEb7nI4FC4Hzf8n2ASuAyIArIAEY329adh8k+H7iu2bx7gMd8j88HNgNDfDl\/Byw6xOuRCyjwT9\/xxR1ufSAJKABu9h1fEnCsb94fgC+ALCATWAT80TdvKuD2LRMFnAnUAGm++QXAFN\/jNGBss\/XyD8p8u+99O9\/3usYd\/Ho1X8\/33q4E7vcdYyzwnWa\/AwsP2v6BbQEn+d7jsUAM8CDwSbNlFXgLSPW9n8XA6U7\/ntu\/zv\/PWrAmHOxQ1X+oahPwDJANdD\/EsmcD21X1KVV1q+oy4DXg4mbLvKmqn6mqR1XrVHWBqq7yPf8aeAE4wbfsDGCeqr6gqo2quk9VVxxh7ufxFmZ8LabpvmkAPwD+V1XXqaobuAsYfahWrM\/tqlqtqrWtrH82sEdV7\/MdX6WqftnseP6gqkWqWgzcAVzebB+NvvmNqvoOUAUMajZvqIgkq2qp77U9nM9V9Q3f61rbyrITgJ7AL3zHWKeqC1tZZ78ZwJOqukxV64Ff423x5jZb5m5VLVPVPOAjYPQRbtuYQ7ICa8LBnv0PVLXG9zDxEMv2BY71nc4t851SnAH0aLbMzuYriMixIvKR79RkOXA90M03uzewpZ25X8X7h74ncDzeltSnzXL+rVnGEkCAXofZXvPch1v\/cJl7AjuaPd\/hm7bfPl\/B3q+G\/77WF+Ft1e4QkY9F5LjDZD04b2t64\/0g5W51yW\/7xjGpahWwj2++lnuaPW5+TMa0mxVYE+4OHi5qJ\/CxqqY2+5eoqj88zDrPA3OA3qqagvc7P2m2vf5HuO9vzlQtA94Hvgt8D3hBVfevsxP4wUE541R10eE2edBxHmr9w2Xejbc479fHN61VqvqVqp6H9\/TyG8DLLeQ6VF6AaiC+2fODP\/T0kZYvhmptSLBvHJPve+EMYFcr6xnjFyuwJtwVAkc1e\/4WcLSIXC4iUb5\/430XyxxKElCiqnUiMgFvMdzvOeBkEfmuiESKSIaIjD7EvlvyPHAF3tbf882mPwb8WkSGAYhIiohc0sq2mjvc+m8BPUTkJt9FTUkicqxv3gvA70QkU0S6Ab8H\/tXazkQkWkRmiEiKqjYCFUCTb3YhkCEiKa1sZgVwpoiki0gP4KZm8xbj\/Y73bhFJEJFYEZncbPs5IhJ9iO0+D1wlIqN9F2zdBXypqttbOy5j\/GEF1oS7vwEX+64OfUBVK4FT8X7fuRvvqcE\/47345VBuAP4gIpV4C87+lhm+7+zOxHvBUAneIjHKN\/sJvN9JlonIG4fY9hxgIFCoqiubbfd1X64XfVfZrgbOONKDPtz6vtfgFOAcvMe\/CTjRt+qdwBLga2AVsMw37UhcDmz37e964Pu+\/a3HW7i3+l6LnodY\/1m8FzJtx9uyf6nZ8TT58g4A8oB84FLf7PnAGmCPiOxt4bX4ELgV73ftBXhb79OP8JiMaTf57xkpY4wxxgSKtWCNMcaYILACa4wxxgSBFVhjjDEmCKzAGmOMMUFgBdYYY4wJgpAYwaJbt26am5vrdAxjjDGmTZYuXbpXVTNbmhcSBTY3N5clS5Y4HcMYY4xpExHZcah5dorYGGOMCYJWC6yIPOkb+3H1QdN\/LN6xNNeIyP81m\/5r37iLG0TktGCENsYYY0LdkZwifhp4CO9YkwCIyInAecBIVa0XkSzf9KF4uyAbhncEi3kicrSvmzNjjDGmy2i1wKrqJweNmwjeQa3v9o2tiKoW+aafB7zom75NRDbjHcfx88BFNsYY016NjY3k5+dTV1fndJROJTY2lpycHKKioo54nfZe5HQ0MEVE\/gTUAT9X1a\/wjq\/4RbPl8jn8+JXGGGM6UH5+PklJSeTm5iIira9gUFX27dtHfn4+\/fr1O+L12nuRUySQBkwEfgG8LN53qqV3q8XRBERklogsEZElxcXF7YxhjDGmLerq6sjIyLDi2gYiQkZGRptb\/e0tsPnAv9VrMeABuvmm9262XA6HGKxZVWer6jhVHZeZ2eItRMYYY4LAimvbtec1a2+BfQM4ybfTo4FoYC\/esS2n+wZx7od3nMvF7dyHMcYY02m1+h2siLwATAW6iUg+cBvwJPCk79adBmCmegeWXSMiLwNrATdwo11BbIwxpitqtQWrqpeparaqRqlqjqo+oaoNqvp9VR2uqmNVdX6z5f+kqv1VdZCqvhvc+J1bbXUFFaVFrS9ojDFhZPv27QwePJhrr72W4cOHM2PGDObNm8fkyZMZOHAgixcvprq6mquvvprx48czZswY3nzzzQPrTpkyhbFjxzJ27FgWLVoEwIIFC5g6dSoXX3wxgwcPZsaMGXjbfc4Jia4Su6o5PziF1F2VnPbRWqejGGO6oDvmrmHt7oqAbnNoz2RuO2dYq8tt3ryZV155hdmzZzN+\/Hief\/55Fi5cyJw5c7jrrrsYOnQoJ510Ek8++SRlZWVMmDCBk08+maysLD744ANiY2PZtGkTl1122YGudpcvX86aNWvo2bMnkydP5rPPPuM73\/lOQI+vLazAOih+XzUZJc5+wjLGGCf069ePESNGADBs2DCmTZuGiDBixAi2b99Ofn4+c+bM4d577wW8Vz\/n5eXRs2dPfvSjH7FixQpcLhcbN248sM0JEyaQk5MDwOjRo9m+fbsV2K4qutZDQj3U19YQExfvdBxjTBdzJC3NYImJiTnwOCIi4sDziIgI3G43LpeL1157jUGDBn1jvdtvv53u3buzcuVKPB4PsbGxLW7T5XLhdruDfBSHZ539Oyiuztt63bVtdStLGmNM13Laaafx4IMPHvgedfny5QCUl5eTnZ1NREQEzz77LE1NoXsdrRVYByXUen8W5613NogxxoSYW2+9lcbGRkaOHMnw4cO59dZbAbjhhht45plnmDhxIhs3biQhIcHhpIcmTl9lBTBu3DjtauPBVleWkzd+IgA7b\/kep155q8OJjDFdwbp16xgyZIjTMTqlll47EVmqquNaWt5asA7J37z8wOOa4l1UV5Yz\/4X7HExkjDEmkKzAOqRo+7oDjxvK9jH3tu\/R\/Y7HWffVPAdTGWOMCRQrsA6pKNh+4LGnopzobflEAFuXfOhYJmOMMYFjBdYhdXsL\/vukqpr0wgbvwx0bHEpkjDEmkKzAOsRdXnLgcXRZFd19T7XYuk40xphwYAXWIZ5Kb\/dkJcnQa0fDgelRpVVORTLGGBNAVmAd4qqupTYaquKF5BrvtD0ZEF\/ecPgVjTHGBNxDDz3EgAEDEBH27t0bkG1agXVIZE0D1XHQEOsdxHdHL6GkewzJFc7fl2yMMZ2Nv90iTp48mXnz5tG3b98AJbIC65joGje1sUJipQeAslH9aExLJLUSqpp9P2uMMeHm\/PPP55hjjmHYsGHMnj37wPTExERuvvlmxo4dy7Rp0yguLgZg6tSp3HTTTUyaNInhw4ezePFiwNsv8axZszj11FO54oor2LFjB9OmTWPkyJFMmzaNvLw8ysvLGTRoEBs2eC8gveyyy\/jHP\/7xrUxjxowhNzc3oMdpnf07JK7GQ1WSC3ejwj4PE6+7gy+fuYsI9rH2y3eYcOr3nY5ojAl3794Ce1YFdps9RsAZdx92kSeffJL09HRqa2sZP348F110ERkZGVRXVzN27Fjuu+8+\/vCHP3DHHXfw0EMPAVBdXc2iRYv45JNPuPrqq1m92tuH+9KlS1m4cCFxcXGcc845XHHFFcycOZMnn3ySn\/zkJ7zxxhs89NBDXHnllfz0pz+ltLSU6667LrDHfAjWgnVIYjU0JETT\/55H2XnL98gdMo7scScBsP3D1xxOZ4wxwfPAAw8watQoJk6cyM6dO9m0aRPgHUnn0ksvBeD73\/8+CxcuPLDOZZddBsDxxx9PRUUFZWVlAJx77rnExcUB8Pnnn\/O9730PgMsvv\/zA+qeccgojRozgxhtv5PHHH++QYwRrwTqiurKcxBpoSo5n0OjjGTT6eAAmn389i\/\/3YaLWbnE4oTGmS2ilpRkMCxYsYN68eXz++efEx8czdepU6urqWlxWRFp83Pz54Tr737+Mx+Nh3bp1xMXFUVJScmDM2GCzFqwDtq\/9kghAUlO\/Md0VGcmu3Bh672yktrrCkWzGGBNM5eXlpKWlER8fz\/r16\/niiy8OzPN4PLz66qsAPP\/8898YLP2ll14CYOHChaSkpJCSkvKtbU+aNIkXX3wRgOeee+7A+vfffz9DhgzhhRde4Oqrr6axsTFox9ecFVgH7Nm8AoDozJ7fnjliOAl18Okrf+vYUMYY0wFOP\/103G43I0eO5NZbb2XixIkH5iUkJLBmzRqOOeYY5s+fz+9\/\/\/sD89LS0pg0aRLXX389TzzxRIvbfuCBB3jqqacYOXIkzz77LH\/729\/YuHEjjz\/+OPfddx9Tpkzh+OOP584772xx3ZycHPLz8xk5ciTXXnut38dqw9U54PU\/\/4DBT33Crt\/O5OTLb\/nGvA3LF+C57IesPDmH6Q994FBCY0y4CuXh6hITE6mq+nZnO1OnTuXee+9l3LgWR4XrMDZcXSdQX7wbgB4DR31r3qAxUylJhpidhR2cyhhjTCDZRU5OKC3DA\/QbNqnF2UXdo8gs6JjvCIwxJlS01HoF74VRnZG1YB3gqqymKh4Skr79JT1AfZ9MMipg08rPOjiZMcaYQLEC64DoqgaqDn1lOSmjvF\/6r3r7yQ5KZIwxJtBaLbAi8qSIFInI6hbm\/VxEVES6NZv2axHZLCIbROS0QAcOB3E1HmrjD\/3ST7n0ZqpiQb78inn\/vIu9Bds6MJ0xxphAOJIW7NPA6QdPFJHewClAXrNpQ4HpwDDfOo+IiCsgScNIbJ3SEHfor78TU9LZPiiOAZsa6XXXsyz4yYUdmM4YY0wgtFpgVfUToKXe5+8Hfgk0v8\/nPOBFVa1X1W3AZmBCIIKGk\/hacMdFHXaZ5NPOJ9IDHqD\/+jr25G3qmHDGGNMFzZgxg0GDBjF8+PCAdUbRru9gReRcYJeqrjxoVi9gZ7Pn+b5pLW1jlogsEZEl+0dM6ApqqytIqAdPfNxhlzv5it+wdsYENsycTGwjLPjLTzoooTHGdD7+Dlc3Y8YM1q9fz6pVq6itrQ1In8VtLrAiEg\/8Fvh9S7NbmNZiTxaqOltVx6nquMzMzLbG6LR2b1sDgCYe5ionvN0mXnTrM5z3i8fY0VMY9v525vz1px0R0RhjgioUh6s788wzERFEhAkTJpCfn+\/3cbbnPtj+QD9gpa8j5RxgmYhMwNti7d1s2Rxgt78hw0nxzo2kAK7k1CNa3hUZybB\/vMzOSy9BP5gPNwUznTGmK\/nz4j+zvmR9QLc5OH0wv5rwq8MuE8rD1TU2Nh7oZtFfbW7BquoqVc1S1VxVzcVbVMeq6h5gDjBdRGJEpB8wEFjsd8owUr7be0VwbHrWEa\/Tu\/9wytIiiKltClYsY4zpMKE8XN0NN9zA8ccfz5QpU\/w+zlZbsCLyAjAV6CYi+cBtqtpiT8uqukZEXgbWAm7gRlW1qtBMzd4CAOK7tdDR\/2HUx7lIL7benYwxgdNaSzMYQnm4ujvuuIPi4mL+\/ve\/t+mYDuVIriK+TFWzVTVKVXMOLq6+luzeZs\/\/pKr9VXWQqr4bkJRhpLHM+1Kl9ezftvXio0ioDUYiY4zpOKE6XN3jjz\/Oe++9xwsvvEBERGD6YLK+iDtYU2U5AD2OGtam9TwJcSTU1VBdWX7ILhaNMSbUnX766Tz22GOMHDmSQYMGHXK4upSUlANFFf47XF1FRQVPPtlyL3cPPPAAV199Nffccw+ZmZk89dRTB4arW7x4MUlJSQeGq7vjjju+se71119P3759Oe644wC48MILvzFcXnvYcHUd7MUrj2P4l2UMWbUKV+SRf7558aYzGPWf7US8+HcGjT4+iAmNMeHMhqtrPxuuLsS5auupjqNNxRUgMjUDgCLfbT7GGGNCm50i7mCRNW5qY9u+Xmy3HgCU794a4ETGGBMabLg645fouibqYlvqj+PwUnr2A6CuuCDQkYwxxgSBFdgOFlvnoSG27S97Vj\/vRVHu8pa6hTbGGBNqrMB2oJLCnaSVQ31SdJvXzRkwxvugojLAqYwxxgSDFdgONO+BnxHXAPEnnNLmdROSUqiOgYjqmiAkM8YYE2hWYDtQ0hdrKE6F02f9qV3rV8dDVI315mSMMYF2zTXXMGrUKEaOHMnFF198yAuu2sIKbAepriyn926l4OiUNt+is19tnBBTYz1PGmPMwfwdru7+++9n5cqVfP311\/Tp0+fAIAP+sALbQdZ+\/g4uBXpmt3sbtQmRJFR7AhfKGGMcEIrD1SUnJwOgqtTW1n6r7+P2sPtgO0jB2i8YCCTltr8HlYbkGFK2N9Lkdre7FWyMMfvtuesu6tcFdri6mCGD6fGb3xx2mVAdru6qq67inXfeYejQodx3331+vxbWgu0gNXmbAeg7Zmq7t+FJSyGmEXZZb07GmE4sVIere+qpp9i9ezdDhgz5Rj\/I7WXNoA4iRXtpcMHQMSe0extR3XoAu9ixaiF9Bo4KXDhjTJfUWkszGEJ5uDoAl8vFpZdeyj333MNVV111xMfVEmvBdpCYshpKUiAqOqbd20jqPQCAkm1rAxXLGGM6VCgOV6eqbN68+cDjuXPnMnjwYL+P1VqwHSSp3E1lisuvbWQPPgZ4ibqCnYEJZYwxHSwUh6tTVWbOnElFRQWqyqhRo3j00Uf9PlYbrq4DNLndrBw7gs3DEvjuC+0\/zurKcraPn8iqyRlMf2Jh6ysYY8xBbLi69rPh6kLQrm1riGuApoxUv7aTkJRCRQJEllcHJpgxxpigsVPEQZS3aSV9Bo4if91i0oDIjCy\/t1mZKMRWNvgfzhhjQowNV2eOyPwX7qPy3OnMf+E+9m1fB0BCdq7f261JcpFQaZ1NGGNMqLMCGyR7V39BhELhZ+9SW+i9KKnbUUP93m59ahzp5dDYUO\/3towxxgSPFdggadrn7eIrZmcRTfv2ApA77Di\/t6tZmUQ3wYZl8\/3eljHGmOCxAhskrjLvdwndChtxVVRRGw1Zvfr7vd34Pt57YXcs\/8TvbRljjAkeK7BBEl3lPYWbWQbxe2uoPHRnI23Sc4S3FVy9PbD9hxpjTEcoKyvjkUceCfp+3njjDdaudbZTnlYLrIg8KSJFIrK62bR7RGS9iHwtIq+LSGqzeb8Wkc0iskFETgtS7pD19iO\/4p2Th5JU7qbed412\/zwP1Qn+j8wAMGzimbgjwFO4B4CSwp18+Nz\/BWTbxhgTbG0tsKqKx9P2Czs7RYEFngZOP2jaB8BwVR0JbAR+DSAiQ4HpwDDfOo+IiH\/dF3Uyje+8Q798pWcxbOsXRX2Ud3pdQmDuiIpLSKY0GWJKq1n31Ty2nnoqPf\/4FF+8+0xAtm+MMcF0yy23sGXLFkaPHs3\/\/M\/\/MG3aNMaOHcuIESN48803Adi+fTtDhgzhhhtuYOzYsezcuZM\/\/vGPDB48mFNOOYXLLruMe++9F4AtW7Zw+umnc8wxxzBlyhTWr1\/PokWLmDNnDr\/4xS8YPXo0W7ZsceRYW\/2rr6qfiEjuQdPeb\/b0C+Bi3+PzgBdVtR7YJiKbgQnA54GJG9pKCneSu+O\/g\/7WZySwnSoGbXLjTmh\/H8QHq0iJILHMzaq\/3MII38XEeZ\/OZeIZMwO2D2NM+Pv05Y3s3dnyvaft1a13IlO+e\/Qh5999992sXr2aFStW4Ha7qampITk5mb179zJx4kTOPfdcADZs2MBTTz3FI488wpIlS3jttddYvnw5brebsWPHcswxxwAwa9YsHnvsMQYOHMiXX37JDTfcwPz58zn33HM5++yzufjiiw+ZJdgC0ay6GtjfYWQvvAV3v3zftC7ho8dvY2gjeAQiFEhNpT6rO2zaQGRt4DqHqM5KpO\/SClIqqtnYP5I+eW7Ytj1g2zfGmI6gqvzmN7\/hk08+ISIigl27dlFYWAhA3759D\/RTvHDhQs4777wDw9Kdc845gLdjikWLFnHJJZcc2GZ9fejcwuhXgRWR3wJu4Ln9k1pYrMXOjkVkFjALoE+fPv7ECBnudWtocMH2vi6O3tpEdFZPpl5zOx+vP4vMK64P2H6GXP87uO6XJNVC3rFj2FO3hJQ9NQHbvjGmazhcS7MjPPfccxQXF7N06VKioqLIzc09MHRd82HoDtVnvsfjITU1lRUrVnRE3DZr91XEIjITOBuYof89+nygd7PFcoDdLa2vqrNVdZyqjsvMzGxvjJASXVlLeRLU9vV2iZic05\/07r25YM7XTLnghwHbz8jJ57BuVAJVsXDSD\/5ERY8EehQrtdUVAduHMcYEQ1JSEpWVlYB36LqsrCyioqL46KOP2LFjR4vrfOc732Hu3LnU1dVRVVXF22+\/DUBycjL9+vXjlVdeAbyFeOXKld\/aj1PaVWBF5HTgV8C5qtq86TQHmC4iMSLSDxgILPY\/ZucQV+WmKlEYevnNrBkRy4Rzrg3avs55fD7dX3qO9O69ieg\/gGg3fPXuP4O2P2OMCYSMjAwmT57M8OHDWbFiBUuWLGHcuHE899xzhxyDdfz48Zx77rmMGjWKCy+8kHHjxh0YD\/a5557jiSeeYNSoUQwbNuzAhVLTp0\/nnnvuYcyYMY5d5NTqcHUi8gIwFegGFAK34b1qOAbY51vsC1W93rf8b\/F+L+sGblLVd1sLES7D1S2cMISiXtFc+PrKDt3vojn\/IO2Xf2H1xSO55M6XWl\/BGNNlhfJwdYdTVVVFYmIiNTU1HH\/88cyePZuxY8d2aIa2Dld3JFcRX9bC5CcOs\/yfgD+1tt1w09hQT0oV5CfHd\/i+R534XbZG\/IWmnXkdvm9jjOkIs2bNYu3atdTV1TFz5swOL67tYcPVBciWVZ8R6QHS0zp83wlJKRSnQ3yRs983GGNMsDz\/\/PNOR2gz6yoxQPLXer9qjume48j+yzKiSN\/X5Mi+jTHGfJsV2AApz\/P2DZya2\/KX9MFW3z2NjArYk7fJkf0bYzqP1q69Md\/WntfMCmyANBYWANBn2ERH9h\/bfxAAX89\/0ZH9G2M6h9jYWPbt22dFtg1UlX379hEbG9um9ew72ACRkjIaXHD0kAmO7L\/7kPHAp5RvW+fI\/o0xnUNOTg75+fkUFxc7HaVTiY2NJSenbV8BWoENkPi9VexLA1ekMy9pzpAJVPPfgd6NMaYlUVFR9OvXz+kYXYKdIg6QzCIPpVmB69C\/rXr1G0aDC6TcenMyxphQYAU2ANYvnU9KDTT2ynIsgysyksoEiKqqcyyDMcaY\/7ICGwDrP3oVgORhLXbm0WGqE4SYanfrCxpjjAk6K7ABULtxNQBjzrjC2RwJLuKrPY5mMMYY42UFto2a3G5eu2g0b973YwBqqyvotr6YwnTI7uvMPbD7NSRGk1TtaARjjDE+VmDb6ONX\/sbQNfV4Pv4YgDd\/dRE5RVB8yhiHk0FTcgIJdbD4\/X9RXVnudBxjjOnSrMAegdLiXbx47RQ+f+sJit5\/DYDMPY0ApK3ZRV4P4cJbnR8qzpWWAUDST\/7EnJvPcTiNMcZ0bVZgj8D7\/3cDoxbuJeFX9zJgWSkAGRWwaeVnJFUpVRnRjt3\/2lxMVs8Dj2MLynj97lksfHO2g4mMMabrsgJ7BJKXbaI4FTYMiyNCYfXIOABWvfMUyVXQ6MAQdS1J6nnUgceiSp\/nP2Xf7AcdTGSMMV2XFdhWLP\/4dXJ3KbtGZnLJy8sY+\/U6Trj\/FTwCnqVLcSmQ1vFD1LVkwplXsWZELHtTIKPYTXwDZBbabTvGGOMEK7Ct2PDKIwAcfemPD0zL6tWfonTI2ebt1MGpIeoOlpiSzsWvLKcwJ4Zuvmuc0qpg3VfznA1mjDFdkBXYViRt2M2eDDhm2iXfmF7WLYoU3y0xqX0HOZDs0Nypid94vm6ejbBjjDEdzQrsIRTt2sLrd8+izy4PhQNSvzW\/rvt\/p+UMObbjgh0BSc848LhJoGHDGgfTGGNM1+T8pa8hauGPLmTIugYAUr9z8rfmxx41GD4pptEFA4Y420XiweJ69gU2UpoIVQlC1uYymtzukLjS2Rhjugprwbbg3dm\/Zci6BtYMi2HVBUM55arbvrVM7rGnAVCRAFHRzo2i05Ju\/UcAUJ4ilB43iOy98M7DP3c4lTHGdC1WYFtQ85+3qYqFkx6Zy3f\/97UWW37DJ59NbTRUJYkDCQ+v36gpANSkRnPGr\/5OWQLoe3ahkzHGdCQrsAdpcrvpkV\/Prt6RpHfvfcjloqJj2DI4jrIBzg1RdyjZfQezYUAkjB1LcloWu\/rF0qOgiSa33bJjjDEdxb6UO8iKj18nvQJ2Tmr91ptLXl7WAYna5\/y3Vh147M7pQdLq7axZ\/B4jJ53lYCpjjOk6rAV7kC3vPw9An5MudDhJ4KSN8F7lvOWTNx1OYowxXUerBVZEnhSRIhFZ3Wxauoh8ICKbfD\/Tms37tYhsFpENInJasIIHi2vzNirj4Ngzr3I6SsCMOf1yPED9pnVORzHGmC7jSFqwTwOnHzTtFuBDVR0IfOh7jogMBaYDw3zrPCIiroCl7QCpRfUUdo8Iq1tasnr1pyQFRn22l5enh9YtRcYYE65aLbCq+glQctDk84BnfI+fAc5vNv1FVa1X1W3AZmBCYKIG14JXHmTev\/5M971QnZ3idJyA25PrHaBgxIpqinZtcTiNMcaEv\/Z+B9tdVQsAfD\/3X0rbC9jZbLl837RvEZFZIrJERJYUFxe3M0bgND3wCN3ufhqXQtSAo52OE3BnP7mANdOPAWD5e885nMYYY8JfoC9yaummUG1pQVWdrarjVHVcZmZmgGO0zd6CbfTYCzG+u1iO+s55juYJhriEZI4+9TIASld94XAaY4wJf+0tsIUikg3g+1nkm54PNL95NAfY3f54HeOruY8T4fsYUB0LIyef42ygIBk24TSqYiEyv8DpKMYYE\/baW2DnADN9j2cCbzabPl1EYkSkHzAQWOxfxMDat2cH\/z5\/FMs\/eg3wdixRvtLbolt5Qnc2TewRVhc4NeeKjKQoM4LkonqnoxhjTNhrtZKIyAvAVKCbiOQDtwF3Ay+LyDVAHnAJgKquEZGXgbWAG7hRVZuClL1dFr10P0PWN7DipQcZOvEMPjvlGEbthZpomP73BU7HC7qqrAQGr6yktrqCuIRkp+MYY0zYOpKriC9T1WxVjVLVHFV9QlX3qeo0VR3o+1nSbPk\/qWp\/VR2kqu8GN37bVW\/w9nAUl7+PeU\/dQfZe7\/TtA0Orw\/5gkdy+RLth+YcvOR3FGGPCWpfrySm6wFtRu+9xU\/vR+9RFAc8+yImPzHU2WAfJPmYqAPlffehsEGOMCXNdrsCmFvvGeK2CYavq2NY\/miHjTz5sx\/7hZOwp36fRBbp9m9NRjDEmrHWpAltRWkRmCWzr\/d\/DzrrqRgcTdbyEpBQKMyChsMrpKMYYE9a6VIFdNu8lIj1QNX4IG49ysfG6k\/nOebOcjtXhyjNjyNzrseHrjDEmiLpUga3YtRmAlKOGcd47qznv5gcdTuQMd88skmtg+7qQuoPKGGPCSpcqsI0VpQDEp4feIOkdKSqzBwC7Ny13OIkxxoSvLlVgm6orAUjKbH0w9XAW38N7QVfZzk0OJzHGmPDVpQqsp6YagPQeuc4GcVhG7hAAaot2OZzEGGPCV5cqsNTWApDZs5\/DQZzVZ\/CxAHhKDx6F0BhjTKB0qQIrdQ3UR9HluwjM7NmP+kiQikqnoxhjTNjqUgU2or6RuminUzjPFRlJZQJEVVmn\/8YYEyxdqsBGNriptwILQE28EFNj98EaY0ywdLEC66EhuqUx4bueungXcTUep2MYY0zY6lIFNqrBQ6MVWAAaEqNIrHY6hTHGhK8uVmDVCqxPU2I8CbVQXVnudBRjjAlLXarAxtSDO9rldIzQkJJCBJC3\/iunkxhjTFjqWgW2AZpiIp2OERKiu3m7SyzYvNLhJMYYE566TIFtcruJbQBPjF1GDJDQoy8Albu3OpzEGGPCU5cpsJXlxUR6QONinI4SErL6DQOgrni3w0mMMSY8dZkCW5zvbalJXLzDSUJD36ETANDSUoeTGGNMeOoyBbasMA+AiPhEh5OEhvTuvamNhohKu1fHGGOCocsU2Mp93lOhUUmpzgYJIZUJEFVdT8GO9Xw2fggfHD+EBS\/91elYxhgTFrpMga0tLQIgKinF4SShozZeiKl2s+bjf5NeCTlFUPj2i07HMsaYsNBlCmxDhfe7xvi07g4nCR118S7ia5SyrWsPTIsur3EwkTHGhA+\/CqyI\/I+IrBGR1SLygojEiki6iHwgIpt8P9MCFdYfjaXFAKT16u9wktDRkBBDYjW4i7ynz\/O7C\/EVNgCAMcYEQrsLrIj0An4CjFPV4YALmA7cAnyoqgOBD33PHddU7m3B9j56tLNBQognKZ6EeogsLKE6Fsq7RZNcoU7HMsaYsODvKeJIIE5EIoF4YDdwHvCMb\/4zwPl+7iMgIiprqI+Cbtn9nI4SMiTVe3IhvbCesmRwpyWRWg1l+wocTmaMMZ1fuwusqu4C7gXygAKgXFXfB7qraoFvmQIgKxBB\/RVVU09VnNMpQkt0ZjYA2XuhKjmSiEzvW7Vx6YdOxjLGmLDgzyniNLyt1X5ATyBBRL7fhvVnicgSEVlSXFzc3hitWv7Ra7x089lE17ipibORdJobc861NPjGPqhPiSWhz9EAFK5f5mAqY4wJD\/6cIj4Z2KaqxaraCPwbmAQUikg2gO9nUUsrq+psVR2nquMyMzP9iHF4kTf+jpFvbyGtxENdfJe5aPqI5A4ZR14fb4XV+Dh6+np3qtm5xclYxhgTFvypOHnARBGJFxEBpgHrgDnATN8yM4E3\/YvYfp++\/iiRHu\/j9EpojLeRdA7mOu9cAOKHjWHwuGk0Ceje4J1RMMaYrqLdFUdVvxSRV4FlgBtYDswGEoGXReQavEX4kkAEbY+CV5+kW7Pn7gTr6P9gZ15\/F7tO+z7n9hsKQGkyRJdUOZzKGGM6P7+adKp6G3DbQZPr8bZmHZe8p5qd3YWeRYpLQROtH+KW9PIVV4DylAgSy+xeWGOM8VfYfinZ2FBPVrFSlh1Pia93xIjUkOjzIqTVpsWQXm73whpjjL\/CtsAum\/8ScQ2gub0pT\/UeZkyGdZPYGndmOgl1kLfBriQ2xhh\/hG2Bzfv8PwB0H3MCtWneG2CTrJOJVsXmHAXAxi\/\/43ASY4zp3MK2wHq2bqHRBeNOvwJPr2w8QM9BY52OFfJ6DD8WgNKNKx1OYowxnVvYFtjYkhr2pUBiSjpn\/vYJ8n\/+XQYfc5LTsULekOPOxAM0Fex2OooxxnRq4Vtgq5uoSfQeXnJaFqdde4fDiTqH1IxsSpMhZm+501GMMaZTC9sCm1ij1CVYxxLtUdw9isyCRqdjGGNMpxaWBbbJ7SapGtxJsU5H6ZTq+3YnowLWfTXP6SjGGNNphWWB3blpBVFNoCkpTkfplNLHnQDA2v8863ASY4zpvMKzwK7\/CoDIjOANIhDOJl1wAw0ucK9f53QUY4zptMKywJbuWA9AQs9cZ4N0Uokp6RR0F1L2WJ\/ExhjTXmFZYOsK8wHoljvc4SSdV0VWHFnFSmNDvdNRjDGmUwrLAttUug+AfiMmOpyk89I+vYlrgOULXnE6ijHGdEphWWBd5VXURkM36xqx3TLHTAEg74v3HU5ijDGdU1gW2KiqBipsZDq\/jDv9ctwR4N6yyekoxhjTKYVlgU0taaQyxeV0jE4tOS2LogxIKKxwOooxxnRKYVdgd21bS9Y+qO5lY7\/6q7R7LD32eOxCJ2OMaYewK7DL5j5OBBA\/3EbO8Zenfy6JdbDk\/X85HcUYYwLild9dyopP3+yQfYVdga1etQSAMedc53CSzq\/P1PMByPt4jrNBjDEmANZ9NY\/hr37N+pcf7pD9hV2Bjc8vYU869O5v98D6a\/wpM6iMA9fWHU5HMcYYv615958AdBs\/tUP2F3bDzdQnRVObGe10jLDgioykINtF9s566mtriImLdzqSMca0m2f9Ouoj4bgLbuyQ\/YVdC\/aSl5dx6T+\/cDpG2GicOJb0CnjrLz9yOooxxvglbVc1u3sICUkdMxBM2BVYE1hn3fwQe1MgYb59aDHGdF5Fu7aQXaRU5HTcKGtWYM1hxSUks2twKr13K7XVdk+sMaZz+vCOq3EppE05rcP2aQXWtEq6ZRChsGXVZ05HMcaYNtu08jMGf17EhgGRnHbN7R22X78KrIikisirIrJeRNaJyHEiki4iH4jIJt9P6\/Ghk4vJ7gPA7vVLHE5ijDFtt\/zlvxLbCMkzruzQ\/frbgv0b8B9VHQyMAtYBtwAfqupA4EPfc9OJpecOBaAyz\/olNsZ0PrJxCzUxMPn8H3bofttdYEUkGTgeeAJAVRtUtQw4D3jGt9gzwPn+RTROyx0xCYDGogKHkxhjTNt121XL7p6uDr\/V0J8W7FFAMfCUiCwXkcdFJAHorqoFAL6fWS2tLCKzRGSJiCwpLi72I4YJtl79R1IfCVJa7nQUY4xpk61rF9OjBKr7dOvwfftTYCOBscCjqjoGqKYNp4NVdbaqjlPVcZmZmX7EMMHmioykPAmiK+ucjmKMMd9SW13Brm1rWxyY5Kt\/\/i8AaeNP6OhYfvXklA\/kq+qXvuev4i2whSKSraoFIpINFPkb0jivOjGCuCq30zGMMeZbPj5nIn13K\/nxsHVcFpfN\/hjwFt7sBevZlQknX3lrh+dqd4FV1T0islNEBqnqBmAasNb3byZwt+9nxwxbYIKqNjGSHvkNTscwxphvKC3eRe8CZXNuBKIw+pMiXpx5HNItA6KiGVkG62ZOxhXZ8T0D+7vHHwPPiUg0sBW4Cu9p55dF5BogD7jEz32YENCYEk\/K+gbrk9gYE1KWvf8cPRUapozntB\/9hc\/PmcyoL8uAMmpiID8LzvvFY45k86vAquoKYFwLs6b5s10TgpKTcWkZ+ZtX0N93VbExxjht74rP6An0nXg6iSnpDPz7s2xeMg\/+8Qy9iiDvrOMdab1CGI6mY4LDlZoO5FG4bY0VWGNMyJCd+dRGw6gpFwCQO2QcuUPGsTxnIF+\/9RQX39wxY7+2xAqsOSKx3bKBFZTt3uZ0FGOMAaDJ7SalsJaiTCEqOuYb88aceBFjTrzIoWRe1hexOSJJ3b3dJdYW73I4iTHGQEVpER+cOpI+BUpZB46Q0xZWYM0RyfR1l9hYutfhJMYYA2\/ffgV9dysrT+rJmX8NzZtV7BSxOSK9jx7NLoDKSqejGGO6uKryEvp9uoNtvSO45IH3HLuIqTXWgjVHJDkti5poiKiqcTqKMaaL27TsI1JqoGrs0SFbXMEKrGmD6niIrLHOJowxziot8F5sGZUW2t3sWoE1R6w2VoipbXI6hjGmi6veuxuA2HQrsCZM1MdFEFPrcTqGMaaLqy\/xdnGf1L2vw0kOzwqsOWIN8ZHE1zqdwhjT1TVVlgGQ0fMoZ4O0wgqsOWJNCTEk1npv7jbGGKdoVRUAPXKHOJzk8KzAmiOmiQlENUGx9eZkjHGQ1NTSEAlpmb2cjnJYVmDNEYtI6wbA1lULHU5ijOnKXLUN1MS0vpzTrMCaI5ZylLc3p6K1XzqcxBjTlUXWuamLdTpF66zAmiOWe8xJANTttFPExhjnRNd7qI8Vp2O0ygqsOWIDhk+iLgoiivc5HcUY04XF1Hmojwn98hX6CU3IcEVGUpIKsWV1TkcxxnRhsfXgjg3dLhL3swJr2qQyJZKkcuvNyRjjnLg6cMdFOR2jVVZgTZvUp8aTXg6NDfVORzHGdEHVleXENYDGhf5VTlZgTZtoVjeim2DDsvlORzHGdEG7t672PkhMdDbIEbACa9oksd9gALYv+dDhJMaYrmjPlhUAuJJTHc1xJKzAmjYZMOksAKo2r3Y4iTGmK8p\/\/1UABp4y3eEkrbMCa9pk4KjjqYkBV0GR01GMMV1Qt7V7yOshjJ5yntNRWmUF1rSJKzKSvelCwj67yMkY07E+\/ffD5BRByfCeTkc5In4XWBFxichyEXnL9zxdRD4QkU2+n2n+xzShpDIjhowSGxfWGNNxSgp34r7vISrjYOy1v3c6zhEJRAv2p8C6Zs9vAT5U1YHAh77nJow09sgguQa2rl3sdBRjTBcx76Ff0GMf7LrsBAaNPt7pOEfErwIrIjnAWcDjzSafBzzje\/wMcL4\/+zChJ77fIAA2fjbX4STGmK7Ck59Hk8ApP7jL6ShHzN8W7F+BXwLNzxd2V9UCAN\/PLD\/3YUJM5uBxAFTu2OhwEmNMVxFbXMm+VEhMSXc6yhFrd4EVkbOBIlVd2s71Z4nIEhFZUlxc3N4YxgFHj50KgHtvobNBjDFdRnKZm\/I0l9Mx2sSfFuxk4FwR2Q68CJwkIv8CCkUkG8D3s8X7OVR1tqqOU9VxmZmZfsQwHa1bdj+qYiGytMLpKMaYLqC+toZupVCbkeB0lDZpd4FV1V+rao6q5gLTgfmq+n1gDjDTt9hM4E2\/U5qQU5EEMRUNTscwxnQBqxbNIaoJpGfnuD1nv2DcB3s3cIqIbAJO8T03YaY60UVClY2qY4wJvvxlCwBIOXqUs0HaKCAD6qnqAmCB7\/E+YFogtmtCV31yNNkFtU7HMMZ0AXU7tgAw8LgzHU7SNtaTk2mXptRkEuu8N38bY0wwuYpLqI6BvkePdTpKm1iBNe0S0c1799VGG7bOGBNkcWV1lKYKrsiAnHTtMFZgTbsk9h4AQPHG5Q4nMcaEu+RyD1Wpnau4ghVY007ZQ8YDUJO\/zeEkxphwVl1ZTno51Kd1rlt0wAqsaafB46bRJKDFNmydMSZ41i1+F5eC9OjhdJQ2swJr2iUuIZnSZIgurXY6ijEmjO3+ehEASblDHE7SdlZgTbtVJEeQUOF2OoYxJozV5G0GoN8xJzmcpO2swJp2q02JJqVcnY5hjAljUlRMfSQcPWaq01HazAqsabfG9CRSauxeWGNM8MSW1lKSSqe7RQeswBo\/uLp7+wVd\/+V\/HE5ijAlXyeVNVKZ0rlF09rMCa9otpd9QAIo2tGvEQmOMadG8f97F+0\/fSWNDPenlUJcW73Skdul8bW4TMnLHHI+HF6jbaffCGmP8885jv6H\/safy9RuzGfzKcuqiYUm3bFLdoFmdc0hTK7Cm3QaM+A4royGieJ\/TUYwxnVhtdQW9Hnyd1e+\/Q86OekpSIKsUtjz4F1KBhL4DnY7YLnaK2LSbKzKSklSIK7VRdYwx7bf6s7eJboIBG+pJrYY9JwxmUz8X\/Xd4AOg5fLLDCdvHCqzxS2VqFKmlHqdjGGM6sd2rFgIQ7RtievgFP+So2+45MH\/oxNOciOU3O0Vs\/FKfkUT6phKqyktITEl3Oo4xphOq3bH5wOOCbnDSsacCMP\/3ayhesZAhCclORfOLtWCNXyKys4lQWL1ortNRjDGdVETRPmqiYfWoOIonDTow\/aTv\/ZxL\/+8N54L5yVqwxi8pA0YCayj4ehGcMdPpOMaYTii+tJaSNOGSl5Y5HSWgrAVr\/DLouDMBqM\/b3MqSxhjTspSyzjnea2uswBq\/5A4ZR3kCRO3e63QUY0wnVF1ZTnoF1KcnOR0l4KzAGr8VdXeRXtjgdAxjTCe0ZdVCIhQkI8PpKAFnBdb4raZnGlklsCdvk9NRjDGdTNGWVQBEZ2Y7nCTwrMAav8UNGUkEsPStx52OYozpZCp3bQUgOae\/w0kCzwqs8dvwU2cAEPnKXF7\/8w8cTmOM6UwaincD0GPAaGeDBIEVWOO3\/iMmsamfi8x9Su\/nP2Hr2sVORzLGdBJaVo4HyB16rNNRAq7dBVZEeovIRyKyTkTWiMhPfdPTReQDEdnk+5kWuLgmVJ377mrq7vwZsQ2w5YdX8tqfrnQ6kjGmE3BVVlMVDwlJKU5HCTh\/WrBu4GZVHQJMBG4UkaHALcCHqjoQ+ND33HQBk869jtVnHEVSpZI150un4xhjOoHo6gaqO+dwr61qd4FV1QJVXeZ7XAmsA3oB5wHP+BZ7Bjjfz4ymE5n+l7fZPjqd9AqoKi9xOo4xJsTFVXuoSQjPbysDclQikguMAb4EuqtqAXiLMJB1iHVmicgSEVlSXFwciBgmRERk9yJC4euFbzodxRgTwprcbhJqlPqEKKejBIXfBVZEEoHXgJtUteJI11PV2ao6TlXHZWZ2ztHqTctSB44EoHD1Fw4nMcaEohWfvslHk4ewYuwI0ivAnRjrdKSg8KvAikgU3uL6nKr+2ze5UESyffOzgSL\/IprOZrD1T2yMOYxN816ixz5w+7of9sRbgf0GERHgCWCdqv6l2aw5wP5hVWYCdp6wi+kzaCyVceAqLnU6ijEmBDUVFwIQff9drB0WQ7\/zrnI4UXD4M3zBZOByYJWIrPBN+w1wN\/CyiFwD5AGX+JXQdEqlqUJ8ab3TMYwxISiitJzaaBh7wgWMOeECp+METbsLrKouBOQQs6e1d7smPFSlRZOdZwXWGPNt0ZX1lIff4DnfEp7XRhvHNWSlkVYFu7atdTqKMSbExFc2UZ0Y\/uUn\/I\/QOCL2qEEArJ7\/ssNJjDGhJrlKqUuKdjpG0FmBNUGRe+xpAJSuW+pwEmNMKKkqLyGpGtwpCU5HCTorsCYohh93JrXRELGrwOkoxpgQsmnFx0QAktHN6ShBZwXWBEVUdAx704WEvbVORzHGhJDCjcsAiMvu43CS4LMCa4KmIiOazL0eGhvsamJjjFdF3iYAuvUf4XCS4LMCa4LGM3QwSbXwn0d\/5XQUY0yI8OTvxCMwdPLZTkcJOiuwJmhO\/9kDVMaB5\/0PvzF9b8E25h0\/hDfuvcGhZMYYp8TsrWRfCqRmZDsdJeiswJqgSU7LYtuIFAZsdbN17eID0z96+BZ6FUHjYhsMwJhwV19bQ3Vl+YHnKaWNlKW5HEzUcazAmqBKO+lsIhSWvvRXdm5ZzSuXHkPqp6sASCmqczidMSbY3pk+kSWnTmTr2sXUVlfQrRRqu4X\/LTpgBdYE2QmX\/ozqWJDVa\/nszh8wfGUNOYVKgwu671Vqq494hENjTCfz3pN\/YPCGRrJKoWDmTD45ayJRTUCvnk5H6xBWYE1QxcTFs7N3FDnb6hmwrITNuRGsmNqddSfmEO2GpfNedDqiMSZI6l95mYp4WP3d0ZSmR9BnjwKQNnisw8k6hhVYE3SNIweRUgMuDyReeQ2XPbaAXtMuBKDgqw9bWdsY0xnt2raWfjua2D4smUv+8AJnv7eG1aPi8AiMOLFrDLJmBdYE3QW3\/YvS+35Jj7de58TpPwNg3KkzqImGlE9XUVK40+GExphAW\/T0nUR6IHXqGQemXfLSMnp+Mo\/svoMdTNZxrMCaoIuKjmHSWVd94z9VXEIyO6ZPoleh8sHNFzmYzhgTaAU71hP3xUrK42Hq9375jXlpmb0cStXxrMAax1z4myfY2s9F962VTkcxxhyBF350MnNPH0aT2011ZTlz\/3bTt3pqqygtYuP0C+i\/w8P2sd2IiYt3KK3zrMAaR1X170H3Elj9xbtORzHGtCJt7W4GbPfwyasPMPfWSxnw6Hu8edmx1NfW0OR2896Tf+DtX11MVimsnTGB6Y9\/6nRkR0U6HcB0bdknnAfzHmHtm48zfOIZra9gjHFEfW0NPYq9VwEXzX2RmIo63BEwbE09718wnthapU+h0gfY0VM4\/9dPOBs4BFgL1jhq8nmzqIiH+GXrbVAAY0LY0g+eI6YR6qKg77pKsnc1sunoaFae1JMB2z1ENSorzzyKFVO7k\/Kzm3FFWvvNXgHjqKjoGLZN7s2oD3by2g9OZPpTi5yOZIxpQf6XH5AGbJjq\/f8KsP2oHKb\/5W22rl3MlKPHWlE9iLVgjeMuuf8d1gyPZdTnpbxw\/VSn4xhjfD7998P\/7Ud8yxbqI+G8u18lr4cA0HOS92udo4ZOsOLaAiuwxnGuyEjOefYzNgyIZNinhWxa+ZnTkYzp8vYWbCPptofIu3Ymr140mhEratjRx0VcQjKua65g9ah4jjv3OqdjhjQrsCYkxMTFk\/XDnxHVBCv\/cCMv\/+Zi8jatpGxfAa\/e\/n2qykucjmhMpzf3gZ\/x\/tN\/PKJlP37yj8Q0QvcSGLy2npXHpnLCsx8AcPLlt3DJS0uJio4JZtxOT1TV6QyMGzdOlyxZ4nQMEwLeOm0Y\/Xd4AKiOgR39Yxi6tp6VJ2Uz\/ZH5DqczpnN66YpjcR01kKP+vZTqOJj46YpWi+NrF46m75Z6im+8kMTMHKZc8MMOStu5iMhSVR3X0rygtWBF5HQR2SAim0XklmDtx4SXfn+4n\/VXHU\/eLy5FBYaurccjMGBRAZ+8+tBh183btJK3H\/11ByU1pnP49N8PM3JxBcNeXEpcA3Qrh3ce\/Nlh1ykp3EnvbfXk9YvmjFl\/suLaTkH5VlpEXMDDwClAPvCViMxR1bXB2J8JH8OOPZVhx54KwOv79pAy52PKzpzEUc8vIvN3DzP38UdJ\/cGPGHfqDKJj4g9cWFFRWsS6WZdxVIHyevk+Lrhldqv7WvjmbIrXL+Xcmx+2CzRM2Nr9xrOkCbhdsKe7kFaqxL71EZ8e9Sja1ERWv6F8\/cZscsZPY\/Cxp\/Phgz9HN29hRC3Enn6W0\/E7taCcIhaR44DbVfU03\/NfA6jq\/7a0vJ0iNq3ZtPIzljz6OwZ+voe4elCBuhjYkxVBQ3wk3fY0kFkGJUkQ0wibJmQhMTFIQgLiikJEUPWgTW5o8qBFRcSUTKMmIYcm2UVMztdIbBwiAiKIeE\/ueGqrvQEio4iIikIiXH4dh9\/\/2zwePzfg\/\/93v\/9m+Ll+IP5midMZ1IOnzHtdgcQnIjGxiMuFp6aaqC07SChrpHRUXyJT0\/cn9v6I8P5eusv2QUMDiIArAhob0aYmXJk98NRW49q5i6b4OCJq68jdUENhDxcZP7qZnAGj+OJf\/8eQ11YS6ftVckdw4HFtNMQ1eB9vGBjJ+XNX+XecXcDhThEH62N7L6D5ECn5wLEHhZoFzALo06dPkGKYcDFw1GQGPvYReRuWseien0Kjm8iaOlL31JFS3kBZuoui00eTO+Vs9t71B0Z\/UnTY7XkElo4RapNjSN+jDJ+7sYOOxJjDq46BqgQY9Z\/twPY2rl0IQE00xDbUUhsLFYkQcc5ZTDrrKgD6\/PFF3u9\/JyUrF0FTExFF+0g55WxKV31JzJZd6KQJNBTtZvzVvwvkYXVJwWrBXgKcpqrX+p5fDkxQ1R+3tLy1YE2gbVr5GTGxcezbvY3GxlrU48EVFY0rMgZXVDS9B44+MKpHfW0NqxbNoamxAVVFm9w0NTWhniYS03vgioykvrqKxroqmtwNIP5duuBvKzhCxM\/9+3\/phfr5GkT4mUH8fA3A\/9dB8O99zBk0BldkFHt2rKeuqhR3YyPxyekMGXcKkVHRLJ3\/Ik0N9ajvrIXH97daPU2kZeeS1r0vTQ11uJvcxMQlEhUdw+YVnxAdG8eYEy7G3djQpTva7yiHa8HaKWJjjDGmnZy4ivgrYKCI9BORaGA6MCdI+zLGGGNCTlC+g1VVt4j8CHgPcAFPquqaYOzLGGOMCUVBuzdBVd8B3gnW9o0xxphQZl0lGmOMMUFgBdYYY4wJAiuwxhhjTBBYgTXGGGOCwAqsMcYYEwRWYI0xxpggsAJrjDHGBIEVWGOMMSYIgtIXcZtDiBQDOwK4yW7A3gBuz7SdvQehwd6H0GLvR+gI1HvRV1UzW5oREgU20ERkyaE6XzYdw96D0GDvQ2ix9yN0dMR7YaeIjTHGmCCwAmuMMcYEQbgW2NlOBzD2HoQIex9Ci70foSPo70VYfgdrjDHGOC1cW7DGGGOMo6zAmnYTEXE6gwERiXM6gzHm2zplgbU\/7M4SEReA2vcLjhORXwM\/F5EYp7MYL\/v7FBpC4X3oVAVWvCKa\/2EXkU51DOFAVZsAROQEEblXRNKdztTViEik7+FC4ARgsINxujwRiRKRE8D7wXP\/+xMKf+S7mlCqE53mIiffC+bxPR4CTAKeU9U6Z5N1Dftff1\/rNRHvFXibgI9U9UNn03VtInI3EAP8XlUrnc7T1YiI+IrqE8AWIBWoVNU\/Opus6wm1OtFpWn++P+6xInI18AxwOfBnEZkA9kkxWPZ\/8ttfXFW1SVXLgYnAEFX9UESinE3Ztfg+oWeJyG0icixwDzAa7x8T00Ga\/d\/Y30pZDNwJJAH\/51SurizU6kTIFtiDm\/S+ltODwE2qOgE4AygHzhCRJPs+MDiafRq8AZgjIr\/0XVRzEXC6b5lG+4ATPCLyFxH5ne9xpu93vQzoDpykqvuAF4GZIpLlXNKuw\/dhc\/\/\/jZN8\/z92AK8AVapabx88gy\/U60TIFthmv7wDRSTV973fy0CuiPRS1VrgM7ynY05xLml4EZETRaRfs+cDROQpYDjwN2AU3k\/nK\/EW3Md8i4bs71IYeB34HxEZBDwsIieragPe\/w\/9ReQ0Vf07EA+c1ez7WRNAItJHRE4TkWTf8wgReRi4H8hT1f8A1wEXicixqtrYbF37ABoEoV4nQuqPou+T+q2+x0eLyMt4v+t7VkQmqOoHwAvA732rfArsAk4VkZ6OhA4jvouVngee8Z1iARgCXAq8oarv4z0FVgJ8F7gRuFpEBu2\/8MkElu87pU+B94H\/BV4DrgBQ1QXATuA8EYkGngCuBOyiswDyFdI\/Ax8DPwD+CfwOSAD6q+ooVX1LRCJVtQJ4CvitiCSKyE0iEmVn2AKnM9WJkCqweD+p3yQiicBNwPuqeiLe7zTu9f0RuRs4RkQmqmoN3l\/6l1R1t1Ohw0gTsAzvL+d1IjID71WqfwemA6jqOkCAfqpagrdVO8aZuF3C\/j\/MNwInAR6gXESu8E2fB5wDXKGqc30\/izo+Zli7FugPDFDVC4GbfdN+CGwSkezmp4N9FzftA94DJgCR1oINqE5TJ0KmwDb7pP4xcK+q3gAsF5FFwHIgDviJqm4D5gJ\/BlDVr1T1I6dyhwvflZDleFunicBP8N7+8UO8raZUEfmub\/FUYP+9sL9Q1Rc7PnHX4Ls6NcL3YeZ+4Fd4349fisgo4Cy8RXaxb\/kd9sc8cHyn208D\/qGqTSKSoKpbgJ8DM\/H+X+mhqo2q6haRySLSB29L9yJV\/Z6q1loLNjA6W50Imdt0ml3qngFsA0YCZwOZqnqbiFwP3AsMA4qB3qq6wbnE4aXZ638hMFhV7xKRnwC3Av\/GW3hnAB8APYGfqurGZuuJ\/REJPhHZAfwU74ecK4FPVfVWJzOFOxF5AfhMVR+Sb94GsgDv6fgFQBWQDRwF\/EhVVzkUN6x1tjoRMi3YZp\/U9wEPAK8CbiDWd9FNDvAlkKCqNaq6wT6pB06z4pgAjBaRF\/F+Cv8FkAUcj\/d7jA2qeoaqbmy+nhXX4Gp2teSvgLtU9Wng1P3F9eCrKU1g+P7GfAwM9F3B7RGRJN\/s+cAbwJNAHbBOVU+w4ho8na1OhEwL9mAisgHv93+b8X7\/dI+q\/s3ZVOFPRNKArcC\/VPXHvmlH4e0pKBH4MXCuqpY6l7Jrkv929jEPeExVX\/XdluCxDzjB47t6+0fA5uZ\/g0TkJeBRVV3QvGVrOk6o14mQu5y\/2S\/qr4G7VfUaEXls\/x908XV24GzKsFYGPA28Awde763AVhHpjvdCAredEu54zVpP1Xg\/BGH\/F4LP1wp6B7hdRFKAFcANeC9A238mx4prB+osdSLkTiv5\/ohEqOq\/gTwRuURVS0XE5fuj7viL1gX0x3vK5eDXu0hVn1DVSiuujhmH9x7klU4H6UpU9V3gf4AG4Crgdd9XJXb3ggM6S50IuRYsfOuT+hbftJB4wcKd7zuOK31XrX5rnhOZzDcssKvmnaGqi4BFdvYmNHSGOhFyLdhm7JO6Q\/YXV7uILPTYH3bn2XsQUkK6ToTyRU72KdEYY8whhXqdCNkCa4wxxnRmoXyK2BhjjOm0rMAaY4wxQWAF1hhjjAkCK7DGGGNMEFiBNcYYY4Lg\/wFLJ2c7G+V3zwAAAABJRU5ErkJggg==\n",
                                        "text\/plain": "<Figure size 432x288 with 1 Axes>"
                                    },
                                    "metadata": {
                                        "needs_background": "light"
                                    },
                                    "output_type": "display_data"
                                }
                            ]
                        }
                    },
                    "415347878af74c919b1263c99da53ab3": {
                        "model_module": "@jupyter-widgets\/base",
                        "model_module_version": "1.2.0",
                        "model_name": "LayoutModel",
                        "state": []
                    },
                    "4273263336e0451c9c9c6879e485f10c": {
                        "model_module": "@jupyter-widgets\/controls",
                        "model_module_version": "1.5.0",
                        "model_name": "SliderStyleModel",
                        "state": {
                            "description_width": ""
                        }
                    },
                    "4330e59e09cb447186791b379334dbd0": {
                        "model_module": "@jupyter-widgets\/base",
                        "model_module_version": "1.2.0",
                        "model_name": "LayoutModel",
                        "state": []
                    },
                    "4511f1da5e654c0d8d93162967acbec4": {
                        "model_module": "@jupyter-widgets\/base",
                        "model_module_version": "1.2.0",
                        "model_name": "LayoutModel",
                        "state": []
                    },
                    "4a2b03781728428ab18afbf6895c9540": {
                        "model_module": "@jupyter-widgets\/base",
                        "model_module_version": "1.2.0",
                        "model_name": "LayoutModel",
                        "state": []
                    },
                    "4c670b32d73c4c2f9a74ac074396b049": {
                        "model_module": "@jupyter-widgets\/output",
                        "model_module_version": "1.0.0",
                        "model_name": "OutputModel",
                        "state": {
                            "layout": "IPY_MODEL_f905f6a8db6140b399c578872ee789cf",
                            "outputs": [
                                {
                                    "data": {
                                        "image\/png": "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\n",
                                        "text\/plain": "<Figure size 432x288 with 1 Axes>"
                                    },
                                    "metadata": {
                                        "needs_background": "light"
                                    },
                                    "output_type": "display_data"
                                }
                            ]
                        }
                    },
                    "51cb549c88b740189f8921167c304fd4": {
                        "model_module": "@jupyter-widgets\/controls",
                        "model_module_version": "1.5.0",
                        "model_name": "SliderStyleModel",
                        "state": {
                            "description_width": ""
                        }
                    },
                    "5709c2128d3f4a74aecb0e6c0aa92526": {
                        "model_module": "@jupyter-widgets\/base",
                        "model_module_version": "1.2.0",
                        "model_name": "LayoutModel",
                        "state": []
                    },
                    "5b58160305934dfaba4700993a988765": {
                        "model_module": "@jupyter-widgets\/controls",
                        "model_module_version": "1.5.0",
                        "model_name": "SliderStyleModel",
                        "state": {
                            "description_width": ""
                        }
                    },
                    "5c6b25d187e141f0abb4837dc0b6afab": {
                        "model_module": "@jupyter-widgets\/base",
                        "model_module_version": "1.2.0",
                        "model_name": "LayoutModel",
                        "state": []
                    },
                    "5d381de3da23490cba45f16dae3e9b80": {
                        "model_module": "@jupyter-widgets\/base",
                        "model_module_version": "1.2.0",
                        "model_name": "LayoutModel",
                        "state": []
                    },
                    "5dfbf2c3ef854f518b503dfa9ae53f04": {
                        "model_module": "@jupyter-widgets\/controls",
                        "model_module_version": "1.5.0",
                        "model_name": "FloatSliderModel",
                        "state": {
                            "description": "c1",
                            "layout": "IPY_MODEL_7bb742f5109e444db8f330ce73bd1a86",
                            "max": 121.34624170612,
                            "orientation": "vertical",
                            "step": 12.134624170612,
                            "style": "IPY_MODEL_c5f02de5ca194b9ea3ae3d7424997306"
                        }
                    },
                    "6f29d6e8df3d4479bbfdb95eef29fa9d": {
                        "model_module": "@jupyter-widgets\/base",
                        "model_module_version": "1.2.0",
                        "model_name": "LayoutModel",
                        "state": []
                    },
                    "71e11767500145e2813046922d17b894": {
                        "model_module": "@jupyter-widgets\/controls",
                        "model_module_version": "1.5.0",
                        "model_name": "VBoxModel",
                        "state": {
                            "_dom_classes": [
                                "widget-interact"
                            ],
                            "children": [
                                "IPY_MODEL_a06d4dbe3de041f8add6a2c968df4588",
                                "IPY_MODEL_5dfbf2c3ef854f518b503dfa9ae53f04",
                                "IPY_MODEL_7827ed5bbd3e4ec9a44b2d6b706b2f55",
                                "IPY_MODEL_4c670b32d73c4c2f9a74ac074396b049"
                            ],
                            "layout": "IPY_MODEL_31013e6ea3f246008281e654d6e616a1"
                        }
                    },
                    "73a10b54119540cb880a3eb04d460b8a": {
                        "model_module": "@jupyter-widgets\/controls",
                        "model_module_version": "1.5.0",
                        "model_name": "SliderStyleModel",
                        "state": {
                            "description_width": ""
                        }
                    },
                    "778e3ec17a154f78a993ddbc4b722525": {
                        "model_module": "@jupyter-widgets\/controls",
                        "model_module_version": "1.5.0",
                        "model_name": "FloatSliderModel",
                        "state": {
                            "description": "c2",
                            "layout": "IPY_MODEL_387d394b82e844849d31b2371d2e80ba",
                            "max": 54.50644792702,
                            "orientation": "vertical",
                            "step": 5.450644792702,
                            "style": "IPY_MODEL_238d4382d31743f6b96f7aaa56def3f5",
                            "value": 54.50644792702
                        }
                    },
                    "7827ed5bbd3e4ec9a44b2d6b706b2f55": {
                        "model_module": "@jupyter-widgets\/controls",
                        "model_module_version": "1.5.0",
                        "model_name": "FloatSliderModel",
                        "state": {
                            "description": "c2",
                            "layout": "IPY_MODEL_949127e675c84e94a629d455ccd120f5",
                            "max": 54.506265524711,
                            "orientation": "vertical",
                            "step": 5.4506265524711,
                            "style": "IPY_MODEL_ffb6e0fe78204cdb99ae1f8268735f30",
                            "value": 54.506265524711
                        }
                    },
                    "7bb742f5109e444db8f330ce73bd1a86": {
                        "model_module": "@jupyter-widgets\/base",
                        "model_module_version": "1.2.0",
                        "model_name": "LayoutModel",
                        "state": []
                    },
                    "81301b61f158445a8ec4528e772e8406": {
                        "model_module": "@jupyter-widgets\/base",
                        "model_module_version": "1.2.0",
                        "model_name": "LayoutModel",
                        "state": []
                    },
                    "8343c10ee0e24a7694d0773e5a576f03": {
                        "model_module": "@jupyter-widgets\/controls",
                        "model_module_version": "1.5.0",
                        "model_name": "FloatSliderModel",
                        "state": {
                            "description": "c0",
                            "layout": "IPY_MODEL_3bbfe818c03c4204a5376020c515f32a",
                            "max": 0,
                            "min": -1003.9612292993,
                            "orientation": "vertical",
                            "step": 100.39612292993,
                            "style": "IPY_MODEL_2ddac5e4488545b1bfff27930dff283c",
                            "value": -1003.9612292993
                        }
                    },
                    "84cc0f66193747c488374e0e133728d3": {
                        "model_module": "@jupyter-widgets\/controls",
                        "model_module_version": "1.5.0",
                        "model_name": "SliderStyleModel",
                        "state": {
                            "description_width": ""
                        }
                    },
                    "85ed4a29501b4784b71ecd1ded078096": {
                        "model_module": "@jupyter-widgets\/base",
                        "model_module_version": "1.2.0",
                        "model_name": "LayoutModel",
                        "state": []
                    },
                    "869c7757919c4d87b7a8ba9ab0a7e5ba": {
                        "model_module": "@jupyter-widgets\/base",
                        "model_module_version": "1.2.0",
                        "model_name": "LayoutModel",
                        "state": []
                    },
                    "8c36dc631dfe4fa1a2c397d3673e0e8c": {
                        "model_module": "@jupyter-widgets\/base",
                        "model_module_version": "1.2.0",
                        "model_name": "LayoutModel",
                        "state": []
                    },
                    "8ff97c1c9f9548b7a04aa520c4b73b7c": {
                        "model_module": "@jupyter-widgets\/base",
                        "model_module_version": "1.2.0",
                        "model_name": "LayoutModel",
                        "state": []
                    },
                    "91d25838bc024bc48443002ec3f810aa": {
                        "model_module": "@jupyter-widgets\/controls",
                        "model_module_version": "1.5.0",
                        "model_name": "VBoxModel",
                        "state": {
                            "_dom_classes": [
                                "widget-interact"
                            ],
                            "children": [
                                "IPY_MODEL_263292baa7034093abefd30e3301b8f3",
                                "IPY_MODEL_3c4c2773e82c402f9b5e39a98285defc",
                                "IPY_MODEL_2b6a136bd2bc4dd4ac0d892a9a52e8be",
                                "IPY_MODEL_e13dddebea544ceda07fa9cf9234805b"
                            ],
                            "layout": "IPY_MODEL_af49f67082b743988aca683bc5db8303"
                        }
                    },
                    "949127e675c84e94a629d455ccd120f5": {
                        "model_module": "@jupyter-widgets\/base",
                        "model_module_version": "1.2.0",
                        "model_name": "LayoutModel",
                        "state": []
                    },
                    "9548383d0f1f40058c2128a1a5467291": {
                        "model_module": "@jupyter-widgets\/base",
                        "model_module_version": "1.2.0",
                        "model_name": "LayoutModel",
                        "state": []
                    },
                    "96250c55746f4930874376ed557b8f5e": {
                        "model_module": "@jupyter-widgets\/controls",
                        "model_module_version": "1.5.0",
                        "model_name": "VBoxModel",
                        "state": {
                            "_dom_classes": [
                                "widget-interact"
                            ],
                            "children": [
                                "IPY_MODEL_eb975af95d13483595bf12a337f78a00",
                                "IPY_MODEL_b76101dc9c8c4bbd8344a26f81d2a54f",
                                "IPY_MODEL_9c6f63fa40e34bf49ba8a5a7aafc1475",
                                "IPY_MODEL_3e2651ab3d0f46f2a6f890ecccd6b3b5"
                            ],
                            "layout": "IPY_MODEL_3246b0ee39d249e1ac2f173668bb1ed6"
                        }
                    },
                    "9c6f63fa40e34bf49ba8a5a7aafc1475": {
                        "model_module": "@jupyter-widgets\/controls",
                        "model_module_version": "1.5.0",
                        "model_name": "FloatSliderModel",
                        "state": {
                            "description": "c2",
                            "layout": "IPY_MODEL_a288181557ba489684a7cd15f4d6e402",
                            "max": 0,
                            "min": -0.00047228030578522,
                            "orientation": "vertical",
                            "step": 4.7228030578522e-5,
                            "style": "IPY_MODEL_00e88908508346bc8e244906f5b21945",
                            "value": -0.00038
                        }
                    },
                    "a06d4dbe3de041f8add6a2c968df4588": {
                        "model_module": "@jupyter-widgets\/controls",
                        "model_module_version": "1.5.0",
                        "model_name": "FloatSliderModel",
                        "state": {
                            "description": "c0",
                            "layout": "IPY_MODEL_5709c2128d3f4a74aecb0e6c0aa92526",
                            "max": 0,
                            "min": -1003.9609677789,
                            "orientation": "vertical",
                            "step": 100.39609677789,
                            "style": "IPY_MODEL_ce5bc8ceb3f3400b91a941875e4ab5e7",
                            "value": -200.79219
                        }
                    },
                    "a0ee473ec2954aa99fa4cc627da4ebf3": {
                        "model_module": "@jupyter-widgets\/base",
                        "model_module_version": "1.2.0",
                        "model_name": "LayoutModel",
                        "state": []
                    },
                    "a0f0da63e931437394b4e7fedf3d22bb": {
                        "model_module": "@jupyter-widgets\/controls",
                        "model_module_version": "1.5.0",
                        "model_name": "VBoxModel",
                        "state": {
                            "_dom_classes": [
                                "widget-interact"
                            ],
                            "children": [
                                "IPY_MODEL_8343c10ee0e24a7694d0773e5a576f03",
                                "IPY_MODEL_2a164b88c3094a0b92ef1c714f1d14c2",
                                "IPY_MODEL_778e3ec17a154f78a993ddbc4b722525",
                                "IPY_MODEL_13dad8ca64a24b03a0d3d45c6bc50859"
                            ],
                            "layout": "IPY_MODEL_cde960a42cd24b659a2b246e9c854044"
                        }
                    },
                    "a288181557ba489684a7cd15f4d6e402": {
                        "model_module": "@jupyter-widgets\/base",
                        "model_module_version": "1.2.0",
                        "model_name": "LayoutModel",
                        "state": []
                    },
                    "a4e0a48d31434f6da04afd20deb8a266": {
                        "model_module": "@jupyter-widgets\/controls",
                        "model_module_version": "1.5.0",
                        "model_name": "SliderStyleModel",
                        "state": {
                            "description_width": ""
                        }
                    },
                    "ae8984a5b46c4f4aa5ec5beafdb5a445": {
                        "model_module": "@jupyter-widgets\/controls",
                        "model_module_version": "1.5.0",
                        "model_name": "SliderStyleModel",
                        "state": {
                            "description_width": ""
                        }
                    },
                    "af49f67082b743988aca683bc5db8303": {
                        "model_module": "@jupyter-widgets\/base",
                        "model_module_version": "1.2.0",
                        "model_name": "LayoutModel",
                        "state": []
                    },
                    "b76101dc9c8c4bbd8344a26f81d2a54f": {
                        "model_module": "@jupyter-widgets\/controls",
                        "model_module_version": "1.5.0",
                        "model_name": "FloatSliderModel",
                        "state": {
                            "description": "c1",
                            "layout": "IPY_MODEL_2ca09967c6234cafa7c6ba97f9d9a1e9",
                            "max": 0.0023660860173979,
                            "orientation": "vertical",
                            "step": 0.00023660860173979,
                            "style": "IPY_MODEL_ae8984a5b46c4f4aa5ec5beafdb5a445",
                            "value": 0.00166
                        }
                    },
                    "b97149eb1fc649cd920d6d36eb12ec4c": {
                        "model_module": "@jupyter-widgets\/base",
                        "model_module_version": "1.2.0",
                        "model_name": "LayoutModel",
                        "state": []
                    },
                    "c18c5e7902914a579ca2278f80308ab9": {
                        "model_module": "@jupyter-widgets\/base",
                        "model_module_version": "1.2.0",
                        "model_name": "LayoutModel",
                        "state": []
                    },
                    "c26773fa041a47269ac810c26093d54c": {
                        "model_module": "@jupyter-widgets\/controls",
                        "model_module_version": "1.5.0",
                        "model_name": "HBoxModel",
                        "state": {
                            "children": [
                                "IPY_MODEL_ec0e65b4d5684d18944d226523614953",
                                "IPY_MODEL_efee7ffa247e4f868e1f26da2313bc61",
                                "IPY_MODEL_102b3695bf2b477199d56bc137f5b08d"
                            ],
                            "layout": "IPY_MODEL_e2b9de3ce9bd4061b10082b8b20ab038"
                        }
                    },
                    "c5f02de5ca194b9ea3ae3d7424997306": {
                        "model_module": "@jupyter-widgets\/controls",
                        "model_module_version": "1.5.0",
                        "model_name": "SliderStyleModel",
                        "state": {
                            "description_width": ""
                        }
                    },
                    "cae985aecadc44e49aa6176c02241ae5": {
                        "model_module": "@jupyter-widgets\/base",
                        "model_module_version": "1.2.0",
                        "model_name": "LayoutModel",
                        "state": []
                    },
                    "cd9e9b46219a4dd7bd46c226e96e5e2d": {
                        "model_module": "@jupyter-widgets\/base",
                        "model_module_version": "1.2.0",
                        "model_name": "LayoutModel",
                        "state": []
                    },
                    "cde960a42cd24b659a2b246e9c854044": {
                        "model_module": "@jupyter-widgets\/base",
                        "model_module_version": "1.2.0",
                        "model_name": "LayoutModel",
                        "state": []
                    },
                    "ce5bc8ceb3f3400b91a941875e4ab5e7": {
                        "model_module": "@jupyter-widgets\/controls",
                        "model_module_version": "1.5.0",
                        "model_name": "SliderStyleModel",
                        "state": {
                            "description_width": ""
                        }
                    },
                    "e13dddebea544ceda07fa9cf9234805b": {
                        "model_module": "@jupyter-widgets\/output",
                        "model_module_version": "1.0.0",
                        "model_name": "OutputModel",
                        "state": {
                            "layout": "IPY_MODEL_09443c955da44586b363f955e1ad0cca",
                            "outputs": [
                                {
                                    "data": {
                                        "image\/png": "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\n",
                                        "text\/plain": "<Figure size 432x288 with 1 Axes>"
                                    },
                                    "metadata": {
                                        "needs_background": "light"
                                    },
                                    "output_type": "display_data"
                                }
                            ]
                        }
                    },
                    "e2b9de3ce9bd4061b10082b8b20ab038": {
                        "model_module": "@jupyter-widgets\/base",
                        "model_module_version": "1.2.0",
                        "model_name": "LayoutModel",
                        "state": []
                    },
                    "eb975af95d13483595bf12a337f78a00": {
                        "model_module": "@jupyter-widgets\/controls",
                        "model_module_version": "1.5.0",
                        "model_name": "FloatSliderModel",
                        "state": {
                            "description": "c0",
                            "layout": "IPY_MODEL_5c6b25d187e141f0abb4837dc0b6afab",
                            "max": 0,
                            "min": -0.0011366017262403,
                            "orientation": "vertical",
                            "step": 0.00011366017262403,
                            "style": "IPY_MODEL_84cc0f66193747c488374e0e133728d3",
                            "value": -0.00023
                        }
                    },
                    "ec0e65b4d5684d18944d226523614953": {
                        "model_module": "@jupyter-widgets\/controls",
                        "model_module_version": "1.5.0",
                        "model_name": "FloatSliderModel",
                        "state": {
                            "description": "c0",
                            "layout": "IPY_MODEL_8ff97c1c9f9548b7a04aa520c4b73b7c",
                            "max": 0,
                            "min": -981.18669612498,
                            "orientation": "vertical",
                            "step": 98.118669612498,
                            "style": "IPY_MODEL_51cb549c88b740189f8921167c304fd4",
                            "value": -196.23734
                        }
                    },
                    "efee7ffa247e4f868e1f26da2313bc61": {
                        "model_module": "@jupyter-widgets\/controls",
                        "model_module_version": "1.5.0",
                        "model_name": "FloatSliderModel",
                        "state": {
                            "description": "c1",
                            "layout": "IPY_MODEL_5d381de3da23490cba45f16dae3e9b80",
                            "max": 88.836762904214,
                            "orientation": "vertical",
                            "step": 8.8836762904214,
                            "style": "IPY_MODEL_4273263336e0451c9c9c6879e485f10c"
                        }
                    },
                    "f12ce92b44de42a08720c497e802e830": {
                        "model_module": "@jupyter-widgets\/controls",
                        "model_module_version": "1.5.0",
                        "model_name": "VBoxModel",
                        "state": {
                            "children": [
                                "IPY_MODEL_f8478157c7ab4245924d1eb074589bc6",
                                "IPY_MODEL_3e2651ab3d0f46f2a6f890ecccd6b3b5"
                            ],
                            "layout": "IPY_MODEL_415347878af74c919b1263c99da53ab3"
                        }
                    },
                    "f16578199b694886b0d639f23cd30921": {
                        "model_module": "@jupyter-widgets\/controls",
                        "model_module_version": "1.5.0",
                        "model_name": "SliderStyleModel",
                        "state": {
                            "description_width": ""
                        }
                    },
                    "f280d62f91da4cd183f2e015af1b4d3f": {
                        "model_module": "@jupyter-widgets\/controls",
                        "model_module_version": "1.5.0",
                        "model_name": "VBoxModel",
                        "state": {
                            "children": [
                                "IPY_MODEL_c26773fa041a47269ac810c26093d54c",
                                "IPY_MODEL_33fccf5d4ab24c2994ebb2474e956eaf"
                            ],
                            "layout": "IPY_MODEL_1bf489009b014ef08f4938505f434bf3"
                        }
                    },
                    "f471b905ccf84677ae5f9e0c72f1a8f4": {
                        "model_module": "@jupyter-widgets\/base",
                        "model_module_version": "1.2.0",
                        "model_name": "LayoutModel",
                        "state": []
                    },
                    "f5cd7e7e2aed497db39fce5f66bbabd8": {
                        "model_module": "@jupyter-widgets\/controls",
                        "model_module_version": "1.5.0",
                        "model_name": "VBoxModel",
                        "state": {
                            "children": [
                                "IPY_MODEL_386f7b58b7424e5cb627b1e29f72e01a",
                                "IPY_MODEL_e13dddebea544ceda07fa9cf9234805b"
                            ],
                            "layout": "IPY_MODEL_6f29d6e8df3d4479bbfdb95eef29fa9d"
                        }
                    },
                    "f8478157c7ab4245924d1eb074589bc6": {
                        "model_module": "@jupyter-widgets\/controls",
                        "model_module_version": "1.5.0",
                        "model_name": "HBoxModel",
                        "state": {
                            "children": [
                                "IPY_MODEL_eb975af95d13483595bf12a337f78a00",
                                "IPY_MODEL_b76101dc9c8c4bbd8344a26f81d2a54f",
                                "IPY_MODEL_9c6f63fa40e34bf49ba8a5a7aafc1475"
                            ],
                            "layout": "IPY_MODEL_cd9e9b46219a4dd7bd46c226e96e5e2d"
                        }
                    },
                    "f8dd6a87e9df4078af84b44934e0a309": {
                        "model_module": "@jupyter-widgets\/base",
                        "model_module_version": "1.2.0",
                        "model_name": "LayoutModel",
                        "state": []
                    },
                    "f905f6a8db6140b399c578872ee789cf": {
                        "model_module": "@jupyter-widgets\/base",
                        "model_module_version": "1.2.0",
                        "model_name": "LayoutModel",
                        "state": []
                    },
                    "fad5e94896f5488585b751694079cf81": {
                        "model_module": "@jupyter-widgets\/controls",
                        "model_module_version": "1.5.0",
                        "model_name": "SliderStyleModel",
                        "state": {
                            "description_width": ""
                        }
                    },
                    "ffb6e0fe78204cdb99ae1f8268735f30": {
                        "model_module": "@jupyter-widgets\/controls",
                        "model_module_version": "1.5.0",
                        "model_name": "SliderStyleModel",
                        "state": {
                            "description_width": ""
                        }
                    }
                },
                "version_major": 2,
                "version_minor": 0
            }
        }
    },
    "nbformat": 4,
    "nbformat_minor": 4
}