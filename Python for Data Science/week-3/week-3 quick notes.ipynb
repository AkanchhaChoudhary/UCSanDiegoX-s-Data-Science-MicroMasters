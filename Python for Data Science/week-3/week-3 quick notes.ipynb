{
 "cells": [
  {
   "cell_type": "markdown",
   "id": "1794721b-f478-4dcc-be10-888a3d5dfa18",
   "metadata": {},
   "source": [
    "# <font color= blue> UCSanDiegoX-s-Data-Science-MicroMasters </font> #"
   ]
  },
  {
   "cell_type": "markdown",
   "id": "9f668632-bc23-4073-ba7e-4b4422156930",
   "metadata": {},
   "source": [
    "## 1.1 Course 1-Python For Data Science ##\n",
    "## Some quick notes that I took from  the week-3 lecture of my Micro-Master in Data Science by UC san diego."
   ]
  },
  {
   "cell_type": "markdown",
   "id": "a218b080-f11f-4f5a-95e4-ee1aa7a47e50",
   "metadata": {},
   "source": [
    "NUMPY: One of the trickier things to manage when working with matrices and vectors is making sure their dimensions align properly. Numpy actually takes a lot of that work out of the process by supporting something called broadcasting which makes the process easier and the code easier to read. using Numpy's arrays can be 10 times faster than Python's lists. To enable the speed, Numpy arrays are fixed in size unlike lists which can change in size."
   ]
  },
  {
   "cell_type": "markdown",
   "id": "e497ec89-2846-4ffa-a061-7713c8f6232a",
   "metadata": {},
   "source": [
    "* Accessing values from ndarray using indexes\n",
    "* Rank in ndarrays\n",
    "* Using built-in function to create ndarrays with different shapes and initial values\n",
    "* Rank one ndarrays are simply a single dimensional array or a vector. Ndarrays are mutable.\n",
    "* Boolean Indexing is use to access and permute relevant data in ndarrays.\n",
    "* how to perform dot and inner products on matrices and vectors,\n",
    "* how to sum elements in the ndarray,\n",
    "* how to use element-wise functions\n",
    "* and get the transfers of a matrix,\n",
    "* how to use random number generation\n",
    "* and how to merge data sets,\n",
    "* how to use the ware function, and more.\n",
    "* Broadcasting rules in Numpy: when operating on two arrays numpy compares their shapes element-wise. It starts with the trailing dmensions and works its way forward. Two       dimension are compatible when 1) they are equal ,or 2) one of them is 1.\n",
    "* ogrid is a compact method of creating a multidimensional ndarray operations in single lines.\n",
    "* Pandas builds up NumPy. it uniquely enables ingestion and manipulation of heterogeneous data types in an intuitive fashion. Pandas also enables combining large data sets   using merge and join. Pandas library handles time-series data effectively via native methods it provides to ingest, transform, and analyze time-series data.\n"
   ]
  },
  {
   "cell_type": "code",
   "execution_count": null,
   "id": "3ddc0346-5402-45ef-877a-38b8389d1970",
   "metadata": {},
   "outputs": [],
   "source": []
  }
 ],
 "metadata": {
  "kernelspec": {
   "display_name": "Python 3 (ipykernel)",
   "language": "python",
   "name": "python3"
  },
  "language_info": {
   "codemirror_mode": {
    "name": "ipython",
    "version": 3
   },
   "file_extension": ".py",
   "mimetype": "text/x-python",
   "name": "python",
   "nbconvert_exporter": "python",
   "pygments_lexer": "ipython3",
   "version": "3.10.12"
  }
 },
 "nbformat": 4,
 "nbformat_minor": 5
}
