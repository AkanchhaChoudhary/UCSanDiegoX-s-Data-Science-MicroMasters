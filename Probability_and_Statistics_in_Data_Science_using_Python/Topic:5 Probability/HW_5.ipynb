{
 "cells": [
  {
   "cell_type": "markdown",
   "metadata": {
    "nbgrader": {
     "grade": false,
     "locked": false,
     "solution": false
    }
   },
   "source": [
    "<font size=\"4\" style=\"color:red;\"> **IMPORTANT: ** When submitting this homework notebook, please modify only the cells that start with:</font>\n",
    "\n",
    "```python\n",
    "# modify this cell\n",
    "```\n"
   ]
  },
  {
   "cell_type": "markdown",
   "metadata": {
    "nbgrader": {
     "grade": false,
     "locked": false,
     "solution": false
    }
   },
   "source": [
    "# Different Dice\n",
    "\n",
    "\n",
    "So far we mostly considered standard 6-faced dice. The following problems explore dice with different number of faces. "
   ]
  },
  {
   "cell_type": "code",
   "execution_count": 1,
   "metadata": {
    "nbgrader": {
     "grade": false,
     "locked": false,
     "solution": false
    }
   },
   "outputs": [
    {
     "name": "stdout",
     "output_type": "stream",
     "text": [
      "%pylab is deprecated, use %matplotlib inline and import the required libraries.\n",
      "Populating the interactive namespace from numpy and matplotlib\n"
     ]
    }
   ],
   "source": [
    "import numpy as np\n",
    "%pylab inline"
   ]
  },
  {
   "cell_type": "markdown",
   "metadata": {
    "nbgrader": {
     "grade": false,
     "locked": false,
     "solution": false
    }
   },
   "source": [
    "## Problem 1"
   ]
  },
  {
   "cell_type": "markdown",
   "metadata": {
    "nbgrader": {
     "grade": false,
     "locked": false,
     "solution": false
    }
   },
   "source": [
    "Suppose that a 6-sided die is rolled $n$ times. Let $X_i$ be the value of the top face at the $i$th roll,\n",
    "and let $X\\triangleq\\max_{1\\le i\\le n} X_i$ be the highest value observed. For example, if $n=3$ and the three\n",
    "rolls are 4, 1, and 4, then $X_1=4, X_2=1, X_3=4$ and $X=4$. \n",
    "\n",
    "To find the distribution of $X$, observe first that $X\\le x$ iff $X_i\\le x$ for all $1\\le i\\le n$,\n",
    "hence $P(X\\le x)=(x/6)^n$. It follows that $P(X=x)=P(X\\le x)-P(X\\le x-1)=(x/6)^n-((x-1)/6)^n$.\n",
    "For example, $P(X=1)=(1/6)^n$, and $P(X=2)=(1/3)^n-(1/6)^n$.\n",
    "\n",
    "In this problem we assume that each of the $n$ dice has a potentially different number of faces, denoted $f_i$,\n",
    "and ask you to write a function **largest_face** that determines the probability $P(x)$ that the highest top face observed is $x$. **largest_face** takes a vector $\\boldsymbol f$ of positive integers, interpreted as the number of faces of each of the dice, and a value $x$ and returns $P(x)$. For example, if $\\boldsymbol f=[2, 5, 7]$, then three dice are rolled, and $P(1)=(1/2)\\cdot(1/5)\\cdot(1/7)$ as all dice must turn up 1, while $P(7)=1/7$ as the third die must turn up 7. In addition, $P(2) = (2/2)\\cdot(2/5)\\cdot(2/7) - (1/2)\\cdot(1/5)\\cdot(1/7)$, which is the probability that all the three dices should be at most 2, while at least one of them is 2 (we minus the all 1 case).\n",
    "\n",
    "In all, the function `largest_face(f, x_max)` asks you to roll a list of dice provided by `f`, and to calculate the probability that the largest number among the outcomes is `x_max`.\n",
    "\n",
    "<font  style=\"color:blue\">* **Sample run** *</font>\n",
    "```python\n",
    "print(largest_face([2,5,8],8))\n",
    "print(largest_face([2], 1))\n",
    "largest_face( [3,4], 2)\n",
    "print(largest_face([2, 5, 7, 3], 3))\n",
    "```\n",
    "\n",
    "\n",
    "<font  style=\"color:magenta\">* **Expected Output** *</font>\n",
    "```\n",
    "0.125\n",
    "0.5\n",
    "0.25\n",
    "0.180952380952\n",
    "```"
   ]
  },
  {
   "cell_type": "code",
   "execution_count": 11,
   "metadata": {
    "scrolled": true
   },
   "outputs": [
    {
     "name": "stdout",
     "output_type": "stream",
     "text": [
      "0.10714285714285714\n"
     ]
    }
   ],
   "source": [
    "# modify this cell\n",
    "\n",
    "#def largest_face(f, x_max):\n",
    "    # inputs: f is a list of integers and x_max is an integer\n",
    "    # output: a variable of type 'float'\n",
    "    \n",
    "    #\n",
    "    # YOUR CODE HERE\n",
    "    \n",
    "    #return np.prod([x_max/float(n) for n in f if x_max <= n]) - np.prod([(x_max - 1) / float(n) for n in f if x_max <= n])\n",
    "    \n",
    "def largest_face(f,x_max):\n",
    "    f.sort(reverse=True)\n",
    "    px1=1\n",
    "    px2=1\n",
    "    for fi in f:\n",
    "         if x_max<(fi+1):\n",
    "           px1=px1*(x_max/fi) #P(X<=x)\n",
    "           px2=px2*((x_max-1)/fi) #P(X<=(x-1))\n",
    "         else:\n",
    "             break\n",
    "    px=px1-px2 #P(X=x)\n",
    "    return px\n",
    " \n",
    "print(largest_face([7,4],2))  "
   ]
  },
  {
   "cell_type": "code",
   "execution_count": 7,
   "metadata": {
    "nbgrader": {
     "grade": true,
     "grade_id": "ex_1",
     "locked": true,
     "points": "5",
     "solution": false
    }
   },
   "outputs": [],
   "source": [
    "# Check Function\n",
    "\n",
    "assert abs( largest_face([5],3) - 0.19999999999999996 ) < 10**-5\n",
    "assert abs( largest_face( [11,5,4], 5) - 0.16363636363636364  ) < 10**-5\n",
    "assert abs( largest_face(range(1,10), 3) - 0.011348104056437391 ) < 10**-5 \n",
    "\n",
    "\n",
    "#\n",
    "# AUTOGRADER TEST - DO NOT REMOVE\n",
    "#\n"
   ]
  },
  {
   "cell_type": "markdown",
   "metadata": {
    "collapsed": true,
    "jupyter": {
     "outputs_hidden": true
    },
    "nbgrader": {
     "grade": false,
     "locked": false,
     "solution": false
    }
   },
   "source": [
    "## Problem 2"
   ]
  },
  {
   "cell_type": "markdown",
   "metadata": {
    "nbgrader": {
     "grade": false,
     "locked": false,
     "solution": false
    }
   },
   "source": [
    "Write a function **face_sum** that takes a vector $\\boldsymbol f$ that as in the previous problem represents the number of faces of each die,  and a positive integer $s$, and returns the probability that the sum of the top faces observed is $s$. For example, if $\\boldsymbol f=[3, 4, 5]$ and $s\\le 2$ or $s\\ge 13$, **face_sum** returns 0, and if $s=3$ or $s=12$, it returns $(1/3)\\cdot(1/4)\\cdot(1/5)=1/60$.\n",
    "\n",
    "Hint: The **constrained-composition** function you wrote for an earlier probelm may prove handy. \n",
    "\n",
    "<font  style=\"color:blue\"> * **Sample run** *</font>\n",
    "```python\n",
    "print(face_sum([3, 4, 5], 13))\n",
    "print(face_sum([2,2],3))\n",
    "print(face_sum([3, 4, 5], 7))\n",
    "```\n",
    "\n",
    "\n",
    "<font  style=\"color:magenta\"> * **Expected Output** *</font>\n",
    "```\n",
    "0.0\n",
    "0.5\n",
    "0.18333333\n",
    "```"
   ]
  },
  {
   "cell_type": "markdown",
   "metadata": {
    "nbgrader": {
     "grade": false,
     "locked": false,
     "solution": false
    }
   },
   "source": [
    "### Helper Code\n",
    "\n",
    "Below is a correct implementation of **constrained_composition**. Call this function in your implementation of **face_sum**."
   ]
  },
  {
   "cell_type": "code",
   "execution_count": 12,
   "metadata": {
    "nbgrader": {
     "grade": false,
     "locked": false,
     "solution": false
    }
   },
   "outputs": [
    {
     "name": "stdout",
     "output_type": "stream",
     "text": [
      "0.0\n",
      "0.5\n",
      "0.18333333333333332\n",
      "0.15625\n"
     ]
    }
   ],
   "source": [
    "#def constrained_compositions(n, m):\n",
    "    # inputs: n is of type 'int' and m is a list of integers\n",
    "    # output: a set of tuples\n",
    "    \n",
    "  #  k = len(m)\n",
    "   # parts = set()\n",
    "   # if k == n:\n",
    "       # if 1 <= min(m):\n",
    "           # parts.add((1,)*n)\n",
    "   # if k == 1:\n",
    "        #if n <= m[0]:\n",
    "           # parts.add((n,))\n",
    "    #else:\n",
    "        #for x in range(1, min(n-k+2,m[0]+1)):\n",
    "            #for y in constrained_compositions(n-x, m[1:]):\n",
    "               # parts.add((x,)+y)\n",
    "   # return parts\n",
    "\n",
    "def constrained_compositions(n, m):\n",
    "        # inputs: n is of type 'int' and m is a list of integers\n",
    "        # output: a set of tuples\n",
    "        k = len(m)\n",
    "        parts = set()\n",
    "        if k == n:\n",
    "                if 1 <= min(m):\n",
    "                        parts.add((1,)*n)\n",
    "        if k == 1:\n",
    "                if n <= m[0]:\n",
    "                        parts.add((n,))\n",
    "        else:\n",
    "                for x in range(1, min(n-k+2,m[0]+1)):\n",
    "                        for y in constrained_compositions(n-x, m[1:]):\n",
    "                                parts.add((x,)+y)\n",
    "        return parts\n",
    "\n",
    "\n",
    "def face_sum(dices, reqdSum):\n",
    "        evenPossibilities = constrained_compositions(reqdSum, dices)\n",
    "        allPossibilites = functools.reduce(lambda x, y: x*y, dices)\n",
    "        return len(evenPossibilities) / allPossibilites\n",
    "\n",
    "print(face_sum([3, 4, 5], 13))\n",
    "print(face_sum([2, 2], 3))\n",
    "print(face_sum([3, 4, 5], 7))\n",
    "print(face_sum([2, 4, 4, 6], 10))  # 0.15625 Correct Answer\n"
   ]
  },
  {
   "cell_type": "markdown",
   "metadata": {
    "nbgrader": {
     "grade": false,
     "locked": false,
     "solution": false
    }
   },
   "source": [
    "### exercise:"
   ]
  },
  {
   "cell_type": "code",
   "execution_count": 5,
   "metadata": {},
   "outputs": [
    {
     "ename": "SyntaxError",
     "evalue": "incomplete input (1321123816.py, line 9)",
     "output_type": "error",
     "traceback": [
      "\u001b[0;36m  Cell \u001b[0;32mIn[5], line 9\u001b[0;36m\u001b[0m\n\u001b[0;31m    \u001b[0m\n\u001b[0m    ^\u001b[0m\n\u001b[0;31mSyntaxError\u001b[0m\u001b[0;31m:\u001b[0m incomplete input\n"
     ]
    }
   ],
   "source": [
    "# modify this cell\n",
    "\n",
    "def face_sum(m, s):\n",
    "    # inputs: m is list of integers and s is an integer\n",
    "    # output: a variable of type 'float'\n",
    "    \n",
    "    #\n",
    "    # YOUR CODE HERE\n",
    "    #"
   ]
  },
  {
   "cell_type": "code",
   "execution_count": null,
   "metadata": {
    "nbgrader": {
     "grade": true,
     "grade_id": "ex_2",
     "locked": true,
     "points": "5",
     "solution": false
    }
   },
   "outputs": [],
   "source": [
    "# Check Function\n",
    "assert abs( face_sum([2, 2],2) - 0.25  ) < 10**-5\n",
    "assert abs( face_sum([2, 2],10) - 0.0  ) < 10**-5\n",
    "assert abs( face_sum(range(1, 10),20) - 0.03037092151675485  ) < 10**-5\n",
    "\n",
    "#\n",
    "# AUTOGRADER TEST - DO NOT REMOVE\n",
    "#\n"
   ]
  },
  {
   "cell_type": "code",
   "execution_count": null,
   "metadata": {
    "nbgrader": {
     "grade": false,
     "locked": false,
     "solution": false
    }
   },
   "outputs": [],
   "source": [
    "\n",
    "\n",
    "\n",
    "\n",
    "\n",
    "\n"
   ]
  }
 ],
 "metadata": {
  "kernelspec": {
   "display_name": "Python 3 (ipykernel)",
   "language": "python",
   "name": "python3"
  },
  "language_info": {
   "codemirror_mode": {
    "name": "ipython",
    "version": 3
   },
   "file_extension": ".py",
   "mimetype": "text/x-python",
   "name": "python",
   "nbconvert_exporter": "python",
   "pygments_lexer": "ipython3",
   "version": "3.10.12"
  },
  "toc": {
   "colors": {
    "hover_highlight": "#DAA520",
    "navigate_num": "#000000",
    "navigate_text": "#333333",
    "running_highlight": "#FF0000",
    "selected_highlight": "#FFD700",
    "sidebar_border": "#EEEEEE",
    "wrapper_background": "#FFFFFF"
   },
   "moveMenuLeft": true,
   "nav_menu": {
    "height": "48px",
    "width": "252px"
   },
   "navigate_menu": true,
   "number_sections": true,
   "sideBar": true,
   "threshold": 4,
   "toc_cell": false,
   "toc_section_display": "block",
   "toc_window_display": false,
   "widenNotebook": false
  }
 },
 "nbformat": 4,
 "nbformat_minor": 4
}
