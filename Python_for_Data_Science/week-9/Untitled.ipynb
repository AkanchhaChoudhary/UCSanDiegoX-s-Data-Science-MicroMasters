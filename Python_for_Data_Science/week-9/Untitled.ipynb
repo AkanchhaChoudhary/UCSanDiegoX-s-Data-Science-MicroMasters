{
 "cells": [
  {
   "cell_type": "code",
   "execution_count": 3,
   "id": "5d04c435-7f11-4cce-bdc0-35fb3655460f",
   "metadata": {},
   "outputs": [],
   "source": [
    "import numpy as np\n",
    "import pandas as pd\n",
    "import matplotlib.pyplot as plt\n",
    "import seaborn as sns"
   ]
  },
  {
   "cell_type": "code",
   "execution_count": 4,
   "id": "f2d324d7-271b-4e27-a699-1de69b2839a6",
   "metadata": {},
   "outputs": [],
   "source": [
    "path = '/home/akanchha/Desktop/Micro_Masters/UCSanDiegoX-s-Data-Science-MicroMasters/Python_for_Data_Science/week-9/Churn_Modelling.csv'"
   ]
  },
  {
   "cell_type": "code",
   "execution_count": 5,
   "id": "8733ed30-0bd0-4b0c-99cf-ae1cc46fc141",
   "metadata": {},
   "outputs": [],
   "source": [
    "data = pd.read_csv(path)"
   ]
  },
  {
   "cell_type": "code",
   "execution_count": 6,
   "id": "b4531cea-7a4e-4a6d-b0d8-ae52dcb7be65",
   "metadata": {},
   "outputs": [
    {
     "data": {
      "text/html": [
       "<div>\n",
       "<style scoped>\n",
       "    .dataframe tbody tr th:only-of-type {\n",
       "        vertical-align: middle;\n",
       "    }\n",
       "\n",
       "    .dataframe tbody tr th {\n",
       "        vertical-align: top;\n",
       "    }\n",
       "\n",
       "    .dataframe thead th {\n",
       "        text-align: right;\n",
       "    }\n",
       "</style>\n",
       "<table border=\"1\" class=\"dataframe\">\n",
       "  <thead>\n",
       "    <tr style=\"text-align: right;\">\n",
       "      <th></th>\n",
       "      <th>RowNumber</th>\n",
       "      <th>CustomerId</th>\n",
       "      <th>Surname</th>\n",
       "      <th>CreditScore</th>\n",
       "      <th>Geography</th>\n",
       "      <th>Gender</th>\n",
       "      <th>Age</th>\n",
       "      <th>Tenure</th>\n",
       "      <th>Balance</th>\n",
       "      <th>NumOfProducts</th>\n",
       "      <th>HasCrCard</th>\n",
       "      <th>IsActiveMember</th>\n",
       "      <th>EstimatedSalary</th>\n",
       "      <th>Exited</th>\n",
       "    </tr>\n",
       "  </thead>\n",
       "  <tbody>\n",
       "    <tr>\n",
       "      <th>0</th>\n",
       "      <td>1</td>\n",
       "      <td>15634602</td>\n",
       "      <td>Hargrave</td>\n",
       "      <td>619</td>\n",
       "      <td>France</td>\n",
       "      <td>Female</td>\n",
       "      <td>42</td>\n",
       "      <td>2</td>\n",
       "      <td>0.00</td>\n",
       "      <td>1</td>\n",
       "      <td>1</td>\n",
       "      <td>1</td>\n",
       "      <td>101348.88</td>\n",
       "      <td>1</td>\n",
       "    </tr>\n",
       "    <tr>\n",
       "      <th>1</th>\n",
       "      <td>2</td>\n",
       "      <td>15647311</td>\n",
       "      <td>Hill</td>\n",
       "      <td>608</td>\n",
       "      <td>Spain</td>\n",
       "      <td>Female</td>\n",
       "      <td>41</td>\n",
       "      <td>1</td>\n",
       "      <td>83807.86</td>\n",
       "      <td>1</td>\n",
       "      <td>0</td>\n",
       "      <td>1</td>\n",
       "      <td>112542.58</td>\n",
       "      <td>0</td>\n",
       "    </tr>\n",
       "    <tr>\n",
       "      <th>2</th>\n",
       "      <td>3</td>\n",
       "      <td>15619304</td>\n",
       "      <td>Onio</td>\n",
       "      <td>502</td>\n",
       "      <td>France</td>\n",
       "      <td>Female</td>\n",
       "      <td>42</td>\n",
       "      <td>8</td>\n",
       "      <td>159660.80</td>\n",
       "      <td>3</td>\n",
       "      <td>1</td>\n",
       "      <td>0</td>\n",
       "      <td>113931.57</td>\n",
       "      <td>1</td>\n",
       "    </tr>\n",
       "    <tr>\n",
       "      <th>3</th>\n",
       "      <td>4</td>\n",
       "      <td>15701354</td>\n",
       "      <td>Boni</td>\n",
       "      <td>699</td>\n",
       "      <td>France</td>\n",
       "      <td>Female</td>\n",
       "      <td>39</td>\n",
       "      <td>1</td>\n",
       "      <td>0.00</td>\n",
       "      <td>2</td>\n",
       "      <td>0</td>\n",
       "      <td>0</td>\n",
       "      <td>93826.63</td>\n",
       "      <td>0</td>\n",
       "    </tr>\n",
       "    <tr>\n",
       "      <th>4</th>\n",
       "      <td>5</td>\n",
       "      <td>15737888</td>\n",
       "      <td>Mitchell</td>\n",
       "      <td>850</td>\n",
       "      <td>Spain</td>\n",
       "      <td>Female</td>\n",
       "      <td>43</td>\n",
       "      <td>2</td>\n",
       "      <td>125510.82</td>\n",
       "      <td>1</td>\n",
       "      <td>1</td>\n",
       "      <td>1</td>\n",
       "      <td>79084.10</td>\n",
       "      <td>0</td>\n",
       "    </tr>\n",
       "  </tbody>\n",
       "</table>\n",
       "</div>"
      ],
      "text/plain": [
       "   RowNumber  CustomerId   Surname  CreditScore Geography  Gender  Age  \\\n",
       "0          1    15634602  Hargrave          619    France  Female   42   \n",
       "1          2    15647311      Hill          608     Spain  Female   41   \n",
       "2          3    15619304      Onio          502    France  Female   42   \n",
       "3          4    15701354      Boni          699    France  Female   39   \n",
       "4          5    15737888  Mitchell          850     Spain  Female   43   \n",
       "\n",
       "   Tenure    Balance  NumOfProducts  HasCrCard  IsActiveMember  \\\n",
       "0       2       0.00              1          1               1   \n",
       "1       1   83807.86              1          0               1   \n",
       "2       8  159660.80              3          1               0   \n",
       "3       1       0.00              2          0               0   \n",
       "4       2  125510.82              1          1               1   \n",
       "\n",
       "   EstimatedSalary  Exited  \n",
       "0        101348.88       1  \n",
       "1        112542.58       0  \n",
       "2        113931.57       1  \n",
       "3         93826.63       0  \n",
       "4         79084.10       0  "
      ]
     },
     "execution_count": 6,
     "metadata": {},
     "output_type": "execute_result"
    }
   ],
   "source": [
    "data.head()"
   ]
  },
  {
   "cell_type": "code",
   "execution_count": 7,
   "id": "ca47da03-de0c-4625-b8bb-2263135ed1da",
   "metadata": {},
   "outputs": [
    {
     "data": {
      "text/html": [
       "<div>\n",
       "<style scoped>\n",
       "    .dataframe tbody tr th:only-of-type {\n",
       "        vertical-align: middle;\n",
       "    }\n",
       "\n",
       "    .dataframe tbody tr th {\n",
       "        vertical-align: top;\n",
       "    }\n",
       "\n",
       "    .dataframe thead th {\n",
       "        text-align: right;\n",
       "    }\n",
       "</style>\n",
       "<table border=\"1\" class=\"dataframe\">\n",
       "  <thead>\n",
       "    <tr style=\"text-align: right;\">\n",
       "      <th></th>\n",
       "      <th>RowNumber</th>\n",
       "      <th>CustomerId</th>\n",
       "      <th>CreditScore</th>\n",
       "      <th>Age</th>\n",
       "      <th>Tenure</th>\n",
       "      <th>Balance</th>\n",
       "      <th>NumOfProducts</th>\n",
       "      <th>HasCrCard</th>\n",
       "      <th>IsActiveMember</th>\n",
       "      <th>EstimatedSalary</th>\n",
       "      <th>Exited</th>\n",
       "    </tr>\n",
       "  </thead>\n",
       "  <tbody>\n",
       "    <tr>\n",
       "      <th>RowNumber</th>\n",
       "      <td>1.000000</td>\n",
       "      <td>0.004202</td>\n",
       "      <td>0.005840</td>\n",
       "      <td>0.000783</td>\n",
       "      <td>-0.006495</td>\n",
       "      <td>-0.009067</td>\n",
       "      <td>0.007246</td>\n",
       "      <td>0.000599</td>\n",
       "      <td>0.012044</td>\n",
       "      <td>-0.005988</td>\n",
       "      <td>-0.016571</td>\n",
       "    </tr>\n",
       "    <tr>\n",
       "      <th>CustomerId</th>\n",
       "      <td>0.004202</td>\n",
       "      <td>1.000000</td>\n",
       "      <td>0.005308</td>\n",
       "      <td>0.009497</td>\n",
       "      <td>-0.014883</td>\n",
       "      <td>-0.012419</td>\n",
       "      <td>0.016972</td>\n",
       "      <td>-0.014025</td>\n",
       "      <td>0.001665</td>\n",
       "      <td>0.015271</td>\n",
       "      <td>-0.006248</td>\n",
       "    </tr>\n",
       "    <tr>\n",
       "      <th>CreditScore</th>\n",
       "      <td>0.005840</td>\n",
       "      <td>0.005308</td>\n",
       "      <td>1.000000</td>\n",
       "      <td>-0.003965</td>\n",
       "      <td>0.000842</td>\n",
       "      <td>0.006268</td>\n",
       "      <td>0.012238</td>\n",
       "      <td>-0.005458</td>\n",
       "      <td>0.025651</td>\n",
       "      <td>-0.001384</td>\n",
       "      <td>-0.027094</td>\n",
       "    </tr>\n",
       "    <tr>\n",
       "      <th>Age</th>\n",
       "      <td>0.000783</td>\n",
       "      <td>0.009497</td>\n",
       "      <td>-0.003965</td>\n",
       "      <td>1.000000</td>\n",
       "      <td>-0.009997</td>\n",
       "      <td>0.028308</td>\n",
       "      <td>-0.030680</td>\n",
       "      <td>-0.011721</td>\n",
       "      <td>0.085472</td>\n",
       "      <td>-0.007201</td>\n",
       "      <td>0.285323</td>\n",
       "    </tr>\n",
       "    <tr>\n",
       "      <th>Tenure</th>\n",
       "      <td>-0.006495</td>\n",
       "      <td>-0.014883</td>\n",
       "      <td>0.000842</td>\n",
       "      <td>-0.009997</td>\n",
       "      <td>1.000000</td>\n",
       "      <td>-0.012254</td>\n",
       "      <td>0.013444</td>\n",
       "      <td>0.022583</td>\n",
       "      <td>-0.028362</td>\n",
       "      <td>0.007784</td>\n",
       "      <td>-0.014001</td>\n",
       "    </tr>\n",
       "    <tr>\n",
       "      <th>Balance</th>\n",
       "      <td>-0.009067</td>\n",
       "      <td>-0.012419</td>\n",
       "      <td>0.006268</td>\n",
       "      <td>0.028308</td>\n",
       "      <td>-0.012254</td>\n",
       "      <td>1.000000</td>\n",
       "      <td>-0.304180</td>\n",
       "      <td>-0.014858</td>\n",
       "      <td>-0.010084</td>\n",
       "      <td>0.012797</td>\n",
       "      <td>0.118533</td>\n",
       "    </tr>\n",
       "    <tr>\n",
       "      <th>NumOfProducts</th>\n",
       "      <td>0.007246</td>\n",
       "      <td>0.016972</td>\n",
       "      <td>0.012238</td>\n",
       "      <td>-0.030680</td>\n",
       "      <td>0.013444</td>\n",
       "      <td>-0.304180</td>\n",
       "      <td>1.000000</td>\n",
       "      <td>0.003183</td>\n",
       "      <td>0.009612</td>\n",
       "      <td>0.014204</td>\n",
       "      <td>-0.047820</td>\n",
       "    </tr>\n",
       "    <tr>\n",
       "      <th>HasCrCard</th>\n",
       "      <td>0.000599</td>\n",
       "      <td>-0.014025</td>\n",
       "      <td>-0.005458</td>\n",
       "      <td>-0.011721</td>\n",
       "      <td>0.022583</td>\n",
       "      <td>-0.014858</td>\n",
       "      <td>0.003183</td>\n",
       "      <td>1.000000</td>\n",
       "      <td>-0.011866</td>\n",
       "      <td>-0.009933</td>\n",
       "      <td>-0.007138</td>\n",
       "    </tr>\n",
       "    <tr>\n",
       "      <th>IsActiveMember</th>\n",
       "      <td>0.012044</td>\n",
       "      <td>0.001665</td>\n",
       "      <td>0.025651</td>\n",
       "      <td>0.085472</td>\n",
       "      <td>-0.028362</td>\n",
       "      <td>-0.010084</td>\n",
       "      <td>0.009612</td>\n",
       "      <td>-0.011866</td>\n",
       "      <td>1.000000</td>\n",
       "      <td>-0.011421</td>\n",
       "      <td>-0.156128</td>\n",
       "    </tr>\n",
       "    <tr>\n",
       "      <th>EstimatedSalary</th>\n",
       "      <td>-0.005988</td>\n",
       "      <td>0.015271</td>\n",
       "      <td>-0.001384</td>\n",
       "      <td>-0.007201</td>\n",
       "      <td>0.007784</td>\n",
       "      <td>0.012797</td>\n",
       "      <td>0.014204</td>\n",
       "      <td>-0.009933</td>\n",
       "      <td>-0.011421</td>\n",
       "      <td>1.000000</td>\n",
       "      <td>0.012097</td>\n",
       "    </tr>\n",
       "    <tr>\n",
       "      <th>Exited</th>\n",
       "      <td>-0.016571</td>\n",
       "      <td>-0.006248</td>\n",
       "      <td>-0.027094</td>\n",
       "      <td>0.285323</td>\n",
       "      <td>-0.014001</td>\n",
       "      <td>0.118533</td>\n",
       "      <td>-0.047820</td>\n",
       "      <td>-0.007138</td>\n",
       "      <td>-0.156128</td>\n",
       "      <td>0.012097</td>\n",
       "      <td>1.000000</td>\n",
       "    </tr>\n",
       "  </tbody>\n",
       "</table>\n",
       "</div>"
      ],
      "text/plain": [
       "                 RowNumber  CustomerId  CreditScore       Age    Tenure  \\\n",
       "RowNumber         1.000000    0.004202     0.005840  0.000783 -0.006495   \n",
       "CustomerId        0.004202    1.000000     0.005308  0.009497 -0.014883   \n",
       "CreditScore       0.005840    0.005308     1.000000 -0.003965  0.000842   \n",
       "Age               0.000783    0.009497    -0.003965  1.000000 -0.009997   \n",
       "Tenure           -0.006495   -0.014883     0.000842 -0.009997  1.000000   \n",
       "Balance          -0.009067   -0.012419     0.006268  0.028308 -0.012254   \n",
       "NumOfProducts     0.007246    0.016972     0.012238 -0.030680  0.013444   \n",
       "HasCrCard         0.000599   -0.014025    -0.005458 -0.011721  0.022583   \n",
       "IsActiveMember    0.012044    0.001665     0.025651  0.085472 -0.028362   \n",
       "EstimatedSalary  -0.005988    0.015271    -0.001384 -0.007201  0.007784   \n",
       "Exited           -0.016571   -0.006248    -0.027094  0.285323 -0.014001   \n",
       "\n",
       "                  Balance  NumOfProducts  HasCrCard  IsActiveMember  \\\n",
       "RowNumber       -0.009067       0.007246   0.000599        0.012044   \n",
       "CustomerId      -0.012419       0.016972  -0.014025        0.001665   \n",
       "CreditScore      0.006268       0.012238  -0.005458        0.025651   \n",
       "Age              0.028308      -0.030680  -0.011721        0.085472   \n",
       "Tenure          -0.012254       0.013444   0.022583       -0.028362   \n",
       "Balance          1.000000      -0.304180  -0.014858       -0.010084   \n",
       "NumOfProducts   -0.304180       1.000000   0.003183        0.009612   \n",
       "HasCrCard       -0.014858       0.003183   1.000000       -0.011866   \n",
       "IsActiveMember  -0.010084       0.009612  -0.011866        1.000000   \n",
       "EstimatedSalary  0.012797       0.014204  -0.009933       -0.011421   \n",
       "Exited           0.118533      -0.047820  -0.007138       -0.156128   \n",
       "\n",
       "                 EstimatedSalary    Exited  \n",
       "RowNumber              -0.005988 -0.016571  \n",
       "CustomerId              0.015271 -0.006248  \n",
       "CreditScore            -0.001384 -0.027094  \n",
       "Age                    -0.007201  0.285323  \n",
       "Tenure                  0.007784 -0.014001  \n",
       "Balance                 0.012797  0.118533  \n",
       "NumOfProducts           0.014204 -0.047820  \n",
       "HasCrCard              -0.009933 -0.007138  \n",
       "IsActiveMember         -0.011421 -0.156128  \n",
       "EstimatedSalary         1.000000  0.012097  \n",
       "Exited                  0.012097  1.000000  "
      ]
     },
     "execution_count": 7,
     "metadata": {},
     "output_type": "execute_result"
    }
   ],
   "source": [
    "#df['profession']=df['profession'].astype('category').cat.codes\n",
    "#df['media']=df['media'].astype('category').cat.codes\n",
    "#df.corr()\n",
    "data.corr(numeric_only=True)"
   ]
  },
  {
   "cell_type": "code",
   "execution_count": 8,
   "id": "ebda4519-f45d-41a2-b21e-1f65e4c070d3",
   "metadata": {},
   "outputs": [
    {
     "data": {
      "text/plain": [
       "RowNumber            int64\n",
       "CustomerId           int64\n",
       "Surname             object\n",
       "CreditScore          int64\n",
       "Geography           object\n",
       "Gender              object\n",
       "Age                  int64\n",
       "Tenure               int64\n",
       "Balance            float64\n",
       "NumOfProducts        int64\n",
       "HasCrCard            int64\n",
       "IsActiveMember       int64\n",
       "EstimatedSalary    float64\n",
       "Exited               int64\n",
       "dtype: object"
      ]
     },
     "execution_count": 8,
     "metadata": {},
     "output_type": "execute_result"
    }
   ],
   "source": [
    "data.dtypes"
   ]
  },
  {
   "cell_type": "code",
   "execution_count": 236,
   "id": "513abb76-0a6e-4397-b11c-dd36a3b09e4d",
   "metadata": {},
   "outputs": [
    {
     "data": {
      "text/plain": [
       "(10000, 14)"
      ]
     },
     "execution_count": 236,
     "metadata": {},
     "output_type": "execute_result"
    }
   ],
   "source": [
    "data.shape"
   ]
  },
  {
   "cell_type": "code",
   "execution_count": 237,
   "id": "d0a6fef9-dbf5-4afa-b3fe-676551013560",
   "metadata": {},
   "outputs": [
    {
     "data": {
      "text/html": [
       "<div>\n",
       "<style scoped>\n",
       "    .dataframe tbody tr th:only-of-type {\n",
       "        vertical-align: middle;\n",
       "    }\n",
       "\n",
       "    .dataframe tbody tr th {\n",
       "        vertical-align: top;\n",
       "    }\n",
       "\n",
       "    .dataframe thead th {\n",
       "        text-align: right;\n",
       "    }\n",
       "</style>\n",
       "<table border=\"1\" class=\"dataframe\">\n",
       "  <thead>\n",
       "    <tr style=\"text-align: right;\">\n",
       "      <th></th>\n",
       "      <th>RowNumber</th>\n",
       "      <th>CustomerId</th>\n",
       "      <th>CreditScore</th>\n",
       "      <th>Age</th>\n",
       "      <th>Tenure</th>\n",
       "      <th>Balance</th>\n",
       "      <th>NumOfProducts</th>\n",
       "      <th>HasCrCard</th>\n",
       "      <th>IsActiveMember</th>\n",
       "      <th>EstimatedSalary</th>\n",
       "      <th>Exited</th>\n",
       "    </tr>\n",
       "  </thead>\n",
       "  <tbody>\n",
       "    <tr>\n",
       "      <th>count</th>\n",
       "      <td>10000.00000</td>\n",
       "      <td>1.000000e+04</td>\n",
       "      <td>10000.000000</td>\n",
       "      <td>10000.000000</td>\n",
       "      <td>10000.000000</td>\n",
       "      <td>10000.000000</td>\n",
       "      <td>10000.000000</td>\n",
       "      <td>10000.00000</td>\n",
       "      <td>10000.000000</td>\n",
       "      <td>10000.000000</td>\n",
       "      <td>10000.000000</td>\n",
       "    </tr>\n",
       "    <tr>\n",
       "      <th>mean</th>\n",
       "      <td>5000.50000</td>\n",
       "      <td>1.569094e+07</td>\n",
       "      <td>650.528800</td>\n",
       "      <td>38.921800</td>\n",
       "      <td>5.012800</td>\n",
       "      <td>76485.889288</td>\n",
       "      <td>1.530200</td>\n",
       "      <td>0.70550</td>\n",
       "      <td>0.515100</td>\n",
       "      <td>100090.239881</td>\n",
       "      <td>0.203700</td>\n",
       "    </tr>\n",
       "    <tr>\n",
       "      <th>std</th>\n",
       "      <td>2886.89568</td>\n",
       "      <td>7.193619e+04</td>\n",
       "      <td>96.653299</td>\n",
       "      <td>10.487806</td>\n",
       "      <td>2.892174</td>\n",
       "      <td>62397.405202</td>\n",
       "      <td>0.581654</td>\n",
       "      <td>0.45584</td>\n",
       "      <td>0.499797</td>\n",
       "      <td>57510.492818</td>\n",
       "      <td>0.402769</td>\n",
       "    </tr>\n",
       "    <tr>\n",
       "      <th>min</th>\n",
       "      <td>1.00000</td>\n",
       "      <td>1.556570e+07</td>\n",
       "      <td>350.000000</td>\n",
       "      <td>18.000000</td>\n",
       "      <td>0.000000</td>\n",
       "      <td>0.000000</td>\n",
       "      <td>1.000000</td>\n",
       "      <td>0.00000</td>\n",
       "      <td>0.000000</td>\n",
       "      <td>11.580000</td>\n",
       "      <td>0.000000</td>\n",
       "    </tr>\n",
       "    <tr>\n",
       "      <th>25%</th>\n",
       "      <td>2500.75000</td>\n",
       "      <td>1.562853e+07</td>\n",
       "      <td>584.000000</td>\n",
       "      <td>32.000000</td>\n",
       "      <td>3.000000</td>\n",
       "      <td>0.000000</td>\n",
       "      <td>1.000000</td>\n",
       "      <td>0.00000</td>\n",
       "      <td>0.000000</td>\n",
       "      <td>51002.110000</td>\n",
       "      <td>0.000000</td>\n",
       "    </tr>\n",
       "    <tr>\n",
       "      <th>50%</th>\n",
       "      <td>5000.50000</td>\n",
       "      <td>1.569074e+07</td>\n",
       "      <td>652.000000</td>\n",
       "      <td>37.000000</td>\n",
       "      <td>5.000000</td>\n",
       "      <td>97198.540000</td>\n",
       "      <td>1.000000</td>\n",
       "      <td>1.00000</td>\n",
       "      <td>1.000000</td>\n",
       "      <td>100193.915000</td>\n",
       "      <td>0.000000</td>\n",
       "    </tr>\n",
       "    <tr>\n",
       "      <th>75%</th>\n",
       "      <td>7500.25000</td>\n",
       "      <td>1.575323e+07</td>\n",
       "      <td>718.000000</td>\n",
       "      <td>44.000000</td>\n",
       "      <td>7.000000</td>\n",
       "      <td>127644.240000</td>\n",
       "      <td>2.000000</td>\n",
       "      <td>1.00000</td>\n",
       "      <td>1.000000</td>\n",
       "      <td>149388.247500</td>\n",
       "      <td>0.000000</td>\n",
       "    </tr>\n",
       "    <tr>\n",
       "      <th>max</th>\n",
       "      <td>10000.00000</td>\n",
       "      <td>1.581569e+07</td>\n",
       "      <td>850.000000</td>\n",
       "      <td>92.000000</td>\n",
       "      <td>10.000000</td>\n",
       "      <td>250898.090000</td>\n",
       "      <td>4.000000</td>\n",
       "      <td>1.00000</td>\n",
       "      <td>1.000000</td>\n",
       "      <td>199992.480000</td>\n",
       "      <td>1.000000</td>\n",
       "    </tr>\n",
       "  </tbody>\n",
       "</table>\n",
       "</div>"
      ],
      "text/plain": [
       "         RowNumber    CustomerId   CreditScore           Age        Tenure  \\\n",
       "count  10000.00000  1.000000e+04  10000.000000  10000.000000  10000.000000   \n",
       "mean    5000.50000  1.569094e+07    650.528800     38.921800      5.012800   \n",
       "std     2886.89568  7.193619e+04     96.653299     10.487806      2.892174   \n",
       "min        1.00000  1.556570e+07    350.000000     18.000000      0.000000   \n",
       "25%     2500.75000  1.562853e+07    584.000000     32.000000      3.000000   \n",
       "50%     5000.50000  1.569074e+07    652.000000     37.000000      5.000000   \n",
       "75%     7500.25000  1.575323e+07    718.000000     44.000000      7.000000   \n",
       "max    10000.00000  1.581569e+07    850.000000     92.000000     10.000000   \n",
       "\n",
       "             Balance  NumOfProducts    HasCrCard  IsActiveMember  \\\n",
       "count   10000.000000   10000.000000  10000.00000    10000.000000   \n",
       "mean    76485.889288       1.530200      0.70550        0.515100   \n",
       "std     62397.405202       0.581654      0.45584        0.499797   \n",
       "min         0.000000       1.000000      0.00000        0.000000   \n",
       "25%         0.000000       1.000000      0.00000        0.000000   \n",
       "50%     97198.540000       1.000000      1.00000        1.000000   \n",
       "75%    127644.240000       2.000000      1.00000        1.000000   \n",
       "max    250898.090000       4.000000      1.00000        1.000000   \n",
       "\n",
       "       EstimatedSalary        Exited  \n",
       "count     10000.000000  10000.000000  \n",
       "mean     100090.239881      0.203700  \n",
       "std       57510.492818      0.402769  \n",
       "min          11.580000      0.000000  \n",
       "25%       51002.110000      0.000000  \n",
       "50%      100193.915000      0.000000  \n",
       "75%      149388.247500      0.000000  \n",
       "max      199992.480000      1.000000  "
      ]
     },
     "execution_count": 237,
     "metadata": {},
     "output_type": "execute_result"
    }
   ],
   "source": [
    "data.describe()"
   ]
  },
  {
   "cell_type": "code",
   "execution_count": 238,
   "id": "dd5609bf-bc1e-40d5-ba95-0b83f46a7955",
   "metadata": {},
   "outputs": [
    {
     "data": {
      "text/plain": [
       "RangeIndex(start=0, stop=10000, step=1)"
      ]
     },
     "execution_count": 238,
     "metadata": {},
     "output_type": "execute_result"
    }
   ],
   "source": [
    "data.index"
   ]
  },
  {
   "cell_type": "code",
   "execution_count": 239,
   "id": "32fae25c-0493-48af-925e-f3d744551367",
   "metadata": {
    "scrolled": true
   },
   "outputs": [
    {
     "data": {
      "text/html": [
       "<div>\n",
       "<style scoped>\n",
       "    .dataframe tbody tr th:only-of-type {\n",
       "        vertical-align: middle;\n",
       "    }\n",
       "\n",
       "    .dataframe tbody tr th {\n",
       "        vertical-align: top;\n",
       "    }\n",
       "\n",
       "    .dataframe thead th {\n",
       "        text-align: right;\n",
       "    }\n",
       "</style>\n",
       "<table border=\"1\" class=\"dataframe\">\n",
       "  <thead>\n",
       "    <tr style=\"text-align: right;\">\n",
       "      <th></th>\n",
       "      <th>RowNumber</th>\n",
       "      <th>CustomerId</th>\n",
       "      <th>Surname</th>\n",
       "      <th>CreditScore</th>\n",
       "      <th>Geography</th>\n",
       "      <th>Gender</th>\n",
       "      <th>Age</th>\n",
       "      <th>Tenure</th>\n",
       "      <th>Balance</th>\n",
       "      <th>NumOfProducts</th>\n",
       "      <th>HasCrCard</th>\n",
       "      <th>IsActiveMember</th>\n",
       "      <th>EstimatedSalary</th>\n",
       "      <th>Exited</th>\n",
       "    </tr>\n",
       "  </thead>\n",
       "  <tbody>\n",
       "    <tr>\n",
       "      <th>0</th>\n",
       "      <td>False</td>\n",
       "      <td>False</td>\n",
       "      <td>False</td>\n",
       "      <td>False</td>\n",
       "      <td>False</td>\n",
       "      <td>False</td>\n",
       "      <td>False</td>\n",
       "      <td>False</td>\n",
       "      <td>False</td>\n",
       "      <td>False</td>\n",
       "      <td>False</td>\n",
       "      <td>False</td>\n",
       "      <td>False</td>\n",
       "      <td>False</td>\n",
       "    </tr>\n",
       "    <tr>\n",
       "      <th>1</th>\n",
       "      <td>False</td>\n",
       "      <td>False</td>\n",
       "      <td>False</td>\n",
       "      <td>False</td>\n",
       "      <td>False</td>\n",
       "      <td>False</td>\n",
       "      <td>False</td>\n",
       "      <td>False</td>\n",
       "      <td>False</td>\n",
       "      <td>False</td>\n",
       "      <td>False</td>\n",
       "      <td>False</td>\n",
       "      <td>False</td>\n",
       "      <td>False</td>\n",
       "    </tr>\n",
       "    <tr>\n",
       "      <th>2</th>\n",
       "      <td>False</td>\n",
       "      <td>False</td>\n",
       "      <td>False</td>\n",
       "      <td>False</td>\n",
       "      <td>False</td>\n",
       "      <td>False</td>\n",
       "      <td>False</td>\n",
       "      <td>False</td>\n",
       "      <td>False</td>\n",
       "      <td>False</td>\n",
       "      <td>False</td>\n",
       "      <td>False</td>\n",
       "      <td>False</td>\n",
       "      <td>False</td>\n",
       "    </tr>\n",
       "    <tr>\n",
       "      <th>3</th>\n",
       "      <td>False</td>\n",
       "      <td>False</td>\n",
       "      <td>False</td>\n",
       "      <td>False</td>\n",
       "      <td>False</td>\n",
       "      <td>False</td>\n",
       "      <td>False</td>\n",
       "      <td>False</td>\n",
       "      <td>False</td>\n",
       "      <td>False</td>\n",
       "      <td>False</td>\n",
       "      <td>False</td>\n",
       "      <td>False</td>\n",
       "      <td>False</td>\n",
       "    </tr>\n",
       "    <tr>\n",
       "      <th>4</th>\n",
       "      <td>False</td>\n",
       "      <td>False</td>\n",
       "      <td>False</td>\n",
       "      <td>False</td>\n",
       "      <td>False</td>\n",
       "      <td>False</td>\n",
       "      <td>False</td>\n",
       "      <td>False</td>\n",
       "      <td>False</td>\n",
       "      <td>False</td>\n",
       "      <td>False</td>\n",
       "      <td>False</td>\n",
       "      <td>False</td>\n",
       "      <td>False</td>\n",
       "    </tr>\n",
       "    <tr>\n",
       "      <th>...</th>\n",
       "      <td>...</td>\n",
       "      <td>...</td>\n",
       "      <td>...</td>\n",
       "      <td>...</td>\n",
       "      <td>...</td>\n",
       "      <td>...</td>\n",
       "      <td>...</td>\n",
       "      <td>...</td>\n",
       "      <td>...</td>\n",
       "      <td>...</td>\n",
       "      <td>...</td>\n",
       "      <td>...</td>\n",
       "      <td>...</td>\n",
       "      <td>...</td>\n",
       "    </tr>\n",
       "    <tr>\n",
       "      <th>9995</th>\n",
       "      <td>False</td>\n",
       "      <td>False</td>\n",
       "      <td>False</td>\n",
       "      <td>False</td>\n",
       "      <td>False</td>\n",
       "      <td>False</td>\n",
       "      <td>False</td>\n",
       "      <td>False</td>\n",
       "      <td>False</td>\n",
       "      <td>False</td>\n",
       "      <td>False</td>\n",
       "      <td>False</td>\n",
       "      <td>False</td>\n",
       "      <td>False</td>\n",
       "    </tr>\n",
       "    <tr>\n",
       "      <th>9996</th>\n",
       "      <td>False</td>\n",
       "      <td>False</td>\n",
       "      <td>False</td>\n",
       "      <td>False</td>\n",
       "      <td>False</td>\n",
       "      <td>False</td>\n",
       "      <td>False</td>\n",
       "      <td>False</td>\n",
       "      <td>False</td>\n",
       "      <td>False</td>\n",
       "      <td>False</td>\n",
       "      <td>False</td>\n",
       "      <td>False</td>\n",
       "      <td>False</td>\n",
       "    </tr>\n",
       "    <tr>\n",
       "      <th>9997</th>\n",
       "      <td>False</td>\n",
       "      <td>False</td>\n",
       "      <td>False</td>\n",
       "      <td>False</td>\n",
       "      <td>False</td>\n",
       "      <td>False</td>\n",
       "      <td>False</td>\n",
       "      <td>False</td>\n",
       "      <td>False</td>\n",
       "      <td>False</td>\n",
       "      <td>False</td>\n",
       "      <td>False</td>\n",
       "      <td>False</td>\n",
       "      <td>False</td>\n",
       "    </tr>\n",
       "    <tr>\n",
       "      <th>9998</th>\n",
       "      <td>False</td>\n",
       "      <td>False</td>\n",
       "      <td>False</td>\n",
       "      <td>False</td>\n",
       "      <td>False</td>\n",
       "      <td>False</td>\n",
       "      <td>False</td>\n",
       "      <td>False</td>\n",
       "      <td>False</td>\n",
       "      <td>False</td>\n",
       "      <td>False</td>\n",
       "      <td>False</td>\n",
       "      <td>False</td>\n",
       "      <td>False</td>\n",
       "    </tr>\n",
       "    <tr>\n",
       "      <th>9999</th>\n",
       "      <td>False</td>\n",
       "      <td>False</td>\n",
       "      <td>False</td>\n",
       "      <td>False</td>\n",
       "      <td>False</td>\n",
       "      <td>False</td>\n",
       "      <td>False</td>\n",
       "      <td>False</td>\n",
       "      <td>False</td>\n",
       "      <td>False</td>\n",
       "      <td>False</td>\n",
       "      <td>False</td>\n",
       "      <td>False</td>\n",
       "      <td>False</td>\n",
       "    </tr>\n",
       "  </tbody>\n",
       "</table>\n",
       "<p>10000 rows × 14 columns</p>\n",
       "</div>"
      ],
      "text/plain": [
       "      RowNumber  CustomerId  Surname  CreditScore  Geography  Gender    Age  \\\n",
       "0         False       False    False        False      False   False  False   \n",
       "1         False       False    False        False      False   False  False   \n",
       "2         False       False    False        False      False   False  False   \n",
       "3         False       False    False        False      False   False  False   \n",
       "4         False       False    False        False      False   False  False   \n",
       "...         ...         ...      ...          ...        ...     ...    ...   \n",
       "9995      False       False    False        False      False   False  False   \n",
       "9996      False       False    False        False      False   False  False   \n",
       "9997      False       False    False        False      False   False  False   \n",
       "9998      False       False    False        False      False   False  False   \n",
       "9999      False       False    False        False      False   False  False   \n",
       "\n",
       "      Tenure  Balance  NumOfProducts  HasCrCard  IsActiveMember  \\\n",
       "0      False    False          False      False           False   \n",
       "1      False    False          False      False           False   \n",
       "2      False    False          False      False           False   \n",
       "3      False    False          False      False           False   \n",
       "4      False    False          False      False           False   \n",
       "...      ...      ...            ...        ...             ...   \n",
       "9995   False    False          False      False           False   \n",
       "9996   False    False          False      False           False   \n",
       "9997   False    False          False      False           False   \n",
       "9998   False    False          False      False           False   \n",
       "9999   False    False          False      False           False   \n",
       "\n",
       "      EstimatedSalary  Exited  \n",
       "0               False   False  \n",
       "1               False   False  \n",
       "2               False   False  \n",
       "3               False   False  \n",
       "4               False   False  \n",
       "...               ...     ...  \n",
       "9995            False   False  \n",
       "9996            False   False  \n",
       "9997            False   False  \n",
       "9998            False   False  \n",
       "9999            False   False  \n",
       "\n",
       "[10000 rows x 14 columns]"
      ]
     },
     "execution_count": 239,
     "metadata": {},
     "output_type": "execute_result"
    }
   ],
   "source": [
    "data.isnull()"
   ]
  },
  {
   "cell_type": "code",
   "execution_count": 240,
   "id": "86cfc452-7240-46f5-941d-38f3ab56c13e",
   "metadata": {},
   "outputs": [
    {
     "data": {
      "text/plain": [
       "RowNumber          0\n",
       "CustomerId         0\n",
       "Surname            0\n",
       "CreditScore        0\n",
       "Geography          0\n",
       "Gender             0\n",
       "Age                0\n",
       "Tenure             0\n",
       "Balance            0\n",
       "NumOfProducts      0\n",
       "HasCrCard          0\n",
       "IsActiveMember     0\n",
       "EstimatedSalary    0\n",
       "Exited             0\n",
       "dtype: int64"
      ]
     },
     "execution_count": 240,
     "metadata": {},
     "output_type": "execute_result"
    }
   ],
   "source": [
    "data.isnull().sum()"
   ]
  },
  {
   "cell_type": "code",
   "execution_count": null,
   "id": "0c84040e-2dfd-466a-b28a-c392a42d273d",
   "metadata": {},
   "outputs": [],
   "source": []
  },
  {
   "cell_type": "code",
   "execution_count": 241,
   "id": "92d7263d-7d55-4302-bc08-684eacf215d5",
   "metadata": {},
   "outputs": [
    {
     "data": {
      "text/plain": [
       "20.369999999999997"
      ]
     },
     "execution_count": 241,
     "metadata": {},
     "output_type": "execute_result"
    }
   ],
   "source": [
    "# lets calculate the distribution of dependent variable which is \"Exited\"\n",
    "\n",
    "(data[data['Exited'] == 1].shape[0] / data.shape[0]) * 100"
   ]
  },
  {
   "cell_type": "markdown",
   "id": "6a1fe1f8-4641-4b3d-a7ad-44e63197f067",
   "metadata": {},
   "source": [
    "So we see in above code cell that around 20% of data means 20 % of customer has churned and this is not an even distribution of datset."
   ]
  },
  {
   "cell_type": "code",
   "execution_count": 242,
   "id": "3c0bdb89-8076-410b-8252-24176dae0b88",
   "metadata": {},
   "outputs": [
    {
     "data": {
      "text/html": [
       "<div>\n",
       "<style scoped>\n",
       "    .dataframe tbody tr th:only-of-type {\n",
       "        vertical-align: middle;\n",
       "    }\n",
       "\n",
       "    .dataframe tbody tr th {\n",
       "        vertical-align: top;\n",
       "    }\n",
       "\n",
       "    .dataframe thead th {\n",
       "        text-align: right;\n",
       "    }\n",
       "</style>\n",
       "<table border=\"1\" class=\"dataframe\">\n",
       "  <thead>\n",
       "    <tr style=\"text-align: right;\">\n",
       "      <th></th>\n",
       "      <th>Exited</th>\n",
       "      <th>count</th>\n",
       "    </tr>\n",
       "  </thead>\n",
       "  <tbody>\n",
       "    <tr>\n",
       "      <th>0</th>\n",
       "      <td>0</td>\n",
       "      <td>7963</td>\n",
       "    </tr>\n",
       "    <tr>\n",
       "      <th>1</th>\n",
       "      <td>1</td>\n",
       "      <td>2037</td>\n",
       "    </tr>\n",
       "  </tbody>\n",
       "</table>\n",
       "</div>"
      ],
      "text/plain": [
       "   Exited  count\n",
       "0       0   7963\n",
       "1       1   2037"
      ]
     },
     "execution_count": 242,
     "metadata": {},
     "output_type": "execute_result"
    }
   ],
   "source": [
    "churn = data['Exited'].value_counts().reset_index()\n",
    "churn.head()"
   ]
  },
  {
   "cell_type": "code",
   "execution_count": 243,
   "id": "ed1b9b80-5044-4c89-a9a9-752125cbbc20",
   "metadata": {},
   "outputs": [
    {
     "data": {
      "text/html": [
       "<div>\n",
       "<style scoped>\n",
       "    .dataframe tbody tr th:only-of-type {\n",
       "        vertical-align: middle;\n",
       "    }\n",
       "\n",
       "    .dataframe tbody tr th {\n",
       "        vertical-align: top;\n",
       "    }\n",
       "\n",
       "    .dataframe thead th {\n",
       "        text-align: right;\n",
       "    }\n",
       "</style>\n",
       "<table border=\"1\" class=\"dataframe\">\n",
       "  <thead>\n",
       "    <tr style=\"text-align: right;\">\n",
       "      <th></th>\n",
       "      <th>index</th>\n",
       "      <th>count</th>\n",
       "    </tr>\n",
       "  </thead>\n",
       "  <tbody>\n",
       "    <tr>\n",
       "      <th>0</th>\n",
       "      <td>0</td>\n",
       "      <td>7963</td>\n",
       "    </tr>\n",
       "    <tr>\n",
       "      <th>1</th>\n",
       "      <td>1</td>\n",
       "      <td>2037</td>\n",
       "    </tr>\n",
       "  </tbody>\n",
       "</table>\n",
       "</div>"
      ],
      "text/plain": [
       "   index  count\n",
       "0      0   7963\n",
       "1      1   2037"
      ]
     },
     "execution_count": 243,
     "metadata": {},
     "output_type": "execute_result"
    }
   ],
   "source": [
    "churn1 = churn.rename(columns={\"Exited\":\"index\"})\n",
    "churn1\n",
    "#churn.rename(columns={\"count\":\"Exited\"})"
   ]
  },
  {
   "cell_type": "code",
   "execution_count": 244,
   "id": "f9c2a5cb-4ff3-4da4-8946-a988eb328edc",
   "metadata": {},
   "outputs": [
    {
     "data": {
      "text/html": [
       "<div>\n",
       "<style scoped>\n",
       "    .dataframe tbody tr th:only-of-type {\n",
       "        vertical-align: middle;\n",
       "    }\n",
       "\n",
       "    .dataframe tbody tr th {\n",
       "        vertical-align: top;\n",
       "    }\n",
       "\n",
       "    .dataframe thead th {\n",
       "        text-align: right;\n",
       "    }\n",
       "</style>\n",
       "<table border=\"1\" class=\"dataframe\">\n",
       "  <thead>\n",
       "    <tr style=\"text-align: right;\">\n",
       "      <th></th>\n",
       "      <th>index</th>\n",
       "      <th>Exited</th>\n",
       "    </tr>\n",
       "  </thead>\n",
       "  <tbody>\n",
       "    <tr>\n",
       "      <th>0</th>\n",
       "      <td>0</td>\n",
       "      <td>7963</td>\n",
       "    </tr>\n",
       "    <tr>\n",
       "      <th>1</th>\n",
       "      <td>1</td>\n",
       "      <td>2037</td>\n",
       "    </tr>\n",
       "  </tbody>\n",
       "</table>\n",
       "</div>"
      ],
      "text/plain": [
       "   index  Exited\n",
       "0      0    7963\n",
       "1      1    2037"
      ]
     },
     "execution_count": 244,
     "metadata": {},
     "output_type": "execute_result"
    }
   ],
   "source": [
    "churn2 = churn1.rename(columns={\"count\":\"Exited\"})\n",
    "churn2"
   ]
  },
  {
   "cell_type": "code",
   "execution_count": 245,
   "id": "cbd88d34-ad5e-4f5d-8d5c-cc0aace918bb",
   "metadata": {
    "scrolled": true
   },
   "outputs": [
    {
     "data": {
      "text/plain": [
       "<Axes: xlabel='index', ylabel='Exited'>"
      ]
     },
     "execution_count": 245,
     "metadata": {},
     "output_type": "execute_result"
    },
    {
     "data": {
      "image/png": "[encoded data removed]",
      "text/plain": [
       "<Figure size 640x480 with 1 Axes>"
      ]
     },
     "metadata": {},
     "output_type": "display_data"
    }
   ],
   "source": [
    "sns.barplot(x = churn2['index'], y = churn2['Exited'])"
   ]
  },
  {
   "cell_type": "code",
   "execution_count": 246,
   "id": "ca8660c0-ecbc-400d-b125-0cd49992879e",
   "metadata": {},
   "outputs": [
    {
     "data": {
      "text/plain": [
       "<Axes: xlabel='Tenure', ylabel='Density'>"
      ]
     },
     "execution_count": 246,
     "metadata": {},
     "output_type": "execute_result"
    },
    {
     "data": {
      "image/png": "[encoded data removed]",
      "text/plain": [
       "<Figure size 800x500 with 1 Axes>"
      ]
     },
     "metadata": {},
     "output_type": "display_data"
    }
   ],
   "source": [
    "plt.figure(figsize=(8,5))\n",
    "sns.kdeplot(x=data['Tenure'],hue = data['Exited'])"
   ]
  },
  {
   "cell_type": "markdown",
   "id": "a9fba151-876a-4f37-8bfb-49d62b6b04f5",
   "metadata": {},
   "source": [
    "As we already performed the correlation between variable in initial code cell and found that \"Tenure\" and \"Exited\" are negatively correlated means less the tenure more the chances of Exit.So company need to increase tenure time to retain customer"
   ]
  },
  {
   "cell_type": "code",
   "execution_count": 247,
   "id": "4b157417-5452-4bf1-8622-e9a84b20ba59",
   "metadata": {},
   "outputs": [
    {
     "data": {
      "text/html": [
       "<div>\n",
       "<style scoped>\n",
       "    .dataframe tbody tr th:only-of-type {\n",
       "        vertical-align: middle;\n",
       "    }\n",
       "\n",
       "    .dataframe tbody tr th {\n",
       "        vertical-align: top;\n",
       "    }\n",
       "\n",
       "    .dataframe thead th {\n",
       "        text-align: right;\n",
       "    }\n",
       "</style>\n",
       "<table border=\"1\" class=\"dataframe\">\n",
       "  <thead>\n",
       "    <tr style=\"text-align: right;\">\n",
       "      <th></th>\n",
       "      <th>RowNumber</th>\n",
       "      <th>CustomerId</th>\n",
       "      <th>Surname</th>\n",
       "      <th>CreditScore</th>\n",
       "      <th>Geography</th>\n",
       "      <th>Gender</th>\n",
       "      <th>Age</th>\n",
       "      <th>Tenure</th>\n",
       "      <th>Balance</th>\n",
       "      <th>NumOfProducts</th>\n",
       "      <th>HasCrCard</th>\n",
       "      <th>IsActiveMember</th>\n",
       "      <th>EstimatedSalary</th>\n",
       "      <th>Exited</th>\n",
       "    </tr>\n",
       "  </thead>\n",
       "  <tbody>\n",
       "    <tr>\n",
       "      <th>0</th>\n",
       "      <td>1</td>\n",
       "      <td>15634602</td>\n",
       "      <td>Hargrave</td>\n",
       "      <td>619</td>\n",
       "      <td>France</td>\n",
       "      <td>Female</td>\n",
       "      <td>42</td>\n",
       "      <td>2</td>\n",
       "      <td>0.00</td>\n",
       "      <td>1</td>\n",
       "      <td>1</td>\n",
       "      <td>1</td>\n",
       "      <td>101348.88</td>\n",
       "      <td>1</td>\n",
       "    </tr>\n",
       "    <tr>\n",
       "      <th>2</th>\n",
       "      <td>3</td>\n",
       "      <td>15619304</td>\n",
       "      <td>Onio</td>\n",
       "      <td>502</td>\n",
       "      <td>France</td>\n",
       "      <td>Female</td>\n",
       "      <td>42</td>\n",
       "      <td>8</td>\n",
       "      <td>159660.80</td>\n",
       "      <td>3</td>\n",
       "      <td>1</td>\n",
       "      <td>0</td>\n",
       "      <td>113931.57</td>\n",
       "      <td>1</td>\n",
       "    </tr>\n",
       "    <tr>\n",
       "      <th>5</th>\n",
       "      <td>6</td>\n",
       "      <td>15574012</td>\n",
       "      <td>Chu</td>\n",
       "      <td>645</td>\n",
       "      <td>Spain</td>\n",
       "      <td>Male</td>\n",
       "      <td>44</td>\n",
       "      <td>8</td>\n",
       "      <td>113755.78</td>\n",
       "      <td>2</td>\n",
       "      <td>1</td>\n",
       "      <td>0</td>\n",
       "      <td>149756.71</td>\n",
       "      <td>1</td>\n",
       "    </tr>\n",
       "    <tr>\n",
       "      <th>7</th>\n",
       "      <td>8</td>\n",
       "      <td>15656148</td>\n",
       "      <td>Obinna</td>\n",
       "      <td>376</td>\n",
       "      <td>Germany</td>\n",
       "      <td>Female</td>\n",
       "      <td>29</td>\n",
       "      <td>4</td>\n",
       "      <td>115046.74</td>\n",
       "      <td>4</td>\n",
       "      <td>1</td>\n",
       "      <td>0</td>\n",
       "      <td>119346.88</td>\n",
       "      <td>1</td>\n",
       "    </tr>\n",
       "    <tr>\n",
       "      <th>16</th>\n",
       "      <td>17</td>\n",
       "      <td>15737452</td>\n",
       "      <td>Romeo</td>\n",
       "      <td>653</td>\n",
       "      <td>Germany</td>\n",
       "      <td>Male</td>\n",
       "      <td>58</td>\n",
       "      <td>1</td>\n",
       "      <td>132602.88</td>\n",
       "      <td>1</td>\n",
       "      <td>1</td>\n",
       "      <td>0</td>\n",
       "      <td>5097.67</td>\n",
       "      <td>1</td>\n",
       "    </tr>\n",
       "  </tbody>\n",
       "</table>\n",
       "</div>"
      ],
      "text/plain": [
       "    RowNumber  CustomerId   Surname  CreditScore Geography  Gender  Age  \\\n",
       "0           1    15634602  Hargrave          619    France  Female   42   \n",
       "2           3    15619304      Onio          502    France  Female   42   \n",
       "5           6    15574012       Chu          645     Spain    Male   44   \n",
       "7           8    15656148    Obinna          376   Germany  Female   29   \n",
       "16         17    15737452     Romeo          653   Germany    Male   58   \n",
       "\n",
       "    Tenure    Balance  NumOfProducts  HasCrCard  IsActiveMember  \\\n",
       "0        2       0.00              1          1               1   \n",
       "2        8  159660.80              3          1               0   \n",
       "5        8  113755.78              2          1               0   \n",
       "7        4  115046.74              4          1               0   \n",
       "16       1  132602.88              1          1               0   \n",
       "\n",
       "    EstimatedSalary  Exited  \n",
       "0         101348.88       1  \n",
       "2         113931.57       1  \n",
       "5         149756.71       1  \n",
       "7         119346.88       1  \n",
       "16          5097.67       1  "
      ]
     },
     "execution_count": 247,
     "metadata": {},
     "output_type": "execute_result"
    }
   ],
   "source": [
    "churning = data[data['Exited'] == 1]\n",
    "churning.head()"
   ]
  },
  {
   "cell_type": "code",
   "execution_count": 248,
   "id": "cc6b7ea5-83a1-444d-924b-a5ba55e9132f",
   "metadata": {},
   "outputs": [
    {
     "data": {
      "text/plain": [
       "(2037, 14)"
      ]
     },
     "execution_count": 248,
     "metadata": {},
     "output_type": "execute_result"
    }
   ],
   "source": [
    "churning.shape"
   ]
  },
  {
   "cell_type": "code",
   "execution_count": 249,
   "id": "23d039cd-6cdb-415c-ad0a-e7a97e2da34b",
   "metadata": {},
   "outputs": [
    {
     "data": {
      "text/plain": [
       "array(['France', 'Spain', 'Germany'], dtype=object)"
      ]
     },
     "execution_count": 249,
     "metadata": {},
     "output_type": "execute_result"
    }
   ],
   "source": [
    "data['Geography'].unique()"
   ]
  },
  {
   "cell_type": "code",
   "execution_count": 250,
   "id": "eadf2466-b16a-4c8c-85b6-1e8de4c107d3",
   "metadata": {},
   "outputs": [],
   "source": [
    "def calculate_ratios(ax):\n",
    "  l = len(ax.patches)\n",
    "  cnt = 0\n",
    "  without_churn = []\n",
    "  with_churn = []\n",
    "  for p in ax.patches:\n",
    "      if cnt < 1/2:\n",
    "          without_churn.append(p.get_height())\n",
    "      else:\n",
    "          with_churn.append(p.get_height())\n",
    "\n",
    "      cnt += 1;\n",
    "      \n",
    "  print(\"without_churn:\" , without_churn)\n",
    "  print(\"with_churn:\" , with_churn)\n",
    "\n",
    "  ratio = []\n",
    "   \n",
    "  for i in range(len(without_churn)):\n",
    "       ratio.append(with_churn[i]/without_churn[i])\n",
    "  print(\"ratio\" ,ratio)\n",
    "    "
   ]
  },
  {
   "cell_type": "code",
   "execution_count": 251,
   "id": "45fc15ee-1722-4296-ba5c-6a8e3d19a365",
   "metadata": {},
   "outputs": [
    {
     "data": {
      "text/plain": [
       "(array([0, 1, 2]),\n",
       " [Text(0, 0, 'France'), Text(1, 0, 'Spain'), Text(2, 0, 'Germany')])"
      ]
     },
     "execution_count": 251,
     "metadata": {},
     "output_type": "execute_result"
    },
    {
     "data": {
      "image/png": "[encoded data removed]",
      "text/plain": [
       "<Figure size 640x480 with 1 Axes>"
      ]
     },
     "metadata": {},
     "output_type": "display_data"
    }
   ],
   "source": [
    "#need to recheck here\n",
    "ax =  sns.countplot(x = data['Geography'], hue = data['Exited'])\n",
    "plt.xticks(rotation = 90)    \n"
   ]
  },
  {
   "cell_type": "code",
   "execution_count": 252,
   "id": "603bb5ca-f0a3-4915-a1d7-fa6818f26e17",
   "metadata": {
    "scrolled": true
   },
   "outputs": [
    {
     "name": "stdout",
     "output_type": "stream",
     "text": [
      "without_churn: [4204.0]\n",
      "with_churn: [2064.0, 1695.0, 810.0, 413.0, 814.0]\n",
      "ratio [0.49096098953377737]\n"
     ]
    }
   ],
   "source": [
    "# need to recheck here\n",
    "calculate_ratios(ax)"
   ]
  },
  {
   "cell_type": "markdown",
   "id": "22755491-fbb5-47dc-902f-8137bfb60285",
   "metadata": {},
   "source": [
    "Above cell shows Germany has bigger ratios"
   ]
  },
  {
   "cell_type": "code",
   "execution_count": 253,
   "id": "71387251-110a-4593-a7c5-9af1d9a3a002",
   "metadata": {},
   "outputs": [
    {
     "data": {
      "image/png": "[encoded data removed]",
      "text/plain": [
       "<Figure size 800x500 with 1 Axes>"
      ]
     },
     "metadata": {},
     "output_type": "display_data"
    }
   ],
   "source": [
    "plt.figure(figsize = (8,5))\n",
    "g =  sns.countplot(x = data['Gender'], hue = data['Exited'])"
   ]
  },
  {
   "cell_type": "code",
   "execution_count": 254,
   "id": "7594b7b0-7b4d-4d5c-8e03-6c6caaed4a05",
   "metadata": {},
   "outputs": [
    {
     "name": "stdout",
     "output_type": "stream",
     "text": [
      "without_churn: [3404.0]\n",
      "with_churn: [4559.0, 1139.0, 898.0]\n",
      "ratio [1.3393066980023502]\n"
     ]
    }
   ],
   "source": [
    "calculate_ratios(g)"
   ]
  },
  {
   "cell_type": "code",
   "execution_count": 255,
   "id": "88966400-7bf2-46a0-b00a-5ddb0d53e35a",
   "metadata": {},
   "outputs": [
    {
     "data": {
      "text/plain": [
       "25.071538630860662"
      ]
     },
     "execution_count": 255,
     "metadata": {},
     "output_type": "execute_result"
    }
   ],
   "source": [
    "(churning[churning['Gender'] == 'Female'].shape[0]/data[data['Gender'] == 'Female'].shape[0])*100"
   ]
  },
  {
   "cell_type": "code",
   "execution_count": 256,
   "id": "7a7a92d5-0cab-4ff4-ada5-9cf6eaeba3e4",
   "metadata": {},
   "outputs": [
    {
     "data": {
      "text/plain": [
       "16.455928165658786"
      ]
     },
     "execution_count": 256,
     "metadata": {},
     "output_type": "execute_result"
    }
   ],
   "source": [
    "(churning[churning['Gender'] == 'Male'].shape[0]/data[data['Gender'] == 'Male'].shape[0])*100"
   ]
  },
  {
   "cell_type": "markdown",
   "id": "32d36332-cf2c-41bf-a1af-ab970e69db2f",
   "metadata": {},
   "source": [
    "so we can see above that female customer are more likely to churn than male."
   ]
  },
  {
   "cell_type": "code",
   "execution_count": 257,
   "id": "7f4fd308-1bab-4526-a1cd-e7fc5281bf29",
   "metadata": {},
   "outputs": [
    {
     "data": {
      "image/png": "[encoded data removed]",
      "text/plain": [
       "<Figure size 640x480 with 1 Axes>"
      ]
     },
     "metadata": {},
     "output_type": "display_data"
    }
   ],
   "source": [
    "dev =  sns.countplot(x = data['Tenure'], hue = data['Exited'])"
   ]
  },
  {
   "cell_type": "markdown",
   "id": "f4b1e540-4afc-4abb-9d54-48c7c0643913",
   "metadata": {},
   "source": [
    "Above distribution shows the customer have churned already within one year and most likely to not churn if retained for longer year"
   ]
  },
  {
   "cell_type": "code",
   "execution_count": 258,
   "id": "7bcdda8e-dc5c-4d78-b89e-6e99b0c03a5a",
   "metadata": {},
   "outputs": [
    {
     "name": "stdout",
     "output_type": "stream",
     "text": [
      "without_churn: [318.0]\n",
      "with_churn: [803.0, 847.0, 796.0, 786.0, 803.0, 771.0, 851.0, 828.0, 771.0, 389.0, 95.0, 232.0, 201.0, 213.0, 203.0, 209.0, 196.0, 177.0, 197.0, 213.0, 101.0]\n",
      "ratio [2.5251572327044025]\n"
     ]
    }
   ],
   "source": [
    "calculate_ratios(dev)"
   ]
  },
  {
   "cell_type": "code",
   "execution_count": 259,
   "id": "603b4e16-180a-49de-a5a0-752ee983ad13",
   "metadata": {},
   "outputs": [
    {
     "data": {
      "text/html": [
       "<div>\n",
       "<style scoped>\n",
       "    .dataframe tbody tr th:only-of-type {\n",
       "        vertical-align: middle;\n",
       "    }\n",
       "\n",
       "    .dataframe tbody tr th {\n",
       "        vertical-align: top;\n",
       "    }\n",
       "\n",
       "    .dataframe thead th {\n",
       "        text-align: right;\n",
       "    }\n",
       "</style>\n",
       "<table border=\"1\" class=\"dataframe\">\n",
       "  <thead>\n",
       "    <tr style=\"text-align: right;\">\n",
       "      <th></th>\n",
       "      <th>HasCrCard</th>\n",
       "      <th>count</th>\n",
       "    </tr>\n",
       "  </thead>\n",
       "  <tbody>\n",
       "    <tr>\n",
       "      <th>0</th>\n",
       "      <td>1</td>\n",
       "      <td>1424</td>\n",
       "    </tr>\n",
       "    <tr>\n",
       "      <th>1</th>\n",
       "      <td>0</td>\n",
       "      <td>613</td>\n",
       "    </tr>\n",
       "  </tbody>\n",
       "</table>\n",
       "</div>"
      ],
      "text/plain": [
       "   HasCrCard  count\n",
       "0          1   1424\n",
       "1          0    613"
      ]
     },
     "execution_count": 259,
     "metadata": {},
     "output_type": "execute_result"
    }
   ],
   "source": [
    "status = churning['HasCrCard'].value_counts().reset_index()\n",
    "status.head()"
   ]
  },
  {
   "cell_type": "code",
   "execution_count": 260,
   "id": "725c126e-d1ca-494a-8fd2-ed18216d45c7",
   "metadata": {},
   "outputs": [
    {
     "data": {
      "text/html": [
       "<div>\n",
       "<style scoped>\n",
       "    .dataframe tbody tr th:only-of-type {\n",
       "        vertical-align: middle;\n",
       "    }\n",
       "\n",
       "    .dataframe tbody tr th {\n",
       "        vertical-align: top;\n",
       "    }\n",
       "\n",
       "    .dataframe thead th {\n",
       "        text-align: right;\n",
       "    }\n",
       "</style>\n",
       "<table border=\"1\" class=\"dataframe\">\n",
       "  <thead>\n",
       "    <tr style=\"text-align: right;\">\n",
       "      <th></th>\n",
       "      <th>index</th>\n",
       "      <th>count</th>\n",
       "    </tr>\n",
       "  </thead>\n",
       "  <tbody>\n",
       "    <tr>\n",
       "      <th>0</th>\n",
       "      <td>1</td>\n",
       "      <td>1424</td>\n",
       "    </tr>\n",
       "    <tr>\n",
       "      <th>1</th>\n",
       "      <td>0</td>\n",
       "      <td>613</td>\n",
       "    </tr>\n",
       "  </tbody>\n",
       "</table>\n",
       "</div>"
      ],
      "text/plain": [
       "   index  count\n",
       "0      1   1424\n",
       "1      0    613"
      ]
     },
     "execution_count": 260,
     "metadata": {},
     "output_type": "execute_result"
    }
   ],
   "source": [
    "status1 = status.rename(columns={\"HasCrCard\":\"index\"})\n",
    "status1"
   ]
  },
  {
   "cell_type": "code",
   "execution_count": 261,
   "id": "53743c1c-23f3-43f4-a1a2-1858647ffd4d",
   "metadata": {},
   "outputs": [
    {
     "data": {
      "text/html": [
       "<div>\n",
       "<style scoped>\n",
       "    .dataframe tbody tr th:only-of-type {\n",
       "        vertical-align: middle;\n",
       "    }\n",
       "\n",
       "    .dataframe tbody tr th {\n",
       "        vertical-align: top;\n",
       "    }\n",
       "\n",
       "    .dataframe thead th {\n",
       "        text-align: right;\n",
       "    }\n",
       "</style>\n",
       "<table border=\"1\" class=\"dataframe\">\n",
       "  <thead>\n",
       "    <tr style=\"text-align: right;\">\n",
       "      <th></th>\n",
       "      <th>index</th>\n",
       "      <th>HasCrCard</th>\n",
       "    </tr>\n",
       "  </thead>\n",
       "  <tbody>\n",
       "    <tr>\n",
       "      <th>0</th>\n",
       "      <td>1</td>\n",
       "      <td>1424</td>\n",
       "    </tr>\n",
       "    <tr>\n",
       "      <th>1</th>\n",
       "      <td>0</td>\n",
       "      <td>613</td>\n",
       "    </tr>\n",
       "  </tbody>\n",
       "</table>\n",
       "</div>"
      ],
      "text/plain": [
       "   index  HasCrCard\n",
       "0      1       1424\n",
       "1      0        613"
      ]
     },
     "execution_count": 261,
     "metadata": {},
     "output_type": "execute_result"
    }
   ],
   "source": [
    "status2 = status1.rename(columns={\"count\":\"HasCrCard\"})\n",
    "status2"
   ]
  },
  {
   "cell_type": "code",
   "execution_count": null,
   "id": "42470de3-8e5e-43cc-ac31-0717cc43d682",
   "metadata": {},
   "outputs": [],
   "source": []
  },
  {
   "cell_type": "code",
   "execution_count": 262,
   "id": "ee2046c6-921f-4fac-8f3e-a405007b9400",
   "metadata": {},
   "outputs": [
    {
     "data": {
      "image/png": "[encoded data removed]",
      "text/plain": [
       "<Figure size 640x480 with 1 Axes>"
      ]
     },
     "metadata": {},
     "output_type": "display_data"
    }
   ],
   "source": [
    "status2 = sns.countplot(x = data['IsActiveMember'], hue = data['Exited'])"
   ]
  },
  {
   "cell_type": "code",
   "execution_count": 263,
   "id": "1460d5f6-9406-4701-ba72-f71b51846e82",
   "metadata": {},
   "outputs": [
    {
     "name": "stdout",
     "output_type": "stream",
     "text": [
      "without_churn: [3547.0]\n",
      "with_churn: [4416.0, 1302.0, 735.0]\n",
      "ratio [1.2449957710741473]\n"
     ]
    }
   ],
   "source": [
    "calculate_ratios(status2)"
   ]
  },
  {
   "cell_type": "markdown",
   "id": "cffb5662-19ce-4e36-bf9b-415dd66ffa9b",
   "metadata": {},
   "source": [
    "From above cell Customers who are more active are less likely to churn"
   ]
  },
  {
   "cell_type": "code",
   "execution_count": 264,
   "id": "bf39287f-14b9-4d30-a076-86a040a5beb0",
   "metadata": {},
   "outputs": [
    {
     "data": {
      "text/plain": [
       "array([1, 3, 2, 4])"
      ]
     },
     "execution_count": 264,
     "metadata": {},
     "output_type": "execute_result"
    }
   ],
   "source": [
    "data['NumOfProducts'].unique()"
   ]
  },
  {
   "cell_type": "code",
   "execution_count": 265,
   "id": "38343a5e-f855-49b0-b0af-fd424f38b28b",
   "metadata": {},
   "outputs": [
    {
     "data": {
      "text/plain": [
       "(array([0, 1, 2, 3]),\n",
       " [Text(0, 0, '1'), Text(1, 0, '2'), Text(2, 0, '3'), Text(3, 0, '4')])"
      ]
     },
     "execution_count": 265,
     "metadata": {},
     "output_type": "execute_result"
    },
    {
     "data": {
      "image/png": "[encoded data removed]",
      "text/plain": [
       "<Figure size 640x480 with 1 Axes>"
      ]
     },
     "metadata": {},
     "output_type": "display_data"
    }
   ],
   "source": [
    "productPref = sns.barplot(x = data['NumOfProducts'] , y = data['IsActiveMember'] , hue =data['Exited'])\n",
    "plt.xticks(rotation = 90)                         "
   ]
  },
  {
   "cell_type": "code",
   "execution_count": 266,
   "id": "30139e74-b648-41c7-97f6-254cf1611672",
   "metadata": {},
   "outputs": [
    {
     "name": "stdout",
     "output_type": "stream",
     "text": [
      "without_churn: [0.5654421768707483]\n",
      "with_churn: [0.5445544554455446, 0.6086956521739131, nan, 0.34421575585521647, 0.39080459770114945, 0.38636363636363635, 0.48333333333333334]\n",
      "ratio [0.9630594917047047]\n"
     ]
    }
   ],
   "source": [
    "calculate_ratios(productPref)"
   ]
  },
  {
   "cell_type": "code",
   "execution_count": 267,
   "id": "04b5fab7-84fc-490d-afa9-0cc7e90a6a5b",
   "metadata": {},
   "outputs": [
    {
     "data": {
      "text/plain": [
       "<Axes: xlabel='NumOfProducts', ylabel='IsActiveMember'>"
      ]
     },
     "execution_count": 267,
     "metadata": {},
     "output_type": "execute_result"
    },
    {
     "data": {
      "image/png": "[encoded data removed]",
      "text/plain": [
       "<Figure size 640x480 with 1 Axes>"
      ]
     },
     "metadata": {},
     "output_type": "display_data"
    }
   ],
   "source": [
    "# representing in line graph for above grpah\n",
    "sns.lineplot(x = data['NumOfProducts'] , y = data['IsActiveMember'] , hue =data['Exited'])"
   ]
  },
  {
   "cell_type": "markdown",
   "id": "fcb8563d-a3c6-4dbd-ba7b-6b2ccc2155d5",
   "metadata": {},
   "source": [
    "Above grpah shows that the customer with more products are less likely to churn so company should focus on improving product value"
   ]
  },
  {
   "cell_type": "code",
   "execution_count": null,
   "id": "969acce1-0718-41c5-8620-7da55c06e9b8",
   "metadata": {},
   "outputs": [],
   "source": []
  },
  {
   "cell_type": "code",
   "execution_count": 269,
   "id": "b71e8a40-3675-42c4-b3e2-93ce32db9ea3",
   "metadata": {},
   "outputs": [
    {
     "data": {
      "text/plain": [
       "<Axes: xlabel='CreditScore', ylabel='Count'>"
      ]
     },
     "execution_count": 269,
     "metadata": {},
     "output_type": "execute_result"
    },
    {
     "data": {
      "image/png": "[encoded data removed]",
      "text/plain": [
       "<Figure size 1500x600 with 1 Axes>"
      ]
     },
     "metadata": {},
     "output_type": "display_data"
    }
   ],
   "source": [
    "plt.figure(figsize = (15,6))\n",
    "sns.histplot(x = data['CreditScore'] , hue = data['Exited'] , bins = 60)"
   ]
  },
  {
   "cell_type": "code",
   "execution_count": 270,
   "id": "a7fc02aa-dce5-4d45-8042-ed492fc5f501",
   "metadata": {},
   "outputs": [
    {
     "data": {
      "text/html": [
       "<div>\n",
       "<style scoped>\n",
       "    .dataframe tbody tr th:only-of-type {\n",
       "        vertical-align: middle;\n",
       "    }\n",
       "\n",
       "    .dataframe tbody tr th {\n",
       "        vertical-align: top;\n",
       "    }\n",
       "\n",
       "    .dataframe thead th {\n",
       "        text-align: right;\n",
       "    }\n",
       "</style>\n",
       "<table border=\"1\" class=\"dataframe\">\n",
       "  <thead>\n",
       "    <tr style=\"text-align: right;\">\n",
       "      <th></th>\n",
       "      <th>Geography</th>\n",
       "      <th>count</th>\n",
       "    </tr>\n",
       "  </thead>\n",
       "  <tbody>\n",
       "    <tr>\n",
       "      <th>0</th>\n",
       "      <td>France</td>\n",
       "      <td>5014</td>\n",
       "    </tr>\n",
       "    <tr>\n",
       "      <th>1</th>\n",
       "      <td>Germany</td>\n",
       "      <td>2509</td>\n",
       "    </tr>\n",
       "    <tr>\n",
       "      <th>2</th>\n",
       "      <td>Spain</td>\n",
       "      <td>2477</td>\n",
       "    </tr>\n",
       "  </tbody>\n",
       "</table>\n",
       "</div>"
      ],
      "text/plain": [
       "  Geography  count\n",
       "0    France   5014\n",
       "1   Germany   2509\n",
       "2     Spain   2477"
      ]
     },
     "execution_count": 270,
     "metadata": {},
     "output_type": "execute_result"
    }
   ],
   "source": [
    "country = data['Geography'].value_counts().reset_index()\n",
    "country"
   ]
  },
  {
   "cell_type": "code",
   "execution_count": 271,
   "id": "2fc21e70-1d06-400f-aecd-1227ed392b24",
   "metadata": {},
   "outputs": [
    {
     "data": {
      "text/html": [
       "<div>\n",
       "<style scoped>\n",
       "    .dataframe tbody tr th:only-of-type {\n",
       "        vertical-align: middle;\n",
       "    }\n",
       "\n",
       "    .dataframe tbody tr th {\n",
       "        vertical-align: top;\n",
       "    }\n",
       "\n",
       "    .dataframe thead th {\n",
       "        text-align: right;\n",
       "    }\n",
       "</style>\n",
       "<table border=\"1\" class=\"dataframe\">\n",
       "  <thead>\n",
       "    <tr style=\"text-align: right;\">\n",
       "      <th></th>\n",
       "      <th>index</th>\n",
       "      <th>count</th>\n",
       "    </tr>\n",
       "  </thead>\n",
       "  <tbody>\n",
       "    <tr>\n",
       "      <th>0</th>\n",
       "      <td>France</td>\n",
       "      <td>5014</td>\n",
       "    </tr>\n",
       "    <tr>\n",
       "      <th>1</th>\n",
       "      <td>Germany</td>\n",
       "      <td>2509</td>\n",
       "    </tr>\n",
       "    <tr>\n",
       "      <th>2</th>\n",
       "      <td>Spain</td>\n",
       "      <td>2477</td>\n",
       "    </tr>\n",
       "  </tbody>\n",
       "</table>\n",
       "</div>"
      ],
      "text/plain": [
       "     index  count\n",
       "0   France   5014\n",
       "1  Germany   2509\n",
       "2    Spain   2477"
      ]
     },
     "execution_count": 271,
     "metadata": {},
     "output_type": "execute_result"
    }
   ],
   "source": [
    "country1 = country.rename(columns={\"Geography\":\"index\"})\n",
    "country1"
   ]
  },
  {
   "cell_type": "code",
   "execution_count": 272,
   "id": "a8cc3170-732f-4372-b442-0cbed476f899",
   "metadata": {},
   "outputs": [
    {
     "data": {
      "text/html": [
       "<div>\n",
       "<style scoped>\n",
       "    .dataframe tbody tr th:only-of-type {\n",
       "        vertical-align: middle;\n",
       "    }\n",
       "\n",
       "    .dataframe tbody tr th {\n",
       "        vertical-align: top;\n",
       "    }\n",
       "\n",
       "    .dataframe thead th {\n",
       "        text-align: right;\n",
       "    }\n",
       "</style>\n",
       "<table border=\"1\" class=\"dataframe\">\n",
       "  <thead>\n",
       "    <tr style=\"text-align: right;\">\n",
       "      <th></th>\n",
       "      <th>index</th>\n",
       "      <th>Geography</th>\n",
       "    </tr>\n",
       "  </thead>\n",
       "  <tbody>\n",
       "    <tr>\n",
       "      <th>0</th>\n",
       "      <td>France</td>\n",
       "      <td>5014</td>\n",
       "    </tr>\n",
       "    <tr>\n",
       "      <th>1</th>\n",
       "      <td>Germany</td>\n",
       "      <td>2509</td>\n",
       "    </tr>\n",
       "    <tr>\n",
       "      <th>2</th>\n",
       "      <td>Spain</td>\n",
       "      <td>2477</td>\n",
       "    </tr>\n",
       "  </tbody>\n",
       "</table>\n",
       "</div>"
      ],
      "text/plain": [
       "     index  Geography\n",
       "0   France       5014\n",
       "1  Germany       2509\n",
       "2    Spain       2477"
      ]
     },
     "execution_count": 272,
     "metadata": {},
     "output_type": "execute_result"
    }
   ],
   "source": [
    "country2 = country1.rename(columns={\"count\":\"Geography\"})\n",
    "country2"
   ]
  },
  {
   "cell_type": "code",
   "execution_count": 273,
   "id": "0ffed09b-aa4d-4163-9ff1-d808e43b4f5f",
   "metadata": {},
   "outputs": [
    {
     "data": {
      "text/plain": [
       "<Axes: xlabel='Geography', ylabel='index'>"
      ]
     },
     "execution_count": 273,
     "metadata": {},
     "output_type": "execute_result"
    },
    {
     "data": {
      "image/png": "[encoded data removed]",
      "text/plain": [
       "<Figure size 640x480 with 1 Axes>"
      ]
     },
     "metadata": {},
     "output_type": "display_data"
    }
   ],
   "source": [
    "sns.barplot(x = country2['Geography'], y = country2['index'])"
   ]
  },
  {
   "cell_type": "markdown",
   "id": "3b064859-db5d-4bc9-9b95-0785d664229c",
   "metadata": {},
   "source": [
    "From above it looks like France has most regular customer means regular customer are less likely to churn"
   ]
  },
  {
   "cell_type": "code",
   "execution_count": null,
   "id": "3dec913a-cc8e-4fcb-8552-397cc15a8d36",
   "metadata": {},
   "outputs": [],
   "source": []
  },
  {
   "cell_type": "code",
   "execution_count": 299,
   "id": "df2cac3b-7595-437e-9135-eae0607cba10",
   "metadata": {},
   "outputs": [
    {
     "ename": "TypeError",
     "evalue": "Could not convert HargraveHillOnioBoniMitchellObinnaKayChinScottHendersonHaoDellucciGerasimovYenMcWilliamsAzikiweMaggardClementsLombardoClarkeOsborneLavineBianchiTylerMartinOkagbueBucchoO'BrienT'ienClarkHammondBrownlessGlauertPisanoPalermoBallardCavenaghReadPostleBuleyLeonardMillsOnyeoruluBeitNdukakuSharpeOsborneHeapColeFuHungDunbabinMauldonParsonsKoWelchDuncanChidozieCameronCalabresiZetticciMacDonaldKennedyHeKaodilinakachukwuArthurLiChiaVasinForwoodTaylorMadukweBennelongMorganAlexeevaMilneLiClaytonMacleanChigolumWilkinsonTreacyHuTaubmanRobinsonPintoHawkinsFuHoCampbellAshboltRozierOgbonnayaCocciT'aoFordTsaiOnwumeluGrahamMoranOnuoraMcDonaldGlassmanMillerMillarHayCh'ienCattaneoLucasSergeyevSmithPachecoSynnotJohnstonTsaoIfesinachiDimauroHughesMorrisonMatveyevaRoseJessMortonRossiReppertCh'iuFieldingZetticciBoyleDubininaChiazagomekpereWallworkDavidsonO'DonnellAhmedChuangTienChangEfremovHartleyChiuPokrovskiiSkinnerMcEncroeGordonTs'aiYuanHunterHsiehKnowlesDayTsaoNwabugwuYoungKerrMarreroPisanoBrownFreemanSeleznyovIkedinachukwuAmosSimmonsRobinsonBianchiChenIbrahimovaNolanScottMonaldoColeAngeloKoDistefanoFarrellTingBlackWhiteheadIkemefunaMorrisonCelisChengMillsOuthwaitePaiMitchellFranklinKoFiskChiangHeathDellucciLiDe SalisT'angRichardsonStevensonWeiPisaniMannaRicciCarrFindlayHughesChukwuemekaGenoveseSwiftRossUspenskyCookNewboldHeHiltonSunEvansOlisanugoBrookesElewechiPisanoAnkudinovBurnsLewisKirbyMartinTanHsiaWesterbergKryukovaSeleznevaFreemanLoKingForbesMacleodPisanoVassilievMacartneyChinLuWaltonBrookesShihFerreiraUkaegbunamDavideLittleBurnsHanReichardPriceLuRitchieMackenziePendergrassEvansBillsonTengCh'angGordonObialoLinMcKayRevellRickardsBegumOnyinyechukwukaMaOkwuadigboChanGrecoLombardiAlexandrovaFallaciHudsonMaiStoutDuncanAvdeyevaCrawfordGetherLarionovaSteinhoffPaiCraigCh'iuRahmanMcMillanPickeringMiramsJideoforBellMcIntyrePagnottoFengDonaldsonChambersMarceloEjimoforDaleStonebrakerAndersonSageseGrubbNapolitaniAkeroydWallaceSmallBledsoeWertheimJarvisP'anPugliesiBlakeyAchebeRussoMaccallumWatkinsMitchelFerdinandChinagoromWalkerHaoSavageCooperMazziNichollsYuanGolubovChenKambinachiFlemingCunninghamChinwemmaYinTs'aiJenPrestonCodyMilaniOnyemauchechukwuGellKirillovaOnyemauchechukwuMueckeHsiehAzubuikeFullerAshleyTs'uiChidozieMacleanBurnsChuBeluchiWilliamsonMcKenziePittsShenShihOwensVercoGalkinSummersMunroVirgoPadovanoTaoFraserAlleyHowellsHooperRiceIkennaDavidePiazzaBlackChiabuotuGallagherShawLloydAventShawYuanHawkinsTrentiniCameronWuOkoliCh'engNwokezuikeAbbieJenUnaiponWanChambersPettitBaresiIheanachoNucciRohuO'LoghlenEvansMcGregorAndrewsChiazagomekpereChidiebeleGregoryBednallJenSheSimmonsFraserSeabrookBarwellBallSungT'ienFallaciLiChukwukadibiaOluchukwuWollstonecraftThomsenLambGallagherHeathTs'aiKnuppShephardAvdeevaHsuBuchananYehY?anLinSchofieldWallMilaniEjimoforWickhamBirdWoodCh'inYusupovJibunohTs'uiWilderMacleanMcNessColesBensonGilbertL?GrayWrightPalermaY?anWeiPadovesiFranklinMcGregorHsingWatsonHawkinsGinnArtamonovaHansenPaiLarsenMurphyEkechukwuJohnsonBardinTalbotMcGregorZikoranaudodimmaMaiNaylorPintoCrawfordVolkovaCh'iuAbramovichTimmsHamiltonChengKoChukwuebukaMacDonaldLampungmeiuaEnyinnayaMaWoodSmithIngramHebertDumetochukwuJamiesonChiganuWoodsBluettChapmanUdobataPalermoFallaciPerryMaslovaMcLeanPatersonTisdallMironovaNdubuezeStephensonMullanNortheyPatersonMacleanColmanJacksonHanWilkieBrayAnnSouterGrecoBlackDuncanMitchellFerrariDicksonHoldenPageSamuelFittsTs'uiMillarDemuthGenoveseLawlessBrooksIgnatyevaBalmainMillarLi FontiBeneventiDespeissisHsiehLongoManciniGrantBrennanRischbiethOtutodilichukwuThomasFiorentiniHughesMcIntoshBaranovaGenoveseSorokinaErvinNobleParkinDochertyL?JohnstonePhamBergamaschiMurphyOsinachiMuravyovChidiegwuLucchesiHargravesBuntonCameronKungContiSimsMcGregorChuDumetolisaWanCameronTretiakovChungLaiDavidsonJusticeEwingChinMarshallGrantNnamutaezinwaFerriAndrewsMurrayMcWilliamCarterCh'iuTsaoFanucciVasilievaLongoBocharovaMorresVogelWisdomShahanChidozieHaywardAlexeevaCalabresiLettiereNnamutaezinwaYinGolubevFedorovKennedyChanHsuWhiteTsaoHudsonKinlawLuccianoOmeokachieTikhonovManciniTuanJohnstoneRomaniBaxterPirozziSungRogersMillsOsonduagwuikeMcIntyreAitkenMacintyreSimpsonMetcalfeDaleByrnePraedLaurensWoodsBykovPirogovaSturtPanicucciFranklinP'engChiangGrantSicilianiYoungMitchellLuccheseHewittEndrizziLudowiciLarsonChigolumLuTuanLandmanLongoAlexeyevaSimmonsIngramOkekeShaoDiribeMacgroartyMcDonaldMazzantiKellyDavisonTrentiniHsuZhirovEspinosaWallaceBarbourWrightUlyanovaAkabuezePintoMcNeilJohnsonKaeppelShihYudinaAkabuezeOziomaSuJamisonHardimanO'BrienTaoBucklandGenoveseVincentBlackburnDuncanMacarthurMedvedevSholesRolonBlighDavidsonLambleMooreJoseTrevisaniSchofieldStewartJamiesonBrooksChinweikeSimpkinsonWalkerConwayMaslowL?GalloOnyemachukwuDicksonP'anFrostWarnerIfeatuHsuehShihWhiddonOnyekachukwuNiuMannaMitchellEveringhamCrowtherSwiftWhiteGiordanoDaySerranoCunninghamStephensBevanMashmanTuMilanesiRomanoGoliweGrayWrightChiemekaChungSpitzerPotterMatthewsMiahBaddeleyHs?ToddIgnatieffLuArtemievOkonkwoBurnAndreyevEndrizziBrownNockOkekeBorchgrevinkBradleyHudsonVeltriGolibeCurtisHaydenCampbellCremonesiLiangGoughPadovesiYinKharlamovNichollsFlemingHanFergusonValdezPirozziColomboAkubunduY?JideoforRobertsonGrayTownsendPopeJensenThomsonWrightLombardoLeonardAmechiHortonOnioButusovWangAlexeievaHughesBageTangSwearingenMcGregorClarkeKozlovaNekrasovOlsenMazziBellKellyWillisWallaceChukwuraenyeMarshallHaywardMoreyToddForbesDe SalisMarshallChinedumMcKayOtutodilinnaPaiKruglovKingTingMcLeanZikoranachidimmaFuTrevisanoChuangTheusJenningsParkerTuanPattersonNashObidimkpaAmaechiFoxallBentleyBairdHowardSopuluchukwuRocherWhiteKomarRussoLoewenthalMontesKuoChengMcIntoshT'aoOnyekaozuluNwachukwuChristmasMooreGenovesiEllisNebechiY?ContiIgnatieffPerkinsConwayRizzoKrylovLi FontiTalbotMatthiasBoyleCh'engBrunoMillerFuO'TooleLedfordIadanzaLinBarclayKodilinyechukwuMcKenzieWoodsPadovesiGrecoGiordanoMillerRossTrevisanAleksandrovaDikeDellucciRitchieAikenheadKungMacDonaldOkwudilichukwuSimmonsH?HancockMcKayParkhillGolubovaNwankwoMcElyeaRosasPalermaMorrisPavlovaLuAngeloGorbunovRoweMikkelsenMbanefoHamiltonWestChukwuemekaCastiglioneYuanWilsonKentVasilievFedorovaRossiSamsonFentonPaytonBanksBentleyWongShenHuangYehShihDellucciRobertsLo DucaGloverJohnstoneCaponPatrickTaylorStephensonCollingridge de TourceyJibunohKorovinWardK'ungBarlowBensonToddBurginNnaifeOkwudiliolisaParkesPageAmaechiPanicucciNapolitaniBeersCostaIbezimakoMarceloLumholtzHillPirozziSynnotAnenechukwuPlantAzubuikeJohnstonBabbageBogolyubovChiaSmithFordGregsonHaySheUwakweBirdKrichauffWoodWhiteTuanHansonMacDonaldStanleyFischerOgochukwuAnenechiOkwudilichukwuHarrisonKoNormanMackenzieCraigieOnyekachiNwabugwuDeRoseCh'engObielumaniEmeryDufresneLeeHsingMossRossCalabreseYobachukwuMarchesiPickeringMazziTrentinoMarchesiAnayolisaPooleZhouBatesWadeTanNgozichukwukaDavyMaBarreraNgozichukwukaHallPadovesiLysaghtKelechiHansonKaoTuFallaciShenTs'uiChikezieHeDreyerShortTengMunroTangGreenhalghHuY?anOdiliH?YuanKolesnikovHsiungBronnerMironovaKuEvansHendersonSmithSunMcDonaldNiuZetticciLe GallienneP'engWheelerChristieKingWaynY?WangLorenzoNuttallOsborneHamiltonMcEwanLaiBoydTrevisaniHolmanBazhenovLinSinclairKempEbelegbulamTsengWilsonIadanzaY?ChukwunonsoTs'aiIfeanyichukwuBriggsMorrisonCh'angChidiegwuGowAmaechiBibiNiuArtemievaOwenFranklinLorenzoMurielMacDevittGibsonWhiteheadJohnstoneJohnsonKaoBrowneLeiAlexeevaTs'uiKungUnwinFraterBrennanGolubevVanmeterHs?CrawfordP'engFlemingWilsonYuryevaGalloChouShaoMazzantiEndrizziMonaldoOtutodilinnaMilneChiokeKovalevDohertyBaranovRobinsonBidencopeT'ienChungStevensonSeppeltMcDonaldMcGregorMcDonaldCrawfordGibbsMilneDicksonToscaniHughesAksenovK'ungMilanoChukwuemekaRiceBrownAksyonovaWalkerAbbottDavydovaWestSmithFiorentinoNkemjikaMarioDubininaHsiehMoranLiObialoBatesonLongBellUdineseMaoFanucciYehMooreThorntonWarlow-DaviesLeiWrightBoyleUwaezuokeArchambaultHolmwoodY?ChidubemRandallLeachWallaceMitchellRoweChibuezeWilsonYehGoliweAnthonyGenoveseDaveyParsonsTs'aiWittKazantsevaBeyerFriesTaoKaodilinakachukwuBeckerGrahamKuoZimmerCaldwellYirawalaDonaldsonOzerovaTs'aiTokarevaPagnottoSinclairHsuPanicucciBurnsDarlingMaggardThomasPonomaryovLuccheseSazonovaHentyAzukaAlexanderShenPadovesiLordPaiYuanPowellBrownMcChesneyEndrizziPanManfrinKennedyConwayLablancDoddMuirMilanesiLiaoUdokammaPalermaChimaijemNwagugheuzoYoungPadovesiLorenzoWeiRossChidaluPotterHuangNakayamaGardenerMilneKudryashovaKruglovaPalermaShafferChungWhitfieldRiouxBrimTrevisanoHelenaDuncanWellerBessMacDonaldMaiYehBabbageRandellPatersonMacleodRandolphKudryashovaGeorgeRobertsonYuryevaKingMontalvoScottYehViganoTuanTienHamiltonPowellWilliamsFetherstonhaughSeversonGroverMilaniChienMarshallUspenskayaThomsonHerreraMuseMarsdenArtemyevaChuangNichollsKnightWebbNebechukwuNixonLombardoHollandBryantHaoKovalevHsiehDebellisYenLuStewartMilanesiSalDouglasYatesWattPerryLavrovJenkinsWilsonBegumFrolovChikezieZetticciYangLinTs'uiGenoveseWilliamsonShoobridgePengWatsonSolomonTuanDanielsCaldwellFangDumetolisaMackayKenyonKennedySteereSutherlandLungCocciMatveyevaMooreYobachukwuFlemingAksenovFlemingUlyanovPirozziMahonShawScottVossWilsonGibsonChikeluYefremovaChuangGarranMorettiYaoBaldwinMahonMuirLyonsGardinerChapmanHePattersonCoppinTsaoStewartFallaciTienScottGerasimovaIfeatuOgbonnayaDegtyaryovMonaldoCarpenterTylerMartinWalkerBottrillJonesSanfordChienChimaobimJowersKirsovaT'ienKuChinLawChungGreavesO'DonnellHsiehChiuReevesChuMarshChangPottingerFollieroChambersYenAzikiweAllenMackayYuFangPageOlisaemekaBrennanSuttonHydeSungBeneventiCh'angBartonLucchesePopeHorrocksChikezieFryeMellorSutherlandTingChuangChuOzoemenaHowellsLuccheseWoronoffWilhelmNebechukwuAnenechukwuMeredithChinomsoWintersNapolitaniRobertsonMarchesiBibiRussoBallardThomsonMorrisonScottCameronTateNealOnyinyechukwukaFulksChristieBallOsitadimmaHaoHartleyAllanNnamdiRomanoLungFetherstonhaughDavidsonMaiMitchellKentPepperWilsonHarrimanFranklandPintoChiuYuTo RotAnenechukwuHendersonEllisKangLearMazzantiMarinoWinterT'ienHughes-JonesCodyEstradaDickinsonFanucciLenhardtCh'ienSunJamiesonNolanBarryPhelanHotchinAksyonovDuncanPisaniPisanoTennantTobennaVicarsYangT'angPaiFranklinPengHellerDunnHollandButusovAtkinsonObiajuluSuTraegerChinwenmaTuanRobinsonCarrPalermaChinezeMorettiHaleBensonMishinaAbramovichAlexeyevaKilgourSheppardNnannaNorrisClementsOkwukweMurphyElliottLoggiaWalshDolgorukovaSheCookMoyseySkinnerChinLungMellorRichardsonWanBradleyCalabreseOsonduagwuikePanCarpenterTrevisanHeMorettiChukwuelokaFiorentiniNepeanNwebubeUgochukwuMurphyDochertyHirstHoranCumbrae-StewartKinneyT'angToscanoNinaBrunoKennedyVasilyevBlackNapolitaniHughesLacrossMaughanPalermaSlateCh'angChiebukaT'anLazarevWarrenTrevisaniTrevisanoLiaoListonThompsonMilanesiRudduckUvarovaGalloTs'uiCoatesHickeyNortonManciniTienMurphyMacleanBlackburnWyattShaoNapolitanoMarceloFominNkemjikaCh'angCrottyCocciIroawuchiHysellWilliamsonGinikanwaMorleyComptonWanChangDyerWattsFedorovaChiedozieMarceloMcMillanHardyAdamsonMishinKangKellyBullFergusonSheHamiltonSummervilleTobennaVolkovaNucciKuHsuehRicciAzubuikeNevzorovaLeiSheehanKelechiMcElhoneAtkinsColomboOnyekachiThompsonShenYehHsiaZarateRobinsonNevzorovaQuinnPisanoArtemovaUgonnatubelumReillyOmeokachiePintoGardenerFangLabradorGibsonIvesOmeokachieMaoBrierlyMcDonaldBergamaschiBergamaschiLeesSeniorNwokezuikeEkwuemeEnyinnayaHydeCameronCarpenterLorenzoSleemanWilliamsonWangOnyemereDawsonNebechukwuGrahamMicklemOnyekaozuluKegleyThompsonRomanoBrownMackayHsuGiordanoAksenovLongHanBelovRuddMonaldoGidneyDaltonHsingWarnerWilliamsDunnKerrKingGriffithsHartzlerBaresiLambertGameChinagoromNobleCattaneoFraserJimenezOnioTomlinsonOnuohaVorobyovaToddCremonesiJowettYefremovaGadsdenNiChibuezeKangOsitadimmaSmithOkwudilichukwuPorterPonomarevYinAkobunduErmakovaOsterPeyserCocciSeleznevHuangZikoranachukwudimmaNkemdilimAndersonMcGregorPisanoOtutodilichukwuRickardAndreevSteeleBlackFedorovStehleAlexanderMcIntoshSungChinweubaT'aoCh'ienSuLoyauPowerHillHsingBakerMatthewsChouMazziBlackRichardsIgnatievMillerCoxLaneT'aoHsiungParryGolubevFowlerLockettAkabuezePhelpsFrederickBeneventiGreenCarlsonWattCaldwellEndrizziFiorentiniOwensWangHsiehFiorentinoEfremovTangTangFedorovGboliweKoSeleznyovaBevanSalierEvdokimovHsiaoWrightDellucciCaldwellEvseevKirwanLittleCh'iuMcKayKozlovaCoatesIgnatyevIgnatievMunzPalingClarkHsiaoPalermaGalloOtutodilinnaMcGregorH?FerrariNkemakonamKirillovAnkudinovGaffneyRomaniKambinachiHawkinsFangChouRamsbothamScannellTuanShaverWallisLo DucaWanLittleHillBoyleShenShephardDavidsonFerrariMatveyevWangYuanMcConnellAlexanderGordonDaviesSandersRiddleContiDavisonUdinesiBellJacksonMaBasedowNworaHoweyPaiKramerSochimaMarchesiHerrinGardinerAtkinsonHuSandersTsuiMarinoMorrisonMaiHs?ehDemaineDickinsonKazantsevaPanBischofAshtonWilsonKuOnyemachukwuKaoFerriYashinaYevseyevRapuokwuMaslovColeAllsopDumetochukwuUspenskyGarciaSotoStephensonTuColbertOwensDaluchiDysonDavideHs?NicollRomanoMannaDanielsHuntYuanCalabresiMartinMaslovaLaiWatsonGorbunovRaynorEberegbulamMannaChangKentMiccoBremerDavidsonMilneWeberLettiereTaoAlgarinKorovinaChidubemMetcalfGrecoLi FontiMaduekeChukwubuikemHollowayAnayolisaFangFanucciMcKayBogdanovaLavrentievMaduekeNiDennisL?CardusWhitehouseChiaCalabresiTs'uiMcCullochMillerMunroLaiMaoCrossSniderHarrisonHayTangIsayevaHillMorenoGillGreenOnioVaguineMannaToomeyBellBonwickHoltBrownCh'angFengLujanProkhorovaRomeroToscaniOnwuamaegbuKingTrentinoPeacockNnaifeChaoBareseUdegbulamDegtyaryovMitchellCh'enEfimovWadeMurphyHannahCartagenaHuntGreeceThomsonKrawczykChouSullivanCavillNichollsNnonsoNkemakonamLintonOnyekaozuluTobennaWangStephensonKangMillerKryukovHs?AndersonTrentinoTsouJohnsonAllanButcherHendersonObiajuluKellyIweobiegbunamWilliamsonChiagoziemKwemtoZitoUkaegbunamEdmondstoneChienYashinaGeorgTungChuangChidimmaMcCaneParry-OkedenKhanMurrayShillitoHowellsIkechukwuCoxLoStevensonSamsonovaNiuBockKungNwankwoQuinnKodilinyechukwuSullivanJackaTsaiEmerySharpCampbellAbbottPrestonFanucciJohnstoneHortZaytsevaSorokinaOnuchukwuOsonduagwuikeThomsonGoliweOnwuamaezeButusovRossiHuddartChinomsoHargreavesStoneAllanBellucciDuncanFindlayIzmailovaShenChinwemmaGolubovaMcKayFedorovaFloydLongCastiglioneMelendezKovalevaGillStevensonGilroySidorovBatesFanucciIroawuchiMartinSinclairSwansonFominMatveyevaMadukaegoFerriDavisTsouEjikemeifeuwaVolkovaRyrieAndreevTs'aoMontemayorWhiteheadFrenchConnorJonesLiDenisovaBensonKalininaChiawuotuSergeyevChristieRobertsonBareseTrouetteUgochukwuCribbMcIntyrePickeringFletcherPisanoHooperHeSomadinaMcIntoshBrombyHunterSheppardLaiPadovesiKempGreeceYoungForbesTs'uiMilanoChaoNapolitaniKovalevaChiebukaGordonConwayBattyRoweFarmerCameronJenningsEluemunoSwiftPisaniCameronYehGouldChidumagaChildsLungNapolitanoHutchinsonObiomaStetsonFanucciThaoMurphyMcConnellWalkerIheatuCh'enBrownBuddicomMcGregorThompsonWarrenUspenskayaKingTrentiniNeumannWaltersLiebeWhiteMyersRogovaRaffKanayochukwuObialoLiuPonomaryovCostaWeiPriceSawtellSimmonsPengBevanSokolovAmadiFindlayHsuEvansTungRossYangGayMorrisonMaoBrunoGrayChiangSungYenFerriHsuBishopDaigleCochranBibbJenCorranLoggiaWilliamsonGordonLynchK?OwensSteelePanNnabuifeBrayEsomchiIroawuchiRetanaRobsonBrunoPriceSwansonChangMorganOsitadimmaCunninghamFieldsColomboChikereBallardGormanJohnOkonkwoBoniPrattPageWilkinsonFinchMannaSalIweobiegbunamShaoHeathWuDownieFindlayCh'engTsaiAllanWangYancyMazziNucciY?NucciTangKaoChenYaoTsouBukowskiFrancisCalabresiChimaobimFengWhiteManfrinUdegbulamKaoRoss-WattMillerShubinCartwrightAzukaShenAbazuMurphyGratwickPaiBradyHsiungMilanoLewisDyerHsiaHicksYoungFrolovaSabbatiniIfeanachoHansonBradshawClunieHodgsonDobieOkwudilichukwuDyerBaresiLoTylerAparicioSalOziomaWoodMcKinnonLeesFeethamChuangAhmedOgochukwuObiajuluYegorovaTalbotChukwualukaWallacePisanoPalmerTanMordvinovaMorriceBarrettBowhayLeiBakerMacnamaraArnoldKochJonesOtitodilinnaYewenSimmonsMbadiweMunroPirozziPiazzaBaranovaMarinoSabbatiniBlackSchwartzSargentUdinesiLeeOzuluonyeLassetterIloerikaTanGoodwinRapuluolisaTsuiSummersBobrovPikeGearheartBrunoZikoranachidimmaMilanesiAhernDicksonMcDonaldFiorentiniBianchiFallaciPiccioKaodilinakachukwuAmaechiP'anIkemefunaWinnHardyChiuDohertyRussellPayneWindsorY?BrownBaileyAllnuttChristiePopeJohnstoneJonesGenoveseBaranovY?LoElliotCarandiniVinogradovaAlexandrovaBarkerBrownKorffMathewsMacrossanIllingworthMenhennittPalermoFyodorovDolgorukovaEvaP'anJenkinsShihNnamdiMitchellFindlayPisaniK?TrevisanoTrevisanoTuckerSchafferCh'angWalkerChuCrawfordDonaldsonKellyTs'aoMuravyovaLambertYoungHsuehRobertsTakasukaDawsonOliverWilsonHigginsMarshallReyeChibuezeMaslovChidumagaHs?WilloughbyOjioforCameronDalyDikeGreenChinomsoIjenduArcuriBaresiChristianTrevisaniAkabuezeDonaldsonBentleyIbezimakoCh'inMcDonaldFaulkWalkerBrownWuMillerChamberlinButtenshawWallaceCalabresiBryantTuElderTownsendMilanoMartinNiuArcuriCh'inNapolitaniDunnDeRoseHobbsAndersonUgochukwuKirsovaFergusonKellySheCreelThompsonMarinoSutherlandNicolayLoriSomervilleChristieGraveLoriChukwumaCh'ienBishopChibuzoCalabreseLoganSimmonsMaduabuchimYehStevensonKenechukwuDicksonVolkovaMitchellWongJamesWatsonFollieroFitzgeraldGarnerFollieroLucchesiNwabugwuAndrewsOtutodilinnaGrantDonaldsonSmithBinderZubarevDavydovaTengHsingWilderMolineuxCocciChikwenduFraserKorovinSidorovDuiganTaylorDonaldsonCrossMannaGibbonsAlgeranoffRoweGallowayGenoveseMiahSmithBurtonKamdibeRossHawksT'ienMacleanFrenchGreenwoodMistryFiorentiniScottSmithMossNwankwoAllanHendersonSutherlandMarsdenCrawfordDilibeSantiagoToscanoAfanasyevaOlisanugoPriestleyRobertsonIfeanachoLi FontiGoloubevLiaoSinclairRobertsTsouGrecoMcKenzieKerrCraigTengJamiesonKayHoltCh'enBakerFengSternbergShepherdBarnettGreeneJohnstonMillerWallaceNorthCalabreseRobertsFinchMarceloMatthewsGoddardSimpsonFengFollieroBrayCarpenterForbesAmaechiBurkeChiganuLuccheseLombardoGonzalezFordGillelandFullwoodMontalvoDoyneCaponRawlingAnkudinovaKerrMannaSicilianiPowellWhiteBrownRoseHanCalabreseRileyBiryukovBroadhurstGenovesiHsiehChukwudiIqbalTengDuncanGarrettMazziEdwardsSicilianiLogueO'BrienStewartBattHopeKruglovTrujilloPagnottoDeRoseChiangOnuoraManciniMossPanKuUspenskyKummCareyFarberFindlayYuBrownLindonCaldwellLi FontiCaponHuguleyHorsleyMassieSinghH?GrantLawKingRomanoParkerAitkenHughesPisaniY?anChinFuNiSunBocharovaSinghChiemenamWestPollardGodfreyMazziAllanBrownUvarovWisdomSmithChidimmaTingBergamaschiDyerJonesNebechiIbekweNwekeAbdulovChukwudiPerkinChukwudiSimpsonWallaceLi FontiBondStirlingUdegbunamCandlerFrancisMaiJohnsonShermanYaoKazakovaChiganuNucciSerenaMcLeanWilsonHsiungFollieroJohnstonPalermoNwabugwuEndrizziUdobataShawCumminsSaundersAngeloZhdanovWhiteChuEnyinnayaMcElhoneHarrisKaodilinakachukwuHoweKnepperMorrisMcDonaldReedTengHandOnyemauchechukwuChiangYobachiMunroTrujilloWilsonMillarBeneventiChungBerkeleyWrefordWollstonecraftCartwrightHarperStreetonT'ienCunninghamSmithForbesJohnstonMcDonaldChenCattaneoCh'engCrawfordGibsonNiuLawrenceWagnerArgyleOfodileChiemenamCraigArcherBrownT'ienHungScottRahmanCookeVolkovaHawesSmithSwantonGreenHanCrawfordBeaversChibugoAbdulovBuckleyPeelHoldenFindlayWyattRapuluolisaBucklandOnyeoruruLaneyFuTienTuanMessersmithBrookesJollyPagnottoLucchesiHughesBurnsLambertBensonParkesCastiglioneFinkAfamefunaPalmerZuyevaJenAlekseevaChiemenamChiemenamClarkFanucciCattaneoBentleyHolmesAustinCollierHs?MarinoFlynnChaoYehKleinMahmoodTuShcherbakovBrowneFergusonMosleyEverettKuoRouseFangChiemenamBurrowsTrevisanoSageseLongHsuehLazarevBenjaminRomanoYermolayevaSparksWhittakerHumphriesCremonesiKuTobennaOkwuadigboJohnstonRossTsouEndrizziElewechiChuMcGregorUgorjiWarlow-DaviesBuckleyFairleyBoothbyClarkeKoMcGregorFernandezPanEspositoKaeppelLambLeiContiYermolayevKerrWatersKolesnikovaSharwoodBufkinNwankwoWillisKungHowellsBevanJohnsonHigginsCoxSergeyevaNapolitaniBeathamHillChiuSunLawsonT'aoYaoBracewellHsuehHightowerGenovesiLoginovLafleurObidimkpaCh'angMasonSimonStangeWeiCh'engParsonsPanCameronYudinaUdineseChinweikeBergamaschiMillinerKnowlesGregorySukhorukovaFlemingKennedyKoDanielsKazantsevaFerriEluemunoO'BrienLavrovSomadinaColomboZitoGiordanoDavideLuccianoTaiOsinachiCunninghamMaiDownerBochsaBirdseyeMoonBellucciBareseFlemingBellChristmasScottChukwudiFangBlakeGreenSabbatiniBoardHoGordonMcDonaldBrowneBoyleMorettiUkaegbulamNwankwoNiuShawChristieOnyemauchechiCrawfordMellorChristieWatkinsOjioforMengMactierHsuehNnachetamYuReadLevyChiuAliyevRileyToscanoWarnerCh'iuPyeChungArcuriCaponTrevisanJohnMacleodBoyleChukwuemekaBryantHackettMajorOgbonnayaMaMartinJacksonTaiFindlayChengMartinSkinnerBirdsallTsaiOguejioforVinogradoffNobleChibugoIgnatyevaChiemelaPokrovskayaChukwuelokaChuSpenceLongoBrownUspenskyCantamessaAlexanderChinagoromYangMarceloSimmonsDeRoseOnuchukwuTeakleCrossJonesWalkerDe SalisOliverBrookesChallisIbeabuchiBlackallSchoenheimerFiorentinoFanCartwrightBromleyBergamaschiShubinaKinderShepherdsonShortBelovBursonNichollsKuVasilievaOmeokachieLindemanMcKinleyIbekweMcVeyMaiHanHorsfallClappAzikiweZubarevK?BallL?GrecoWatersSeleznyovaReidFraserHowarthDavisChiuSunderlandFanParryPalmerNicholsonAdamsCocciTrevisaniHayesShaoCastiglioneHurstAdamsonJamesPavlovaBarrettHouOkekeKodilinyechukwuBoyleHsiungKennedyNortonZakharovChimaraokeMcGregorBrownFredericksonMcGillSinclairHortonGilesSarrattBulgakovOnyemachukwuRiveroLaiHornungDennysYurievGibsonZikoranachidimmaMasonRizzoThomsonIgnatyevWoodsLoBurnRussellJenLo DucaOluchiWarnerSalierGibbonsMcCawleyYangVavilovTeagueChiemenamHughesLoggiaCombesOnwukaScottOsonduagwuikeDonaldsonMaObiomaCampbellSimsMcKayHuangCampbellBoniGorbunovaGenoveseOfodileLoChukwuemekaArcuriGrahamMacleodChukwukadibiaTs'aiLuKentBlackMcMillanNgozichukwukaY?anSungKuOkonkwoKuSomayinaFullerCraigCremonesiFengH?JaraO'CallaghanLavrentyevTrevisanMasonTuckerTerrySantiagoWallaceKingMayNnachetamZhdanovaFangSinclairBegleyIkennaSunLettiereSmithChielokaCocciHansonMacleodRitchieIkemefunaChiangLevienOkonkwoMarceloCastroVoronovaLoggiaGrantMartelMengHayVoronoffTrevascusHansenCraigHallSunJacksonChigozieDouglasPettryPotterShawUdinesiBurrowsToscanoVoronkovSalKennedyGarlandDochertyFominWrightChinwenduWhiteHaleRossNkemdilimMcMillanDukeBradburyCreminGilchristShihPaganSandersonSamsonovaSandoverChuOwenHurstHardingSmithMooreKorovinaHardyShawKnightBrunyIkedinachukwuYinMishinaGrahamJohnstonLeiChimaijemConverseReidBelsteadDickinsonNworaLoggiaRoweUlyanovaRemingtonMishinAyersCocciMackenzieAkabuezeHydeNwabugwuChinHeVachonBallMonaldoHamiltonKuoFanOlisaemekaHillOkekeMarcusRussellHovellChukwumaobimBoyleScottJohnstoneDellucciBrothersSandersZetticciHsuehWrightGalganoGrigoryevaRaymondBrodneyAngeloMillarBalashovAfanasyevChialukaYermolayevSaundersWrightMcGuffogChukwujamuikeScottBellSargoodHarringtonSutherlandMordvinovaSchofieldBairdWhitehouseOgochukwuOkoliVidlerCastiglioneBergamaschiRubinHoPerryRobsonWilsonBatesEberegbulamDaveyDe LucaHoWangSousaChiawuotuThomsonCarpenterYefimovaBlackCoxWallaceFanAlexeyevaStevensMarshOnwugharaHuangTrevisaniPavlovaDeanChiganuLungWalkerSchnaarsGeogheganGardenerChidiFuTingAshtonUwakweRicciJonesMcCullochTobeolisaBlackAkudinobiOlisaemekaArcuriFlemmingTs'uiAzarovMcCarthyStevensonChillReesDumoloWuHsiaHoldenAbramovaWilkinsRomaniIrelandSingletonSauveBoniBucchoSpencerEidsonHungMelvinRizzoCaponTs'aoFlemingChangGibbsDuncanOkwuadigboMcIntoshClarkMcKenzieTuanChidiebereWoolacottYenChuangAkhtarDancyDuiganHankinsonMyersUkaegbunamAkubunduSalStevensonTs'aoSungHs?ehHollowayWaltonTienDavideMilneBarlingEllisHsiaChukwujamuikeAlexanderJamiesonMacleodNorrisFollieroTateDavisDruryPadovanoMartinGenoveseCherkasovaBergamaschiYusupovaJordanEchezonachukwuWelchOkwudiliolisaMaysManfrinTengChinwenduDavisonCastroParkinMannaMatveyevaNwabugwuAbramowitzChapmanFiorentinoIkechukwuAllenHartCharltonTurnbullChiazagomekpereMillerIfesinachiMaWynneHoweYocumMooreY?anChinweubaLowrieShenGomesFiorentinoEberechukwuVirgoLiuKaoJonesFowlerContiStephensonFangSoaresGalloLeiDanielsKenechiPadovanoMedvedevaBradshawEvansLucasMondsShenFoveauxLongoCalabresiRandallHigginsCrawfordMartinTs'uiNicholasJamiesonFosterChiedozieOkwukweLumholtzSageseReillySinghGenoveseTikhonovMacDonaldAh MouyBareseWinter-IrvingWilsonFerrariMcCartneySalKaoHargreavesSievierNorthCruzSinclairVasilievGenovesiGorbunovaBullGiordanoBeggPickeringFanucciMcNaughtanStewartNwokeochaSokolovaBancroftTrevisaniTingLo DucaMarshallBandFerriWilsonConePatelHowell-PriceRowlandNnonsoHopkinsBlackSuWalkerFergusonSamaniegoMazziToscanoChiangSpinelliPaiChigoziePeavyYermakovCostaPugliesiLindellSorensonGalkinaMarinoSpearsWakelinEspositoChukwufumnanyaFlemingKennedyHanYermakovaChienCalabresiCh'inRoseYefremovKosovichLuTaplinWangReynoldsRowleyRishelEluemunoHsiaKellyWrightUvarovaDohertyAllenMaTuckerH?EsomchiPirogovSellsManciniIadanzaP'engSt ClairNixonCh'angPiccioWestonGroomTanTaoHsiehBurdekinLongoMorantSaniObialoVon DoussaSuAnayolisaWadeEnemuoBrownNikitinaBurnsWoodwardSpencerCostaMcLachlanWarrenRamsdenWenzKischMaiNewmanWilliamsChimezieNashDaviesLuBurrowsUdokammaAitkenTurnbullReillyKerrOlszewskiBellasisOkagbueVerjusH?NapolitaniSicilianiVoroninaHamiltonPiazzaAnayochukwuMarshall-HallPagnottoMorePiccioTochukwuGrahamTungP'engToscaniOkwuomaMorleyButlerCrawfordBrownGreeceHeathSalMilneWardleEnderbyHoughtonNgozichukwukaTsuiH?BaxterGrahamT'angY?anMaAbernathyPapeMaEarleHopmanMcKayClarkChukwuhaenyeLoFollieroHanHollowayJohnstonYefremovaObialoTrevisaniNaylorDouglasRogovaGiordanoOkwukweChalmersEvseyevParry-OkedenPicotReidGenovesiNeumayerMurrayTienParkesYipIngleVorobyovaNapolitaniCoffeyIstominNdubuezeFernandoMazziTuanBryantMadukaifeAbdullahCheathamHaoNixonLockBareseDuncanKaurJenkinsBoylePadovanoLi FontiGenoveseWatsonManciniAksenovLuHouStephensonCooperCrumpDiggsCarvossoKodilinyechukwuNorthSimpsonNworaChandlerKerrFurneauxKambinachiNicksonLinHerzNikitinaKoHighettJacksonNelsonRendallMcIntyreAllardyceWeatherfordJenMironovaSharpeOsborneChuChongChiemenamPritchardWallisPalermaFraserMengCherkasovaChienYoungTsaoHussainAndersonShawLuccianoGordonBoniHutchinsonWillmoreBitterFanucciGinikanwaManningLiangUchechukwuSungReynaLiangHoweBarreraBednallOtooleCremonesiDonaldsonMcKayKaneSheWatsonShihZikoranachukwudimmaTimperleyKenechukwuOnyekachukwuChristopherDuncanLawleyDoynePintoChinDavideTorresWimbleFerminMossDochertyMarceloFaddenZoxKennedyTuL?JenksCraceSolominaEmenikePalermaTrentiniCoatesHardingHillBrownEspositoTanChungHoughtonZikoranachidimmaBoagBaxterTienChimezieSloneHartleyLinTrentinoDunnLawGrigoryevaLuFallaciLeasonBrunerWallaceForbesWebbP'engHawkinsSimpsonChiangDalrympleChukwuemekaOjioforFanucciZubarevClaypoolEfremovBrookesDoyleAjuluchukwuLiaoOnuoraAksenovTrevisaniFentonChuObiutoNashHixsonFiorentiniWuMcMillanBirnieJohnstoneMillerShawChapmanY?anHowellsMcMillanThomasChifoLuBellucciParryMcIntyreFerrariBerryCattaneoFosterCh'engCurtisGoloubevQuesadaWrightYobachukwuWunderShenGoddardMcIntyreYenBurlingameRizzoChukwufumnanyaFraserRussellYefimovaPalermoShaoChimaraokeAzukaPaiWaltonHsiaoAbregoGibsonHughesGambrellRiekeNdubuaghaCoxUlyanovaTretiakovaAitkenGinikanwaCoatesMaultMcIntyreHenryKaoFrewinTrentinoTomlinsonRoystonMacleanHsingCatchpoleEfimovIjenduKwemtoBerryMordvinovaHingstonLawrencePadovanoCarterWebbT'anYatesLettiereHungFengGilbertRobbManfrinSmithRoweMoranWalkerMyersWallWilliamsOchoaBellucciGordonEluemunoHowarthKingGrantRichmondFiorentinoDicksonStevensMitchellNworieWentcherBentleyHayes-WilliamsJohnstoneTrevisanoTsuiOnyemauchechukwuChiemelaRobertsonP'engFrancisIkennaTaoSimsKuStantonLinFerriYinAvdeyevaTuChaoWelchYobannaGalloWilsonMarinoBaileyLungTs'aoChinwenmaBerryColomboHarrisBryanCh'engJenWangChenMazzantiNdubuezeMontesLuccheseHugginsWadeKenennaCartwrightPalermoButlerAlexanderSchneiderTsuiShihTretiakovaBareseLongoCowenMaiYuDuffyDalyBakerUvarovCostaGenovesiWrightChienezieTuUgochukwutubelumGoddardBeamGrayHsiungKuFiorentinoBucchoLettiereTaiSheppardMaxwellMaherRapuluchukwuEspositoCyrilTomlinsonCrawfordChikwadoHargreavesFergusonBurnsDiazKentishWattTownsendMarshPadovanoHamPatenCawthorneHerbertJenChaoEluemunoPirogovaBensonSicilianoAmechiSuBradleyCameronTsuiOkoliBogolyubovChuangMaNucciCardellBianchiPaiSuDavidsonBarrettVidalLungHawkinsChesnokovaChambersFerrariMcIntyreWarnerMcMillanAbernathyWatsonKershawReedMitchellWebbCampbellCaponOtutodilichukwuMcIntyreLombardoSimpsonLehrUpchurchPalermaColesHsuehKuoWoodhouseGibsonMossLiangSozonovForbesOnwuemelieTothHuntHughesBennettKayMilneLombardoOwensCharltonOverbyChifleyOliverDeRoseChuangRodriguezChuOnwumeluYobachiReillyAmadiRobinsonObioraCurtisFangChiaGearhartMcLeanMurphyKirbyLaneBergamaschiMillsWoodUspenskayaLiangWhiteRounsevellTs'aiIfeatuMillarIgwebuikeObidimkpaKeldieLiuKanayochukwuRileyRuizLeonardOnyekaozuluCarpenterBeneventiLewisElliottSheYuDavideDouglasBellucciUdineseMcFarlandFaneScottCraigChikeluY?anLongPowerNorrisMilaniHuntOluchukwuGloverMcCarthyChiuNorrissNikitinaHenryYudinaContiVolkovaBoniPhillipsShaoAitkenChaoChanWattsJenAmaechiMaslowRowleyToppTs'uiKodilinyechukwuK?LucasAndersonWeiBaldwinFosterGebhartTudawaliIloerikaOnyemauchechukwuCharltonTsengBlinovaNicholsonPlumbAllenBenfordChidiebereChijiokeRomanoWalkerBryantUrbanSutherlandWeiLongLloydGorshkovForbesLucchesiFariaYefremovGenovesiMarquezMarshallBednallBaresiObiajuluMcGregorLungFallaciFerriRowleyChidimmaSopuluchukwuTs'aoMaIweobiegbunamAzubuikeStewartKoAzubuikeAguirreAdamsYobannaCattaneoLungFollieroBryantAjuluchukwuCoxOhearnMunroeMorrisonParkhillY?HiltonLiHancockFollieroCristMiddletonWattsTretiakovO'KaneVasilyevaLorimerOnyekachukwuLaiTuHigginsChukwujekwuMcKayVincentMannaHsiehParsonsRootChiemezieToscaniSaadHopeBrookesFerrariRowntreeKennedyPooleOnwuamaezeMannaDwyerSergeyevaSturdeeAzikiweMorganVaginBrunoOsinachiHoGordonHuDochertyBrookesAngeloPughMcKenzieMichaelChiedozieHughesEvdokimovSmithNiPalermaYuanRapuokwuGrecoButusovWestEdithKorovinLajoieBergamaschiTorodeJamesOnwugharaWanSalinasNucciLuccianoShaoMcGregorChouAzikiweManciniDiribeGriffinAjuluchukwuWoodLiuWalker to numeric",
     "output_type": "error",
     "traceback": [
      "\u001b[0;31m---------------------------------------------------------------------------\u001b[0m",
      "\u001b[0;31mNotImplementedError\u001b[0m                       Traceback (most recent call last)",
      "File \u001b[0;32m~/.local/lib/python3.10/site-packages/pandas/core/groupby/groupby.py:1490\u001b[0m, in \u001b[0;36mGroupBy._cython_agg_general.<locals>.array_func\u001b[0;34m(values)\u001b[0m\n\u001b[1;32m   1489\u001b[0m \u001b[38;5;28;01mtry\u001b[39;00m:\n\u001b[0;32m-> 1490\u001b[0m     result \u001b[38;5;241m=\u001b[39m \u001b[38;5;28;43mself\u001b[39;49m\u001b[38;5;241;43m.\u001b[39;49m\u001b[43mgrouper\u001b[49m\u001b[38;5;241;43m.\u001b[39;49m\u001b[43m_cython_operation\u001b[49m\u001b[43m(\u001b[49m\n\u001b[1;32m   1491\u001b[0m \u001b[43m        \u001b[49m\u001b[38;5;124;43m\"\u001b[39;49m\u001b[38;5;124;43maggregate\u001b[39;49m\u001b[38;5;124;43m\"\u001b[39;49m\u001b[43m,\u001b[49m\n\u001b[1;32m   1492\u001b[0m \u001b[43m        \u001b[49m\u001b[43mvalues\u001b[49m\u001b[43m,\u001b[49m\n\u001b[1;32m   1493\u001b[0m \u001b[43m        \u001b[49m\u001b[43mhow\u001b[49m\u001b[43m,\u001b[49m\n\u001b[1;32m   1494\u001b[0m \u001b[43m        \u001b[49m\u001b[43maxis\u001b[49m\u001b[38;5;241;43m=\u001b[39;49m\u001b[43mdata\u001b[49m\u001b[38;5;241;43m.\u001b[39;49m\u001b[43mndim\u001b[49m\u001b[43m \u001b[49m\u001b[38;5;241;43m-\u001b[39;49m\u001b[43m \u001b[49m\u001b[38;5;241;43m1\u001b[39;49m\u001b[43m,\u001b[49m\n\u001b[1;32m   1495\u001b[0m \u001b[43m        \u001b[49m\u001b[43mmin_count\u001b[49m\u001b[38;5;241;43m=\u001b[39;49m\u001b[43mmin_count\u001b[49m\u001b[43m,\u001b[49m\n\u001b[1;32m   1496\u001b[0m \u001b[43m        \u001b[49m\u001b[38;5;241;43m*\u001b[39;49m\u001b[38;5;241;43m*\u001b[39;49m\u001b[43mkwargs\u001b[49m\u001b[43m,\u001b[49m\n\u001b[1;32m   1497\u001b[0m \u001b[43m    \u001b[49m\u001b[43m)\u001b[49m\n\u001b[1;32m   1498\u001b[0m \u001b[38;5;28;01mexcept\u001b[39;00m \u001b[38;5;167;01mNotImplementedError\u001b[39;00m:\n\u001b[1;32m   1499\u001b[0m     \u001b[38;5;66;03m# generally if we have numeric_only=False\u001b[39;00m\n\u001b[1;32m   1500\u001b[0m     \u001b[38;5;66;03m# and non-applicable functions\u001b[39;00m\n\u001b[1;32m   1501\u001b[0m     \u001b[38;5;66;03m# try to python agg\u001b[39;00m\n\u001b[1;32m   1502\u001b[0m     \u001b[38;5;66;03m# TODO: shouldn't min_count matter?\u001b[39;00m\n",
      "File \u001b[0;32m~/.local/lib/python3.10/site-packages/pandas/core/groupby/ops.py:959\u001b[0m, in \u001b[0;36mBaseGrouper._cython_operation\u001b[0;34m(self, kind, values, how, axis, min_count, **kwargs)\u001b[0m\n\u001b[1;32m    958\u001b[0m ngroups \u001b[38;5;241m=\u001b[39m \u001b[38;5;28mself\u001b[39m\u001b[38;5;241m.\u001b[39mngroups\n\u001b[0;32m--> 959\u001b[0m \u001b[38;5;28;01mreturn\u001b[39;00m \u001b[43mcy_op\u001b[49m\u001b[38;5;241;43m.\u001b[39;49m\u001b[43mcython_operation\u001b[49m\u001b[43m(\u001b[49m\n\u001b[1;32m    960\u001b[0m \u001b[43m    \u001b[49m\u001b[43mvalues\u001b[49m\u001b[38;5;241;43m=\u001b[39;49m\u001b[43mvalues\u001b[49m\u001b[43m,\u001b[49m\n\u001b[1;32m    961\u001b[0m \u001b[43m    \u001b[49m\u001b[43maxis\u001b[49m\u001b[38;5;241;43m=\u001b[39;49m\u001b[43maxis\u001b[49m\u001b[43m,\u001b[49m\n\u001b[1;32m    962\u001b[0m \u001b[43m    \u001b[49m\u001b[43mmin_count\u001b[49m\u001b[38;5;241;43m=\u001b[39;49m\u001b[43mmin_count\u001b[49m\u001b[43m,\u001b[49m\n\u001b[1;32m    963\u001b[0m \u001b[43m    \u001b[49m\u001b[43mcomp_ids\u001b[49m\u001b[38;5;241;43m=\u001b[39;49m\u001b[43mids\u001b[49m\u001b[43m,\u001b[49m\n\u001b[1;32m    964\u001b[0m \u001b[43m    \u001b[49m\u001b[43mngroups\u001b[49m\u001b[38;5;241;43m=\u001b[39;49m\u001b[43mngroups\u001b[49m\u001b[43m,\u001b[49m\n\u001b[1;32m    965\u001b[0m \u001b[43m    \u001b[49m\u001b[38;5;241;43m*\u001b[39;49m\u001b[38;5;241;43m*\u001b[39;49m\u001b[43mkwargs\u001b[49m\u001b[43m,\u001b[49m\n\u001b[1;32m    966\u001b[0m \u001b[43m\u001b[49m\u001b[43m)\u001b[49m\n",
      "File \u001b[0;32m~/.local/lib/python3.10/site-packages/pandas/core/groupby/ops.py:657\u001b[0m, in \u001b[0;36mWrappedCythonOp.cython_operation\u001b[0;34m(self, values, axis, min_count, comp_ids, ngroups, **kwargs)\u001b[0m\n\u001b[1;32m    649\u001b[0m     \u001b[38;5;28;01mreturn\u001b[39;00m \u001b[38;5;28mself\u001b[39m\u001b[38;5;241m.\u001b[39m_ea_wrap_cython_operation(\n\u001b[1;32m    650\u001b[0m         values,\n\u001b[1;32m    651\u001b[0m         min_count\u001b[38;5;241m=\u001b[39mmin_count,\n\u001b[0;32m   (...)\u001b[0m\n\u001b[1;32m    654\u001b[0m         \u001b[38;5;241m*\u001b[39m\u001b[38;5;241m*\u001b[39mkwargs,\n\u001b[1;32m    655\u001b[0m     )\n\u001b[0;32m--> 657\u001b[0m \u001b[38;5;28;01mreturn\u001b[39;00m \u001b[38;5;28;43mself\u001b[39;49m\u001b[38;5;241;43m.\u001b[39;49m\u001b[43m_cython_op_ndim_compat\u001b[49m\u001b[43m(\u001b[49m\n\u001b[1;32m    658\u001b[0m \u001b[43m    \u001b[49m\u001b[43mvalues\u001b[49m\u001b[43m,\u001b[49m\n\u001b[1;32m    659\u001b[0m \u001b[43m    \u001b[49m\u001b[43mmin_count\u001b[49m\u001b[38;5;241;43m=\u001b[39;49m\u001b[43mmin_count\u001b[49m\u001b[43m,\u001b[49m\n\u001b[1;32m    660\u001b[0m \u001b[43m    \u001b[49m\u001b[43mngroups\u001b[49m\u001b[38;5;241;43m=\u001b[39;49m\u001b[43mngroups\u001b[49m\u001b[43m,\u001b[49m\n\u001b[1;32m    661\u001b[0m \u001b[43m    \u001b[49m\u001b[43mcomp_ids\u001b[49m\u001b[38;5;241;43m=\u001b[39;49m\u001b[43mcomp_ids\u001b[49m\u001b[43m,\u001b[49m\n\u001b[1;32m    662\u001b[0m \u001b[43m    \u001b[49m\u001b[43mmask\u001b[49m\u001b[38;5;241;43m=\u001b[39;49m\u001b[38;5;28;43;01mNone\u001b[39;49;00m\u001b[43m,\u001b[49m\n\u001b[1;32m    663\u001b[0m \u001b[43m    \u001b[49m\u001b[38;5;241;43m*\u001b[39;49m\u001b[38;5;241;43m*\u001b[39;49m\u001b[43mkwargs\u001b[49m\u001b[43m,\u001b[49m\n\u001b[1;32m    664\u001b[0m \u001b[43m\u001b[49m\u001b[43m)\u001b[49m\n",
      "File \u001b[0;32m~/.local/lib/python3.10/site-packages/pandas/core/groupby/ops.py:497\u001b[0m, in \u001b[0;36mWrappedCythonOp._cython_op_ndim_compat\u001b[0;34m(self, values, min_count, ngroups, comp_ids, mask, result_mask, **kwargs)\u001b[0m\n\u001b[1;32m    495\u001b[0m     \u001b[38;5;28;01mreturn\u001b[39;00m res\u001b[38;5;241m.\u001b[39mT\n\u001b[0;32m--> 497\u001b[0m \u001b[38;5;28;01mreturn\u001b[39;00m \u001b[38;5;28;43mself\u001b[39;49m\u001b[38;5;241;43m.\u001b[39;49m\u001b[43m_call_cython_op\u001b[49m\u001b[43m(\u001b[49m\n\u001b[1;32m    498\u001b[0m \u001b[43m    \u001b[49m\u001b[43mvalues\u001b[49m\u001b[43m,\u001b[49m\n\u001b[1;32m    499\u001b[0m \u001b[43m    \u001b[49m\u001b[43mmin_count\u001b[49m\u001b[38;5;241;43m=\u001b[39;49m\u001b[43mmin_count\u001b[49m\u001b[43m,\u001b[49m\n\u001b[1;32m    500\u001b[0m \u001b[43m    \u001b[49m\u001b[43mngroups\u001b[49m\u001b[38;5;241;43m=\u001b[39;49m\u001b[43mngroups\u001b[49m\u001b[43m,\u001b[49m\n\u001b[1;32m    501\u001b[0m \u001b[43m    \u001b[49m\u001b[43mcomp_ids\u001b[49m\u001b[38;5;241;43m=\u001b[39;49m\u001b[43mcomp_ids\u001b[49m\u001b[43m,\u001b[49m\n\u001b[1;32m    502\u001b[0m \u001b[43m    \u001b[49m\u001b[43mmask\u001b[49m\u001b[38;5;241;43m=\u001b[39;49m\u001b[43mmask\u001b[49m\u001b[43m,\u001b[49m\n\u001b[1;32m    503\u001b[0m \u001b[43m    \u001b[49m\u001b[43mresult_mask\u001b[49m\u001b[38;5;241;43m=\u001b[39;49m\u001b[43mresult_mask\u001b[49m\u001b[43m,\u001b[49m\n\u001b[1;32m    504\u001b[0m \u001b[43m    \u001b[49m\u001b[38;5;241;43m*\u001b[39;49m\u001b[38;5;241;43m*\u001b[39;49m\u001b[43mkwargs\u001b[49m\u001b[43m,\u001b[49m\n\u001b[1;32m    505\u001b[0m \u001b[43m\u001b[49m\u001b[43m)\u001b[49m\n",
      "File \u001b[0;32m~/.local/lib/python3.10/site-packages/pandas/core/groupby/ops.py:541\u001b[0m, in \u001b[0;36mWrappedCythonOp._call_cython_op\u001b[0;34m(self, values, min_count, ngroups, comp_ids, mask, result_mask, **kwargs)\u001b[0m\n\u001b[1;32m    540\u001b[0m out_shape \u001b[38;5;241m=\u001b[39m \u001b[38;5;28mself\u001b[39m\u001b[38;5;241m.\u001b[39m_get_output_shape(ngroups, values)\n\u001b[0;32m--> 541\u001b[0m func \u001b[38;5;241m=\u001b[39m \u001b[38;5;28;43mself\u001b[39;49m\u001b[38;5;241;43m.\u001b[39;49m\u001b[43m_get_cython_function\u001b[49m\u001b[43m(\u001b[49m\u001b[38;5;28;43mself\u001b[39;49m\u001b[38;5;241;43m.\u001b[39;49m\u001b[43mkind\u001b[49m\u001b[43m,\u001b[49m\u001b[43m \u001b[49m\u001b[38;5;28;43mself\u001b[39;49m\u001b[38;5;241;43m.\u001b[39;49m\u001b[43mhow\u001b[49m\u001b[43m,\u001b[49m\u001b[43m \u001b[49m\u001b[43mvalues\u001b[49m\u001b[38;5;241;43m.\u001b[39;49m\u001b[43mdtype\u001b[49m\u001b[43m,\u001b[49m\u001b[43m \u001b[49m\u001b[43mis_numeric\u001b[49m\u001b[43m)\u001b[49m\n\u001b[1;32m    542\u001b[0m values \u001b[38;5;241m=\u001b[39m \u001b[38;5;28mself\u001b[39m\u001b[38;5;241m.\u001b[39m_get_cython_vals(values)\n",
      "File \u001b[0;32m~/.local/lib/python3.10/site-packages/pandas/core/groupby/ops.py:173\u001b[0m, in \u001b[0;36mWrappedCythonOp._get_cython_function\u001b[0;34m(cls, kind, how, dtype, is_numeric)\u001b[0m\n\u001b[1;32m    171\u001b[0m \u001b[38;5;28;01mif\u001b[39;00m \u001b[38;5;124m\"\u001b[39m\u001b[38;5;124mobject\u001b[39m\u001b[38;5;124m\"\u001b[39m \u001b[38;5;129;01mnot\u001b[39;00m \u001b[38;5;129;01min\u001b[39;00m f\u001b[38;5;241m.\u001b[39m__signatures__:\n\u001b[1;32m    172\u001b[0m     \u001b[38;5;66;03m# raise NotImplementedError here rather than TypeError later\u001b[39;00m\n\u001b[0;32m--> 173\u001b[0m     \u001b[38;5;28;01mraise\u001b[39;00m \u001b[38;5;167;01mNotImplementedError\u001b[39;00m(\n\u001b[1;32m    174\u001b[0m         \u001b[38;5;124mf\u001b[39m\u001b[38;5;124m\"\u001b[39m\u001b[38;5;124mfunction is not implemented for this dtype: \u001b[39m\u001b[38;5;124m\"\u001b[39m\n\u001b[1;32m    175\u001b[0m         \u001b[38;5;124mf\u001b[39m\u001b[38;5;124m\"\u001b[39m\u001b[38;5;124m[how->\u001b[39m\u001b[38;5;132;01m{\u001b[39;00mhow\u001b[38;5;132;01m}\u001b[39;00m\u001b[38;5;124m,dtype->\u001b[39m\u001b[38;5;132;01m{\u001b[39;00mdtype_str\u001b[38;5;132;01m}\u001b[39;00m\u001b[38;5;124m]\u001b[39m\u001b[38;5;124m\"\u001b[39m\n\u001b[1;32m    176\u001b[0m     )\n\u001b[1;32m    177\u001b[0m \u001b[38;5;28;01mreturn\u001b[39;00m f\n",
      "\u001b[0;31mNotImplementedError\u001b[0m: function is not implemented for this dtype: [how->mean,dtype->object]",
      "\nDuring handling of the above exception, another exception occurred:\n",
      "\u001b[0;31mValueError\u001b[0m                                Traceback (most recent call last)",
      "File \u001b[0;32m~/.local/lib/python3.10/site-packages/pandas/core/nanops.py:1692\u001b[0m, in \u001b[0;36m_ensure_numeric\u001b[0;34m(x)\u001b[0m\n\u001b[1;32m   1691\u001b[0m \u001b[38;5;28;01mtry\u001b[39;00m:\n\u001b[0;32m-> 1692\u001b[0m     x \u001b[38;5;241m=\u001b[39m \u001b[38;5;28;43mfloat\u001b[39;49m\u001b[43m(\u001b[49m\u001b[43mx\u001b[49m\u001b[43m)\u001b[49m\n\u001b[1;32m   1693\u001b[0m \u001b[38;5;28;01mexcept\u001b[39;00m (\u001b[38;5;167;01mTypeError\u001b[39;00m, \u001b[38;5;167;01mValueError\u001b[39;00m):\n\u001b[1;32m   1694\u001b[0m     \u001b[38;5;66;03m# e.g. \"1+1j\" or \"foo\"\u001b[39;00m\n",
      "\u001b[0;31mValueError\u001b[0m: could not convert string to float: \"HargraveHillOnioBoniMitchellObinnaKayChinScottHendersonHaoDellucciGerasimovYenMcWilliamsAzikiweMaggardClementsLombardoClarkeOsborneLavineBianchiTylerMartinOkagbueBucchoO'BrienT'ienClarkHammondBrownlessGlauertPisanoPalermoBallardCavenaghReadPostleBuleyLeonardMillsOnyeoruluBeitNdukakuSharpeOsborneHeapColeFuHungDunbabinMauldonParsonsKoWelchDuncanChidozieCameronCalabresiZetticciMacDonaldKennedyHeKaodilinakachukwuArthurLiChiaVasinForwoodTaylorMadukweBennelongMorganAlexeevaMilneLiClaytonMacleanChigolumWilkinsonTreacyHuTaubmanRobinsonPintoHawkinsFuHoCampbellAshboltRozierOgbonnayaCocciT'aoFordTsaiOnwumeluGrahamMoranOnuoraMcDonaldGlassmanMillerMillarHayCh'ienCattaneoLucasSergeyevSmithPachecoSynnotJohnstonTsaoIfesinachiDimauroHughesMorrisonMatveyevaRoseJessMortonRossiReppertCh'iuFieldingZetticciBoyleDubininaChiazagomekpereWallworkDavidsonO'DonnellAhmedChuangTienChangEfremovHartleyChiuPokrovskiiSkinnerMcEncroeGordonTs'aiYuanHunterHsiehKnowlesDayTsaoNwabugwuYoungKerrMarreroPisanoBrownFreemanSeleznyovIkedinachukwuAmosSimmonsRobinsonBianchiChenIbrahimovaNolanScottMonaldoColeAngeloKoDistefanoFarrellTingBlackWhiteheadIkemefunaMorrisonCelisChengMillsOuthwaitePaiMitchellFranklinKoFiskChiangHeathDellucciLiDe SalisT'angRichardsonStevensonWeiPisaniMannaRicciCarrFindlayHughesChukwuemekaGenoveseSwiftRossUspenskyCookNewboldHeHiltonSunEvansOlisanugoBrookesElewechiPisanoAnkudinovBurnsLewisKirbyMartinTanHsiaWesterbergKryukovaSeleznevaFreemanLoKingForbesMacleodPisanoVassilievMacartneyChinLuWaltonBrookesShihFerreiraUkaegbunamDavideLittleBurnsHanReichardPriceLuRitchieMackenziePendergrassEvansBillsonTengCh'angGordonObialoLinMcKayRevellRickardsBegumOnyinyechukwukaMaOkwuadigboChanGrecoLombardiAlexandrovaFallaciHudsonMaiStoutDuncanAvdeyevaCrawfordGetherLarionovaSteinhoffPaiCraigCh'iuRahmanMcMillanPickeringMiramsJideoforBellMcIntyrePagnottoFengDonaldsonChambersMarceloEjimoforDaleStonebrakerAndersonSageseGrubbNapolitaniAkeroydWallaceSmallBledsoeWertheimJarvisP'anPugliesiBlakeyAchebeRussoMaccallumWatkinsMitchelFerdinandChinagoromWalkerHaoSavageCooperMazziNichollsYuanGolubovChenKambinachiFlemingCunninghamChinwemmaYinTs'aiJenPrestonCodyMilaniOnyemauchechukwuGellKirillovaOnyemauchechukwuMueckeHsiehAzubuikeFullerAshleyTs'uiChidozieMacleanBurnsChuBeluchiWilliamsonMcKenziePittsShenShihOwensVercoGalkinSummersMunroVirgoPadovanoTaoFraserAlleyHowellsHooperRiceIkennaDavidePiazzaBlackChiabuotuGallagherShawLloydAventShawYuanHawkinsTrentiniCameronWuOkoliCh'engNwokezuikeAbbieJenUnaiponWanChambersPettitBaresiIheanachoNucciRohuO'LoghlenEvansMcGregorAndrewsChiazagomekpereChidiebeleGregoryBednallJenSheSimmonsFraserSeabrookBarwellBallSungT'ienFallaciLiChukwukadibiaOluchukwuWollstonecraftThomsenLambGallagherHeathTs'aiKnuppShephardAvdeevaHsuBuchananYehY?anLinSchofieldWallMilaniEjimoforWickhamBirdWoodCh'inYusupovJibunohTs'uiWilderMacleanMcNessColesBensonGilbertL?GrayWrightPalermaY?anWeiPadovesiFranklinMcGregorHsingWatsonHawkinsGinnArtamonovaHansenPaiLarsenMurphyEkechukwuJohnsonBardinTalbotMcGregorZikoranaudodimmaMaiNaylorPintoCrawfordVolkovaCh'iuAbramovichTimmsHamiltonChengKoChukwuebukaMacDonaldLampungmeiuaEnyinnayaMaWoodSmithIngramHebertDumetochukwuJamiesonChiganuWoodsBluettChapmanUdobataPalermoFallaciPerryMaslovaMcLeanPatersonTisdallMironovaNdubuezeStephensonMullanNortheyPatersonMacleanColmanJacksonHanWilkieBrayAnnSouterGrecoBlackDuncanMitchellFerrariDicksonHoldenPageSamuelFittsTs'uiMillarDemuthGenoveseLawlessBrooksIgnatyevaBalmainMillarLi FontiBeneventiDespeissisHsiehLongoManciniGrantBrennanRischbiethOtutodilichukwuThomasFiorentiniHughesMcIntoshBaranovaGenoveseSorokinaErvinNobleParkinDochertyL?JohnstonePhamBergamaschiMurphyOsinachiMuravyovChidiegwuLucchesiHargravesBuntonCameronKungContiSimsMcGregorChuDumetolisaWanCameronTretiakovChungLaiDavidsonJusticeEwingChinMarshallGrantNnamutaezinwaFerriAndrewsMurrayMcWilliamCarterCh'iuTsaoFanucciVasilievaLongoBocharovaMorresVogelWisdomShahanChidozieHaywardAlexeevaCalabresiLettiereNnamutaezinwaYinGolubevFedorovKennedyChanHsuWhiteTsaoHudsonKinlawLuccianoOmeokachieTikhonovManciniTuanJohnstoneRomaniBaxterPirozziSungRogersMillsOsonduagwuikeMcIntyreAitkenMacintyreSimpsonMetcalfeDaleByrnePraedLaurensWoodsBykovPirogovaSturtPanicucciFranklinP'engChiangGrantSicilianiYoungMitchellLuccheseHewittEndrizziLudowiciLarsonChigolumLuTuanLandmanLongoAlexeyevaSimmonsIngramOkekeShaoDiribeMacgroartyMcDonaldMazzantiKellyDavisonTrentiniHsuZhirovEspinosaWallaceBarbourWrightUlyanovaAkabuezePintoMcNeilJohnsonKaeppelShihYudinaAkabuezeOziomaSuJamisonHardimanO'BrienTaoBucklandGenoveseVincentBlackburnDuncanMacarthurMedvedevSholesRolonBlighDavidsonLambleMooreJoseTrevisaniSchofieldStewartJamiesonBrooksChinweikeSimpkinsonWalkerConwayMaslowL?GalloOnyemachukwuDicksonP'anFrostWarnerIfeatuHsuehShihWhiddonOnyekachukwuNiuMannaMitchellEveringhamCrowtherSwiftWhiteGiordanoDaySerranoCunninghamStephensBevanMashmanTuMilanesiRomanoGoliweGrayWrightChiemekaChungSpitzerPotterMatthewsMiahBaddeleyHs?ToddIgnatieffLuArtemievOkonkwoBurnAndreyevEndrizziBrownNockOkekeBorchgrevinkBradleyHudsonVeltriGolibeCurtisHaydenCampbellCremonesiLiangGoughPadovesiYinKharlamovNichollsFlemingHanFergusonValdezPirozziColomboAkubunduY?JideoforRobertsonGrayTownsendPopeJensenThomsonWrightLombardoLeonardAmechiHortonOnioButusovWangAlexeievaHughesBageTangSwearingenMcGregorClarkeKozlovaNekrasovOlsenMazziBellKellyWillisWallaceChukwuraenyeMarshallHaywardMoreyToddForbesDe SalisMarshallChinedumMcKayOtutodilinnaPaiKruglovKingTingMcLeanZikoranachidimmaFuTrevisanoChuangTheusJenningsParkerTuanPattersonNashObidimkpaAmaechiFoxallBentleyBairdHowardSopuluchukwuRocherWhiteKomarRussoLoewenthalMontesKuoChengMcIntoshT'aoOnyekaozuluNwachukwuChristmasMooreGenovesiEllisNebechiY?ContiIgnatieffPerkinsConwayRizzoKrylovLi FontiTalbotMatthiasBoyleCh'engBrunoMillerFuO'TooleLedfordIadanzaLinBarclayKodilinyechukwuMcKenzieWoodsPadovesiGrecoGiordanoMillerRossTrevisanAleksandrovaDikeDellucciRitchieAikenheadKungMacDonaldOkwudilichukwuSimmonsH?HancockMcKayParkhillGolubovaNwankwoMcElyeaRosasPalermaMorrisPavlovaLuAngeloGorbunovRoweMikkelsenMbanefoHamiltonWestChukwuemekaCastiglioneYuanWilsonKentVasilievFedorovaRossiSamsonFentonPaytonBanksBentleyWongShenHuangYehShihDellucciRobertsLo DucaGloverJohnstoneCaponPatrickTaylorStephensonCollingridge de TourceyJibunohKorovinWardK'ungBarlowBensonToddBurginNnaifeOkwudiliolisaParkesPageAmaechiPanicucciNapolitaniBeersCostaIbezimakoMarceloLumholtzHillPirozziSynnotAnenechukwuPlantAzubuikeJohnstonBabbageBogolyubovChiaSmithFordGregsonHaySheUwakweBirdKrichauffWoodWhiteTuanHansonMacDonaldStanleyFischerOgochukwuAnenechiOkwudilichukwuHarrisonKoNormanMackenzieCraigieOnyekachiNwabugwuDeRoseCh'engObielumaniEmeryDufresneLeeHsingMossRossCalabreseYobachukwuMarchesiPickeringMazziTrentinoMarchesiAnayolisaPooleZhouBatesWadeTanNgozichukwukaDavyMaBarreraNgozichukwukaHallPadovesiLysaghtKelechiHansonKaoTuFallaciShenTs'uiChikezieHeDreyerShortTengMunroTangGreenhalghHuY?anOdiliH?YuanKolesnikovHsiungBronnerMironovaKuEvansHendersonSmithSunMcDonaldNiuZetticciLe GallienneP'engWheelerChristieKingWaynY?WangLorenzoNuttallOsborneHamiltonMcEwanLaiBoydTrevisaniHolmanBazhenovLinSinclairKempEbelegbulamTsengWilsonIadanzaY?ChukwunonsoTs'aiIfeanyichukwuBriggsMorrisonCh'angChidiegwuGowAmaechiBibiNiuArtemievaOwenFranklinLorenzoMurielMacDevittGibsonWhiteheadJohnstoneJohnsonKaoBrowneLeiAlexeevaTs'uiKungUnwinFraterBrennanGolubevVanmeterHs?CrawfordP'engFlemingWilsonYuryevaGalloChouShaoMazzantiEndrizziMonaldoOtutodilinnaMilneChiokeKovalevDohertyBaranovRobinsonBidencopeT'ienChungStevensonSeppeltMcDonaldMcGregorMcDonaldCrawfordGibbsMilneDicksonToscaniHughesAksenovK'ungMilanoChukwuemekaRiceBrownAksyonovaWalkerAbbottDavydovaWestSmithFiorentinoNkemjikaMarioDubininaHsiehMoranLiObialoBatesonLongBellUdineseMaoFanucciYehMooreThorntonWarlow-DaviesLeiWrightBoyleUwaezuokeArchambaultHolmwoodY?ChidubemRandallLeachWallaceMitchellRoweChibuezeWilsonYehGoliweAnthonyGenoveseDaveyParsonsTs'aiWittKazantsevaBeyerFriesTaoKaodilinakachukwuBeckerGrahamKuoZimmerCaldwellYirawalaDonaldsonOzerovaTs'aiTokarevaPagnottoSinclairHsuPanicucciBurnsDarlingMaggardThomasPonomaryovLuccheseSazonovaHentyAzukaAlexanderShenPadovesiLordPaiYuanPowellBrownMcChesneyEndrizziPanManfrinKennedyConwayLablancDoddMuirMilanesiLiaoUdokammaPalermaChimaijemNwagugheuzoYoungPadovesiLorenzoWeiRossChidaluPotterHuangNakayamaGardenerMilneKudryashovaKruglovaPalermaShafferChungWhitfieldRiouxBrimTrevisanoHelenaDuncanWellerBessMacDonaldMaiYehBabbageRandellPatersonMacleodRandolphKudryashovaGeorgeRobertsonYuryevaKingMontalvoScottYehViganoTuanTienHamiltonPowellWilliamsFetherstonhaughSeversonGroverMilaniChienMarshallUspenskayaThomsonHerreraMuseMarsdenArtemyevaChuangNichollsKnightWebbNebechukwuNixonLombardoHollandBryantHaoKovalevHsiehDebellisYenLuStewartMilanesiSalDouglasYatesWattPerryLavrovJenkinsWilsonBegumFrolovChikezieZetticciYangLinTs'uiGenoveseWilliamsonShoobridgePengWatsonSolomonTuanDanielsCaldwellFangDumetolisaMackayKenyonKennedySteereSutherlandLungCocciMatveyevaMooreYobachukwuFlemingAksenovFlemingUlyanovPirozziMahonShawScottVossWilsonGibsonChikeluYefremovaChuangGarranMorettiYaoBaldwinMahonMuirLyonsGardinerChapmanHePattersonCoppinTsaoStewartFallaciTienScottGerasimovaIfeatuOgbonnayaDegtyaryovMonaldoCarpenterTylerMartinWalkerBottrillJonesSanfordChienChimaobimJowersKirsovaT'ienKuChinLawChungGreavesO'DonnellHsiehChiuReevesChuMarshChangPottingerFollieroChambersYenAzikiweAllenMackayYuFangPageOlisaemekaBrennanSuttonHydeSungBeneventiCh'angBartonLucchesePopeHorrocksChikezieFryeMellorSutherlandTingChuangChuOzoemenaHowellsLuccheseWoronoffWilhelmNebechukwuAnenechukwuMeredithChinomsoWintersNapolitaniRobertsonMarchesiBibiRussoBallardThomsonMorrisonScottCameronTateNealOnyinyechukwukaFulksChristieBallOsitadimmaHaoHartleyAllanNnamdiRomanoLungFetherstonhaughDavidsonMaiMitchellKentPepperWilsonHarrimanFranklandPintoChiuYuTo RotAnenechukwuHendersonEllisKangLearMazzantiMarinoWinterT'ienHughes-JonesCodyEstradaDickinsonFanucciLenhardtCh'ienSunJamiesonNolanBarryPhelanHotchinAksyonovDuncanPisaniPisanoTennantTobennaVicarsYangT'angPaiFranklinPengHellerDunnHollandButusovAtkinsonObiajuluSuTraegerChinwenmaTuanRobinsonCarrPalermaChinezeMorettiHaleBensonMishinaAbramovichAlexeyevaKilgourSheppardNnannaNorrisClementsOkwukweMurphyElliottLoggiaWalshDolgorukovaSheCookMoyseySkinnerChinLungMellorRichardsonWanBradleyCalabreseOsonduagwuikePanCarpenterTrevisanHeMorettiChukwuelokaFiorentiniNepeanNwebubeUgochukwuMurphyDochertyHirstHoranCumbrae-StewartKinneyT'angToscanoNinaBrunoKennedyVasilyevBlackNapolitaniHughesLacrossMaughanPalermaSlateCh'angChiebukaT'anLazarevWarrenTrevisaniTrevisanoLiaoListonThompsonMilanesiRudduckUvarovaGalloTs'uiCoatesHickeyNortonManciniTienMurphyMacleanBlackburnWyattShaoNapolitanoMarceloFominNkemjikaCh'angCrottyCocciIroawuchiHysellWilliamsonGinikanwaMorleyComptonWanChangDyerWattsFedorovaChiedozieMarceloMcMillanHardyAdamsonMishinKangKellyBullFergusonSheHamiltonSummervilleTobennaVolkovaNucciKuHsuehRicciAzubuikeNevzorovaLeiSheehanKelechiMcElhoneAtkinsColomboOnyekachiThompsonShenYehHsiaZarateRobinsonNevzorovaQuinnPisanoArtemovaUgonnatubelumReillyOmeokachiePintoGardenerFangLabradorGibsonIvesOmeokachieMaoBrierlyMcDonaldBergamaschiBergamaschiLeesSeniorNwokezuikeEkwuemeEnyinnayaHydeCameronCarpenterLorenzoSleemanWilliamsonWangOnyemereDawsonNebechukwuGrahamMicklemOnyekaozuluKegleyThompsonRomanoBrownMackayHsuGiordanoAksenovLongHanBelovRuddMonaldoGidneyDaltonHsingWarnerWilliamsDunnKerrKingGriffithsHartzlerBaresiLambertGameChinagoromNobleCattaneoFraserJimenezOnioTomlinsonOnuohaVorobyovaToddCremonesiJowettYefremovaGadsdenNiChibuezeKangOsitadimmaSmithOkwudilichukwuPorterPonomarevYinAkobunduErmakovaOsterPeyserCocciSeleznevHuangZikoranachukwudimmaNkemdilimAndersonMcGregorPisanoOtutodilichukwuRickardAndreevSteeleBlackFedorovStehleAlexanderMcIntoshSungChinweubaT'aoCh'ienSuLoyauPowerHillHsingBakerMatthewsChouMazziBlackRichardsIgnatievMillerCoxLaneT'aoHsiungParryGolubevFowlerLockettAkabuezePhelpsFrederickBeneventiGreenCarlsonWattCaldwellEndrizziFiorentiniOwensWangHsiehFiorentinoEfremovTangTangFedorovGboliweKoSeleznyovaBevanSalierEvdokimovHsiaoWrightDellucciCaldwellEvseevKirwanLittleCh'iuMcKayKozlovaCoatesIgnatyevIgnatievMunzPalingClarkHsiaoPalermaGalloOtutodilinnaMcGregorH?FerrariNkemakonamKirillovAnkudinovGaffneyRomaniKambinachiHawkinsFangChouRamsbothamScannellTuanShaverWallisLo DucaWanLittleHillBoyleShenShephardDavidsonFerrariMatveyevWangYuanMcConnellAlexanderGordonDaviesSandersRiddleContiDavisonUdinesiBellJacksonMaBasedowNworaHoweyPaiKramerSochimaMarchesiHerrinGardinerAtkinsonHuSandersTsuiMarinoMorrisonMaiHs?ehDemaineDickinsonKazantsevaPanBischofAshtonWilsonKuOnyemachukwuKaoFerriYashinaYevseyevRapuokwuMaslovColeAllsopDumetochukwuUspenskyGarciaSotoStephensonTuColbertOwensDaluchiDysonDavideHs?NicollRomanoMannaDanielsHuntYuanCalabresiMartinMaslovaLaiWatsonGorbunovRaynorEberegbulamMannaChangKentMiccoBremerDavidsonMilneWeberLettiereTaoAlgarinKorovinaChidubemMetcalfGrecoLi FontiMaduekeChukwubuikemHollowayAnayolisaFangFanucciMcKayBogdanovaLavrentievMaduekeNiDennisL?CardusWhitehouseChiaCalabresiTs'uiMcCullochMillerMunroLaiMaoCrossSniderHarrisonHayTangIsayevaHillMorenoGillGreenOnioVaguineMannaToomeyBellBonwickHoltBrownCh'angFengLujanProkhorovaRomeroToscaniOnwuamaegbuKingTrentinoPeacockNnaifeChaoBareseUdegbulamDegtyaryovMitchellCh'enEfimovWadeMurphyHannahCartagenaHuntGreeceThomsonKrawczykChouSullivanCavillNichollsNnonsoNkemakonamLintonOnyekaozuluTobennaWangStephensonKangMillerKryukovHs?AndersonTrentinoTsouJohnsonAllanButcherHendersonObiajuluKellyIweobiegbunamWilliamsonChiagoziemKwemtoZitoUkaegbunamEdmondstoneChienYashinaGeorgTungChuangChidimmaMcCaneParry-OkedenKhanMurrayShillitoHowellsIkechukwuCoxLoStevensonSamsonovaNiuBockKungNwankwoQuinnKodilinyechukwuSullivanJackaTsaiEmerySharpCampbellAbbottPrestonFanucciJohnstoneHortZaytsevaSorokinaOnuchukwuOsonduagwuikeThomsonGoliweOnwuamaezeButusovRossiHuddartChinomsoHargreavesStoneAllanBellucciDuncanFindlayIzmailovaShenChinwemmaGolubovaMcKayFedorovaFloydLongCastiglioneMelendezKovalevaGillStevensonGilroySidorovBatesFanucciIroawuchiMartinSinclairSwansonFominMatveyevaMadukaegoFerriDavisTsouEjikemeifeuwaVolkovaRyrieAndreevTs'aoMontemayorWhiteheadFrenchConnorJonesLiDenisovaBensonKalininaChiawuotuSergeyevChristieRobertsonBareseTrouetteUgochukwuCribbMcIntyrePickeringFletcherPisanoHooperHeSomadinaMcIntoshBrombyHunterSheppardLaiPadovesiKempGreeceYoungForbesTs'uiMilanoChaoNapolitaniKovalevaChiebukaGordonConwayBattyRoweFarmerCameronJenningsEluemunoSwiftPisaniCameronYehGouldChidumagaChildsLungNapolitanoHutchinsonObiomaStetsonFanucciThaoMurphyMcConnellWalkerIheatuCh'enBrownBuddicomMcGregorThompsonWarrenUspenskayaKingTrentiniNeumannWaltersLiebeWhiteMyersRogovaRaffKanayochukwuObialoLiuPonomaryovCostaWeiPriceSawtellSimmonsPengBevanSokolovAmadiFindlayHsuEvansTungRossYangGayMorrisonMaoBrunoGrayChiangSungYenFerriHsuBishopDaigleCochranBibbJenCorranLoggiaWilliamsonGordonLynchK?OwensSteelePanNnabuifeBrayEsomchiIroawuchiRetanaRobsonBrunoPriceSwansonChangMorganOsitadimmaCunninghamFieldsColomboChikereBallardGormanJohnOkonkwoBoniPrattPageWilkinsonFinchMannaSalIweobiegbunamShaoHeathWuDownieFindlayCh'engTsaiAllanWangYancyMazziNucciY?NucciTangKaoChenYaoTsouBukowskiFrancisCalabresiChimaobimFengWhiteManfrinUdegbulamKaoRoss-WattMillerShubinCartwrightAzukaShenAbazuMurphyGratwickPaiBradyHsiungMilanoLewisDyerHsiaHicksYoungFrolovaSabbatiniIfeanachoHansonBradshawClunieHodgsonDobieOkwudilichukwuDyerBaresiLoTylerAparicioSalOziomaWoodMcKinnonLeesFeethamChuangAhmedOgochukwuObiajuluYegorovaTalbotChukwualukaWallacePisanoPalmerTanMordvinovaMorriceBarrettBowhayLeiBakerMacnamaraArnoldKochJonesOtitodilinnaYewenSimmonsMbadiweMunroPirozziPiazzaBaranovaMarinoSabbatiniBlackSchwartzSargentUdinesiLeeOzuluonyeLassetterIloerikaTanGoodwinRapuluolisaTsuiSummersBobrovPikeGearheartBrunoZikoranachidimmaMilanesiAhernDicksonMcDonaldFiorentiniBianchiFallaciPiccioKaodilinakachukwuAmaechiP'anIkemefunaWinnHardyChiuDohertyRussellPayneWindsorY?BrownBaileyAllnuttChristiePopeJohnstoneJonesGenoveseBaranovY?LoElliotCarandiniVinogradovaAlexandrovaBarkerBrownKorffMathewsMacrossanIllingworthMenhennittPalermoFyodorovDolgorukovaEvaP'anJenkinsShihNnamdiMitchellFindlayPisaniK?TrevisanoTrevisanoTuckerSchafferCh'angWalkerChuCrawfordDonaldsonKellyTs'aoMuravyovaLambertYoungHsuehRobertsTakasukaDawsonOliverWilsonHigginsMarshallReyeChibuezeMaslovChidumagaHs?WilloughbyOjioforCameronDalyDikeGreenChinomsoIjenduArcuriBaresiChristianTrevisaniAkabuezeDonaldsonBentleyIbezimakoCh'inMcDonaldFaulkWalkerBrownWuMillerChamberlinButtenshawWallaceCalabresiBryantTuElderTownsendMilanoMartinNiuArcuriCh'inNapolitaniDunnDeRoseHobbsAndersonUgochukwuKirsovaFergusonKellySheCreelThompsonMarinoSutherlandNicolayLoriSomervilleChristieGraveLoriChukwumaCh'ienBishopChibuzoCalabreseLoganSimmonsMaduabuchimYehStevensonKenechukwuDicksonVolkovaMitchellWongJamesWatsonFollieroFitzgeraldGarnerFollieroLucchesiNwabugwuAndrewsOtutodilinnaGrantDonaldsonSmithBinderZubarevDavydovaTengHsingWilderMolineuxCocciChikwenduFraserKorovinSidorovDuiganTaylorDonaldsonCrossMannaGibbonsAlgeranoffRoweGallowayGenoveseMiahSmithBurtonKamdibeRossHawksT'ienMacleanFrenchGreenwoodMistryFiorentiniScottSmithMossNwankwoAllanHendersonSutherlandMarsdenCrawfordDilibeSantiagoToscanoAfanasyevaOlisanugoPriestleyRobertsonIfeanachoLi FontiGoloubevLiaoSinclairRobertsTsouGrecoMcKenzieKerrCraigTengJamiesonKayHoltCh'enBakerFengSternbergShepherdBarnettGreeneJohnstonMillerWallaceNorthCalabreseRobertsFinchMarceloMatthewsGoddardSimpsonFengFollieroBrayCarpenterForbesAmaechiBurkeChiganuLuccheseLombardoGonzalezFordGillelandFullwoodMontalvoDoyneCaponRawlingAnkudinovaKerrMannaSicilianiPowellWhiteBrownRoseHanCalabreseRileyBiryukovBroadhurstGenovesiHsiehChukwudiIqbalTengDuncanGarrettMazziEdwardsSicilianiLogueO'BrienStewartBattHopeKruglovTrujilloPagnottoDeRoseChiangOnuoraManciniMossPanKuUspenskyKummCareyFarberFindlayYuBrownLindonCaldwellLi FontiCaponHuguleyHorsleyMassieSinghH?GrantLawKingRomanoParkerAitkenHughesPisaniY?anChinFuNiSunBocharovaSinghChiemenamWestPollardGodfreyMazziAllanBrownUvarovWisdomSmithChidimmaTingBergamaschiDyerJonesNebechiIbekweNwekeAbdulovChukwudiPerkinChukwudiSimpsonWallaceLi FontiBondStirlingUdegbunamCandlerFrancisMaiJohnsonShermanYaoKazakovaChiganuNucciSerenaMcLeanWilsonHsiungFollieroJohnstonPalermoNwabugwuEndrizziUdobataShawCumminsSaundersAngeloZhdanovWhiteChuEnyinnayaMcElhoneHarrisKaodilinakachukwuHoweKnepperMorrisMcDonaldReedTengHandOnyemauchechukwuChiangYobachiMunroTrujilloWilsonMillarBeneventiChungBerkeleyWrefordWollstonecraftCartwrightHarperStreetonT'ienCunninghamSmithForbesJohnstonMcDonaldChenCattaneoCh'engCrawfordGibsonNiuLawrenceWagnerArgyleOfodileChiemenamCraigArcherBrownT'ienHungScottRahmanCookeVolkovaHawesSmithSwantonGreenHanCrawfordBeaversChibugoAbdulovBuckleyPeelHoldenFindlayWyattRapuluolisaBucklandOnyeoruruLaneyFuTienTuanMessersmithBrookesJollyPagnottoLucchesiHughesBurnsLambertBensonParkesCastiglioneFinkAfamefunaPalmerZuyevaJenAlekseevaChiemenamChiemenamClarkFanucciCattaneoBentleyHolmesAustinCollierHs?MarinoFlynnChaoYehKleinMahmoodTuShcherbakovBrowneFergusonMosleyEverettKuoRouseFangChiemenamBurrowsTrevisanoSageseLongHsuehLazarevBenjaminRomanoYermolayevaSparksWhittakerHumphriesCremonesiKuTobennaOkwuadigboJohnstonRossTsouEndrizziElewechiChuMcGregorUgorjiWarlow-DaviesBuckleyFairleyBoothbyClarkeKoMcGregorFernandezPanEspositoKaeppelLambLeiContiYermolayevKerrWatersKolesnikovaSharwoodBufkinNwankwoWillisKungHowellsBevanJohnsonHigginsCoxSergeyevaNapolitaniBeathamHillChiuSunLawsonT'aoYaoBracewellHsuehHightowerGenovesiLoginovLafleurObidimkpaCh'angMasonSimonStangeWeiCh'engParsonsPanCameronYudinaUdineseChinweikeBergamaschiMillinerKnowlesGregorySukhorukovaFlemingKennedyKoDanielsKazantsevaFerriEluemunoO'BrienLavrovSomadinaColomboZitoGiordanoDavideLuccianoTaiOsinachiCunninghamMaiDownerBochsaBirdseyeMoonBellucciBareseFlemingBellChristmasScottChukwudiFangBlakeGreenSabbatiniBoardHoGordonMcDonaldBrowneBoyleMorettiUkaegbulamNwankwoNiuShawChristieOnyemauchechiCrawfordMellorChristieWatkinsOjioforMengMactierHsuehNnachetamYuReadLevyChiuAliyevRileyToscanoWarnerCh'iuPyeChungArcuriCaponTrevisanJohnMacleodBoyleChukwuemekaBryantHackettMajorOgbonnayaMaMartinJacksonTaiFindlayChengMartinSkinnerBirdsallTsaiOguejioforVinogradoffNobleChibugoIgnatyevaChiemelaPokrovskayaChukwuelokaChuSpenceLongoBrownUspenskyCantamessaAlexanderChinagoromYangMarceloSimmonsDeRoseOnuchukwuTeakleCrossJonesWalkerDe SalisOliverBrookesChallisIbeabuchiBlackallSchoenheimerFiorentinoFanCartwrightBromleyBergamaschiShubinaKinderShepherdsonShortBelovBursonNichollsKuVasilievaOmeokachieLindemanMcKinleyIbekweMcVeyMaiHanHorsfallClappAzikiweZubarevK?BallL?GrecoWatersSeleznyovaReidFraserHowarthDavisChiuSunderlandFanParryPalmerNicholsonAdamsCocciTrevisaniHayesShaoCastiglioneHurstAdamsonJamesPavlovaBarrettHouOkekeKodilinyechukwuBoyleHsiungKennedyNortonZakharovChimaraokeMcGregorBrownFredericksonMcGillSinclairHortonGilesSarrattBulgakovOnyemachukwuRiveroLaiHornungDennysYurievGibsonZikoranachidimmaMasonRizzoThomsonIgnatyevWoodsLoBurnRussellJenLo DucaOluchiWarnerSalierGibbonsMcCawleyYangVavilovTeagueChiemenamHughesLoggiaCombesOnwukaScottOsonduagwuikeDonaldsonMaObiomaCampbellSimsMcKayHuangCampbellBoniGorbunovaGenoveseOfodileLoChukwuemekaArcuriGrahamMacleodChukwukadibiaTs'aiLuKentBlackMcMillanNgozichukwukaY?anSungKuOkonkwoKuSomayinaFullerCraigCremonesiFengH?JaraO'CallaghanLavrentyevTrevisanMasonTuckerTerrySantiagoWallaceKingMayNnachetamZhdanovaFangSinclairBegleyIkennaSunLettiereSmithChielokaCocciHansonMacleodRitchieIkemefunaChiangLevienOkonkwoMarceloCastroVoronovaLoggiaGrantMartelMengHayVoronoffTrevascusHansenCraigHallSunJacksonChigozieDouglasPettryPotterShawUdinesiBurrowsToscanoVoronkovSalKennedyGarlandDochertyFominWrightChinwenduWhiteHaleRossNkemdilimMcMillanDukeBradburyCreminGilchristShihPaganSandersonSamsonovaSandoverChuOwenHurstHardingSmithMooreKorovinaHardyShawKnightBrunyIkedinachukwuYinMishinaGrahamJohnstonLeiChimaijemConverseReidBelsteadDickinsonNworaLoggiaRoweUlyanovaRemingtonMishinAyersCocciMackenzieAkabuezeHydeNwabugwuChinHeVachonBallMonaldoHamiltonKuoFanOlisaemekaHillOkekeMarcusRussellHovellChukwumaobimBoyleScottJohnstoneDellucciBrothersSandersZetticciHsuehWrightGalganoGrigoryevaRaymondBrodneyAngeloMillarBalashovAfanasyevChialukaYermolayevSaundersWrightMcGuffogChukwujamuikeScottBellSargoodHarringtonSutherlandMordvinovaSchofieldBairdWhitehouseOgochukwuOkoliVidlerCastiglioneBergamaschiRubinHoPerryRobsonWilsonBatesEberegbulamDaveyDe LucaHoWangSousaChiawuotuThomsonCarpenterYefimovaBlackCoxWallaceFanAlexeyevaStevensMarshOnwugharaHuangTrevisaniPavlovaDeanChiganuLungWalkerSchnaarsGeogheganGardenerChidiFuTingAshtonUwakweRicciJonesMcCullochTobeolisaBlackAkudinobiOlisaemekaArcuriFlemmingTs'uiAzarovMcCarthyStevensonChillReesDumoloWuHsiaHoldenAbramovaWilkinsRomaniIrelandSingletonSauveBoniBucchoSpencerEidsonHungMelvinRizzoCaponTs'aoFlemingChangGibbsDuncanOkwuadigboMcIntoshClarkMcKenzieTuanChidiebereWoolacottYenChuangAkhtarDancyDuiganHankinsonMyersUkaegbunamAkubunduSalStevensonTs'aoSungHs?ehHollowayWaltonTienDavideMilneBarlingEllisHsiaChukwujamuikeAlexanderJamiesonMacleodNorrisFollieroTateDavisDruryPadovanoMartinGenoveseCherkasovaBergamaschiYusupovaJordanEchezonachukwuWelchOkwudiliolisaMaysManfrinTengChinwenduDavisonCastroParkinMannaMatveyevaNwabugwuAbramowitzChapmanFiorentinoIkechukwuAllenHartCharltonTurnbullChiazagomekpereMillerIfesinachiMaWynneHoweYocumMooreY?anChinweubaLowrieShenGomesFiorentinoEberechukwuVirgoLiuKaoJonesFowlerContiStephensonFangSoaresGalloLeiDanielsKenechiPadovanoMedvedevaBradshawEvansLucasMondsShenFoveauxLongoCalabresiRandallHigginsCrawfordMartinTs'uiNicholasJamiesonFosterChiedozieOkwukweLumholtzSageseReillySinghGenoveseTikhonovMacDonaldAh MouyBareseWinter-IrvingWilsonFerrariMcCartneySalKaoHargreavesSievierNorthCruzSinclairVasilievGenovesiGorbunovaBullGiordanoBeggPickeringFanucciMcNaughtanStewartNwokeochaSokolovaBancroftTrevisaniTingLo DucaMarshallBandFerriWilsonConePatelHowell-PriceRowlandNnonsoHopkinsBlackSuWalkerFergusonSamaniegoMazziToscanoChiangSpinelliPaiChigoziePeavyYermakovCostaPugliesiLindellSorensonGalkinaMarinoSpearsWakelinEspositoChukwufumnanyaFlemingKennedyHanYermakovaChienCalabresiCh'inRoseYefremovKosovichLuTaplinWangReynoldsRowleyRishelEluemunoHsiaKellyWrightUvarovaDohertyAllenMaTuckerH?EsomchiPirogovSellsManciniIadanzaP'engSt ClairNixonCh'angPiccioWestonGroomTanTaoHsiehBurdekinLongoMorantSaniObialoVon DoussaSuAnayolisaWadeEnemuoBrownNikitinaBurnsWoodwardSpencerCostaMcLachlanWarrenRamsdenWenzKischMaiNewmanWilliamsChimezieNashDaviesLuBurrowsUdokammaAitkenTurnbullReillyKerrOlszewskiBellasisOkagbueVerjusH?NapolitaniSicilianiVoroninaHamiltonPiazzaAnayochukwuMarshall-HallPagnottoMorePiccioTochukwuGrahamTungP'engToscaniOkwuomaMorleyButlerCrawfordBrownGreeceHeathSalMilneWardleEnderbyHoughtonNgozichukwukaTsuiH?BaxterGrahamT'angY?anMaAbernathyPapeMaEarleHopmanMcKayClarkChukwuhaenyeLoFollieroHanHollowayJohnstonYefremovaObialoTrevisaniNaylorDouglasRogovaGiordanoOkwukweChalmersEvseyevParry-OkedenPicotReidGenovesiNeumayerMurrayTienParkesYipIngleVorobyovaNapolitaniCoffeyIstominNdubuezeFernandoMazziTuanBryantMadukaifeAbdullahCheathamHaoNixonLockBareseDuncanKaurJenkinsBoylePadovanoLi FontiGenoveseWatsonManciniAksenovLuHouStephensonCooperCrumpDiggsCarvossoKodilinyechukwuNorthSimpsonNworaChandlerKerrFurneauxKambinachiNicksonLinHerzNikitinaKoHighettJacksonNelsonRendallMcIntyreAllardyceWeatherfordJenMironovaSharpeOsborneChuChongChiemenamPritchardWallisPalermaFraserMengCherkasovaChienYoungTsaoHussainAndersonShawLuccianoGordonBoniHutchinsonWillmoreBitterFanucciGinikanwaManningLiangUchechukwuSungReynaLiangHoweBarreraBednallOtooleCremonesiDonaldsonMcKayKaneSheWatsonShihZikoranachukwudimmaTimperleyKenechukwuOnyekachukwuChristopherDuncanLawleyDoynePintoChinDavideTorresWimbleFerminMossDochertyMarceloFaddenZoxKennedyTuL?JenksCraceSolominaEmenikePalermaTrentiniCoatesHardingHillBrownEspositoTanChungHoughtonZikoranachidimmaBoagBaxterTienChimezieSloneHartleyLinTrentinoDunnLawGrigoryevaLuFallaciLeasonBrunerWallaceForbesWebbP'engHawkinsSimpsonChiangDalrympleChukwuemekaOjioforFanucciZubarevClaypoolEfremovBrookesDoyleAjuluchukwuLiaoOnuoraAksenovTrevisaniFentonChuObiutoNashHixsonFiorentiniWuMcMillanBirnieJohnstoneMillerShawChapmanY?anHowellsMcMillanThomasChifoLuBellucciParryMcIntyreFerrariBerryCattaneoFosterCh'engCurtisGoloubevQuesadaWrightYobachukwuWunderShenGoddardMcIntyreYenBurlingameRizzoChukwufumnanyaFraserRussellYefimovaPalermoShaoChimaraokeAzukaPaiWaltonHsiaoAbregoGibsonHughesGambrellRiekeNdubuaghaCoxUlyanovaTretiakovaAitkenGinikanwaCoatesMaultMcIntyreHenryKaoFrewinTrentinoTomlinsonRoystonMacleanHsingCatchpoleEfimovIjenduKwemtoBerryMordvinovaHingstonLawrencePadovanoCarterWebbT'anYatesLettiereHungFengGilbertRobbManfrinSmithRoweMoranWalkerMyersWallWilliamsOchoaBellucciGordonEluemunoHowarthKingGrantRichmondFiorentinoDicksonStevensMitchellNworieWentcherBentleyHayes-WilliamsJohnstoneTrevisanoTsuiOnyemauchechukwuChiemelaRobertsonP'engFrancisIkennaTaoSimsKuStantonLinFerriYinAvdeyevaTuChaoWelchYobannaGalloWilsonMarinoBaileyLungTs'aoChinwenmaBerryColomboHarrisBryanCh'engJenWangChenMazzantiNdubuezeMontesLuccheseHugginsWadeKenennaCartwrightPalermoButlerAlexanderSchneiderTsuiShihTretiakovaBareseLongoCowenMaiYuDuffyDalyBakerUvarovCostaGenovesiWrightChienezieTuUgochukwutubelumGoddardBeamGrayHsiungKuFiorentinoBucchoLettiereTaiSheppardMaxwellMaherRapuluchukwuEspositoCyrilTomlinsonCrawfordChikwadoHargreavesFergusonBurnsDiazKentishWattTownsendMarshPadovanoHamPatenCawthorneHerbertJenChaoEluemunoPirogovaBensonSicilianoAmechiSuBradleyCameronTsuiOkoliBogolyubovChuangMaNucciCardellBianchiPaiSuDavidsonBarrettVidalLungHawkinsChesnokovaChambersFerrariMcIntyreWarnerMcMillanAbernathyWatsonKershawReedMitchellWebbCampbellCaponOtutodilichukwuMcIntyreLombardoSimpsonLehrUpchurchPalermaColesHsuehKuoWoodhouseGibsonMossLiangSozonovForbesOnwuemelieTothHuntHughesBennettKayMilneLombardoOwensCharltonOverbyChifleyOliverDeRoseChuangRodriguezChuOnwumeluYobachiReillyAmadiRobinsonObioraCurtisFangChiaGearhartMcLeanMurphyKirbyLaneBergamaschiMillsWoodUspenskayaLiangWhiteRounsevellTs'aiIfeatuMillarIgwebuikeObidimkpaKeldieLiuKanayochukwuRileyRuizLeonardOnyekaozuluCarpenterBeneventiLewisElliottSheYuDavideDouglasBellucciUdineseMcFarlandFaneScottCraigChikeluY?anLongPowerNorrisMilaniHuntOluchukwuGloverMcCarthyChiuNorrissNikitinaHenryYudinaContiVolkovaBoniPhillipsShaoAitkenChaoChanWattsJenAmaechiMaslowRowleyToppTs'uiKodilinyechukwuK?LucasAndersonWeiBaldwinFosterGebhartTudawaliIloerikaOnyemauchechukwuCharltonTsengBlinovaNicholsonPlumbAllenBenfordChidiebereChijiokeRomanoWalkerBryantUrbanSutherlandWeiLongLloydGorshkovForbesLucchesiFariaYefremovGenovesiMarquezMarshallBednallBaresiObiajuluMcGregorLungFallaciFerriRowleyChidimmaSopuluchukwuTs'aoMaIweobiegbunamAzubuikeStewartKoAzubuikeAguirreAdamsYobannaCattaneoLungFollieroBryantAjuluchukwuCoxOhearnMunroeMorrisonParkhillY?HiltonLiHancockFollieroCristMiddletonWattsTretiakovO'KaneVasilyevaLorimerOnyekachukwuLaiTuHigginsChukwujekwuMcKayVincentMannaHsiehParsonsRootChiemezieToscaniSaadHopeBrookesFerrariRowntreeKennedyPooleOnwuamaezeMannaDwyerSergeyevaSturdeeAzikiweMorganVaginBrunoOsinachiHoGordonHuDochertyBrookesAngeloPughMcKenzieMichaelChiedozieHughesEvdokimovSmithNiPalermaYuanRapuokwuGrecoButusovWestEdithKorovinLajoieBergamaschiTorodeJamesOnwugharaWanSalinasNucciLuccianoShaoMcGregorChouAzikiweManciniDiribeGriffinAjuluchukwuWoodLiuWalker\"",
      "\nDuring handling of the above exception, another exception occurred:\n",
      "\u001b[0;31mValueError\u001b[0m                                Traceback (most recent call last)",
      "File \u001b[0;32m~/.local/lib/python3.10/site-packages/pandas/core/nanops.py:1696\u001b[0m, in \u001b[0;36m_ensure_numeric\u001b[0;34m(x)\u001b[0m\n\u001b[1;32m   1695\u001b[0m \u001b[38;5;28;01mtry\u001b[39;00m:\n\u001b[0;32m-> 1696\u001b[0m     x \u001b[38;5;241m=\u001b[39m \u001b[38;5;28;43mcomplex\u001b[39;49m\u001b[43m(\u001b[49m\u001b[43mx\u001b[49m\u001b[43m)\u001b[49m\n\u001b[1;32m   1697\u001b[0m \u001b[38;5;28;01mexcept\u001b[39;00m \u001b[38;5;167;01mValueError\u001b[39;00m \u001b[38;5;28;01mas\u001b[39;00m err:\n\u001b[1;32m   1698\u001b[0m     \u001b[38;5;66;03m# e.g. \"foo\"\u001b[39;00m\n",
      "\u001b[0;31mValueError\u001b[0m: complex() arg is a malformed string",
      "\nThe above exception was the direct cause of the following exception:\n",
      "\u001b[0;31mTypeError\u001b[0m                                 Traceback (most recent call last)",
      "Cell \u001b[0;32mIn[299], line 1\u001b[0m\n\u001b[0;32m----> 1\u001b[0m \u001b[43mdata\u001b[49m\u001b[38;5;241;43m.\u001b[39;49m\u001b[43mgroupby\u001b[49m\u001b[43m(\u001b[49m\u001b[43m[\u001b[49m\u001b[38;5;124;43m'\u001b[39;49m\u001b[38;5;124;43mGender\u001b[39;49m\u001b[38;5;124;43m'\u001b[39;49m\u001b[43m]\u001b[49m\u001b[43m)\u001b[49m\u001b[38;5;241;43m.\u001b[39;49m\u001b[43maggregate\u001b[49m\u001b[43m(\u001b[49m\u001b[43mnp\u001b[49m\u001b[38;5;241;43m.\u001b[39;49m\u001b[43mmean\u001b[49m\u001b[43m)\u001b[49m[\u001b[38;5;124m'\u001b[39m\u001b[38;5;124mIsActiveMember\u001b[39m\u001b[38;5;124m'\u001b[39m]\n",
      "File \u001b[0;32m~/.local/lib/python3.10/site-packages/pandas/core/groupby/generic.py:1269\u001b[0m, in \u001b[0;36mDataFrameGroupBy.aggregate\u001b[0;34m(self, func, engine, engine_kwargs, *args, **kwargs)\u001b[0m\n\u001b[1;32m   1266\u001b[0m func \u001b[38;5;241m=\u001b[39m maybe_mangle_lambdas(func)\n\u001b[1;32m   1268\u001b[0m op \u001b[38;5;241m=\u001b[39m GroupByApply(\u001b[38;5;28mself\u001b[39m, func, args, kwargs)\n\u001b[0;32m-> 1269\u001b[0m result \u001b[38;5;241m=\u001b[39m \u001b[43mop\u001b[49m\u001b[38;5;241;43m.\u001b[39;49m\u001b[43magg\u001b[49m\u001b[43m(\u001b[49m\u001b[43m)\u001b[49m\n\u001b[1;32m   1270\u001b[0m \u001b[38;5;28;01mif\u001b[39;00m \u001b[38;5;129;01mnot\u001b[39;00m is_dict_like(func) \u001b[38;5;129;01mand\u001b[39;00m result \u001b[38;5;129;01mis\u001b[39;00m \u001b[38;5;129;01mnot\u001b[39;00m \u001b[38;5;28;01mNone\u001b[39;00m:\n\u001b[1;32m   1271\u001b[0m     \u001b[38;5;28;01mreturn\u001b[39;00m result\n",
      "File \u001b[0;32m~/.local/lib/python3.10/site-packages/pandas/core/apply.py:171\u001b[0m, in \u001b[0;36mApply.agg\u001b[0;34m(self)\u001b[0m\n\u001b[1;32m    169\u001b[0m     f \u001b[38;5;241m=\u001b[39m com\u001b[38;5;241m.\u001b[39mget_cython_func(arg)\n\u001b[1;32m    170\u001b[0m     \u001b[38;5;28;01mif\u001b[39;00m f \u001b[38;5;129;01mand\u001b[39;00m \u001b[38;5;129;01mnot\u001b[39;00m args \u001b[38;5;129;01mand\u001b[39;00m \u001b[38;5;129;01mnot\u001b[39;00m kwargs:\n\u001b[0;32m--> 171\u001b[0m         \u001b[38;5;28;01mreturn\u001b[39;00m \u001b[38;5;28;43mgetattr\u001b[39;49m\u001b[43m(\u001b[49m\u001b[43mobj\u001b[49m\u001b[43m,\u001b[49m\u001b[43m \u001b[49m\u001b[43mf\u001b[49m\u001b[43m)\u001b[49m\u001b[43m(\u001b[49m\u001b[43m)\u001b[49m\n\u001b[1;32m    173\u001b[0m \u001b[38;5;66;03m# caller can react\u001b[39;00m\n\u001b[1;32m    174\u001b[0m \u001b[38;5;28;01mreturn\u001b[39;00m \u001b[38;5;28;01mNone\u001b[39;00m\n",
      "File \u001b[0;32m~/.local/lib/python3.10/site-packages/pandas/core/groupby/groupby.py:1855\u001b[0m, in \u001b[0;36mGroupBy.mean\u001b[0;34m(self, numeric_only, engine, engine_kwargs)\u001b[0m\n\u001b[1;32m   1853\u001b[0m     \u001b[38;5;28;01mreturn\u001b[39;00m \u001b[38;5;28mself\u001b[39m\u001b[38;5;241m.\u001b[39m_numba_agg_general(sliding_mean, engine_kwargs)\n\u001b[1;32m   1854\u001b[0m \u001b[38;5;28;01melse\u001b[39;00m:\n\u001b[0;32m-> 1855\u001b[0m     result \u001b[38;5;241m=\u001b[39m \u001b[38;5;28;43mself\u001b[39;49m\u001b[38;5;241;43m.\u001b[39;49m\u001b[43m_cython_agg_general\u001b[49m\u001b[43m(\u001b[49m\n\u001b[1;32m   1856\u001b[0m \u001b[43m        \u001b[49m\u001b[38;5;124;43m\"\u001b[39;49m\u001b[38;5;124;43mmean\u001b[39;49m\u001b[38;5;124;43m\"\u001b[39;49m\u001b[43m,\u001b[49m\n\u001b[1;32m   1857\u001b[0m \u001b[43m        \u001b[49m\u001b[43malt\u001b[49m\u001b[38;5;241;43m=\u001b[39;49m\u001b[38;5;28;43;01mlambda\u001b[39;49;00m\u001b[43m \u001b[49m\u001b[43mx\u001b[49m\u001b[43m:\u001b[49m\u001b[43m \u001b[49m\u001b[43mSeries\u001b[49m\u001b[43m(\u001b[49m\u001b[43mx\u001b[49m\u001b[43m)\u001b[49m\u001b[38;5;241;43m.\u001b[39;49m\u001b[43mmean\u001b[49m\u001b[43m(\u001b[49m\u001b[43mnumeric_only\u001b[49m\u001b[38;5;241;43m=\u001b[39;49m\u001b[43mnumeric_only\u001b[49m\u001b[43m)\u001b[49m\u001b[43m,\u001b[49m\n\u001b[1;32m   1858\u001b[0m \u001b[43m        \u001b[49m\u001b[43mnumeric_only\u001b[49m\u001b[38;5;241;43m=\u001b[39;49m\u001b[43mnumeric_only\u001b[49m\u001b[43m,\u001b[49m\n\u001b[1;32m   1859\u001b[0m \u001b[43m    \u001b[49m\u001b[43m)\u001b[49m\n\u001b[1;32m   1860\u001b[0m     \u001b[38;5;28;01mreturn\u001b[39;00m result\u001b[38;5;241m.\u001b[39m__finalize__(\u001b[38;5;28mself\u001b[39m\u001b[38;5;241m.\u001b[39mobj, method\u001b[38;5;241m=\u001b[39m\u001b[38;5;124m\"\u001b[39m\u001b[38;5;124mgroupby\u001b[39m\u001b[38;5;124m\"\u001b[39m)\n",
      "File \u001b[0;32m~/.local/lib/python3.10/site-packages/pandas/core/groupby/groupby.py:1507\u001b[0m, in \u001b[0;36mGroupBy._cython_agg_general\u001b[0;34m(self, how, alt, numeric_only, min_count, **kwargs)\u001b[0m\n\u001b[1;32m   1503\u001b[0m         result \u001b[38;5;241m=\u001b[39m \u001b[38;5;28mself\u001b[39m\u001b[38;5;241m.\u001b[39m_agg_py_fallback(values, ndim\u001b[38;5;241m=\u001b[39mdata\u001b[38;5;241m.\u001b[39mndim, alt\u001b[38;5;241m=\u001b[39malt)\n\u001b[1;32m   1505\u001b[0m     \u001b[38;5;28;01mreturn\u001b[39;00m result\n\u001b[0;32m-> 1507\u001b[0m new_mgr \u001b[38;5;241m=\u001b[39m \u001b[43mdata\u001b[49m\u001b[38;5;241;43m.\u001b[39;49m\u001b[43mgrouped_reduce\u001b[49m\u001b[43m(\u001b[49m\u001b[43marray_func\u001b[49m\u001b[43m)\u001b[49m\n\u001b[1;32m   1508\u001b[0m res \u001b[38;5;241m=\u001b[39m \u001b[38;5;28mself\u001b[39m\u001b[38;5;241m.\u001b[39m_wrap_agged_manager(new_mgr)\n\u001b[1;32m   1509\u001b[0m out \u001b[38;5;241m=\u001b[39m \u001b[38;5;28mself\u001b[39m\u001b[38;5;241m.\u001b[39m_wrap_aggregated_output(res)\n",
      "File \u001b[0;32m~/.local/lib/python3.10/site-packages/pandas/core/internals/managers.py:1503\u001b[0m, in \u001b[0;36mBlockManager.grouped_reduce\u001b[0;34m(self, func)\u001b[0m\n\u001b[1;32m   1499\u001b[0m \u001b[38;5;28;01mif\u001b[39;00m blk\u001b[38;5;241m.\u001b[39mis_object:\n\u001b[1;32m   1500\u001b[0m     \u001b[38;5;66;03m# split on object-dtype blocks bc some columns may raise\u001b[39;00m\n\u001b[1;32m   1501\u001b[0m     \u001b[38;5;66;03m#  while others do not.\u001b[39;00m\n\u001b[1;32m   1502\u001b[0m     \u001b[38;5;28;01mfor\u001b[39;00m sb \u001b[38;5;129;01min\u001b[39;00m blk\u001b[38;5;241m.\u001b[39m_split():\n\u001b[0;32m-> 1503\u001b[0m         applied \u001b[38;5;241m=\u001b[39m \u001b[43msb\u001b[49m\u001b[38;5;241;43m.\u001b[39;49m\u001b[43mapply\u001b[49m\u001b[43m(\u001b[49m\u001b[43mfunc\u001b[49m\u001b[43m)\u001b[49m\n\u001b[1;32m   1504\u001b[0m         result_blocks \u001b[38;5;241m=\u001b[39m extend_blocks(applied, result_blocks)\n\u001b[1;32m   1505\u001b[0m \u001b[38;5;28;01melse\u001b[39;00m:\n",
      "File \u001b[0;32m~/.local/lib/python3.10/site-packages/pandas/core/internals/blocks.py:329\u001b[0m, in \u001b[0;36mBlock.apply\u001b[0;34m(self, func, **kwargs)\u001b[0m\n\u001b[1;32m    323\u001b[0m \u001b[38;5;129m@final\u001b[39m\n\u001b[1;32m    324\u001b[0m \u001b[38;5;28;01mdef\u001b[39;00m \u001b[38;5;21mapply\u001b[39m(\u001b[38;5;28mself\u001b[39m, func, \u001b[38;5;241m*\u001b[39m\u001b[38;5;241m*\u001b[39mkwargs) \u001b[38;5;241m-\u001b[39m\u001b[38;5;241m>\u001b[39m \u001b[38;5;28mlist\u001b[39m[Block]:\n\u001b[1;32m    325\u001b[0m \u001b[38;5;250m    \u001b[39m\u001b[38;5;124;03m\"\"\"\u001b[39;00m\n\u001b[1;32m    326\u001b[0m \u001b[38;5;124;03m    apply the function to my values; return a block if we are not\u001b[39;00m\n\u001b[1;32m    327\u001b[0m \u001b[38;5;124;03m    one\u001b[39;00m\n\u001b[1;32m    328\u001b[0m \u001b[38;5;124;03m    \"\"\"\u001b[39;00m\n\u001b[0;32m--> 329\u001b[0m     result \u001b[38;5;241m=\u001b[39m \u001b[43mfunc\u001b[49m\u001b[43m(\u001b[49m\u001b[38;5;28;43mself\u001b[39;49m\u001b[38;5;241;43m.\u001b[39;49m\u001b[43mvalues\u001b[49m\u001b[43m,\u001b[49m\u001b[43m \u001b[49m\u001b[38;5;241;43m*\u001b[39;49m\u001b[38;5;241;43m*\u001b[39;49m\u001b[43mkwargs\u001b[49m\u001b[43m)\u001b[49m\n\u001b[1;32m    331\u001b[0m     \u001b[38;5;28;01mreturn\u001b[39;00m \u001b[38;5;28mself\u001b[39m\u001b[38;5;241m.\u001b[39m_split_op_result(result)\n",
      "File \u001b[0;32m~/.local/lib/python3.10/site-packages/pandas/core/groupby/groupby.py:1503\u001b[0m, in \u001b[0;36mGroupBy._cython_agg_general.<locals>.array_func\u001b[0;34m(values)\u001b[0m\n\u001b[1;32m   1490\u001b[0m     result \u001b[38;5;241m=\u001b[39m \u001b[38;5;28mself\u001b[39m\u001b[38;5;241m.\u001b[39mgrouper\u001b[38;5;241m.\u001b[39m_cython_operation(\n\u001b[1;32m   1491\u001b[0m         \u001b[38;5;124m\"\u001b[39m\u001b[38;5;124maggregate\u001b[39m\u001b[38;5;124m\"\u001b[39m,\n\u001b[1;32m   1492\u001b[0m         values,\n\u001b[0;32m   (...)\u001b[0m\n\u001b[1;32m   1496\u001b[0m         \u001b[38;5;241m*\u001b[39m\u001b[38;5;241m*\u001b[39mkwargs,\n\u001b[1;32m   1497\u001b[0m     )\n\u001b[1;32m   1498\u001b[0m \u001b[38;5;28;01mexcept\u001b[39;00m \u001b[38;5;167;01mNotImplementedError\u001b[39;00m:\n\u001b[1;32m   1499\u001b[0m     \u001b[38;5;66;03m# generally if we have numeric_only=False\u001b[39;00m\n\u001b[1;32m   1500\u001b[0m     \u001b[38;5;66;03m# and non-applicable functions\u001b[39;00m\n\u001b[1;32m   1501\u001b[0m     \u001b[38;5;66;03m# try to python agg\u001b[39;00m\n\u001b[1;32m   1502\u001b[0m     \u001b[38;5;66;03m# TODO: shouldn't min_count matter?\u001b[39;00m\n\u001b[0;32m-> 1503\u001b[0m     result \u001b[38;5;241m=\u001b[39m \u001b[38;5;28;43mself\u001b[39;49m\u001b[38;5;241;43m.\u001b[39;49m\u001b[43m_agg_py_fallback\u001b[49m\u001b[43m(\u001b[49m\u001b[43mvalues\u001b[49m\u001b[43m,\u001b[49m\u001b[43m \u001b[49m\u001b[43mndim\u001b[49m\u001b[38;5;241;43m=\u001b[39;49m\u001b[43mdata\u001b[49m\u001b[38;5;241;43m.\u001b[39;49m\u001b[43mndim\u001b[49m\u001b[43m,\u001b[49m\u001b[43m \u001b[49m\u001b[43malt\u001b[49m\u001b[38;5;241;43m=\u001b[39;49m\u001b[43malt\u001b[49m\u001b[43m)\u001b[49m\n\u001b[1;32m   1505\u001b[0m \u001b[38;5;28;01mreturn\u001b[39;00m result\n",
      "File \u001b[0;32m~/.local/lib/python3.10/site-packages/pandas/core/groupby/groupby.py:1457\u001b[0m, in \u001b[0;36mGroupBy._agg_py_fallback\u001b[0;34m(self, values, ndim, alt)\u001b[0m\n\u001b[1;32m   1452\u001b[0m     ser \u001b[38;5;241m=\u001b[39m df\u001b[38;5;241m.\u001b[39miloc[:, \u001b[38;5;241m0\u001b[39m]\n\u001b[1;32m   1454\u001b[0m \u001b[38;5;66;03m# We do not get here with UDFs, so we know that our dtype\u001b[39;00m\n\u001b[1;32m   1455\u001b[0m \u001b[38;5;66;03m#  should always be preserved by the implemented aggregations\u001b[39;00m\n\u001b[1;32m   1456\u001b[0m \u001b[38;5;66;03m# TODO: Is this exactly right; see WrappedCythonOp get_result_dtype?\u001b[39;00m\n\u001b[0;32m-> 1457\u001b[0m res_values \u001b[38;5;241m=\u001b[39m \u001b[38;5;28;43mself\u001b[39;49m\u001b[38;5;241;43m.\u001b[39;49m\u001b[43mgrouper\u001b[49m\u001b[38;5;241;43m.\u001b[39;49m\u001b[43magg_series\u001b[49m\u001b[43m(\u001b[49m\u001b[43mser\u001b[49m\u001b[43m,\u001b[49m\u001b[43m \u001b[49m\u001b[43malt\u001b[49m\u001b[43m,\u001b[49m\u001b[43m \u001b[49m\u001b[43mpreserve_dtype\u001b[49m\u001b[38;5;241;43m=\u001b[39;49m\u001b[38;5;28;43;01mTrue\u001b[39;49;00m\u001b[43m)\u001b[49m\n\u001b[1;32m   1459\u001b[0m \u001b[38;5;28;01mif\u001b[39;00m \u001b[38;5;28misinstance\u001b[39m(values, Categorical):\n\u001b[1;32m   1460\u001b[0m     \u001b[38;5;66;03m# Because we only get here with known dtype-preserving\u001b[39;00m\n\u001b[1;32m   1461\u001b[0m     \u001b[38;5;66;03m#  reductions, we cast back to Categorical.\u001b[39;00m\n\u001b[1;32m   1462\u001b[0m     \u001b[38;5;66;03m# TODO: if we ever get \"rank\" working, exclude it here.\u001b[39;00m\n\u001b[1;32m   1463\u001b[0m     res_values \u001b[38;5;241m=\u001b[39m \u001b[38;5;28mtype\u001b[39m(values)\u001b[38;5;241m.\u001b[39m_from_sequence(res_values, dtype\u001b[38;5;241m=\u001b[39mvalues\u001b[38;5;241m.\u001b[39mdtype)\n",
      "File \u001b[0;32m~/.local/lib/python3.10/site-packages/pandas/core/groupby/ops.py:994\u001b[0m, in \u001b[0;36mBaseGrouper.agg_series\u001b[0;34m(self, obj, func, preserve_dtype)\u001b[0m\n\u001b[1;32m    987\u001b[0m \u001b[38;5;28;01mif\u001b[39;00m \u001b[38;5;28mlen\u001b[39m(obj) \u001b[38;5;241m>\u001b[39m \u001b[38;5;241m0\u001b[39m \u001b[38;5;129;01mand\u001b[39;00m \u001b[38;5;129;01mnot\u001b[39;00m \u001b[38;5;28misinstance\u001b[39m(obj\u001b[38;5;241m.\u001b[39m_values, np\u001b[38;5;241m.\u001b[39mndarray):\n\u001b[1;32m    988\u001b[0m     \u001b[38;5;66;03m# we can preserve a little bit more aggressively with EA dtype\u001b[39;00m\n\u001b[1;32m    989\u001b[0m     \u001b[38;5;66;03m#  because maybe_cast_pointwise_result will do a try/except\u001b[39;00m\n\u001b[1;32m    990\u001b[0m     \u001b[38;5;66;03m#  with _from_sequence.  NB we are assuming here that _from_sequence\u001b[39;00m\n\u001b[1;32m    991\u001b[0m     \u001b[38;5;66;03m#  is sufficiently strict that it casts appropriately.\u001b[39;00m\n\u001b[1;32m    992\u001b[0m     preserve_dtype \u001b[38;5;241m=\u001b[39m \u001b[38;5;28;01mTrue\u001b[39;00m\n\u001b[0;32m--> 994\u001b[0m result \u001b[38;5;241m=\u001b[39m \u001b[38;5;28;43mself\u001b[39;49m\u001b[38;5;241;43m.\u001b[39;49m\u001b[43m_aggregate_series_pure_python\u001b[49m\u001b[43m(\u001b[49m\u001b[43mobj\u001b[49m\u001b[43m,\u001b[49m\u001b[43m \u001b[49m\u001b[43mfunc\u001b[49m\u001b[43m)\u001b[49m\n\u001b[1;32m    996\u001b[0m npvalues \u001b[38;5;241m=\u001b[39m lib\u001b[38;5;241m.\u001b[39mmaybe_convert_objects(result, try_float\u001b[38;5;241m=\u001b[39m\u001b[38;5;28;01mFalse\u001b[39;00m)\n\u001b[1;32m    997\u001b[0m \u001b[38;5;28;01mif\u001b[39;00m preserve_dtype:\n",
      "File \u001b[0;32m~/.local/lib/python3.10/site-packages/pandas/core/groupby/ops.py:1015\u001b[0m, in \u001b[0;36mBaseGrouper._aggregate_series_pure_python\u001b[0;34m(self, obj, func)\u001b[0m\n\u001b[1;32m   1012\u001b[0m splitter \u001b[38;5;241m=\u001b[39m \u001b[38;5;28mself\u001b[39m\u001b[38;5;241m.\u001b[39m_get_splitter(obj, axis\u001b[38;5;241m=\u001b[39m\u001b[38;5;241m0\u001b[39m)\n\u001b[1;32m   1014\u001b[0m \u001b[38;5;28;01mfor\u001b[39;00m i, group \u001b[38;5;129;01min\u001b[39;00m \u001b[38;5;28menumerate\u001b[39m(splitter):\n\u001b[0;32m-> 1015\u001b[0m     res \u001b[38;5;241m=\u001b[39m \u001b[43mfunc\u001b[49m\u001b[43m(\u001b[49m\u001b[43mgroup\u001b[49m\u001b[43m)\u001b[49m\n\u001b[1;32m   1016\u001b[0m     res \u001b[38;5;241m=\u001b[39m libreduction\u001b[38;5;241m.\u001b[39mextract_result(res)\n\u001b[1;32m   1018\u001b[0m     \u001b[38;5;28;01mif\u001b[39;00m \u001b[38;5;129;01mnot\u001b[39;00m initialized:\n\u001b[1;32m   1019\u001b[0m         \u001b[38;5;66;03m# We only do this validation on the first iteration\u001b[39;00m\n",
      "File \u001b[0;32m~/.local/lib/python3.10/site-packages/pandas/core/groupby/groupby.py:1857\u001b[0m, in \u001b[0;36mGroupBy.mean.<locals>.<lambda>\u001b[0;34m(x)\u001b[0m\n\u001b[1;32m   1853\u001b[0m     \u001b[38;5;28;01mreturn\u001b[39;00m \u001b[38;5;28mself\u001b[39m\u001b[38;5;241m.\u001b[39m_numba_agg_general(sliding_mean, engine_kwargs)\n\u001b[1;32m   1854\u001b[0m \u001b[38;5;28;01melse\u001b[39;00m:\n\u001b[1;32m   1855\u001b[0m     result \u001b[38;5;241m=\u001b[39m \u001b[38;5;28mself\u001b[39m\u001b[38;5;241m.\u001b[39m_cython_agg_general(\n\u001b[1;32m   1856\u001b[0m         \u001b[38;5;124m\"\u001b[39m\u001b[38;5;124mmean\u001b[39m\u001b[38;5;124m\"\u001b[39m,\n\u001b[0;32m-> 1857\u001b[0m         alt\u001b[38;5;241m=\u001b[39m\u001b[38;5;28;01mlambda\u001b[39;00m x: \u001b[43mSeries\u001b[49m\u001b[43m(\u001b[49m\u001b[43mx\u001b[49m\u001b[43m)\u001b[49m\u001b[38;5;241;43m.\u001b[39;49m\u001b[43mmean\u001b[49m\u001b[43m(\u001b[49m\u001b[43mnumeric_only\u001b[49m\u001b[38;5;241;43m=\u001b[39;49m\u001b[43mnumeric_only\u001b[49m\u001b[43m)\u001b[49m,\n\u001b[1;32m   1858\u001b[0m         numeric_only\u001b[38;5;241m=\u001b[39mnumeric_only,\n\u001b[1;32m   1859\u001b[0m     )\n\u001b[1;32m   1860\u001b[0m     \u001b[38;5;28;01mreturn\u001b[39;00m result\u001b[38;5;241m.\u001b[39m__finalize__(\u001b[38;5;28mself\u001b[39m\u001b[38;5;241m.\u001b[39mobj, method\u001b[38;5;241m=\u001b[39m\u001b[38;5;124m\"\u001b[39m\u001b[38;5;124mgroupby\u001b[39m\u001b[38;5;124m\"\u001b[39m)\n",
      "File \u001b[0;32m~/.local/lib/python3.10/site-packages/pandas/core/generic.py:11556\u001b[0m, in \u001b[0;36mNDFrame._add_numeric_operations.<locals>.mean\u001b[0;34m(self, axis, skipna, numeric_only, **kwargs)\u001b[0m\n\u001b[1;32m  11539\u001b[0m \u001b[38;5;129m@doc\u001b[39m(\n\u001b[1;32m  11540\u001b[0m     _num_doc,\n\u001b[1;32m  11541\u001b[0m     desc\u001b[38;5;241m=\u001b[39m\u001b[38;5;124m\"\u001b[39m\u001b[38;5;124mReturn the mean of the values over the requested axis.\u001b[39m\u001b[38;5;124m\"\u001b[39m,\n\u001b[0;32m   (...)\u001b[0m\n\u001b[1;32m  11554\u001b[0m     \u001b[38;5;241m*\u001b[39m\u001b[38;5;241m*\u001b[39mkwargs,\n\u001b[1;32m  11555\u001b[0m ):\n\u001b[0;32m> 11556\u001b[0m     \u001b[38;5;28;01mreturn\u001b[39;00m \u001b[43mNDFrame\u001b[49m\u001b[38;5;241;43m.\u001b[39;49m\u001b[43mmean\u001b[49m\u001b[43m(\u001b[49m\u001b[38;5;28;43mself\u001b[39;49m\u001b[43m,\u001b[49m\u001b[43m \u001b[49m\u001b[43maxis\u001b[49m\u001b[43m,\u001b[49m\u001b[43m \u001b[49m\u001b[43mskipna\u001b[49m\u001b[43m,\u001b[49m\u001b[43m \u001b[49m\u001b[43mnumeric_only\u001b[49m\u001b[43m,\u001b[49m\u001b[43m \u001b[49m\u001b[38;5;241;43m*\u001b[39;49m\u001b[38;5;241;43m*\u001b[39;49m\u001b[43mkwargs\u001b[49m\u001b[43m)\u001b[49m\n",
      "File \u001b[0;32m~/.local/lib/python3.10/site-packages/pandas/core/generic.py:11201\u001b[0m, in \u001b[0;36mNDFrame.mean\u001b[0;34m(self, axis, skipna, numeric_only, **kwargs)\u001b[0m\n\u001b[1;32m  11194\u001b[0m \u001b[38;5;28;01mdef\u001b[39;00m \u001b[38;5;21mmean\u001b[39m(\n\u001b[1;32m  11195\u001b[0m     \u001b[38;5;28mself\u001b[39m,\n\u001b[1;32m  11196\u001b[0m     axis: Axis \u001b[38;5;241m|\u001b[39m \u001b[38;5;28;01mNone\u001b[39;00m \u001b[38;5;241m=\u001b[39m \u001b[38;5;241m0\u001b[39m,\n\u001b[0;32m   (...)\u001b[0m\n\u001b[1;32m  11199\u001b[0m     \u001b[38;5;241m*\u001b[39m\u001b[38;5;241m*\u001b[39mkwargs,\n\u001b[1;32m  11200\u001b[0m ) \u001b[38;5;241m-\u001b[39m\u001b[38;5;241m>\u001b[39m Series \u001b[38;5;241m|\u001b[39m \u001b[38;5;28mfloat\u001b[39m:\n\u001b[0;32m> 11201\u001b[0m     \u001b[38;5;28;01mreturn\u001b[39;00m \u001b[38;5;28;43mself\u001b[39;49m\u001b[38;5;241;43m.\u001b[39;49m\u001b[43m_stat_function\u001b[49m\u001b[43m(\u001b[49m\n\u001b[1;32m  11202\u001b[0m \u001b[43m        \u001b[49m\u001b[38;5;124;43m\"\u001b[39;49m\u001b[38;5;124;43mmean\u001b[39;49m\u001b[38;5;124;43m\"\u001b[39;49m\u001b[43m,\u001b[49m\u001b[43m \u001b[49m\u001b[43mnanops\u001b[49m\u001b[38;5;241;43m.\u001b[39;49m\u001b[43mnanmean\u001b[49m\u001b[43m,\u001b[49m\u001b[43m \u001b[49m\u001b[43maxis\u001b[49m\u001b[43m,\u001b[49m\u001b[43m \u001b[49m\u001b[43mskipna\u001b[49m\u001b[43m,\u001b[49m\u001b[43m \u001b[49m\u001b[43mnumeric_only\u001b[49m\u001b[43m,\u001b[49m\u001b[43m \u001b[49m\u001b[38;5;241;43m*\u001b[39;49m\u001b[38;5;241;43m*\u001b[39;49m\u001b[43mkwargs\u001b[49m\n\u001b[1;32m  11203\u001b[0m \u001b[43m    \u001b[49m\u001b[43m)\u001b[49m\n",
      "File \u001b[0;32m~/.local/lib/python3.10/site-packages/pandas/core/generic.py:11158\u001b[0m, in \u001b[0;36mNDFrame._stat_function\u001b[0;34m(self, name, func, axis, skipna, numeric_only, **kwargs)\u001b[0m\n\u001b[1;32m  11154\u001b[0m     nv\u001b[38;5;241m.\u001b[39mvalidate_stat_func((), kwargs, fname\u001b[38;5;241m=\u001b[39mname)\n\u001b[1;32m  11156\u001b[0m validate_bool_kwarg(skipna, \u001b[38;5;124m\"\u001b[39m\u001b[38;5;124mskipna\u001b[39m\u001b[38;5;124m\"\u001b[39m, none_allowed\u001b[38;5;241m=\u001b[39m\u001b[38;5;28;01mFalse\u001b[39;00m)\n\u001b[0;32m> 11158\u001b[0m \u001b[38;5;28;01mreturn\u001b[39;00m \u001b[38;5;28;43mself\u001b[39;49m\u001b[38;5;241;43m.\u001b[39;49m\u001b[43m_reduce\u001b[49m\u001b[43m(\u001b[49m\n\u001b[1;32m  11159\u001b[0m \u001b[43m    \u001b[49m\u001b[43mfunc\u001b[49m\u001b[43m,\u001b[49m\u001b[43m \u001b[49m\u001b[43mname\u001b[49m\u001b[38;5;241;43m=\u001b[39;49m\u001b[43mname\u001b[49m\u001b[43m,\u001b[49m\u001b[43m \u001b[49m\u001b[43maxis\u001b[49m\u001b[38;5;241;43m=\u001b[39;49m\u001b[43maxis\u001b[49m\u001b[43m,\u001b[49m\u001b[43m \u001b[49m\u001b[43mskipna\u001b[49m\u001b[38;5;241;43m=\u001b[39;49m\u001b[43mskipna\u001b[49m\u001b[43m,\u001b[49m\u001b[43m \u001b[49m\u001b[43mnumeric_only\u001b[49m\u001b[38;5;241;43m=\u001b[39;49m\u001b[43mnumeric_only\u001b[49m\n\u001b[1;32m  11160\u001b[0m \u001b[43m\u001b[49m\u001b[43m)\u001b[49m\n",
      "File \u001b[0;32m~/.local/lib/python3.10/site-packages/pandas/core/series.py:4670\u001b[0m, in \u001b[0;36mSeries._reduce\u001b[0;34m(self, op, name, axis, skipna, numeric_only, filter_type, **kwds)\u001b[0m\n\u001b[1;32m   4665\u001b[0m     \u001b[38;5;28;01mraise\u001b[39;00m \u001b[38;5;167;01mTypeError\u001b[39;00m(\n\u001b[1;32m   4666\u001b[0m         \u001b[38;5;124mf\u001b[39m\u001b[38;5;124m\"\u001b[39m\u001b[38;5;124mSeries.\u001b[39m\u001b[38;5;132;01m{\u001b[39;00mname\u001b[38;5;132;01m}\u001b[39;00m\u001b[38;5;124m does not allow \u001b[39m\u001b[38;5;132;01m{\u001b[39;00mkwd_name\u001b[38;5;132;01m}\u001b[39;00m\u001b[38;5;124m=\u001b[39m\u001b[38;5;132;01m{\u001b[39;00mnumeric_only\u001b[38;5;132;01m}\u001b[39;00m\u001b[38;5;124m \u001b[39m\u001b[38;5;124m\"\u001b[39m\n\u001b[1;32m   4667\u001b[0m         \u001b[38;5;124m\"\u001b[39m\u001b[38;5;124mwith non-numeric dtypes.\u001b[39m\u001b[38;5;124m\"\u001b[39m\n\u001b[1;32m   4668\u001b[0m     )\n\u001b[1;32m   4669\u001b[0m \u001b[38;5;28;01mwith\u001b[39;00m np\u001b[38;5;241m.\u001b[39merrstate(\u001b[38;5;28mall\u001b[39m\u001b[38;5;241m=\u001b[39m\u001b[38;5;124m\"\u001b[39m\u001b[38;5;124mignore\u001b[39m\u001b[38;5;124m\"\u001b[39m):\n\u001b[0;32m-> 4670\u001b[0m     \u001b[38;5;28;01mreturn\u001b[39;00m \u001b[43mop\u001b[49m\u001b[43m(\u001b[49m\u001b[43mdelegate\u001b[49m\u001b[43m,\u001b[49m\u001b[43m \u001b[49m\u001b[43mskipna\u001b[49m\u001b[38;5;241;43m=\u001b[39;49m\u001b[43mskipna\u001b[49m\u001b[43m,\u001b[49m\u001b[43m \u001b[49m\u001b[38;5;241;43m*\u001b[39;49m\u001b[38;5;241;43m*\u001b[39;49m\u001b[43mkwds\u001b[49m\u001b[43m)\u001b[49m\n",
      "File \u001b[0;32m~/.local/lib/python3.10/site-packages/pandas/core/nanops.py:96\u001b[0m, in \u001b[0;36mdisallow.__call__.<locals>._f\u001b[0;34m(*args, **kwargs)\u001b[0m\n\u001b[1;32m     94\u001b[0m \u001b[38;5;28;01mtry\u001b[39;00m:\n\u001b[1;32m     95\u001b[0m     \u001b[38;5;28;01mwith\u001b[39;00m np\u001b[38;5;241m.\u001b[39merrstate(invalid\u001b[38;5;241m=\u001b[39m\u001b[38;5;124m\"\u001b[39m\u001b[38;5;124mignore\u001b[39m\u001b[38;5;124m\"\u001b[39m):\n\u001b[0;32m---> 96\u001b[0m         \u001b[38;5;28;01mreturn\u001b[39;00m \u001b[43mf\u001b[49m\u001b[43m(\u001b[49m\u001b[38;5;241;43m*\u001b[39;49m\u001b[43margs\u001b[49m\u001b[43m,\u001b[49m\u001b[43m \u001b[49m\u001b[38;5;241;43m*\u001b[39;49m\u001b[38;5;241;43m*\u001b[39;49m\u001b[43mkwargs\u001b[49m\u001b[43m)\u001b[49m\n\u001b[1;32m     97\u001b[0m \u001b[38;5;28;01mexcept\u001b[39;00m \u001b[38;5;167;01mValueError\u001b[39;00m \u001b[38;5;28;01mas\u001b[39;00m e:\n\u001b[1;32m     98\u001b[0m     \u001b[38;5;66;03m# we want to transform an object array\u001b[39;00m\n\u001b[1;32m     99\u001b[0m     \u001b[38;5;66;03m# ValueError message to the more typical TypeError\u001b[39;00m\n\u001b[1;32m    100\u001b[0m     \u001b[38;5;66;03m# e.g. this is normally a disallowed function on\u001b[39;00m\n\u001b[1;32m    101\u001b[0m     \u001b[38;5;66;03m# object arrays that contain strings\u001b[39;00m\n\u001b[1;32m    102\u001b[0m     \u001b[38;5;28;01mif\u001b[39;00m is_object_dtype(args[\u001b[38;5;241m0\u001b[39m]):\n",
      "File \u001b[0;32m~/.local/lib/python3.10/site-packages/pandas/core/nanops.py:158\u001b[0m, in \u001b[0;36mbottleneck_switch.__call__.<locals>.f\u001b[0;34m(values, axis, skipna, **kwds)\u001b[0m\n\u001b[1;32m    156\u001b[0m         result \u001b[38;5;241m=\u001b[39m alt(values, axis\u001b[38;5;241m=\u001b[39maxis, skipna\u001b[38;5;241m=\u001b[39mskipna, \u001b[38;5;241m*\u001b[39m\u001b[38;5;241m*\u001b[39mkwds)\n\u001b[1;32m    157\u001b[0m \u001b[38;5;28;01melse\u001b[39;00m:\n\u001b[0;32m--> 158\u001b[0m     result \u001b[38;5;241m=\u001b[39m \u001b[43malt\u001b[49m\u001b[43m(\u001b[49m\u001b[43mvalues\u001b[49m\u001b[43m,\u001b[49m\u001b[43m \u001b[49m\u001b[43maxis\u001b[49m\u001b[38;5;241;43m=\u001b[39;49m\u001b[43maxis\u001b[49m\u001b[43m,\u001b[49m\u001b[43m \u001b[49m\u001b[43mskipna\u001b[49m\u001b[38;5;241;43m=\u001b[39;49m\u001b[43mskipna\u001b[49m\u001b[43m,\u001b[49m\u001b[43m \u001b[49m\u001b[38;5;241;43m*\u001b[39;49m\u001b[38;5;241;43m*\u001b[39;49m\u001b[43mkwds\u001b[49m\u001b[43m)\u001b[49m\n\u001b[1;32m    160\u001b[0m \u001b[38;5;28;01mreturn\u001b[39;00m result\n",
      "File \u001b[0;32m~/.local/lib/python3.10/site-packages/pandas/core/nanops.py:421\u001b[0m, in \u001b[0;36m_datetimelike_compat.<locals>.new_func\u001b[0;34m(values, axis, skipna, mask, **kwargs)\u001b[0m\n\u001b[1;32m    418\u001b[0m \u001b[38;5;28;01mif\u001b[39;00m datetimelike \u001b[38;5;129;01mand\u001b[39;00m mask \u001b[38;5;129;01mis\u001b[39;00m \u001b[38;5;28;01mNone\u001b[39;00m:\n\u001b[1;32m    419\u001b[0m     mask \u001b[38;5;241m=\u001b[39m isna(values)\n\u001b[0;32m--> 421\u001b[0m result \u001b[38;5;241m=\u001b[39m \u001b[43mfunc\u001b[49m\u001b[43m(\u001b[49m\u001b[43mvalues\u001b[49m\u001b[43m,\u001b[49m\u001b[43m \u001b[49m\u001b[43maxis\u001b[49m\u001b[38;5;241;43m=\u001b[39;49m\u001b[43maxis\u001b[49m\u001b[43m,\u001b[49m\u001b[43m \u001b[49m\u001b[43mskipna\u001b[49m\u001b[38;5;241;43m=\u001b[39;49m\u001b[43mskipna\u001b[49m\u001b[43m,\u001b[49m\u001b[43m \u001b[49m\u001b[43mmask\u001b[49m\u001b[38;5;241;43m=\u001b[39;49m\u001b[43mmask\u001b[49m\u001b[43m,\u001b[49m\u001b[43m \u001b[49m\u001b[38;5;241;43m*\u001b[39;49m\u001b[38;5;241;43m*\u001b[39;49m\u001b[43mkwargs\u001b[49m\u001b[43m)\u001b[49m\n\u001b[1;32m    423\u001b[0m \u001b[38;5;28;01mif\u001b[39;00m datetimelike:\n\u001b[1;32m    424\u001b[0m     result \u001b[38;5;241m=\u001b[39m _wrap_results(result, orig_values\u001b[38;5;241m.\u001b[39mdtype, fill_value\u001b[38;5;241m=\u001b[39miNaT)\n",
      "File \u001b[0;32m~/.local/lib/python3.10/site-packages/pandas/core/nanops.py:727\u001b[0m, in \u001b[0;36mnanmean\u001b[0;34m(values, axis, skipna, mask)\u001b[0m\n\u001b[1;32m    724\u001b[0m     dtype_count \u001b[38;5;241m=\u001b[39m dtype\n\u001b[1;32m    726\u001b[0m count \u001b[38;5;241m=\u001b[39m _get_counts(values\u001b[38;5;241m.\u001b[39mshape, mask, axis, dtype\u001b[38;5;241m=\u001b[39mdtype_count)\n\u001b[0;32m--> 727\u001b[0m the_sum \u001b[38;5;241m=\u001b[39m \u001b[43m_ensure_numeric\u001b[49m\u001b[43m(\u001b[49m\u001b[43mvalues\u001b[49m\u001b[38;5;241;43m.\u001b[39;49m\u001b[43msum\u001b[49m\u001b[43m(\u001b[49m\u001b[43maxis\u001b[49m\u001b[43m,\u001b[49m\u001b[43m \u001b[49m\u001b[43mdtype\u001b[49m\u001b[38;5;241;43m=\u001b[39;49m\u001b[43mdtype_sum\u001b[49m\u001b[43m)\u001b[49m\u001b[43m)\u001b[49m\n\u001b[1;32m    729\u001b[0m \u001b[38;5;28;01mif\u001b[39;00m axis \u001b[38;5;129;01mis\u001b[39;00m \u001b[38;5;129;01mnot\u001b[39;00m \u001b[38;5;28;01mNone\u001b[39;00m \u001b[38;5;129;01mand\u001b[39;00m \u001b[38;5;28mgetattr\u001b[39m(the_sum, \u001b[38;5;124m\"\u001b[39m\u001b[38;5;124mndim\u001b[39m\u001b[38;5;124m\"\u001b[39m, \u001b[38;5;28;01mFalse\u001b[39;00m):\n\u001b[1;32m    730\u001b[0m     count \u001b[38;5;241m=\u001b[39m cast(np\u001b[38;5;241m.\u001b[39mndarray, count)\n",
      "File \u001b[0;32m~/.local/lib/python3.10/site-packages/pandas/core/nanops.py:1699\u001b[0m, in \u001b[0;36m_ensure_numeric\u001b[0;34m(x)\u001b[0m\n\u001b[1;32m   1696\u001b[0m             x \u001b[38;5;241m=\u001b[39m \u001b[38;5;28mcomplex\u001b[39m(x)\n\u001b[1;32m   1697\u001b[0m         \u001b[38;5;28;01mexcept\u001b[39;00m \u001b[38;5;167;01mValueError\u001b[39;00m \u001b[38;5;28;01mas\u001b[39;00m err:\n\u001b[1;32m   1698\u001b[0m             \u001b[38;5;66;03m# e.g. \"foo\"\u001b[39;00m\n\u001b[0;32m-> 1699\u001b[0m             \u001b[38;5;28;01mraise\u001b[39;00m \u001b[38;5;167;01mTypeError\u001b[39;00m(\u001b[38;5;124mf\u001b[39m\u001b[38;5;124m\"\u001b[39m\u001b[38;5;124mCould not convert \u001b[39m\u001b[38;5;132;01m{\u001b[39;00mx\u001b[38;5;132;01m}\u001b[39;00m\u001b[38;5;124m to numeric\u001b[39m\u001b[38;5;124m\"\u001b[39m) \u001b[38;5;28;01mfrom\u001b[39;00m \u001b[38;5;21;01merr\u001b[39;00m\n\u001b[1;32m   1700\u001b[0m \u001b[38;5;28;01mreturn\u001b[39;00m x\n",
      "\u001b[0;31mTypeError\u001b[0m: Could not convert HargraveHillOnioBoniMitchellObinnaKayChinScottHendersonHaoDellucciGerasimovYenMcWilliamsAzikiweMaggardClementsLombardoClarkeOsborneLavineBianchiTylerMartinOkagbueBucchoO'BrienT'ienClarkHammondBrownlessGlauertPisanoPalermoBallardCavenaghReadPostleBuleyLeonardMillsOnyeoruluBeitNdukakuSharpeOsborneHeapColeFuHungDunbabinMauldonParsonsKoWelchDuncanChidozieCameronCalabresiZetticciMacDonaldKennedyHeKaodilinakachukwuArthurLiChiaVasinForwoodTaylorMadukweBennelongMorganAlexeevaMilneLiClaytonMacleanChigolumWilkinsonTreacyHuTaubmanRobinsonPintoHawkinsFuHoCampbellAshboltRozierOgbonnayaCocciT'aoFordTsaiOnwumeluGrahamMoranOnuoraMcDonaldGlassmanMillerMillarHayCh'ienCattaneoLucasSergeyevSmithPachecoSynnotJohnstonTsaoIfesinachiDimauroHughesMorrisonMatveyevaRoseJessMortonRossiReppertCh'iuFieldingZetticciBoyleDubininaChiazagomekpereWallworkDavidsonO'DonnellAhmedChuangTienChangEfremovHartleyChiuPokrovskiiSkinnerMcEncroeGordonTs'aiYuanHunterHsiehKnowlesDayTsaoNwabugwuYoungKerrMarreroPisanoBrownFreemanSeleznyovIkedinachukwuAmosSimmonsRobinsonBianchiChenIbrahimovaNolanScottMonaldoColeAngeloKoDistefanoFarrellTingBlackWhiteheadIkemefunaMorrisonCelisChengMillsOuthwaitePaiMitchellFranklinKoFiskChiangHeathDellucciLiDe SalisT'angRichardsonStevensonWeiPisaniMannaRicciCarrFindlayHughesChukwuemekaGenoveseSwiftRossUspenskyCookNewboldHeHiltonSunEvansOlisanugoBrookesElewechiPisanoAnkudinovBurnsLewisKirbyMartinTanHsiaWesterbergKryukovaSeleznevaFreemanLoKingForbesMacleodPisanoVassilievMacartneyChinLuWaltonBrookesShihFerreiraUkaegbunamDavideLittleBurnsHanReichardPriceLuRitchieMackenziePendergrassEvansBillsonTengCh'angGordonObialoLinMcKayRevellRickardsBegumOnyinyechukwukaMaOkwuadigboChanGrecoLombardiAlexandrovaFallaciHudsonMaiStoutDuncanAvdeyevaCrawfordGetherLarionovaSteinhoffPaiCraigCh'iuRahmanMcMillanPickeringMiramsJideoforBellMcIntyrePagnottoFengDonaldsonChambersMarceloEjimoforDaleStonebrakerAndersonSageseGrubbNapolitaniAkeroydWallaceSmallBledsoeWertheimJarvisP'anPugliesiBlakeyAchebeRussoMaccallumWatkinsMitchelFerdinandChinagoromWalkerHaoSavageCooperMazziNichollsYuanGolubovChenKambinachiFlemingCunninghamChinwemmaYinTs'aiJenPrestonCodyMilaniOnyemauchechukwuGellKirillovaOnyemauchechukwuMueckeHsiehAzubuikeFullerAshleyTs'uiChidozieMacleanBurnsChuBeluchiWilliamsonMcKenziePittsShenShihOwensVercoGalkinSummersMunroVirgoPadovanoTaoFraserAlleyHowellsHooperRiceIkennaDavidePiazzaBlackChiabuotuGallagherShawLloydAventShawYuanHawkinsTrentiniCameronWuOkoliCh'engNwokezuikeAbbieJenUnaiponWanChambersPettitBaresiIheanachoNucciRohuO'LoghlenEvansMcGregorAndrewsChiazagomekpereChidiebeleGregoryBednallJenSheSimmonsFraserSeabrookBarwellBallSungT'ienFallaciLiChukwukadibiaOluchukwuWollstonecraftThomsenLambGallagherHeathTs'aiKnuppShephardAvdeevaHsuBuchananYehY?anLinSchofieldWallMilaniEjimoforWickhamBirdWoodCh'inYusupovJibunohTs'uiWilderMacleanMcNessColesBensonGilbertL?GrayWrightPalermaY?anWeiPadovesiFranklinMcGregorHsingWatsonHawkinsGinnArtamonovaHansenPaiLarsenMurphyEkechukwuJohnsonBardinTalbotMcGregorZikoranaudodimmaMaiNaylorPintoCrawfordVolkovaCh'iuAbramovichTimmsHamiltonChengKoChukwuebukaMacDonaldLampungmeiuaEnyinnayaMaWoodSmithIngramHebertDumetochukwuJamiesonChiganuWoodsBluettChapmanUdobataPalermoFallaciPerryMaslovaMcLeanPatersonTisdallMironovaNdubuezeStephensonMullanNortheyPatersonMacleanColmanJacksonHanWilkieBrayAnnSouterGrecoBlackDuncanMitchellFerrariDicksonHoldenPageSamuelFittsTs'uiMillarDemuthGenoveseLawlessBrooksIgnatyevaBalmainMillarLi FontiBeneventiDespeissisHsiehLongoManciniGrantBrennanRischbiethOtutodilichukwuThomasFiorentiniHughesMcIntoshBaranovaGenoveseSorokinaErvinNobleParkinDochertyL?JohnstonePhamBergamaschiMurphyOsinachiMuravyovChidiegwuLucchesiHargravesBuntonCameronKungContiSimsMcGregorChuDumetolisaWanCameronTretiakovChungLaiDavidsonJusticeEwingChinMarshallGrantNnamutaezinwaFerriAndrewsMurrayMcWilliamCarterCh'iuTsaoFanucciVasilievaLongoBocharovaMorresVogelWisdomShahanChidozieHaywardAlexeevaCalabresiLettiereNnamutaezinwaYinGolubevFedorovKennedyChanHsuWhiteTsaoHudsonKinlawLuccianoOmeokachieTikhonovManciniTuanJohnstoneRomaniBaxterPirozziSungRogersMillsOsonduagwuikeMcIntyreAitkenMacintyreSimpsonMetcalfeDaleByrnePraedLaurensWoodsBykovPirogovaSturtPanicucciFranklinP'engChiangGrantSicilianiYoungMitchellLuccheseHewittEndrizziLudowiciLarsonChigolumLuTuanLandmanLongoAlexeyevaSimmonsIngramOkekeShaoDiribeMacgroartyMcDonaldMazzantiKellyDavisonTrentiniHsuZhirovEspinosaWallaceBarbourWrightUlyanovaAkabuezePintoMcNeilJohnsonKaeppelShihYudinaAkabuezeOziomaSuJamisonHardimanO'BrienTaoBucklandGenoveseVincentBlackburnDuncanMacarthurMedvedevSholesRolonBlighDavidsonLambleMooreJoseTrevisaniSchofieldStewartJamiesonBrooksChinweikeSimpkinsonWalkerConwayMaslowL?GalloOnyemachukwuDicksonP'anFrostWarnerIfeatuHsuehShihWhiddonOnyekachukwuNiuMannaMitchellEveringhamCrowtherSwiftWhiteGiordanoDaySerranoCunninghamStephensBevanMashmanTuMilanesiRomanoGoliweGrayWrightChiemekaChungSpitzerPotterMatthewsMiahBaddeleyHs?ToddIgnatieffLuArtemievOkonkwoBurnAndreyevEndrizziBrownNockOkekeBorchgrevinkBradleyHudsonVeltriGolibeCurtisHaydenCampbellCremonesiLiangGoughPadovesiYinKharlamovNichollsFlemingHanFergusonValdezPirozziColomboAkubunduY?JideoforRobertsonGrayTownsendPopeJensenThomsonWrightLombardoLeonardAmechiHortonOnioButusovWangAlexeievaHughesBageTangSwearingenMcGregorClarkeKozlovaNekrasovOlsenMazziBellKellyWillisWallaceChukwuraenyeMarshallHaywardMoreyToddForbesDe SalisMarshallChinedumMcKayOtutodilinnaPaiKruglovKingTingMcLeanZikoranachidimmaFuTrevisanoChuangTheusJenningsParkerTuanPattersonNashObidimkpaAmaechiFoxallBentleyBairdHowardSopuluchukwuRocherWhiteKomarRussoLoewenthalMontesKuoChengMcIntoshT'aoOnyekaozuluNwachukwuChristmasMooreGenovesiEllisNebechiY?ContiIgnatieffPerkinsConwayRizzoKrylovLi FontiTalbotMatthiasBoyleCh'engBrunoMillerFuO'TooleLedfordIadanzaLinBarclayKodilinyechukwuMcKenzieWoodsPadovesiGrecoGiordanoMillerRossTrevisanAleksandrovaDikeDellucciRitchieAikenheadKungMacDonaldOkwudilichukwuSimmonsH?HancockMcKayParkhillGolubovaNwankwoMcElyeaRosasPalermaMorrisPavlovaLuAngeloGorbunovRoweMikkelsenMbanefoHamiltonWestChukwuemekaCastiglioneYuanWilsonKentVasilievFedorovaRossiSamsonFentonPaytonBanksBentleyWongShenHuangYehShihDellucciRobertsLo DucaGloverJohnstoneCaponPatrickTaylorStephensonCollingridge de TourceyJibunohKorovinWardK'ungBarlowBensonToddBurginNnaifeOkwudiliolisaParkesPageAmaechiPanicucciNapolitaniBeersCostaIbezimakoMarceloLumholtzHillPirozziSynnotAnenechukwuPlantAzubuikeJohnstonBabbageBogolyubovChiaSmithFordGregsonHaySheUwakweBirdKrichauffWoodWhiteTuanHansonMacDonaldStanleyFischerOgochukwuAnenechiOkwudilichukwuHarrisonKoNormanMackenzieCraigieOnyekachiNwabugwuDeRoseCh'engObielumaniEmeryDufresneLeeHsingMossRossCalabreseYobachukwuMarchesiPickeringMazziTrentinoMarchesiAnayolisaPooleZhouBatesWadeTanNgozichukwukaDavyMaBarreraNgozichukwukaHallPadovesiLysaghtKelechiHansonKaoTuFallaciShenTs'uiChikezieHeDreyerShortTengMunroTangGreenhalghHuY?anOdiliH?YuanKolesnikovHsiungBronnerMironovaKuEvansHendersonSmithSunMcDonaldNiuZetticciLe GallienneP'engWheelerChristieKingWaynY?WangLorenzoNuttallOsborneHamiltonMcEwanLaiBoydTrevisaniHolmanBazhenovLinSinclairKempEbelegbulamTsengWilsonIadanzaY?ChukwunonsoTs'aiIfeanyichukwuBriggsMorrisonCh'angChidiegwuGowAmaechiBibiNiuArtemievaOwenFranklinLorenzoMurielMacDevittGibsonWhiteheadJohnstoneJohnsonKaoBrowneLeiAlexeevaTs'uiKungUnwinFraterBrennanGolubevVanmeterHs?CrawfordP'engFlemingWilsonYuryevaGalloChouShaoMazzantiEndrizziMonaldoOtutodilinnaMilneChiokeKovalevDohertyBaranovRobinsonBidencopeT'ienChungStevensonSeppeltMcDonaldMcGregorMcDonaldCrawfordGibbsMilneDicksonToscaniHughesAksenovK'ungMilanoChukwuemekaRiceBrownAksyonovaWalkerAbbottDavydovaWestSmithFiorentinoNkemjikaMarioDubininaHsiehMoranLiObialoBatesonLongBellUdineseMaoFanucciYehMooreThorntonWarlow-DaviesLeiWrightBoyleUwaezuokeArchambaultHolmwoodY?ChidubemRandallLeachWallaceMitchellRoweChibuezeWilsonYehGoliweAnthonyGenoveseDaveyParsonsTs'aiWittKazantsevaBeyerFriesTaoKaodilinakachukwuBeckerGrahamKuoZimmerCaldwellYirawalaDonaldsonOzerovaTs'aiTokarevaPagnottoSinclairHsuPanicucciBurnsDarlingMaggardThomasPonomaryovLuccheseSazonovaHentyAzukaAlexanderShenPadovesiLordPaiYuanPowellBrownMcChesneyEndrizziPanManfrinKennedyConwayLablancDoddMuirMilanesiLiaoUdokammaPalermaChimaijemNwagugheuzoYoungPadovesiLorenzoWeiRossChidaluPotterHuangNakayamaGardenerMilneKudryashovaKruglovaPalermaShafferChungWhitfieldRiouxBrimTrevisanoHelenaDuncanWellerBessMacDonaldMaiYehBabbageRandellPatersonMacleodRandolphKudryashovaGeorgeRobertsonYuryevaKingMontalvoScottYehViganoTuanTienHamiltonPowellWilliamsFetherstonhaughSeversonGroverMilaniChienMarshallUspenskayaThomsonHerreraMuseMarsdenArtemyevaChuangNichollsKnightWebbNebechukwuNixonLombardoHollandBryantHaoKovalevHsiehDebellisYenLuStewartMilanesiSalDouglasYatesWattPerryLavrovJenkinsWilsonBegumFrolovChikezieZetticciYangLinTs'uiGenoveseWilliamsonShoobridgePengWatsonSolomonTuanDanielsCaldwellFangDumetolisaMackayKenyonKennedySteereSutherlandLungCocciMatveyevaMooreYobachukwuFlemingAksenovFlemingUlyanovPirozziMahonShawScottVossWilsonGibsonChikeluYefremovaChuangGarranMorettiYaoBaldwinMahonMuirLyonsGardinerChapmanHePattersonCoppinTsaoStewartFallaciTienScottGerasimovaIfeatuOgbonnayaDegtyaryovMonaldoCarpenterTylerMartinWalkerBottrillJonesSanfordChienChimaobimJowersKirsovaT'ienKuChinLawChungGreavesO'DonnellHsiehChiuReevesChuMarshChangPottingerFollieroChambersYenAzikiweAllenMackayYuFangPageOlisaemekaBrennanSuttonHydeSungBeneventiCh'angBartonLucchesePopeHorrocksChikezieFryeMellorSutherlandTingChuangChuOzoemenaHowellsLuccheseWoronoffWilhelmNebechukwuAnenechukwuMeredithChinomsoWintersNapolitaniRobertsonMarchesiBibiRussoBallardThomsonMorrisonScottCameronTateNealOnyinyechukwukaFulksChristieBallOsitadimmaHaoHartleyAllanNnamdiRomanoLungFetherstonhaughDavidsonMaiMitchellKentPepperWilsonHarrimanFranklandPintoChiuYuTo RotAnenechukwuHendersonEllisKangLearMazzantiMarinoWinterT'ienHughes-JonesCodyEstradaDickinsonFanucciLenhardtCh'ienSunJamiesonNolanBarryPhelanHotchinAksyonovDuncanPisaniPisanoTennantTobennaVicarsYangT'angPaiFranklinPengHellerDunnHollandButusovAtkinsonObiajuluSuTraegerChinwenmaTuanRobinsonCarrPalermaChinezeMorettiHaleBensonMishinaAbramovichAlexeyevaKilgourSheppardNnannaNorrisClementsOkwukweMurphyElliottLoggiaWalshDolgorukovaSheCookMoyseySkinnerChinLungMellorRichardsonWanBradleyCalabreseOsonduagwuikePanCarpenterTrevisanHeMorettiChukwuelokaFiorentiniNepeanNwebubeUgochukwuMurphyDochertyHirstHoranCumbrae-StewartKinneyT'angToscanoNinaBrunoKennedyVasilyevBlackNapolitaniHughesLacrossMaughanPalermaSlateCh'angChiebukaT'anLazarevWarrenTrevisaniTrevisanoLiaoListonThompsonMilanesiRudduckUvarovaGalloTs'uiCoatesHickeyNortonManciniTienMurphyMacleanBlackburnWyattShaoNapolitanoMarceloFominNkemjikaCh'angCrottyCocciIroawuchiHysellWilliamsonGinikanwaMorleyComptonWanChangDyerWattsFedorovaChiedozieMarceloMcMillanHardyAdamsonMishinKangKellyBullFergusonSheHamiltonSummervilleTobennaVolkovaNucciKuHsuehRicciAzubuikeNevzorovaLeiSheehanKelechiMcElhoneAtkinsColomboOnyekachiThompsonShenYehHsiaZarateRobinsonNevzorovaQuinnPisanoArtemovaUgonnatubelumReillyOmeokachiePintoGardenerFangLabradorGibsonIvesOmeokachieMaoBrierlyMcDonaldBergamaschiBergamaschiLeesSeniorNwokezuikeEkwuemeEnyinnayaHydeCameronCarpenterLorenzoSleemanWilliamsonWangOnyemereDawsonNebechukwuGrahamMicklemOnyekaozuluKegleyThompsonRomanoBrownMackayHsuGiordanoAksenovLongHanBelovRuddMonaldoGidneyDaltonHsingWarnerWilliamsDunnKerrKingGriffithsHartzlerBaresiLambertGameChinagoromNobleCattaneoFraserJimenezOnioTomlinsonOnuohaVorobyovaToddCremonesiJowettYefremovaGadsdenNiChibuezeKangOsitadimmaSmithOkwudilichukwuPorterPonomarevYinAkobunduErmakovaOsterPeyserCocciSeleznevHuangZikoranachukwudimmaNkemdilimAndersonMcGregorPisanoOtutodilichukwuRickardAndreevSteeleBlackFedorovStehleAlexanderMcIntoshSungChinweubaT'aoCh'ienSuLoyauPowerHillHsingBakerMatthewsChouMazziBlackRichardsIgnatievMillerCoxLaneT'aoHsiungParryGolubevFowlerLockettAkabuezePhelpsFrederickBeneventiGreenCarlsonWattCaldwellEndrizziFiorentiniOwensWangHsiehFiorentinoEfremovTangTangFedorovGboliweKoSeleznyovaBevanSalierEvdokimovHsiaoWrightDellucciCaldwellEvseevKirwanLittleCh'iuMcKayKozlovaCoatesIgnatyevIgnatievMunzPalingClarkHsiaoPalermaGalloOtutodilinnaMcGregorH?FerrariNkemakonamKirillovAnkudinovGaffneyRomaniKambinachiHawkinsFangChouRamsbothamScannellTuanShaverWallisLo DucaWanLittleHillBoyleShenShephardDavidsonFerrariMatveyevWangYuanMcConnellAlexanderGordonDaviesSandersRiddleContiDavisonUdinesiBellJacksonMaBasedowNworaHoweyPaiKramerSochimaMarchesiHerrinGardinerAtkinsonHuSandersTsuiMarinoMorrisonMaiHs?ehDemaineDickinsonKazantsevaPanBischofAshtonWilsonKuOnyemachukwuKaoFerriYashinaYevseyevRapuokwuMaslovColeAllsopDumetochukwuUspenskyGarciaSotoStephensonTuColbertOwensDaluchiDysonDavideHs?NicollRomanoMannaDanielsHuntYuanCalabresiMartinMaslovaLaiWatsonGorbunovRaynorEberegbulamMannaChangKentMiccoBremerDavidsonMilneWeberLettiereTaoAlgarinKorovinaChidubemMetcalfGrecoLi FontiMaduekeChukwubuikemHollowayAnayolisaFangFanucciMcKayBogdanovaLavrentievMaduekeNiDennisL?CardusWhitehouseChiaCalabresiTs'uiMcCullochMillerMunroLaiMaoCrossSniderHarrisonHayTangIsayevaHillMorenoGillGreenOnioVaguineMannaToomeyBellBonwickHoltBrownCh'angFengLujanProkhorovaRomeroToscaniOnwuamaegbuKingTrentinoPeacockNnaifeChaoBareseUdegbulamDegtyaryovMitchellCh'enEfimovWadeMurphyHannahCartagenaHuntGreeceThomsonKrawczykChouSullivanCavillNichollsNnonsoNkemakonamLintonOnyekaozuluTobennaWangStephensonKangMillerKryukovHs?AndersonTrentinoTsouJohnsonAllanButcherHendersonObiajuluKellyIweobiegbunamWilliamsonChiagoziemKwemtoZitoUkaegbunamEdmondstoneChienYashinaGeorgTungChuangChidimmaMcCaneParry-OkedenKhanMurrayShillitoHowellsIkechukwuCoxLoStevensonSamsonovaNiuBockKungNwankwoQuinnKodilinyechukwuSullivanJackaTsaiEmerySharpCampbellAbbottPrestonFanucciJohnstoneHortZaytsevaSorokinaOnuchukwuOsonduagwuikeThomsonGoliweOnwuamaezeButusovRossiHuddartChinomsoHargreavesStoneAllanBellucciDuncanFindlayIzmailovaShenChinwemmaGolubovaMcKayFedorovaFloydLongCastiglioneMelendezKovalevaGillStevensonGilroySidorovBatesFanucciIroawuchiMartinSinclairSwansonFominMatveyevaMadukaegoFerriDavisTsouEjikemeifeuwaVolkovaRyrieAndreevTs'aoMontemayorWhiteheadFrenchConnorJonesLiDenisovaBensonKalininaChiawuotuSergeyevChristieRobertsonBareseTrouetteUgochukwuCribbMcIntyrePickeringFletcherPisanoHooperHeSomadinaMcIntoshBrombyHunterSheppardLaiPadovesiKempGreeceYoungForbesTs'uiMilanoChaoNapolitaniKovalevaChiebukaGordonConwayBattyRoweFarmerCameronJenningsEluemunoSwiftPisaniCameronYehGouldChidumagaChildsLungNapolitanoHutchinsonObiomaStetsonFanucciThaoMurphyMcConnellWalkerIheatuCh'enBrownBuddicomMcGregorThompsonWarrenUspenskayaKingTrentiniNeumannWaltersLiebeWhiteMyersRogovaRaffKanayochukwuObialoLiuPonomaryovCostaWeiPriceSawtellSimmonsPengBevanSokolovAmadiFindlayHsuEvansTungRossYangGayMorrisonMaoBrunoGrayChiangSungYenFerriHsuBishopDaigleCochranBibbJenCorranLoggiaWilliamsonGordonLynchK?OwensSteelePanNnabuifeBrayEsomchiIroawuchiRetanaRobsonBrunoPriceSwansonChangMorganOsitadimmaCunninghamFieldsColomboChikereBallardGormanJohnOkonkwoBoniPrattPageWilkinsonFinchMannaSalIweobiegbunamShaoHeathWuDownieFindlayCh'engTsaiAllanWangYancyMazziNucciY?NucciTangKaoChenYaoTsouBukowskiFrancisCalabresiChimaobimFengWhiteManfrinUdegbulamKaoRoss-WattMillerShubinCartwrightAzukaShenAbazuMurphyGratwickPaiBradyHsiungMilanoLewisDyerHsiaHicksYoungFrolovaSabbatiniIfeanachoHansonBradshawClunieHodgsonDobieOkwudilichukwuDyerBaresiLoTylerAparicioSalOziomaWoodMcKinnonLeesFeethamChuangAhmedOgochukwuObiajuluYegorovaTalbotChukwualukaWallacePisanoPalmerTanMordvinovaMorriceBarrettBowhayLeiBakerMacnamaraArnoldKochJonesOtitodilinnaYewenSimmonsMbadiweMunroPirozziPiazzaBaranovaMarinoSabbatiniBlackSchwartzSargentUdinesiLeeOzuluonyeLassetterIloerikaTanGoodwinRapuluolisaTsuiSummersBobrovPikeGearheartBrunoZikoranachidimmaMilanesiAhernDicksonMcDonaldFiorentiniBianchiFallaciPiccioKaodilinakachukwuAmaechiP'anIkemefunaWinnHardyChiuDohertyRussellPayneWindsorY?BrownBaileyAllnuttChristiePopeJohnstoneJonesGenoveseBaranovY?LoElliotCarandiniVinogradovaAlexandrovaBarkerBrownKorffMathewsMacrossanIllingworthMenhennittPalermoFyodorovDolgorukovaEvaP'anJenkinsShihNnamdiMitchellFindlayPisaniK?TrevisanoTrevisanoTuckerSchafferCh'angWalkerChuCrawfordDonaldsonKellyTs'aoMuravyovaLambertYoungHsuehRobertsTakasukaDawsonOliverWilsonHigginsMarshallReyeChibuezeMaslovChidumagaHs?WilloughbyOjioforCameronDalyDikeGreenChinomsoIjenduArcuriBaresiChristianTrevisaniAkabuezeDonaldsonBentleyIbezimakoCh'inMcDonaldFaulkWalkerBrownWuMillerChamberlinButtenshawWallaceCalabresiBryantTuElderTownsendMilanoMartinNiuArcuriCh'inNapolitaniDunnDeRoseHobbsAndersonUgochukwuKirsovaFergusonKellySheCreelThompsonMarinoSutherlandNicolayLoriSomervilleChristieGraveLoriChukwumaCh'ienBishopChibuzoCalabreseLoganSimmonsMaduabuchimYehStevensonKenechukwuDicksonVolkovaMitchellWongJamesWatsonFollieroFitzgeraldGarnerFollieroLucchesiNwabugwuAndrewsOtutodilinnaGrantDonaldsonSmithBinderZubarevDavydovaTengHsingWilderMolineuxCocciChikwenduFraserKorovinSidorovDuiganTaylorDonaldsonCrossMannaGibbonsAlgeranoffRoweGallowayGenoveseMiahSmithBurtonKamdibeRossHawksT'ienMacleanFrenchGreenwoodMistryFiorentiniScottSmithMossNwankwoAllanHendersonSutherlandMarsdenCrawfordDilibeSantiagoToscanoAfanasyevaOlisanugoPriestleyRobertsonIfeanachoLi FontiGoloubevLiaoSinclairRobertsTsouGrecoMcKenzieKerrCraigTengJamiesonKayHoltCh'enBakerFengSternbergShepherdBarnettGreeneJohnstonMillerWallaceNorthCalabreseRobertsFinchMarceloMatthewsGoddardSimpsonFengFollieroBrayCarpenterForbesAmaechiBurkeChiganuLuccheseLombardoGonzalezFordGillelandFullwoodMontalvoDoyneCaponRawlingAnkudinovaKerrMannaSicilianiPowellWhiteBrownRoseHanCalabreseRileyBiryukovBroadhurstGenovesiHsiehChukwudiIqbalTengDuncanGarrettMazziEdwardsSicilianiLogueO'BrienStewartBattHopeKruglovTrujilloPagnottoDeRoseChiangOnuoraManciniMossPanKuUspenskyKummCareyFarberFindlayYuBrownLindonCaldwellLi FontiCaponHuguleyHorsleyMassieSinghH?GrantLawKingRomanoParkerAitkenHughesPisaniY?anChinFuNiSunBocharovaSinghChiemenamWestPollardGodfreyMazziAllanBrownUvarovWisdomSmithChidimmaTingBergamaschiDyerJonesNebechiIbekweNwekeAbdulovChukwudiPerkinChukwudiSimpsonWallaceLi FontiBondStirlingUdegbunamCandlerFrancisMaiJohnsonShermanYaoKazakovaChiganuNucciSerenaMcLeanWilsonHsiungFollieroJohnstonPalermoNwabugwuEndrizziUdobataShawCumminsSaundersAngeloZhdanovWhiteChuEnyinnayaMcElhoneHarrisKaodilinakachukwuHoweKnepperMorrisMcDonaldReedTengHandOnyemauchechukwuChiangYobachiMunroTrujilloWilsonMillarBeneventiChungBerkeleyWrefordWollstonecraftCartwrightHarperStreetonT'ienCunninghamSmithForbesJohnstonMcDonaldChenCattaneoCh'engCrawfordGibsonNiuLawrenceWagnerArgyleOfodileChiemenamCraigArcherBrownT'ienHungScottRahmanCookeVolkovaHawesSmithSwantonGreenHanCrawfordBeaversChibugoAbdulovBuckleyPeelHoldenFindlayWyattRapuluolisaBucklandOnyeoruruLaneyFuTienTuanMessersmithBrookesJollyPagnottoLucchesiHughesBurnsLambertBensonParkesCastiglioneFinkAfamefunaPalmerZuyevaJenAlekseevaChiemenamChiemenamClarkFanucciCattaneoBentleyHolmesAustinCollierHs?MarinoFlynnChaoYehKleinMahmoodTuShcherbakovBrowneFergusonMosleyEverettKuoRouseFangChiemenamBurrowsTrevisanoSageseLongHsuehLazarevBenjaminRomanoYermolayevaSparksWhittakerHumphriesCremonesiKuTobennaOkwuadigboJohnstonRossTsouEndrizziElewechiChuMcGregorUgorjiWarlow-DaviesBuckleyFairleyBoothbyClarkeKoMcGregorFernandezPanEspositoKaeppelLambLeiContiYermolayevKerrWatersKolesnikovaSharwoodBufkinNwankwoWillisKungHowellsBevanJohnsonHigginsCoxSergeyevaNapolitaniBeathamHillChiuSunLawsonT'aoYaoBracewellHsuehHightowerGenovesiLoginovLafleurObidimkpaCh'angMasonSimonStangeWeiCh'engParsonsPanCameronYudinaUdineseChinweikeBergamaschiMillinerKnowlesGregorySukhorukovaFlemingKennedyKoDanielsKazantsevaFerriEluemunoO'BrienLavrovSomadinaColomboZitoGiordanoDavideLuccianoTaiOsinachiCunninghamMaiDownerBochsaBirdseyeMoonBellucciBareseFlemingBellChristmasScottChukwudiFangBlakeGreenSabbatiniBoardHoGordonMcDonaldBrowneBoyleMorettiUkaegbulamNwankwoNiuShawChristieOnyemauchechiCrawfordMellorChristieWatkinsOjioforMengMactierHsuehNnachetamYuReadLevyChiuAliyevRileyToscanoWarnerCh'iuPyeChungArcuriCaponTrevisanJohnMacleodBoyleChukwuemekaBryantHackettMajorOgbonnayaMaMartinJacksonTaiFindlayChengMartinSkinnerBirdsallTsaiOguejioforVinogradoffNobleChibugoIgnatyevaChiemelaPokrovskayaChukwuelokaChuSpenceLongoBrownUspenskyCantamessaAlexanderChinagoromYangMarceloSimmonsDeRoseOnuchukwuTeakleCrossJonesWalkerDe SalisOliverBrookesChallisIbeabuchiBlackallSchoenheimerFiorentinoFanCartwrightBromleyBergamaschiShubinaKinderShepherdsonShortBelovBursonNichollsKuVasilievaOmeokachieLindemanMcKinleyIbekweMcVeyMaiHanHorsfallClappAzikiweZubarevK?BallL?GrecoWatersSeleznyovaReidFraserHowarthDavisChiuSunderlandFanParryPalmerNicholsonAdamsCocciTrevisaniHayesShaoCastiglioneHurstAdamsonJamesPavlovaBarrettHouOkekeKodilinyechukwuBoyleHsiungKennedyNortonZakharovChimaraokeMcGregorBrownFredericksonMcGillSinclairHortonGilesSarrattBulgakovOnyemachukwuRiveroLaiHornungDennysYurievGibsonZikoranachidimmaMasonRizzoThomsonIgnatyevWoodsLoBurnRussellJenLo DucaOluchiWarnerSalierGibbonsMcCawleyYangVavilovTeagueChiemenamHughesLoggiaCombesOnwukaScottOsonduagwuikeDonaldsonMaObiomaCampbellSimsMcKayHuangCampbellBoniGorbunovaGenoveseOfodileLoChukwuemekaArcuriGrahamMacleodChukwukadibiaTs'aiLuKentBlackMcMillanNgozichukwukaY?anSungKuOkonkwoKuSomayinaFullerCraigCremonesiFengH?JaraO'CallaghanLavrentyevTrevisanMasonTuckerTerrySantiagoWallaceKingMayNnachetamZhdanovaFangSinclairBegleyIkennaSunLettiereSmithChielokaCocciHansonMacleodRitchieIkemefunaChiangLevienOkonkwoMarceloCastroVoronovaLoggiaGrantMartelMengHayVoronoffTrevascusHansenCraigHallSunJacksonChigozieDouglasPettryPotterShawUdinesiBurrowsToscanoVoronkovSalKennedyGarlandDochertyFominWrightChinwenduWhiteHaleRossNkemdilimMcMillanDukeBradburyCreminGilchristShihPaganSandersonSamsonovaSandoverChuOwenHurstHardingSmithMooreKorovinaHardyShawKnightBrunyIkedinachukwuYinMishinaGrahamJohnstonLeiChimaijemConverseReidBelsteadDickinsonNworaLoggiaRoweUlyanovaRemingtonMishinAyersCocciMackenzieAkabuezeHydeNwabugwuChinHeVachonBallMonaldoHamiltonKuoFanOlisaemekaHillOkekeMarcusRussellHovellChukwumaobimBoyleScottJohnstoneDellucciBrothersSandersZetticciHsuehWrightGalganoGrigoryevaRaymondBrodneyAngeloMillarBalashovAfanasyevChialukaYermolayevSaundersWrightMcGuffogChukwujamuikeScottBellSargoodHarringtonSutherlandMordvinovaSchofieldBairdWhitehouseOgochukwuOkoliVidlerCastiglioneBergamaschiRubinHoPerryRobsonWilsonBatesEberegbulamDaveyDe LucaHoWangSousaChiawuotuThomsonCarpenterYefimovaBlackCoxWallaceFanAlexeyevaStevensMarshOnwugharaHuangTrevisaniPavlovaDeanChiganuLungWalkerSchnaarsGeogheganGardenerChidiFuTingAshtonUwakweRicciJonesMcCullochTobeolisaBlackAkudinobiOlisaemekaArcuriFlemmingTs'uiAzarovMcCarthyStevensonChillReesDumoloWuHsiaHoldenAbramovaWilkinsRomaniIrelandSingletonSauveBoniBucchoSpencerEidsonHungMelvinRizzoCaponTs'aoFlemingChangGibbsDuncanOkwuadigboMcIntoshClarkMcKenzieTuanChidiebereWoolacottYenChuangAkhtarDancyDuiganHankinsonMyersUkaegbunamAkubunduSalStevensonTs'aoSungHs?ehHollowayWaltonTienDavideMilneBarlingEllisHsiaChukwujamuikeAlexanderJamiesonMacleodNorrisFollieroTateDavisDruryPadovanoMartinGenoveseCherkasovaBergamaschiYusupovaJordanEchezonachukwuWelchOkwudiliolisaMaysManfrinTengChinwenduDavisonCastroParkinMannaMatveyevaNwabugwuAbramowitzChapmanFiorentinoIkechukwuAllenHartCharltonTurnbullChiazagomekpereMillerIfesinachiMaWynneHoweYocumMooreY?anChinweubaLowrieShenGomesFiorentinoEberechukwuVirgoLiuKaoJonesFowlerContiStephensonFangSoaresGalloLeiDanielsKenechiPadovanoMedvedevaBradshawEvansLucasMondsShenFoveauxLongoCalabresiRandallHigginsCrawfordMartinTs'uiNicholasJamiesonFosterChiedozieOkwukweLumholtzSageseReillySinghGenoveseTikhonovMacDonaldAh MouyBareseWinter-IrvingWilsonFerrariMcCartneySalKaoHargreavesSievierNorthCruzSinclairVasilievGenovesiGorbunovaBullGiordanoBeggPickeringFanucciMcNaughtanStewartNwokeochaSokolovaBancroftTrevisaniTingLo DucaMarshallBandFerriWilsonConePatelHowell-PriceRowlandNnonsoHopkinsBlackSuWalkerFergusonSamaniegoMazziToscanoChiangSpinelliPaiChigoziePeavyYermakovCostaPugliesiLindellSorensonGalkinaMarinoSpearsWakelinEspositoChukwufumnanyaFlemingKennedyHanYermakovaChienCalabresiCh'inRoseYefremovKosovichLuTaplinWangReynoldsRowleyRishelEluemunoHsiaKellyWrightUvarovaDohertyAllenMaTuckerH?EsomchiPirogovSellsManciniIadanzaP'engSt ClairNixonCh'angPiccioWestonGroomTanTaoHsiehBurdekinLongoMorantSaniObialoVon DoussaSuAnayolisaWadeEnemuoBrownNikitinaBurnsWoodwardSpencerCostaMcLachlanWarrenRamsdenWenzKischMaiNewmanWilliamsChimezieNashDaviesLuBurrowsUdokammaAitkenTurnbullReillyKerrOlszewskiBellasisOkagbueVerjusH?NapolitaniSicilianiVoroninaHamiltonPiazzaAnayochukwuMarshall-HallPagnottoMorePiccioTochukwuGrahamTungP'engToscaniOkwuomaMorleyButlerCrawfordBrownGreeceHeathSalMilneWardleEnderbyHoughtonNgozichukwukaTsuiH?BaxterGrahamT'angY?anMaAbernathyPapeMaEarleHopmanMcKayClarkChukwuhaenyeLoFollieroHanHollowayJohnstonYefremovaObialoTrevisaniNaylorDouglasRogovaGiordanoOkwukweChalmersEvseyevParry-OkedenPicotReidGenovesiNeumayerMurrayTienParkesYipIngleVorobyovaNapolitaniCoffeyIstominNdubuezeFernandoMazziTuanBryantMadukaifeAbdullahCheathamHaoNixonLockBareseDuncanKaurJenkinsBoylePadovanoLi FontiGenoveseWatsonManciniAksenovLuHouStephensonCooperCrumpDiggsCarvossoKodilinyechukwuNorthSimpsonNworaChandlerKerrFurneauxKambinachiNicksonLinHerzNikitinaKoHighettJacksonNelsonRendallMcIntyreAllardyceWeatherfordJenMironovaSharpeOsborneChuChongChiemenamPritchardWallisPalermaFraserMengCherkasovaChienYoungTsaoHussainAndersonShawLuccianoGordonBoniHutchinsonWillmoreBitterFanucciGinikanwaManningLiangUchechukwuSungReynaLiangHoweBarreraBednallOtooleCremonesiDonaldsonMcKayKaneSheWatsonShihZikoranachukwudimmaTimperleyKenechukwuOnyekachukwuChristopherDuncanLawleyDoynePintoChinDavideTorresWimbleFerminMossDochertyMarceloFaddenZoxKennedyTuL?JenksCraceSolominaEmenikePalermaTrentiniCoatesHardingHillBrownEspositoTanChungHoughtonZikoranachidimmaBoagBaxterTienChimezieSloneHartleyLinTrentinoDunnLawGrigoryevaLuFallaciLeasonBrunerWallaceForbesWebbP'engHawkinsSimpsonChiangDalrympleChukwuemekaOjioforFanucciZubarevClaypoolEfremovBrookesDoyleAjuluchukwuLiaoOnuoraAksenovTrevisaniFentonChuObiutoNashHixsonFiorentiniWuMcMillanBirnieJohnstoneMillerShawChapmanY?anHowellsMcMillanThomasChifoLuBellucciParryMcIntyreFerrariBerryCattaneoFosterCh'engCurtisGoloubevQuesadaWrightYobachukwuWunderShenGoddardMcIntyreYenBurlingameRizzoChukwufumnanyaFraserRussellYefimovaPalermoShaoChimaraokeAzukaPaiWaltonHsiaoAbregoGibsonHughesGambrellRiekeNdubuaghaCoxUlyanovaTretiakovaAitkenGinikanwaCoatesMaultMcIntyreHenryKaoFrewinTrentinoTomlinsonRoystonMacleanHsingCatchpoleEfimovIjenduKwemtoBerryMordvinovaHingstonLawrencePadovanoCarterWebbT'anYatesLettiereHungFengGilbertRobbManfrinSmithRoweMoranWalkerMyersWallWilliamsOchoaBellucciGordonEluemunoHowarthKingGrantRichmondFiorentinoDicksonStevensMitchellNworieWentcherBentleyHayes-WilliamsJohnstoneTrevisanoTsuiOnyemauchechukwuChiemelaRobertsonP'engFrancisIkennaTaoSimsKuStantonLinFerriYinAvdeyevaTuChaoWelchYobannaGalloWilsonMarinoBaileyLungTs'aoChinwenmaBerryColomboHarrisBryanCh'engJenWangChenMazzantiNdubuezeMontesLuccheseHugginsWadeKenennaCartwrightPalermoButlerAlexanderSchneiderTsuiShihTretiakovaBareseLongoCowenMaiYuDuffyDalyBakerUvarovCostaGenovesiWrightChienezieTuUgochukwutubelumGoddardBeamGrayHsiungKuFiorentinoBucchoLettiereTaiSheppardMaxwellMaherRapuluchukwuEspositoCyrilTomlinsonCrawfordChikwadoHargreavesFergusonBurnsDiazKentishWattTownsendMarshPadovanoHamPatenCawthorneHerbertJenChaoEluemunoPirogovaBensonSicilianoAmechiSuBradleyCameronTsuiOkoliBogolyubovChuangMaNucciCardellBianchiPaiSuDavidsonBarrettVidalLungHawkinsChesnokovaChambersFerrariMcIntyreWarnerMcMillanAbernathyWatsonKershawReedMitchellWebbCampbellCaponOtutodilichukwuMcIntyreLombardoSimpsonLehrUpchurchPalermaColesHsuehKuoWoodhouseGibsonMossLiangSozonovForbesOnwuemelieTothHuntHughesBennettKayMilneLombardoOwensCharltonOverbyChifleyOliverDeRoseChuangRodriguezChuOnwumeluYobachiReillyAmadiRobinsonObioraCurtisFangChiaGearhartMcLeanMurphyKirbyLaneBergamaschiMillsWoodUspenskayaLiangWhiteRounsevellTs'aiIfeatuMillarIgwebuikeObidimkpaKeldieLiuKanayochukwuRileyRuizLeonardOnyekaozuluCarpenterBeneventiLewisElliottSheYuDavideDouglasBellucciUdineseMcFarlandFaneScottCraigChikeluY?anLongPowerNorrisMilaniHuntOluchukwuGloverMcCarthyChiuNorrissNikitinaHenryYudinaContiVolkovaBoniPhillipsShaoAitkenChaoChanWattsJenAmaechiMaslowRowleyToppTs'uiKodilinyechukwuK?LucasAndersonWeiBaldwinFosterGebhartTudawaliIloerikaOnyemauchechukwuCharltonTsengBlinovaNicholsonPlumbAllenBenfordChidiebereChijiokeRomanoWalkerBryantUrbanSutherlandWeiLongLloydGorshkovForbesLucchesiFariaYefremovGenovesiMarquezMarshallBednallBaresiObiajuluMcGregorLungFallaciFerriRowleyChidimmaSopuluchukwuTs'aoMaIweobiegbunamAzubuikeStewartKoAzubuikeAguirreAdamsYobannaCattaneoLungFollieroBryantAjuluchukwuCoxOhearnMunroeMorrisonParkhillY?HiltonLiHancockFollieroCristMiddletonWattsTretiakovO'KaneVasilyevaLorimerOnyekachukwuLaiTuHigginsChukwujekwuMcKayVincentMannaHsiehParsonsRootChiemezieToscaniSaadHopeBrookesFerrariRowntreeKennedyPooleOnwuamaezeMannaDwyerSergeyevaSturdeeAzikiweMorganVaginBrunoOsinachiHoGordonHuDochertyBrookesAngeloPughMcKenzieMichaelChiedozieHughesEvdokimovSmithNiPalermaYuanRapuokwuGrecoButusovWestEdithKorovinLajoieBergamaschiTorodeJamesOnwugharaWanSalinasNucciLuccianoShaoMcGregorChouAzikiweManciniDiribeGriffinAjuluchukwuWoodLiuWalker to numeric"
     ]
    }
   ],
   "source": [
    "data.groupby(['Gender']).aggregate(np.mean)['IsActiveMember']"
   ]
  },
  {
   "cell_type": "code",
   "execution_count": 300,
   "id": "943f94d0-97ab-4938-aa9d-a5f7316a1b44",
   "metadata": {},
   "outputs": [
    {
     "data": {
      "text/plain": [
       "<Axes: xlabel='Gender', ylabel='IsActiveMember'>"
      ]
     },
     "execution_count": 300,
     "metadata": {},
     "output_type": "execute_result"
    },
    {
     "data": {
      "image/png": "[encoded data removed]",
      "text/plain": [
       "<Figure size 640x480 with 1 Axes>"
      ]
     },
     "metadata": {},
     "output_type": "display_data"
    }
   ],
   "source": [
    "sns.barplot(x = data['Gender'], y = data['IsActiveMember'])"
   ]
  },
  {
   "cell_type": "code",
   "execution_count": 301,
   "id": "cab18275-10ac-4ff5-9758-26fec2c62027",
   "metadata": {},
   "outputs": [],
   "source": [
    "data.drop(columns = ['CustomerId'] , inplace = True)"
   ]
  },
  {
   "cell_type": "code",
   "execution_count": 302,
   "id": "de49d099-b251-4e48-b6a3-2c697f4add6f",
   "metadata": {},
   "outputs": [
    {
     "data": {
      "text/plain": [
       "Index(['RowNumber', 'Surname', 'CreditScore', 'Geography', 'Gender', 'Age',\n",
       "       'Tenure', 'Balance', 'NumOfProducts', 'HasCrCard', 'IsActiveMember',\n",
       "       'EstimatedSalary', 'Exited'],\n",
       "      dtype='object')"
      ]
     },
     "execution_count": 302,
     "metadata": {},
     "output_type": "execute_result"
    }
   ],
   "source": [
    "data.columns"
   ]
  },
  {
   "cell_type": "code",
   "execution_count": null,
   "id": "3b77142e-6a03-4b44-8564-f63b60c90585",
   "metadata": {},
   "outputs": [],
   "source": []
  },
  {
   "cell_type": "code",
   "execution_count": null,
   "id": "ccc34ab2-3aa5-4b54-ba8e-8b6a897de949",
   "metadata": {},
   "outputs": [],
   "source": []
  }
 ],
 "metadata": {
  "kernelspec": {
   "display_name": "Python 3 (ipykernel)",
   "language": "python",
   "name": "python3"
  },
  "language_info": {
   "codemirror_mode": {
    "name": "ipython",
    "version": 3
   },
   "file_extension": ".py",
   "mimetype": "text/x-python",
   "name": "python",
   "nbconvert_exporter": "python",
   "pygments_lexer": "ipython3",
   "version": "3.10.12"
  }
 },
 "nbformat": 4,
 "nbformat_minor": 5
}
