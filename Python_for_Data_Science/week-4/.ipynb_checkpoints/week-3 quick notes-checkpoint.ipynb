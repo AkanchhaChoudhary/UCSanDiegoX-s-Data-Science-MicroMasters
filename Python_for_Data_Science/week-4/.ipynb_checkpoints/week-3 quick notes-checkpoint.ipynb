{
 "cells": [
  {
   "cell_type": "markdown",
   "id": "1794721b-f478-4dcc-be10-888a3d5dfa18",
   "metadata": {},
   "source": [
    "# <font color= blue> UCSanDiegoX-s-Data-Science-MicroMasters </font> #"
   ]
  },
  {
   "cell_type": "markdown",
   "id": "9f668632-bc23-4073-ba7e-4b4422156930",
   "metadata": {},
   "source": [
    "## 1.1 Course 1-Python For Data Science ##\n",
    "## Some quick notes that I took from  the week-4 lecture of my Micro-Master in Data Science by UC san diego."
   ]
  },
  {
   "cell_type": "markdown",
   "id": "a218b080-f11f-4f5a-95e4-ee1aa7a47e50",
   "metadata": {},
   "source": [
    "PANDAS: Pandas builds up NumPy, so most of the NumPy advantages still hold true. Pandas also enables combining large data sets using merge and join.  Pandas library handles\n",
    "time-series data effectively via native methods.\n",
    "* Pandas has two data structures namely, pandas Series and pandas DataFrame. A series is one one-dimensional array-like object that provides us with many ways to index data.\n",
    "Series acts like an ndarray,but it supports many data types.\n",
    "* In series, data can be hetrogenous which is not possible in numpy.We can also use Python operations on a series\n",
    "\n"
   ]
  },
  {
   "cell_type": "markdown",
   "id": "e497ec89-2846-4ffa-a061-7713c8f6232a",
   "metadata": {},
   "source": [
    "* Accessing values from ndarray using indexes\n",
    "* Rank in ndarrays\n",
    "* Using built-in function to create ndarrays with different shapes and initial values\n",
    "* Rank one ndarrays are simply a single dimensional array or a vector. Ndarrays are mutable.\n",
    "* Boolean Indexing is use to access and permute relevant data in ndarrays.\n",
    "* how to perform dot and inner products on matrices and vectors,\n",
    "* how to sum elements in the ndarray,\n",
    "* how to use element-wise functions\n",
    "* and get the transfers of a matrix,\n",
    "* how to use random number generation\n",
    "* and how to merge data sets,\n",
    "* how to use the ware function, and more.\n",
    "* Broadcasting rules in Numpy: when operating on two arrays numpy compares their shapes element-wise. It starts with the trailing dmensions and works its way forward. Two       dimension are compatible when 1) they are equal ,or 2) one of them is 1.\n",
    "* ogrid is a compact method of creating a multidimensional ndarray operations in single lines.\n",
    "* Pandas builds up NumPy. it uniquely enables ingestion and manipulation of heterogeneous data types in an intuitive fashion. Pandas also enables combining large data sets   using merge and join. Pandas library handles time-series data effectively via native methods it provides to ingest, transform, and analyze time-series data.\n"
   ]
  },
  {
   "cell_type": "code",
   "execution_count": null,
   "id": "3ddc0346-5402-45ef-877a-38b8389d1970",
   "metadata": {},
   "outputs": [],
   "source": []
  }
 ],
 "metadata": {
  "kernelspec": {
   "display_name": "Python 3 (ipykernel)",
   "language": "python",
   "name": "python3"
  },
  "language_info": {
   "codemirror_mode": {
    "name": "ipython",
    "version": 3
   },
   "file_extension": ".py",
   "mimetype": "text/x-python",
   "name": "python",
   "nbconvert_exporter": "python",
   "pygments_lexer": "ipython3",
   "version": "3.10.12"
  }
 },
 "nbformat": 4,
 "nbformat_minor": 5
}
