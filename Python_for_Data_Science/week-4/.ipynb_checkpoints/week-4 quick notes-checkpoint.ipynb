{
 "cells": [
  {
   "cell_type": "markdown",
   "id": "1794721b-f478-4dcc-be10-888a3d5dfa18",
   "metadata": {},
   "source": [
    "# <font color= blue> UCSanDiegoX-s-Data-Science-MicroMasters </font> #"
   ]
  },
  {
   "cell_type": "markdown",
   "id": "9f668632-bc23-4073-ba7e-4b4422156930",
   "metadata": {},
   "source": [
    "## 1.1 Course 1-Python For Data Science ##\n",
    "## Some quick notes that I took from  the week-4 lecture of my Micro-Master in Data Science by UC san diego."
   ]
  },
  {
   "cell_type": "markdown",
   "id": "a218b080-f11f-4f5a-95e4-ee1aa7a47e50",
   "metadata": {},
   "source": [
    "PANDAS: Pandas builds up NumPy, so most of the NumPy advantages still hold true. Pandas also enables combining large data sets using merge and join.  Pandas library handles\n",
    "time-series data effectively via native methods.\n",
    "* Pandas has two data structures namely, pandas Series and pandas DataFrame. A series is one one-dimensional array-like object that provides us with many ways to index data.\n",
    "Series acts like an ndarray,but it supports many data types.\n",
    "* In series, data can be hetrogenous which is not possible in numpy.We can also use Python operations on a series\n",
    "* Descriptive Statistics in Pandas: Describe() is give you an idea of the nature of your data and they can tell you if there's something wrong with your dat. corr()  function for computing Pearson coefficient, can be used to explore the dependencies between different variables and the data. Kendall and Spearman correlations is useful too.\n",
    "* Standard deviation is a measure of spread or variability in your data. A smaller deviation is good when it comes to errors.\n",
    "* Working with timestamps and time-series data\n",
    "* Matplotlib is a plotting library for Python and Pandas leverages matplotlib underneath for its plots.\n",
    "* Performing aggregation operations like groupby in DataFrames.\n",
    "* The concat function in pandas can be used to stack DataFrames and create a new DataFrame out of them\n",
    "* Understanding sequential understanding.\n",
    "* The extract function will return the first match for a regular expression it finds.\n",
    "* Unix time tracks the progress of time by counting the number of seconds since a specific time instant and this need to be converted into human readable format called \"parse time\". Datetime64 [Ns] is a general data type for datetime.\n",
    "\n"
   ]
  },
  {
   "cell_type": "markdown",
   "id": "e497ec89-2846-4ffa-a061-7713c8f6232a",
   "metadata": {},
   "source": []
  },
  {
   "cell_type": "code",
   "execution_count": null,
   "id": "3ddc0346-5402-45ef-877a-38b8389d1970",
   "metadata": {},
   "outputs": [],
   "source": []
  }
 ],
 "metadata": {
  "kernelspec": {
   "display_name": "Python 3 (ipykernel)",
   "language": "python",
   "name": "python3"
  },
  "language_info": {
   "codemirror_mode": {
    "name": "ipython",
    "version": 3
   },
   "file_extension": ".py",
   "mimetype": "text/x-python",
   "name": "python",
   "nbconvert_exporter": "python",
   "pygments_lexer": "ipython3",
   "version": "3.10.12"
  }
 },
 "nbformat": 4,
 "nbformat_minor": 5
}
