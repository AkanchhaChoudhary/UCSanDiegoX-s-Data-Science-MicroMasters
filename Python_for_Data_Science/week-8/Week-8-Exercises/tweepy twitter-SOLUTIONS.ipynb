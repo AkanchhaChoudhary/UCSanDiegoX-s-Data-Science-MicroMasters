{
 "cells": [
  {
   "cell_type": "markdown",
   "metadata": {},
   "source": [
    "# Exercise Notebook on Accessing Twitter with Tweepy: Solutions"
   ]
  },
  {
   "cell_type": "markdown",
   "metadata": {},
   "source": [
    "## Exercise 1: Twitter API Access\n",
    "\n",
    "You should already have Twitter access setup for the lecture, if you do not, please revisit the lecture and make sure you have your Twitter credentials saved:"
   ]
  },
  {
   "cell_type": "code",
   "execution_count": null,
   "metadata": {
    "scrolled": true
   },
   "outputs": [],
   "source": [
    "#pip install for the package we will be using\n",
    "!pip install tweepy"
   ]
  },
  {
   "cell_type": "code",
   "execution_count": null,
   "metadata": {
    "scrolled": true
   },
   "outputs": [],
   "source": [
    "import tweepy\n",
    "\n",
    "c_k = \"Consumer_Key\"\n",
    "c_s = \"Consumer_Secret\"\n",
    "\n",
    "a_t = \"Access_Token\"\n",
    "a_s = \"Access_Token_Secret\""
   ]
  },
  {
   "cell_type": "code",
   "execution_count": null,
   "metadata": {
    "scrolled": true
   },
   "outputs": [],
   "source": [
    "auth = tweepy.OAuthHandler(c_k, c_s)\n",
    "auth.set_access_token(a_t, a_s)\n",
    "api = tweepy.API(auth)"
   ]
  },
  {
   "cell_type": "markdown",
   "metadata": {},
   "source": [
    "## Exercise 2: Get the WOE ID for a place of interest"
   ]
  },
  {
   "cell_type": "markdown",
   "metadata": {},
   "source": [
    "Find the Yahoo! Where On Earth ID for a place you are interested in at:\n",
    "\n",
    "http://woeid.rosselliot.co.nz/ or https://www.findmecity.com/ depending on which is working\n",
    "\n",
    "Set `LOCAL_WOE_ID` to this integer number below: "
   ]
  },
  {
   "cell_type": "code",
   "execution_count": null,
   "metadata": {
    "nbgrader": {
     "grade": false,
     "grade_id": "LOCAL_WOE_ID",
     "locked": false,
     "schema_version": 1,
     "solution": true
    },
    "scrolled": true
   },
   "outputs": [],
   "source": [
    "LOCAL_WOE_ID = None\n",
    "### BEGIN SOLUTION\n",
    "LOCAL_WOE_ID = 44418\n",
    "### END SOLUTION"
   ]
  },
  {
   "cell_type": "code",
   "execution_count": null,
   "metadata": {
    "scrolled": true
   },
   "outputs": [],
   "source": [
    "assert LOCAL_WOE_ID, \"Remember to set LOCAL_WOE_ID to a location identifier\""
   ]
  },
  {
   "cell_type": "markdown",
   "metadata": {},
   "source": [
    "## Exercise 3: Retrieve and print local trends\n",
    "\n",
    "Let's use the twitter API to retrieve trends"
   ]
  },
  {
   "cell_type": "code",
   "execution_count": null,
   "metadata": {
    "scrolled": true
   },
   "outputs": [],
   "source": [
    "local_trends = api.trends_place(LOCAL_WOE_ID)"
   ]
  },
  {
   "cell_type": "markdown",
   "metadata": {},
   "source": [
    "`local_trends` is a highly nested data structure made up of lists and dictionaries, explore it with `type()`, `len()` and indexing like `[0]` and print out a list of all the trends:"
   ]
  },
  {
   "cell_type": "code",
   "execution_count": null,
   "metadata": {
    "nbgrader": {
     "grade": false,
     "grade_id": "list_of_trends",
     "locked": false,
     "schema_version": 1,
     "solution": true
    },
    "scrolled": true
   },
   "outputs": [],
   "source": [
    "list_of_trends = None\n",
    "### BEGIN SOLUTION\n",
    "list_of_trends = [trend[\"name\"] for trend in local_trends[0]['trends']]\n",
    "### END SOLUTION"
   ]
  },
  {
   "cell_type": "code",
   "execution_count": null,
   "metadata": {
    "scrolled": true
   },
   "outputs": [],
   "source": [
    "assert isinstance(list_of_trends, list), \"list_of_trends should be a list\""
   ]
  },
  {
   "cell_type": "markdown",
   "metadata": {},
   "source": [
    "## Exercise 4: Collecting search results\n",
    "\n",
    "Now let's execute a search on Twitter for the most popular trend and repeat the filtering step performed during lecture to remove duplicate results.\n",
    "\n",
    "Set the `q` variable to the most popular trend in the list we retrieved above:\n",
    "\n",
    "You may find the documentation below useful...\n",
    "\n",
    "http://docs.tweepy.org/en/v3.5.0/api.html#API.trends_place"
   ]
  },
  {
   "cell_type": "code",
   "execution_count": null,
   "metadata": {
    "nbgrader": {
     "grade": false,
     "grade_id": "q",
     "locked": false,
     "schema_version": 1,
     "solution": true
    },
    "scrolled": true
   },
   "outputs": [],
   "source": [
    "q = None\n",
    "### BEGIN SOLUTION\n",
    "q = list_of_trends[0]\n",
    "### END SOLUTION"
   ]
  },
  {
   "cell_type": "markdown",
   "metadata": {},
   "source": [
    "Then let's execute the Twitter search:"
   ]
  },
  {
   "cell_type": "code",
   "execution_count": null,
   "metadata": {
    "scrolled": true
   },
   "outputs": [],
   "source": [
    "# DO NOT MODIFY\n",
    "count = 100\n",
    "\n",
    "statuses = []\n",
    "filtered_statuses = []\n",
    "for tweet in tweepy.Cursor(api.search, q=q, lang=\"en\").items(count):\n",
    "    statuses.append(tweet.text)\n",
    "    if tweet.text not in filtered_statuses:\n",
    "        filtered_statuses.append((tweet.text, tweet.retweet_count)) \n",
    "        #We're string the retweet count here for the next exercise"
   ]
  },
  {
   "cell_type": "markdown",
   "metadata": {},
   "source": [
    "If you check the code above, you might see that statuses should be getting 100 statuses. This is verified below, but filtered statuses likely won't be the same. If any of the text content of the tweets is the same, filtered_statuses should only contain one of the tweets, or the unique tweets."
   ]
  },
  {
   "cell_type": "code",
   "execution_count": null,
   "metadata": {
    "scrolled": true
   },
   "outputs": [],
   "source": [
    "assert len(statuses) == count, \"Make sure you are getting the correct number of statuses\""
   ]
  },
  {
   "cell_type": "markdown",
   "metadata": {},
   "source": [
    "## Exercise 5: Create a list of retweet count and status tuples\n",
    "\n",
    "We want to sort the tweets by the retweet count, therefore the first step is to create a list of tuples where the first element is the retweet count and then use the `sorted` function to perform the sorting operation."
   ]
  },
  {
   "cell_type": "code",
   "execution_count": null,
   "metadata": {
    "nbgrader": {
     "grade": false,
     "grade_id": "retweets",
     "locked": false,
     "schema_version": 1,
     "solution": true
    },
    "scrolled": true
   },
   "outputs": [],
   "source": [
    "retweets = None\n",
    "### BEGIN SOLUTION\n",
    "retweets = [(s[1], s[0]) for s in filtered_statuses]\n",
    "### END SOLUTION"
   ]
  },
  {
   "cell_type": "code",
   "execution_count": null,
   "metadata": {
    "scrolled": true
   },
   "outputs": [],
   "source": [
    "assert len(retweets) == len(filtered_statuses), \"Make sure you are using filterest_statuses and not statuses\"\n",
    "assert len(retweets[0]) == 2, \"Each tuple should only have 2 elements, retweet count and the tweet text\""
   ]
  },
  {
   "cell_type": "markdown",
   "metadata": {},
   "source": [
    "## Exercise 6: Sort a list of tweets\n",
    "\n",
    "Use the `sorted` function to sort retweets and get the 10 more popular, we'd like to have the more popular tweet first."
   ]
  },
  {
   "cell_type": "code",
   "execution_count": null,
   "metadata": {
    "nbgrader": {
     "grade": false,
     "grade_id": "popular_tweets",
     "locked": false,
     "schema_version": 1,
     "solution": true
    },
    "scrolled": true
   },
   "outputs": [],
   "source": [
    "popular_tweets = None\n",
    "### BEGIN SOLUTION\n",
    "popular_tweets = sorted(retweets, reverse=True)[:10]\n",
    "### END SOLUTION"
   ]
  },
  {
   "cell_type": "code",
   "execution_count": null,
   "metadata": {
    "scrolled": true
   },
   "outputs": [],
   "source": [
    "assert len(popular_tweets) == 10, \"Find the 10 most popular\"\n",
    "assert popular_tweets[0][0] >= popular_tweets[-1][0], \"Make sure you are sorting in descending order\""
   ]
  },
  {
   "cell_type": "markdown",
   "metadata": {},
   "source": [
    "Notice that this sorted list is not filtered for copies of tweets. This means that the first two entries here could be the same tweet, with the same number of retweets! Think about how you might be able to fix this with a small function or a couple lines of code."
   ]
  }
 ],
 "metadata": {
  "anaconda-cloud": {},
  "celltoolbar": "Create Assignment",
  "kernelspec": {
   "display_name": "Python 3",
   "language": "python",
   "name": "python3"
  },
  "language_info": {
   "codemirror_mode": {
    "name": "ipython",
    "version": 3
   },
   "file_extension": ".py",
   "mimetype": "text/x-python",
   "name": "python",
   "nbconvert_exporter": "python",
   "pygments_lexer": "ipython3",
   "version": "3.7.7"
  }
 },
 "nbformat": 4,
 "nbformat_minor": 1
}
