{
 "cells": [
  {
   "cell_type": "code",
   "execution_count": 42,
   "metadata": {},
   "outputs": [],
   "source": [
    "# Data Source: https://www.kaggle.com/worldbank/world-development-indicators\n",
    "# Folder: 'world-development-indicators'"
   ]
  },
  {
   "cell_type": "markdown",
   "metadata": {},
   "source": [
    "<br><p style=\"font-family: Arial; font-size:3.75em;color:purple; font-style:bold\">\n",
    "Matplotlib: Exploring <br> <br> <br>Data Visualization</p><br><br>"
   ]
  },
  {
   "cell_type": "markdown",
   "metadata": {},
   "source": [
    "<br><br><center><h1 style=\"font-size:2em;color:#2467C0\">World Development Indicators</h1></center>\n",
    "<br>\n",
    "<table>\n",
    "<col width=\"550\">\n",
    "<col width=\"450\">\n",
    "<tr>\n",
    "<td><img src=\"https://upload.wikimedia.org/wikipedia/commons/4/46/North_South_divide.svg\" align=\"middle\" style=\"width:550px;height:360px;\"/></td>\n",
    "<td>\n",
    "This week, we will be using an open dataset from <a href=\"https://www.kaggle.com\">Kaggle</a>. It is  <a href=\"https://www.kaggle.com/worldbank/world-development-indicators\">The World Development Indicators</a> dataset obtained from the World Bank containing over a thousand annual indicators of economic development from hundreds of countries around the world.\n",
    "<br>\n",
    "<br>\n",
    "This is a slightly modified version of the original dataset from <a href=\"http://data.worldbank.org/data-catalog/world-development-indicators\">The World Bank</a>\n",
    "<br>\n",
    "<br>\n",
    "List of the <a href=\"https://www.kaggle.com/benhamner/d/worldbank/world-development-indicators/indicators-in-data\">available indicators</a> and a <a href=\"https://www.kaggle.com/benhamner/d/worldbank/world-development-indicators/countries-in-the-wdi-data\">list of the available countries</a>.\n",
    "</td>\n",
    "</tr>\n",
    "</table>"
   ]
  },
  {
   "cell_type": "markdown",
   "metadata": {},
   "source": [
    "# Step 1: Initial exploration of the Dataset"
   ]
  },
  {
   "cell_type": "code",
   "execution_count": 2,
   "metadata": {},
   "outputs": [],
   "source": [
    "import pandas as pd\n",
    "import numpy as np\n",
    "import random\n",
    "import matplotlib.pyplot as plt\n"
   ]
  },
  {
   "cell_type": "code",
   "execution_count": 3,
   "metadata": {},
   "outputs": [],
   "source": [
    "Indicators = pd.read_csv('./world-development-indicators/WDIData.csv')"
   ]
  },
  {
   "cell_type": "code",
   "execution_count": 4,
   "metadata": {
    "scrolled": true
   },
   "outputs": [
    {
     "name": "stdout",
     "output_type": "stream",
     "text": [
      "(379368, 66)\n",
      "<class 'pandas.core.frame.DataFrame'>\n",
      "['Country Name' 'Country Code' 'Indicator Name' 'Indicator Code' '1960'\n",
      " '1961' '1962' '1963' '1964' '1965' '1966' '1967' '1968' '1969' '1970'\n",
      " '1971' '1972' '1973' '1974' '1975' '1976' '1977' '1978' '1979' '1980'\n",
      " '1981' '1982' '1983' '1984' '1985' '1986' '1987' '1988' '1989' '1990'\n",
      " '1991' '1992' '1993' '1994' '1995' '1996' '1997' '1998' '1999' '2000'\n",
      " '2001' '2002' '2003' '2004' '2005' '2006' '2007' '2008' '2009' '2010'\n",
      " '2011' '2012' '2013' '2014' '2015' '2016' '2017' '2018' '2019' '2020'\n",
      " 'Unnamed: 65']\n"
     ]
    }
   ],
   "source": [
    "print(Indicators.shape)\n",
    "print(type(Indicators))\n",
    "names = Indicators.columns.values\n",
    "print(names)\n"
   ]
  },
  {
   "cell_type": "code",
   "execution_count": 5,
   "metadata": {},
   "outputs": [
    {
     "data": {
      "text/html": [
       "<div>\n",
       "<style scoped>\n",
       "    .dataframe tbody tr th:only-of-type {\n",
       "        vertical-align: middle;\n",
       "    }\n",
       "\n",
       "    .dataframe tbody tr th {\n",
       "        vertical-align: top;\n",
       "    }\n",
       "\n",
       "    .dataframe thead th {\n",
       "        text-align: right;\n",
       "    }\n",
       "</style>\n",
       "<table border=\"1\" class=\"dataframe\">\n",
       "  <thead>\n",
       "    <tr style=\"text-align: right;\">\n",
       "      <th></th>\n",
       "      <th>Country Name</th>\n",
       "      <th>Country Code</th>\n",
       "      <th>Indicator Name</th>\n",
       "      <th>Indicator Code</th>\n",
       "      <th>1960</th>\n",
       "      <th>1961</th>\n",
       "      <th>1962</th>\n",
       "      <th>1963</th>\n",
       "      <th>1964</th>\n",
       "      <th>1965</th>\n",
       "      <th>...</th>\n",
       "      <th>2012</th>\n",
       "      <th>2013</th>\n",
       "      <th>2014</th>\n",
       "      <th>2015</th>\n",
       "      <th>2016</th>\n",
       "      <th>2017</th>\n",
       "      <th>2018</th>\n",
       "      <th>2019</th>\n",
       "      <th>2020</th>\n",
       "      <th>Unnamed: 65</th>\n",
       "    </tr>\n",
       "  </thead>\n",
       "  <tbody>\n",
       "    <tr>\n",
       "      <th>0</th>\n",
       "      <td>Arab World</td>\n",
       "      <td>ARB</td>\n",
       "      <td>Access to clean fuels and technologies for coo...</td>\n",
       "      <td>EG.CFT.ACCS.ZS</td>\n",
       "      <td>NaN</td>\n",
       "      <td>NaN</td>\n",
       "      <td>NaN</td>\n",
       "      <td>NaN</td>\n",
       "      <td>NaN</td>\n",
       "      <td>NaN</td>\n",
       "      <td>...</td>\n",
       "      <td>NaN</td>\n",
       "      <td>NaN</td>\n",
       "      <td>NaN</td>\n",
       "      <td>NaN</td>\n",
       "      <td>NaN</td>\n",
       "      <td>NaN</td>\n",
       "      <td>NaN</td>\n",
       "      <td>NaN</td>\n",
       "      <td>NaN</td>\n",
       "      <td>NaN</td>\n",
       "    </tr>\n",
       "    <tr>\n",
       "      <th>1</th>\n",
       "      <td>Arab World</td>\n",
       "      <td>ARB</td>\n",
       "      <td>Access to electricity (% of population)</td>\n",
       "      <td>EG.ELC.ACCS.ZS</td>\n",
       "      <td>NaN</td>\n",
       "      <td>NaN</td>\n",
       "      <td>NaN</td>\n",
       "      <td>NaN</td>\n",
       "      <td>NaN</td>\n",
       "      <td>NaN</td>\n",
       "      <td>...</td>\n",
       "      <td>NaN</td>\n",
       "      <td>NaN</td>\n",
       "      <td>NaN</td>\n",
       "      <td>NaN</td>\n",
       "      <td>NaN</td>\n",
       "      <td>NaN</td>\n",
       "      <td>NaN</td>\n",
       "      <td>NaN</td>\n",
       "      <td>NaN</td>\n",
       "      <td>NaN</td>\n",
       "    </tr>\n",
       "    <tr>\n",
       "      <th>2</th>\n",
       "      <td>Arab World</td>\n",
       "      <td>ARB</td>\n",
       "      <td>Access to electricity, rural (% of rural popul...</td>\n",
       "      <td>EG.ELC.ACCS.RU.ZS</td>\n",
       "      <td>NaN</td>\n",
       "      <td>NaN</td>\n",
       "      <td>NaN</td>\n",
       "      <td>NaN</td>\n",
       "      <td>NaN</td>\n",
       "      <td>NaN</td>\n",
       "      <td>...</td>\n",
       "      <td>NaN</td>\n",
       "      <td>NaN</td>\n",
       "      <td>NaN</td>\n",
       "      <td>NaN</td>\n",
       "      <td>NaN</td>\n",
       "      <td>NaN</td>\n",
       "      <td>NaN</td>\n",
       "      <td>NaN</td>\n",
       "      <td>NaN</td>\n",
       "      <td>NaN</td>\n",
       "    </tr>\n",
       "    <tr>\n",
       "      <th>3</th>\n",
       "      <td>Arab World</td>\n",
       "      <td>ARB</td>\n",
       "      <td>Access to electricity, urban (% of urban popul...</td>\n",
       "      <td>EG.ELC.ACCS.UR.ZS</td>\n",
       "      <td>NaN</td>\n",
       "      <td>NaN</td>\n",
       "      <td>NaN</td>\n",
       "      <td>NaN</td>\n",
       "      <td>NaN</td>\n",
       "      <td>NaN</td>\n",
       "      <td>...</td>\n",
       "      <td>NaN</td>\n",
       "      <td>NaN</td>\n",
       "      <td>NaN</td>\n",
       "      <td>NaN</td>\n",
       "      <td>NaN</td>\n",
       "      <td>NaN</td>\n",
       "      <td>NaN</td>\n",
       "      <td>NaN</td>\n",
       "      <td>NaN</td>\n",
       "      <td>NaN</td>\n",
       "    </tr>\n",
       "    <tr>\n",
       "      <th>4</th>\n",
       "      <td>Arab World</td>\n",
       "      <td>ARB</td>\n",
       "      <td>Account ownership at a financial institution o...</td>\n",
       "      <td>FX.OWN.TOTL.ZS</td>\n",
       "      <td>NaN</td>\n",
       "      <td>NaN</td>\n",
       "      <td>NaN</td>\n",
       "      <td>NaN</td>\n",
       "      <td>NaN</td>\n",
       "      <td>NaN</td>\n",
       "      <td>...</td>\n",
       "      <td>NaN</td>\n",
       "      <td>NaN</td>\n",
       "      <td>30.27713</td>\n",
       "      <td>NaN</td>\n",
       "      <td>NaN</td>\n",
       "      <td>37.165211</td>\n",
       "      <td>NaN</td>\n",
       "      <td>NaN</td>\n",
       "      <td>NaN</td>\n",
       "      <td>NaN</td>\n",
       "    </tr>\n",
       "  </tbody>\n",
       "</table>\n",
       "<p>5 rows × 66 columns</p>\n",
       "</div>"
      ],
      "text/plain": [
       "  Country Name Country Code  \\\n",
       "0   Arab World          ARB   \n",
       "1   Arab World          ARB   \n",
       "2   Arab World          ARB   \n",
       "3   Arab World          ARB   \n",
       "4   Arab World          ARB   \n",
       "\n",
       "                                      Indicator Name     Indicator Code  1960  \\\n",
       "0  Access to clean fuels and technologies for coo...     EG.CFT.ACCS.ZS   NaN   \n",
       "1            Access to electricity (% of population)     EG.ELC.ACCS.ZS   NaN   \n",
       "2  Access to electricity, rural (% of rural popul...  EG.ELC.ACCS.RU.ZS   NaN   \n",
       "3  Access to electricity, urban (% of urban popul...  EG.ELC.ACCS.UR.ZS   NaN   \n",
       "4  Account ownership at a financial institution o...     FX.OWN.TOTL.ZS   NaN   \n",
       "\n",
       "   1961  1962  1963  1964  1965  ...  2012  2013      2014  2015  2016  \\\n",
       "0   NaN   NaN   NaN   NaN   NaN  ...   NaN   NaN       NaN   NaN   NaN   \n",
       "1   NaN   NaN   NaN   NaN   NaN  ...   NaN   NaN       NaN   NaN   NaN   \n",
       "2   NaN   NaN   NaN   NaN   NaN  ...   NaN   NaN       NaN   NaN   NaN   \n",
       "3   NaN   NaN   NaN   NaN   NaN  ...   NaN   NaN       NaN   NaN   NaN   \n",
       "4   NaN   NaN   NaN   NaN   NaN  ...   NaN   NaN  30.27713   NaN   NaN   \n",
       "\n",
       "        2017  2018  2019  2020  Unnamed: 65  \n",
       "0        NaN   NaN   NaN   NaN          NaN  \n",
       "1        NaN   NaN   NaN   NaN          NaN  \n",
       "2        NaN   NaN   NaN   NaN          NaN  \n",
       "3        NaN   NaN   NaN   NaN          NaN  \n",
       "4  37.165211   NaN   NaN   NaN          NaN  \n",
       "\n",
       "[5 rows x 66 columns]"
      ]
     },
     "execution_count": 5,
     "metadata": {},
     "output_type": "execute_result"
    }
   ],
   "source": [
    "Indicators.head()"
   ]
  },
  {
   "cell_type": "code",
   "execution_count": 6,
   "metadata": {
    "scrolled": true
   },
   "outputs": [
    {
     "data": {
      "text/html": [
       "<div>\n",
       "<style scoped>\n",
       "    .dataframe tbody tr th:only-of-type {\n",
       "        vertical-align: middle;\n",
       "    }\n",
       "\n",
       "    .dataframe tbody tr th {\n",
       "        vertical-align: top;\n",
       "    }\n",
       "\n",
       "    .dataframe thead th {\n",
       "        text-align: right;\n",
       "    }\n",
       "</style>\n",
       "<table border=\"1\" class=\"dataframe\">\n",
       "  <thead>\n",
       "    <tr style=\"text-align: right;\">\n",
       "      <th></th>\n",
       "      <th>Country Name</th>\n",
       "      <th>Country Code</th>\n",
       "      <th>Indicator Name</th>\n",
       "      <th>Indicator Code</th>\n",
       "      <th>Year</th>\n",
       "      <th>Value</th>\n",
       "    </tr>\n",
       "  </thead>\n",
       "  <tbody>\n",
       "    <tr>\n",
       "      <th>0</th>\n",
       "      <td>Arab World</td>\n",
       "      <td>ARB</td>\n",
       "      <td>Access to clean fuels and technologies for coo...</td>\n",
       "      <td>EG.CFT.ACCS.ZS</td>\n",
       "      <td>1960</td>\n",
       "      <td>NaN</td>\n",
       "    </tr>\n",
       "    <tr>\n",
       "      <th>1</th>\n",
       "      <td>Arab World</td>\n",
       "      <td>ARB</td>\n",
       "      <td>Access to electricity (% of population)</td>\n",
       "      <td>EG.ELC.ACCS.ZS</td>\n",
       "      <td>1960</td>\n",
       "      <td>NaN</td>\n",
       "    </tr>\n",
       "    <tr>\n",
       "      <th>2</th>\n",
       "      <td>Arab World</td>\n",
       "      <td>ARB</td>\n",
       "      <td>Access to electricity, rural (% of rural popul...</td>\n",
       "      <td>EG.ELC.ACCS.RU.ZS</td>\n",
       "      <td>1960</td>\n",
       "      <td>NaN</td>\n",
       "    </tr>\n",
       "    <tr>\n",
       "      <th>3</th>\n",
       "      <td>Arab World</td>\n",
       "      <td>ARB</td>\n",
       "      <td>Access to electricity, urban (% of urban popul...</td>\n",
       "      <td>EG.ELC.ACCS.UR.ZS</td>\n",
       "      <td>1960</td>\n",
       "      <td>NaN</td>\n",
       "    </tr>\n",
       "    <tr>\n",
       "      <th>4</th>\n",
       "      <td>Arab World</td>\n",
       "      <td>ARB</td>\n",
       "      <td>Account ownership at a financial institution o...</td>\n",
       "      <td>FX.OWN.TOTL.ZS</td>\n",
       "      <td>1960</td>\n",
       "      <td>NaN</td>\n",
       "    </tr>\n",
       "    <tr>\n",
       "      <th>...</th>\n",
       "      <td>...</td>\n",
       "      <td>...</td>\n",
       "      <td>...</td>\n",
       "      <td>...</td>\n",
       "      <td>...</td>\n",
       "      <td>...</td>\n",
       "    </tr>\n",
       "    <tr>\n",
       "      <th>23520811</th>\n",
       "      <td>Zimbabwe</td>\n",
       "      <td>ZWE</td>\n",
       "      <td>Women who believe a husband is justified in be...</td>\n",
       "      <td>SG.VAW.NEGL.ZS</td>\n",
       "      <td>Unnamed: 65</td>\n",
       "      <td>NaN</td>\n",
       "    </tr>\n",
       "    <tr>\n",
       "      <th>23520812</th>\n",
       "      <td>Zimbabwe</td>\n",
       "      <td>ZWE</td>\n",
       "      <td>Women who believe a husband is justified in be...</td>\n",
       "      <td>SG.VAW.REFU.ZS</td>\n",
       "      <td>Unnamed: 65</td>\n",
       "      <td>NaN</td>\n",
       "    </tr>\n",
       "    <tr>\n",
       "      <th>23520813</th>\n",
       "      <td>Zimbabwe</td>\n",
       "      <td>ZWE</td>\n",
       "      <td>Women who were first married by age 15 (% of w...</td>\n",
       "      <td>SP.M15.2024.FE.ZS</td>\n",
       "      <td>Unnamed: 65</td>\n",
       "      <td>NaN</td>\n",
       "    </tr>\n",
       "    <tr>\n",
       "      <th>23520814</th>\n",
       "      <td>Zimbabwe</td>\n",
       "      <td>ZWE</td>\n",
       "      <td>Women who were first married by age 18 (% of w...</td>\n",
       "      <td>SP.M18.2024.FE.ZS</td>\n",
       "      <td>Unnamed: 65</td>\n",
       "      <td>NaN</td>\n",
       "    </tr>\n",
       "    <tr>\n",
       "      <th>23520815</th>\n",
       "      <td>Zimbabwe</td>\n",
       "      <td>ZWE</td>\n",
       "      <td>Women's share of population ages 15+ living wi...</td>\n",
       "      <td>SH.DYN.AIDS.FE.ZS</td>\n",
       "      <td>Unnamed: 65</td>\n",
       "      <td>NaN</td>\n",
       "    </tr>\n",
       "  </tbody>\n",
       "</table>\n",
       "<p>23520816 rows × 6 columns</p>\n",
       "</div>"
      ],
      "text/plain": [
       "         Country Name Country Code  \\\n",
       "0          Arab World          ARB   \n",
       "1          Arab World          ARB   \n",
       "2          Arab World          ARB   \n",
       "3          Arab World          ARB   \n",
       "4          Arab World          ARB   \n",
       "...               ...          ...   \n",
       "23520811     Zimbabwe          ZWE   \n",
       "23520812     Zimbabwe          ZWE   \n",
       "23520813     Zimbabwe          ZWE   \n",
       "23520814     Zimbabwe          ZWE   \n",
       "23520815     Zimbabwe          ZWE   \n",
       "\n",
       "                                             Indicator Name  \\\n",
       "0         Access to clean fuels and technologies for coo...   \n",
       "1                   Access to electricity (% of population)   \n",
       "2         Access to electricity, rural (% of rural popul...   \n",
       "3         Access to electricity, urban (% of urban popul...   \n",
       "4         Account ownership at a financial institution o...   \n",
       "...                                                     ...   \n",
       "23520811  Women who believe a husband is justified in be...   \n",
       "23520812  Women who believe a husband is justified in be...   \n",
       "23520813  Women who were first married by age 15 (% of w...   \n",
       "23520814  Women who were first married by age 18 (% of w...   \n",
       "23520815  Women's share of population ages 15+ living wi...   \n",
       "\n",
       "             Indicator Code         Year  Value  \n",
       "0            EG.CFT.ACCS.ZS         1960    NaN  \n",
       "1            EG.ELC.ACCS.ZS         1960    NaN  \n",
       "2         EG.ELC.ACCS.RU.ZS         1960    NaN  \n",
       "3         EG.ELC.ACCS.UR.ZS         1960    NaN  \n",
       "4            FX.OWN.TOTL.ZS         1960    NaN  \n",
       "...                     ...          ...    ...  \n",
       "23520811     SG.VAW.NEGL.ZS  Unnamed: 65    NaN  \n",
       "23520812     SG.VAW.REFU.ZS  Unnamed: 65    NaN  \n",
       "23520813  SP.M15.2024.FE.ZS  Unnamed: 65    NaN  \n",
       "23520814  SP.M18.2024.FE.ZS  Unnamed: 65    NaN  \n",
       "23520815  SH.DYN.AIDS.FE.ZS  Unnamed: 65    NaN  \n",
       "\n",
       "[23520816 rows x 6 columns]"
      ]
     },
     "execution_count": 6,
     "metadata": {},
     "output_type": "execute_result"
    }
   ],
   "source": [
    "Indicators_new = pd.melt(Indicators, id_vars=['Country Name', 'Country Code', 'Indicator Name', 'Indicator Code'], var_name=\"Year\", value_name=\"Value\")\n",
    "Indicators_new"
   ]
  },
  {
   "cell_type": "code",
   "execution_count": 26,
   "metadata": {},
   "outputs": [],
   "source": [
    "Indicators_new.to_csv('Indicators.csv')"
   ]
  },
  {
   "cell_type": "code",
   "execution_count": 8,
   "metadata": {},
   "outputs": [],
   "source": [
    "Indicators_new = Indicators_new.dropna()"
   ]
  },
  {
   "cell_type": "code",
   "execution_count": 9,
   "metadata": {},
   "outputs": [
    {
     "data": {
      "text/html": [
       "<div>\n",
       "<style scoped>\n",
       "    .dataframe tbody tr th:only-of-type {\n",
       "        vertical-align: middle;\n",
       "    }\n",
       "\n",
       "    .dataframe tbody tr th {\n",
       "        vertical-align: top;\n",
       "    }\n",
       "\n",
       "    .dataframe thead th {\n",
       "        text-align: right;\n",
       "    }\n",
       "</style>\n",
       "<table border=\"1\" class=\"dataframe\">\n",
       "  <thead>\n",
       "    <tr style=\"text-align: right;\">\n",
       "      <th></th>\n",
       "      <th>Country Name</th>\n",
       "      <th>Country Code</th>\n",
       "      <th>Indicator Name</th>\n",
       "      <th>Indicator Code</th>\n",
       "      <th>Year</th>\n",
       "      <th>Value</th>\n",
       "    </tr>\n",
       "  </thead>\n",
       "  <tbody>\n",
       "    <tr>\n",
       "      <th>48</th>\n",
       "      <td>Arab World</td>\n",
       "      <td>ARB</td>\n",
       "      <td>Adolescent fertility rate (births per 1,000 wo...</td>\n",
       "      <td>SP.ADO.TFRT</td>\n",
       "      <td>1960</td>\n",
       "      <td>134.772341</td>\n",
       "    </tr>\n",
       "    <tr>\n",
       "      <th>54</th>\n",
       "      <td>Arab World</td>\n",
       "      <td>ARB</td>\n",
       "      <td>Age dependency ratio (% of working-age populat...</td>\n",
       "      <td>SP.POP.DPND</td>\n",
       "      <td>1960</td>\n",
       "      <td>88.061110</td>\n",
       "    </tr>\n",
       "    <tr>\n",
       "      <th>55</th>\n",
       "      <td>Arab World</td>\n",
       "      <td>ARB</td>\n",
       "      <td>Age dependency ratio, old (% of working-age po...</td>\n",
       "      <td>SP.POP.DPND.OL</td>\n",
       "      <td>1960</td>\n",
       "      <td>6.591951</td>\n",
       "    </tr>\n",
       "    <tr>\n",
       "      <th>56</th>\n",
       "      <td>Arab World</td>\n",
       "      <td>ARB</td>\n",
       "      <td>Age dependency ratio, young (% of working-age ...</td>\n",
       "      <td>SP.POP.DPND.YG</td>\n",
       "      <td>1960</td>\n",
       "      <td>81.324186</td>\n",
       "    </tr>\n",
       "    <tr>\n",
       "      <th>88</th>\n",
       "      <td>Arab World</td>\n",
       "      <td>ARB</td>\n",
       "      <td>Aquaculture production (metric tons)</td>\n",
       "      <td>ER.FSH.AQUA.MT</td>\n",
       "      <td>1960</td>\n",
       "      <td>4600.000000</td>\n",
       "    </tr>\n",
       "  </tbody>\n",
       "</table>\n",
       "</div>"
      ],
      "text/plain": [
       "   Country Name Country Code  \\\n",
       "48   Arab World          ARB   \n",
       "54   Arab World          ARB   \n",
       "55   Arab World          ARB   \n",
       "56   Arab World          ARB   \n",
       "88   Arab World          ARB   \n",
       "\n",
       "                                       Indicator Name  Indicator Code  Year  \\\n",
       "48  Adolescent fertility rate (births per 1,000 wo...     SP.ADO.TFRT  1960   \n",
       "54  Age dependency ratio (% of working-age populat...     SP.POP.DPND  1960   \n",
       "55  Age dependency ratio, old (% of working-age po...  SP.POP.DPND.OL  1960   \n",
       "56  Age dependency ratio, young (% of working-age ...  SP.POP.DPND.YG  1960   \n",
       "88               Aquaculture production (metric tons)  ER.FSH.AQUA.MT  1960   \n",
       "\n",
       "          Value  \n",
       "48   134.772341  \n",
       "54    88.061110  \n",
       "55     6.591951  \n",
       "56    81.324186  \n",
       "88  4600.000000  "
      ]
     },
     "execution_count": 9,
     "metadata": {},
     "output_type": "execute_result"
    }
   ],
   "source": [
    "Indicators_new.head()"
   ]
  },
  {
   "cell_type": "code",
   "execution_count": 29,
   "metadata": {},
   "outputs": [],
   "source": [
    "Indicators_new.to_csv('Indicators2.csv')"
   ]
  },
  {
   "cell_type": "markdown",
   "metadata": {},
   "source": [
    "This is a really large dataset, at least in terms of the number of rows.  But with 6 columns, what does this hold?"
   ]
  },
  {
   "cell_type": "code",
   "execution_count": 10,
   "metadata": {},
   "outputs": [
    {
     "data": {
      "text/plain": [
       "(7578806, 6)"
      ]
     },
     "execution_count": 10,
     "metadata": {},
     "output_type": "execute_result"
    }
   ],
   "source": [
    "data = pd.read_csv('./world-development-indicators/Indicators2.csv' , index_col=0)\n",
    "data.shape"
   ]
  },
  {
   "cell_type": "code",
   "execution_count": 11,
   "metadata": {
    "scrolled": true
   },
   "outputs": [
    {
     "data": {
      "text/html": [
       "<div>\n",
       "<style scoped>\n",
       "    .dataframe tbody tr th:only-of-type {\n",
       "        vertical-align: middle;\n",
       "    }\n",
       "\n",
       "    .dataframe tbody tr th {\n",
       "        vertical-align: top;\n",
       "    }\n",
       "\n",
       "    .dataframe thead th {\n",
       "        text-align: right;\n",
       "    }\n",
       "</style>\n",
       "<table border=\"1\" class=\"dataframe\">\n",
       "  <thead>\n",
       "    <tr style=\"text-align: right;\">\n",
       "      <th></th>\n",
       "      <th>Country Name</th>\n",
       "      <th>Country Code</th>\n",
       "      <th>Indicator Name</th>\n",
       "      <th>Indicator Code</th>\n",
       "      <th>Year</th>\n",
       "      <th>Value</th>\n",
       "    </tr>\n",
       "  </thead>\n",
       "  <tbody>\n",
       "    <tr>\n",
       "      <th>48</th>\n",
       "      <td>Arab World</td>\n",
       "      <td>ARB</td>\n",
       "      <td>Adolescent fertility rate (births per 1,000 wo...</td>\n",
       "      <td>SP.ADO.TFRT</td>\n",
       "      <td>1960</td>\n",
       "      <td>1.347723e+02</td>\n",
       "    </tr>\n",
       "    <tr>\n",
       "      <th>54</th>\n",
       "      <td>Arab World</td>\n",
       "      <td>ARB</td>\n",
       "      <td>Age dependency ratio (% of working-age populat...</td>\n",
       "      <td>SP.POP.DPND</td>\n",
       "      <td>1960</td>\n",
       "      <td>8.806111e+01</td>\n",
       "    </tr>\n",
       "    <tr>\n",
       "      <th>55</th>\n",
       "      <td>Arab World</td>\n",
       "      <td>ARB</td>\n",
       "      <td>Age dependency ratio, old (% of working-age po...</td>\n",
       "      <td>SP.POP.DPND.OL</td>\n",
       "      <td>1960</td>\n",
       "      <td>6.591951e+00</td>\n",
       "    </tr>\n",
       "    <tr>\n",
       "      <th>56</th>\n",
       "      <td>Arab World</td>\n",
       "      <td>ARB</td>\n",
       "      <td>Age dependency ratio, young (% of working-age ...</td>\n",
       "      <td>SP.POP.DPND.YG</td>\n",
       "      <td>1960</td>\n",
       "      <td>8.132419e+01</td>\n",
       "    </tr>\n",
       "    <tr>\n",
       "      <th>88</th>\n",
       "      <td>Arab World</td>\n",
       "      <td>ARB</td>\n",
       "      <td>Aquaculture production (metric tons)</td>\n",
       "      <td>ER.FSH.AQUA.MT</td>\n",
       "      <td>1960</td>\n",
       "      <td>4.600000e+03</td>\n",
       "    </tr>\n",
       "    <tr>\n",
       "      <th>95</th>\n",
       "      <td>Arab World</td>\n",
       "      <td>ARB</td>\n",
       "      <td>Arms exports (SIPRI trend indicator values)</td>\n",
       "      <td>MS.MIL.XPRT.KD</td>\n",
       "      <td>1960</td>\n",
       "      <td>3.000000e+06</td>\n",
       "    </tr>\n",
       "    <tr>\n",
       "      <th>96</th>\n",
       "      <td>Arab World</td>\n",
       "      <td>ARB</td>\n",
       "      <td>Arms imports (SIPRI trend indicator values)</td>\n",
       "      <td>MS.MIL.MPRT.KD</td>\n",
       "      <td>1960</td>\n",
       "      <td>5.410000e+08</td>\n",
       "    </tr>\n",
       "    <tr>\n",
       "      <th>121</th>\n",
       "      <td>Arab World</td>\n",
       "      <td>ARB</td>\n",
       "      <td>Birth rate, crude (per 1,000 people)</td>\n",
       "      <td>SP.DYN.CBRT.IN</td>\n",
       "      <td>1960</td>\n",
       "      <td>4.779008e+01</td>\n",
       "    </tr>\n",
       "    <tr>\n",
       "      <th>128</th>\n",
       "      <td>Arab World</td>\n",
       "      <td>ARB</td>\n",
       "      <td>Broad money (% of GDP)</td>\n",
       "      <td>FM.LBL.BMNY.GD.ZS</td>\n",
       "      <td>1960</td>\n",
       "      <td>2.207371e+01</td>\n",
       "    </tr>\n",
       "    <tr>\n",
       "      <th>134</th>\n",
       "      <td>Arab World</td>\n",
       "      <td>ARB</td>\n",
       "      <td>Capture fisheries production (metric tons)</td>\n",
       "      <td>ER.FSH.CAPT.MT</td>\n",
       "      <td>1960</td>\n",
       "      <td>4.748800e+05</td>\n",
       "    </tr>\n",
       "  </tbody>\n",
       "</table>\n",
       "</div>"
      ],
      "text/plain": [
       "    Country Name Country Code  \\\n",
       "48    Arab World          ARB   \n",
       "54    Arab World          ARB   \n",
       "55    Arab World          ARB   \n",
       "56    Arab World          ARB   \n",
       "88    Arab World          ARB   \n",
       "95    Arab World          ARB   \n",
       "96    Arab World          ARB   \n",
       "121   Arab World          ARB   \n",
       "128   Arab World          ARB   \n",
       "134   Arab World          ARB   \n",
       "\n",
       "                                        Indicator Name     Indicator Code  \\\n",
       "48   Adolescent fertility rate (births per 1,000 wo...        SP.ADO.TFRT   \n",
       "54   Age dependency ratio (% of working-age populat...        SP.POP.DPND   \n",
       "55   Age dependency ratio, old (% of working-age po...     SP.POP.DPND.OL   \n",
       "56   Age dependency ratio, young (% of working-age ...     SP.POP.DPND.YG   \n",
       "88                Aquaculture production (metric tons)     ER.FSH.AQUA.MT   \n",
       "95         Arms exports (SIPRI trend indicator values)     MS.MIL.XPRT.KD   \n",
       "96         Arms imports (SIPRI trend indicator values)     MS.MIL.MPRT.KD   \n",
       "121               Birth rate, crude (per 1,000 people)     SP.DYN.CBRT.IN   \n",
       "128                             Broad money (% of GDP)  FM.LBL.BMNY.GD.ZS   \n",
       "134         Capture fisheries production (metric tons)     ER.FSH.CAPT.MT   \n",
       "\n",
       "     Year         Value  \n",
       "48   1960  1.347723e+02  \n",
       "54   1960  8.806111e+01  \n",
       "55   1960  6.591951e+00  \n",
       "56   1960  8.132419e+01  \n",
       "88   1960  4.600000e+03  \n",
       "95   1960  3.000000e+06  \n",
       "96   1960  5.410000e+08  \n",
       "121  1960  4.779008e+01  \n",
       "128  1960  2.207371e+01  \n",
       "134  1960  4.748800e+05  "
      ]
     },
     "execution_count": 11,
     "metadata": {},
     "output_type": "execute_result"
    }
   ],
   "source": [
    "data.head(10)"
   ]
  },
  {
   "cell_type": "code",
   "execution_count": 12,
   "metadata": {},
   "outputs": [
    {
     "data": {
      "text/html": [
       "<div>\n",
       "<style scoped>\n",
       "    .dataframe tbody tr th:only-of-type {\n",
       "        vertical-align: middle;\n",
       "    }\n",
       "\n",
       "    .dataframe tbody tr th {\n",
       "        vertical-align: top;\n",
       "    }\n",
       "\n",
       "    .dataframe thead th {\n",
       "        text-align: right;\n",
       "    }\n",
       "</style>\n",
       "<table border=\"1\" class=\"dataframe\">\n",
       "  <thead>\n",
       "    <tr style=\"text-align: right;\">\n",
       "      <th></th>\n",
       "      <th>Year</th>\n",
       "      <th>Value</th>\n",
       "    </tr>\n",
       "  </thead>\n",
       "  <tbody>\n",
       "    <tr>\n",
       "      <th>count</th>\n",
       "      <td>7.578806e+06</td>\n",
       "      <td>7.578806e+06</td>\n",
       "    </tr>\n",
       "    <tr>\n",
       "      <th>mean</th>\n",
       "      <td>1.996822e+03</td>\n",
       "      <td>1.377970e+12</td>\n",
       "    </tr>\n",
       "    <tr>\n",
       "      <th>std</th>\n",
       "      <td>1.539543e+01</td>\n",
       "      <td>7.246749e+13</td>\n",
       "    </tr>\n",
       "    <tr>\n",
       "      <th>min</th>\n",
       "      <td>1.960000e+03</td>\n",
       "      <td>-9.824821e+15</td>\n",
       "    </tr>\n",
       "    <tr>\n",
       "      <th>25%</th>\n",
       "      <td>1.986000e+03</td>\n",
       "      <td>5.744782e+00</td>\n",
       "    </tr>\n",
       "    <tr>\n",
       "      <th>50%</th>\n",
       "      <td>2.000000e+03</td>\n",
       "      <td>4.501830e+01</td>\n",
       "    </tr>\n",
       "    <tr>\n",
       "      <th>75%</th>\n",
       "      <td>2.010000e+03</td>\n",
       "      <td>1.785338e+05</td>\n",
       "    </tr>\n",
       "    <tr>\n",
       "      <th>max</th>\n",
       "      <td>2.020000e+03</td>\n",
       "      <td>1.590415e+16</td>\n",
       "    </tr>\n",
       "  </tbody>\n",
       "</table>\n",
       "</div>"
      ],
      "text/plain": [
       "               Year         Value\n",
       "count  7.578806e+06  7.578806e+06\n",
       "mean   1.996822e+03  1.377970e+12\n",
       "std    1.539543e+01  7.246749e+13\n",
       "min    1.960000e+03 -9.824821e+15\n",
       "25%    1.986000e+03  5.744782e+00\n",
       "50%    2.000000e+03  4.501830e+01\n",
       "75%    2.010000e+03  1.785338e+05\n",
       "max    2.020000e+03  1.590415e+16"
      ]
     },
     "execution_count": 12,
     "metadata": {},
     "output_type": "execute_result"
    }
   ],
   "source": [
    "data.describe() # my code"
   ]
  },
  {
   "cell_type": "code",
   "execution_count": 13,
   "metadata": {},
   "outputs": [
    {
     "data": {
      "text/plain": [
       "Index(['Country Name', 'Country Code', 'Indicator Name', 'Indicator Code',\n",
       "       'Year', 'Value'],\n",
       "      dtype='object')"
      ]
     },
     "execution_count": 13,
     "metadata": {},
     "output_type": "execute_result"
    }
   ],
   "source": [
    "data.index\n",
    "data.columns"
   ]
  },
  {
   "cell_type": "code",
   "execution_count": 66,
   "metadata": {},
   "outputs": [],
   "source": [
    "#three = data.pop('Year')\n",
    "#three"
   ]
  },
  {
   "cell_type": "code",
   "execution_count": 67,
   "metadata": {},
   "outputs": [
    {
     "data": {
      "text/html": [
       "<div>\n",
       "<style scoped>\n",
       "    .dataframe tbody tr th:only-of-type {\n",
       "        vertical-align: middle;\n",
       "    }\n",
       "\n",
       "    .dataframe tbody tr th {\n",
       "        vertical-align: top;\n",
       "    }\n",
       "\n",
       "    .dataframe thead th {\n",
       "        text-align: right;\n",
       "    }\n",
       "</style>\n",
       "<table border=\"1\" class=\"dataframe\">\n",
       "  <thead>\n",
       "    <tr style=\"text-align: right;\">\n",
       "      <th></th>\n",
       "      <th>Country Name</th>\n",
       "      <th>Country Code</th>\n",
       "      <th>Indicator Name</th>\n",
       "      <th>Indicator Code</th>\n",
       "      <th>Year</th>\n",
       "      <th>Value</th>\n",
       "    </tr>\n",
       "  </thead>\n",
       "  <tbody>\n",
       "    <tr>\n",
       "      <th>48</th>\n",
       "      <td>Arab World</td>\n",
       "      <td>ARB</td>\n",
       "      <td>Adolescent fertility rate (births per 1,000 wo...</td>\n",
       "      <td>SP.ADO.TFRT</td>\n",
       "      <td>1960</td>\n",
       "      <td>134.772341</td>\n",
       "    </tr>\n",
       "    <tr>\n",
       "      <th>54</th>\n",
       "      <td>Arab World</td>\n",
       "      <td>ARB</td>\n",
       "      <td>Age dependency ratio (% of working-age populat...</td>\n",
       "      <td>SP.POP.DPND</td>\n",
       "      <td>1960</td>\n",
       "      <td>88.061110</td>\n",
       "    </tr>\n",
       "    <tr>\n",
       "      <th>55</th>\n",
       "      <td>Arab World</td>\n",
       "      <td>ARB</td>\n",
       "      <td>Age dependency ratio, old (% of working-age po...</td>\n",
       "      <td>SP.POP.DPND.OL</td>\n",
       "      <td>1960</td>\n",
       "      <td>6.591951</td>\n",
       "    </tr>\n",
       "    <tr>\n",
       "      <th>56</th>\n",
       "      <td>Arab World</td>\n",
       "      <td>ARB</td>\n",
       "      <td>Age dependency ratio, young (% of working-age ...</td>\n",
       "      <td>SP.POP.DPND.YG</td>\n",
       "      <td>1960</td>\n",
       "      <td>81.324186</td>\n",
       "    </tr>\n",
       "    <tr>\n",
       "      <th>88</th>\n",
       "      <td>Arab World</td>\n",
       "      <td>ARB</td>\n",
       "      <td>Aquaculture production (metric tons)</td>\n",
       "      <td>ER.FSH.AQUA.MT</td>\n",
       "      <td>1960</td>\n",
       "      <td>4600.000000</td>\n",
       "    </tr>\n",
       "  </tbody>\n",
       "</table>\n",
       "</div>"
      ],
      "text/plain": [
       "   Country Name Country Code  \\\n",
       "48   Arab World          ARB   \n",
       "54   Arab World          ARB   \n",
       "55   Arab World          ARB   \n",
       "56   Arab World          ARB   \n",
       "88   Arab World          ARB   \n",
       "\n",
       "                                       Indicator Name  Indicator Code  Year  \\\n",
       "48  Adolescent fertility rate (births per 1,000 wo...     SP.ADO.TFRT  1960   \n",
       "54  Age dependency ratio (% of working-age populat...     SP.POP.DPND  1960   \n",
       "55  Age dependency ratio, old (% of working-age po...  SP.POP.DPND.OL  1960   \n",
       "56  Age dependency ratio, young (% of working-age ...  SP.POP.DPND.YG  1960   \n",
       "88               Aquaculture production (metric tons)  ER.FSH.AQUA.MT  1960   \n",
       "\n",
       "          Value  \n",
       "48   134.772341  \n",
       "54    88.061110  \n",
       "55     6.591951  \n",
       "56    81.324186  \n",
       "88  4600.000000  "
      ]
     },
     "execution_count": 67,
     "metadata": {},
     "output_type": "execute_result"
    }
   ],
   "source": [
    "data.head()"
   ]
  },
  {
   "cell_type": "markdown",
   "metadata": {},
   "source": [
    "Looks like it has different indicators for different countries with the year and value of the indicator. "
   ]
  },
  {
   "cell_type": "markdown",
   "metadata": {},
   "source": [
    "### How many UNIQUE country names are there ?"
   ]
  },
  {
   "cell_type": "code",
   "execution_count": 68,
   "metadata": {},
   "outputs": [
    {
     "data": {
      "text/plain": [
       "263"
      ]
     },
     "execution_count": 68,
     "metadata": {},
     "output_type": "execute_result"
    }
   ],
   "source": [
    "countries = data['Country Name'].unique().tolist()\n",
    "len(countries)"
   ]
  },
  {
   "cell_type": "markdown",
   "metadata": {},
   "source": [
    "### Are there same number of country codes ?"
   ]
  },
  {
   "cell_type": "code",
   "execution_count": 69,
   "metadata": {},
   "outputs": [
    {
     "data": {
      "text/plain": [
       "263"
      ]
     },
     "execution_count": 69,
     "metadata": {},
     "output_type": "execute_result"
    }
   ],
   "source": [
    "# How many unique country codes are there ? (should be the same #)\n",
    "countryCodes = data['Country Code'].unique().tolist()\n",
    "len(countryCodes)"
   ]
  },
  {
   "cell_type": "markdown",
   "metadata": {},
   "source": [
    "### Are there many indicators or few ?"
   ]
  },
  {
   "cell_type": "code",
   "execution_count": 70,
   "metadata": {},
   "outputs": [
    {
     "data": {
      "text/plain": [
       "1437"
      ]
     },
     "execution_count": 70,
     "metadata": {},
     "output_type": "execute_result"
    }
   ],
   "source": [
    "# How many unique indicators are there ? (should be the same #)\n",
    "indicators = data['Indicator Name'].unique().tolist()\n",
    "len(indicators)"
   ]
  },
  {
   "cell_type": "code",
   "execution_count": 71,
   "metadata": {},
   "outputs": [
    {
     "data": {
      "text/plain": [
       "['Adolescent fertility rate (births per 1,000 women ages 15-19)',\n",
       " 'Age dependency ratio (% of working-age population)',\n",
       " 'Age dependency ratio, old (% of working-age population)',\n",
       " 'Age dependency ratio, young (% of working-age population)',\n",
       " 'Aquaculture production (metric tons)',\n",
       " 'Arms exports (SIPRI trend indicator values)',\n",
       " 'Arms imports (SIPRI trend indicator values)',\n",
       " 'Birth rate, crude (per 1,000 people)',\n",
       " 'Broad money (% of GDP)',\n",
       " 'Capture fisheries production (metric tons)',\n",
       " 'Claims on central government, etc. (% GDP)',\n",
       " 'CO2 emissions (kt)',\n",
       " 'CO2 emissions (metric tons per capita)',\n",
       " 'CO2 emissions from gaseous fuel consumption (% of total)',\n",
       " 'CO2 emissions from liquid fuel consumption (% of total)',\n",
       " 'CO2 emissions from liquid fuel consumption (kt)',\n",
       " 'CO2 emissions from solid fuel consumption (% of total)',\n",
       " 'Death rate, crude (per 1,000 people)',\n",
       " 'Domestic credit to private sector by banks (% of GDP)',\n",
       " 'Fertility rate, total (births per woman)',\n",
       " 'Hospital beds (per 1,000 people)',\n",
       " 'International migrant stock, total',\n",
       " 'Life expectancy at birth, female (years)',\n",
       " 'Life expectancy at birth, male (years)',\n",
       " 'Life expectancy at birth, total (years)',\n",
       " 'Merchandise exports (current US$)',\n",
       " 'Merchandise exports by the reporting economy (current US$)',\n",
       " 'Merchandise exports by the reporting economy, residual (% of total merchandise exports)',\n",
       " 'Merchandise exports to economies in the Arab World (% of total merchandise exports)',\n",
       " 'Merchandise exports to high-income economies (% of total merchandise exports)',\n",
       " 'Merchandise exports to low- and middle-income economies in East Asia & Pacific (% of total merchandise exports)',\n",
       " 'Merchandise exports to low- and middle-income economies in Europe & Central Asia (% of total merchandise exports)',\n",
       " 'Merchandise exports to low- and middle-income economies in Latin America & the Caribbean (% of total merchandise exports)',\n",
       " 'Merchandise exports to low- and middle-income economies in Middle East & North Africa (% of total merchandise exports)',\n",
       " 'Merchandise exports to low- and middle-income economies in South Asia (% of total merchandise exports)',\n",
       " 'Merchandise exports to low- and middle-income economies in Sub-Saharan Africa (% of total merchandise exports)',\n",
       " 'Merchandise exports to low- and middle-income economies outside region (% of total merchandise exports)',\n",
       " 'Merchandise exports to low- and middle-income economies within region (% of total merchandise exports)',\n",
       " 'Merchandise imports (current US$)',\n",
       " 'Merchandise imports by the reporting economy (current US$)',\n",
       " 'Merchandise imports by the reporting economy, residual (% of total merchandise imports)',\n",
       " 'Merchandise imports from economies in the Arab World (% of total merchandise imports)',\n",
       " 'Merchandise imports from high-income economies (% of total merchandise imports)',\n",
       " 'Merchandise imports from low- and middle-income economies in East Asia & Pacific (% of total merchandise imports)',\n",
       " 'Merchandise imports from low- and middle-income economies in Europe & Central Asia (% of total merchandise imports)',\n",
       " 'Merchandise imports from low- and middle-income economies in Latin America & the Caribbean (% of total merchandise imports)',\n",
       " 'Merchandise imports from low- and middle-income economies in Middle East & North Africa (% of total merchandise imports)',\n",
       " 'Merchandise imports from low- and middle-income economies in South Asia (% of total merchandise imports)',\n",
       " 'Merchandise imports from low- and middle-income economies in Sub-Saharan Africa (% of total merchandise imports)',\n",
       " 'Merchandise imports from low- and middle-income economies outside region (% of total merchandise imports)',\n",
       " 'Merchandise imports from low- and middle-income economies within region (% of total merchandise imports)',\n",
       " 'Merchandise trade (% of GDP)',\n",
       " 'Military expenditure (% of GDP)',\n",
       " 'Mobile cellular subscriptions',\n",
       " 'Mobile cellular subscriptions (per 100 people)',\n",
       " 'Monetary Sector credit to private sector (% GDP)',\n",
       " 'Mortality rate, adult, female (per 1,000 female adults)',\n",
       " 'Mortality rate, adult, male (per 1,000 male adults)',\n",
       " 'Net bilateral aid flows from DAC donors, European Union institutions (current US$)',\n",
       " 'Net bilateral aid flows from DAC donors, France (current US$)',\n",
       " 'Net bilateral aid flows from DAC donors, Germany (current US$)',\n",
       " 'Net bilateral aid flows from DAC donors, Italy (current US$)',\n",
       " 'Net bilateral aid flows from DAC donors, Japan (current US$)',\n",
       " 'Net bilateral aid flows from DAC donors, Total (current US$)',\n",
       " 'Net bilateral aid flows from DAC donors, United Kingdom (current US$)',\n",
       " 'Net bilateral aid flows from DAC donors, United States (current US$)',\n",
       " 'Net ODA received per capita (current US$)',\n",
       " 'Net official development assistance and official aid received (constant 2015 US$)',\n",
       " 'Net official development assistance and official aid received (current US$)',\n",
       " 'Net official development assistance received (constant 2015 US$)',\n",
       " 'Net official development assistance received (current US$)',\n",
       " 'Population ages 00-04, female (% of female population)',\n",
       " 'Population ages 00-04, male (% of male population)',\n",
       " 'Population ages 0-14 (% of total population)',\n",
       " 'Population ages 0-14, female',\n",
       " 'Population ages 0-14, female (% of female population)',\n",
       " 'Population ages 0-14, male',\n",
       " 'Population ages 0-14, male (% of male population)',\n",
       " 'Population ages 0-14, total',\n",
       " 'Population ages 05-09, female (% of female population)',\n",
       " 'Population ages 05-09, male (% of male population)',\n",
       " 'Population ages 10-14, female (% of female population)',\n",
       " 'Population ages 10-14, male (% of male population)',\n",
       " 'Population ages 15-19, female (% of female population)',\n",
       " 'Population ages 15-19, male (% of male population)',\n",
       " 'Population ages 15-64 (% of total population)',\n",
       " 'Population ages 15-64, female',\n",
       " 'Population ages 15-64, female (% of female population)',\n",
       " 'Population ages 15-64, male',\n",
       " 'Population ages 15-64, male (% of male population)',\n",
       " 'Population ages 15-64, total',\n",
       " 'Population ages 20-24, female (% of female population)',\n",
       " 'Population ages 20-24, male (% of male population)',\n",
       " 'Population ages 25-29, female (% of female population)',\n",
       " 'Population ages 25-29, male (% of male population)',\n",
       " 'Population ages 30-34, female (% of female population)',\n",
       " 'Population ages 30-34, male (% of male population)',\n",
       " 'Population ages 35-39, female (% of female population)',\n",
       " 'Population ages 35-39, male (% of male population)',\n",
       " 'Population ages 40-44, female (% of female population)',\n",
       " 'Population ages 40-44, male (% of male population)',\n",
       " 'Population ages 45-49, female (% of female population)',\n",
       " 'Population ages 45-49, male (% of male population)',\n",
       " 'Population ages 50-54, female (% of female population)',\n",
       " 'Population ages 50-54, male (% of male population)',\n",
       " 'Population ages 55-59, female (% of female population)',\n",
       " 'Population ages 55-59, male (% of male population)',\n",
       " 'Population ages 60-64, female (% of female population)',\n",
       " 'Population ages 60-64, male (% of male population)',\n",
       " 'Population ages 65 and above (% of total population)',\n",
       " 'Population ages 65 and above, female',\n",
       " 'Population ages 65 and above, female (% of female population)',\n",
       " 'Population ages 65 and above, male',\n",
       " 'Population ages 65 and above, male (% of male population)',\n",
       " 'Population ages 65 and above, total',\n",
       " 'Population ages 65-69, female (% of female population)',\n",
       " 'Population ages 65-69, male (% of male population)',\n",
       " 'Population ages 70-74, female (% of female population)',\n",
       " 'Population ages 70-74, male (% of male population)',\n",
       " 'Population ages 75-79, female (% of female population)',\n",
       " 'Population ages 75-79, male (% of male population)',\n",
       " 'Population ages 80 and above, female (% of female population)',\n",
       " 'Population ages 80 and above, male (% of male population)',\n",
       " 'Population in the largest city (% of urban population)',\n",
       " 'Population in urban agglomerations of more than 1 million (% of total population)',\n",
       " 'Population, female',\n",
       " 'Population, female (% of total population)',\n",
       " 'Population, male',\n",
       " 'Population, male (% of total population)',\n",
       " 'Population, total',\n",
       " 'Rural population',\n",
       " 'Rural population (% of total population)',\n",
       " 'Survival to age 65, female (% of cohort)',\n",
       " 'Survival to age 65, male (% of cohort)',\n",
       " 'Total fisheries production (metric tons)',\n",
       " 'Urban population',\n",
       " 'Urban population (% of total population)',\n",
       " 'Domestic credit to private sector (% of GDP)',\n",
       " 'GDP (current US$)',\n",
       " 'GDP per capita (current US$)',\n",
       " 'GNI (current US$)',\n",
       " 'Labor force participation rate, female (% of female population ages 15+) (national estimate)',\n",
       " 'Labor force participation rate, male (% of male population ages 15+) (national estimate)',\n",
       " 'Labor force participation rate, total (% of total population ages 15+) (national estimate)',\n",
       " 'Net bilateral aid flows from DAC donors, Canada (current US$)',\n",
       " 'Net bilateral aid flows from DAC donors, Netherlands (current US$)',\n",
       " 'Net ODA received (% of GNI)',\n",
       " 'Alternative and nuclear energy (% of total energy use)',\n",
       " 'CO2 emissions from electricity and heat production, total (% of total fuel combustion)',\n",
       " 'CO2 emissions from manufacturing industries and construction (% of total fuel combustion)',\n",
       " 'CO2 emissions from other sectors, excluding residential buildings and commercial and public services (% of total fuel combustion)',\n",
       " 'CO2 emissions from residential buildings and commercial and public services (% of total fuel combustion)',\n",
       " 'CO2 emissions from solid fuel consumption (kt)',\n",
       " 'CO2 emissions from transport (% of total fuel combustion)',\n",
       " 'CO2 intensity (kg per kg of oil equivalent energy use)',\n",
       " 'Combustible renewables and waste (% of total energy)',\n",
       " 'Electric power transmission and distribution losses (% of output)',\n",
       " 'Electricity production from renewable sources, excluding hydroelectric (kWh)',\n",
       " 'Energy imports, net (% of energy use)',\n",
       " 'Fossil fuel energy consumption (% of total)',\n",
       " 'Charges for the use of intellectual property, payments (BoP, current US$)',\n",
       " 'CO2 emissions (kg per 2010 US$ of GDP)',\n",
       " 'Exports of goods and services (% of GDP)',\n",
       " 'External balance on goods and services (% of GDP)',\n",
       " 'Final consumption expenditure (constant 2010 US$)',\n",
       " 'Final consumption expenditure (current US$)',\n",
       " 'Fixed telephone subscriptions',\n",
       " 'Fixed telephone subscriptions (per 100 people)',\n",
       " 'GDP (constant 2010 US$)',\n",
       " 'GDP per capita (constant 2010 US$)',\n",
       " 'General government final consumption expenditure (% of GDP)',\n",
       " 'Gross capital formation (% of GDP)',\n",
       " 'Gross capital formation (constant 2010 US$)',\n",
       " 'Gross capital formation (current US$)',\n",
       " 'Gross domestic savings (% of GDP)',\n",
       " 'Gross domestic savings (current US$)',\n",
       " 'Gross fixed capital formation (% of GDP)',\n",
       " 'Gross fixed capital formation (constant 2010 US$)',\n",
       " 'Gross national expenditure (constant 2010 US$)',\n",
       " 'Gross national expenditure (current US$)',\n",
       " 'Households and NPISHs final consumption expenditure (% of GDP)',\n",
       " 'Households and NPISHs Final consumption expenditure (constant 2010 US$)',\n",
       " 'Households and NPISHs Final consumption expenditure (current US$)',\n",
       " 'Households and NPISHs Final consumption expenditure per capita (constant 2010 US$)',\n",
       " 'Imports of goods and services (% of GDP)',\n",
       " 'Imports of goods and services (constant 2010 US$)',\n",
       " 'Imports of goods and services (current US$)',\n",
       " 'Military expenditure (current USD)',\n",
       " 'Net bilateral aid flows from DAC donors, Austria (current US$)',\n",
       " 'Net bilateral aid flows from DAC donors, Belgium (current US$)',\n",
       " 'Net bilateral aid flows from DAC donors, Denmark (current US$)',\n",
       " 'Net bilateral aid flows from DAC donors, Norway (current US$)',\n",
       " 'Net bilateral aid flows from DAC donors, Portugal (current US$)',\n",
       " 'Net bilateral aid flows from DAC donors, Sweden (current US$)',\n",
       " 'Net ODA received (% of gross capital formation)',\n",
       " 'Portfolio equity, net inflows (BoP, current US$)',\n",
       " 'Trade (% of GDP)',\n",
       " 'Agriculture, forestry, and fishing, value added (constant 2010 US$)',\n",
       " 'Agriculture, forestry, and fishing, value added (current US$)',\n",
       " 'Exports of goods and services (current US$)',\n",
       " 'Gross fixed capital formation (current US$)',\n",
       " 'Net bilateral aid flows from DAC donors, Iceland (current US$)',\n",
       " 'Net bilateral aid flows from DAC donors, Korea, Rep. (current US$)',\n",
       " 'Net bilateral aid flows from DAC donors, Switzerland (current US$)',\n",
       " 'Agriculture, forestry, and fishing, value added (% of GDP)',\n",
       " 'General government final consumption expenditure (current US$)',\n",
       " 'Industry (including construction), value added (% of GDP)',\n",
       " 'Industry (including construction), value added (constant 2010 US$)',\n",
       " 'Industry (including construction), value added (current US$)',\n",
       " 'Services, value added (% of GDP)',\n",
       " 'Electric power consumption (kWh per capita)',\n",
       " 'Electricity production from coal sources (% of total)',\n",
       " 'Electricity production from hydroelectric sources (% of total)',\n",
       " 'Electricity production from natural gas sources (% of total)',\n",
       " 'Electricity production from nuclear sources (% of total)',\n",
       " 'Electricity production from oil sources (% of total)',\n",
       " 'Electricity production from oil, gas and coal sources (% of total)',\n",
       " 'Electricity production from renewable sources, excluding hydroelectric (% of total)',\n",
       " 'Energy use (kg of oil equivalent per capita)',\n",
       " 'Inflation, consumer prices (annual %)',\n",
       " 'CO2 emissions from gaseous fuel consumption (kt)',\n",
       " 'Exports of goods and services (constant 2010 US$)',\n",
       " 'General government final consumption expenditure (constant 2010 US$)',\n",
       " 'Gross value added at basic prices (GVA) (current US$)',\n",
       " 'Labor force participation rate for ages 15-24, female (%) (national estimate)',\n",
       " 'Labor force participation rate for ages 15-24, male (%) (national estimate)',\n",
       " 'Labor force participation rate for ages 15-24, total (%) (national estimate)',\n",
       " 'Services, value added (current US$)',\n",
       " 'Domestic credit provided by financial sector (% of GDP)',\n",
       " 'Employment to population ratio, 15+, female (%) (national estimate)',\n",
       " 'Employment to population ratio, 15+, male (%) (national estimate)',\n",
       " 'Employment to population ratio, 15+, total (%) (national estimate)',\n",
       " 'Employment to population ratio, ages 15-24, female (%) (national estimate)',\n",
       " 'Employment to population ratio, ages 15-24, male (%) (national estimate)',\n",
       " 'Employment to population ratio, ages 15-24, total (%) (national estimate)',\n",
       " 'Gross fixed capital formation, private sector (% of GDP)',\n",
       " 'Unemployment, youth female (% of female labor force ages 15-24) (national estimate)',\n",
       " 'Unemployment, youth male (% of male labor force ages 15-24) (national estimate)',\n",
       " 'Unemployment, youth total (% of total labor force ages 15-24) (national estimate)',\n",
       " 'GNI (constant 2010 US$)',\n",
       " 'GNI per capita (constant 2010 US$)',\n",
       " 'Gross value added at basic prices (GVA) (constant 2010 US$)',\n",
       " 'Manufacturing, value added (% of GDP)',\n",
       " 'Manufacturing, value added (constant 2010 US$)',\n",
       " 'Manufacturing, value added (current US$)',\n",
       " 'Services, value added (constant 2010 US$)',\n",
       " 'Broad money (current LCU)',\n",
       " 'Broad money to total reserves ratio',\n",
       " 'DEC alternative conversion factor (LCU per US$)',\n",
       " 'Exports of goods and services (current LCU)',\n",
       " 'External balance on goods and services (current LCU)',\n",
       " 'External balance on goods and services (current US$)',\n",
       " 'Final consumption expenditure (% of GDP)',\n",
       " 'Final consumption expenditure (current LCU)',\n",
       " 'GDP (current LCU)',\n",
       " 'GDP per capita (current LCU)',\n",
       " 'GNI (current LCU)',\n",
       " 'GNI per capita (current LCU)',\n",
       " 'Grants, excluding technical cooperation (BoP, current US$)',\n",
       " 'Gross capital formation (current LCU)',\n",
       " 'Gross domestic savings (current LCU)',\n",
       " 'Gross national expenditure (% of GDP)',\n",
       " 'Gross national expenditure (current LCU)',\n",
       " 'Gross value added at basic prices (GVA) (current LCU)',\n",
       " 'Households and NPISHs Final consumption expenditure (current LCU)',\n",
       " 'Imports of goods and services (current LCU)',\n",
       " 'Net domestic credit (current LCU)',\n",
       " 'Net primary income (Net income from abroad) (current LCU)',\n",
       " 'Net primary income (Net income from abroad) (current US$)',\n",
       " 'Official exchange rate (LCU per US$, period average)',\n",
       " 'Physicians (per 1,000 people)',\n",
       " 'Population in largest city',\n",
       " 'Population in urban agglomerations of more than 1 million',\n",
       " 'Taxes less subsidies on products (current LCU)',\n",
       " 'Taxes less subsidies on products (current US$)',\n",
       " 'Technical cooperation grants (BoP, current US$)',\n",
       " 'Total reserves (includes gold, current US$)',\n",
       " 'Total reserves minus gold (current US$)',\n",
       " 'Ratio of female to male labor force participation rate (%) (national estimate)',\n",
       " 'Discrepancy in expenditure estimate of GDP (current LCU)',\n",
       " 'Exports as a capacity to import (constant LCU)',\n",
       " 'Exports of goods and services (constant LCU)',\n",
       " 'Final consumption expenditure (constant LCU)',\n",
       " 'GDP (constant LCU)',\n",
       " 'GDP deflator (base year varies by country)',\n",
       " 'GDP per capita (constant LCU)',\n",
       " 'General government final consumption expenditure (constant LCU)',\n",
       " 'General government final consumption expenditure (current LCU)',\n",
       " 'GNI (constant LCU)',\n",
       " 'GNI per capita (constant LCU)',\n",
       " 'Gross capital formation (constant LCU)',\n",
       " 'Gross domestic income (constant LCU)',\n",
       " 'Gross national expenditure (constant LCU)',\n",
       " 'Gross national expenditure deflator (base year varies by country)',\n",
       " 'Households and NPISHs Final consumption expenditure (constant LCU)',\n",
       " 'Imports of goods and services (constant LCU)',\n",
       " 'Mortality rate, infant (per 1,000 live births)',\n",
       " 'Mortality rate, infant, female (per 1,000 live births)',\n",
       " 'Mortality rate, infant, male (per 1,000 live births)',\n",
       " 'Mortality rate, under-5 (per 1,000 live births)',\n",
       " 'Mortality rate, under-5, female (per 1,000 live births)',\n",
       " 'Mortality rate, under-5, male (per 1,000 live births)',\n",
       " 'Number of infant deaths',\n",
       " 'Number of under-five deaths',\n",
       " 'Terms of trade adjustment (constant LCU)',\n",
       " 'Refugee population by country or territory of origin',\n",
       " 'Changes in inventories (constant LCU)',\n",
       " 'Changes in inventories (current LCU)',\n",
       " 'Gross fixed capital formation (constant LCU)',\n",
       " 'Gross fixed capital formation (current LCU)',\n",
       " 'Military expenditure (current LCU)',\n",
       " 'Net foreign assets (current LCU)',\n",
       " 'Changes in inventories (current US$)',\n",
       " 'Consumer price index (2010 = 100)',\n",
       " 'Gross fixed capital formation, private sector (current LCU)',\n",
       " 'Lending interest rate (%)',\n",
       " 'Net ODA provided, total (% of GNI)',\n",
       " 'Net ODA provided, total (constant 2015 US$)',\n",
       " 'Net ODA provided, total (current US$)',\n",
       " 'Net secondary income (Net current transfers from abroad) (current LCU)',\n",
       " 'Net secondary income (Net current transfers from abroad) (current US$)',\n",
       " 'Mortality rate, neonatal (per 1,000 live births)',\n",
       " 'Net secondary income (Net current transfers from abroad) (constant LCU)',\n",
       " 'Number of neonatal deaths',\n",
       " 'Refugee population by country or territory of asylum',\n",
       " 'Agriculture, forestry, and fishing, value added (constant LCU)',\n",
       " 'Agriculture, forestry, and fishing, value added (current LCU)',\n",
       " 'Gross value added at basic prices (GVA) (constant LCU)',\n",
       " 'Industry (including construction), value added (constant LCU)',\n",
       " 'Industry (including construction), value added (current LCU)',\n",
       " 'Manufacturing, value added (constant LCU)',\n",
       " 'Manufacturing, value added (current LCU)',\n",
       " 'Services, value added (constant LCU)',\n",
       " 'Services, value added (current LCU)',\n",
       " 'Net ODA provided to the least developed countries (% of GNI)',\n",
       " 'Net ODA provided, to the least developed countries (current US$)',\n",
       " 'Individuals using the Internet (% of population)',\n",
       " 'Wholesale price index (2010 = 100)',\n",
       " 'Taxes less subsidies on products (constant LCU)',\n",
       " 'Commercial service exports (current US$)',\n",
       " 'Commercial service imports (current US$)',\n",
       " 'Communications, computer, etc. (% of service exports, BoP)',\n",
       " 'Communications, computer, etc. (% of service imports, BoP)',\n",
       " 'Computer, communications and other services (% of commercial service exports)',\n",
       " 'Computer, communications and other services (% of commercial service imports)',\n",
       " 'Current account balance (% of GDP)',\n",
       " 'Current account balance (BoP, current US$)',\n",
       " 'Exports of goods and services (BoP, current US$)',\n",
       " 'Exports of goods, services and primary income (BoP, current US$)',\n",
       " 'Foreign direct investment, net (BoP, current US$)',\n",
       " 'Goods exports (BoP, current US$)',\n",
       " 'Goods imports (BoP, current US$)',\n",
       " 'Imports of goods and services (BoP, current US$)',\n",
       " 'Imports of goods, services and primary income (BoP, current US$)',\n",
       " 'Net capital account (BoP, current US$)',\n",
       " 'Net errors and omissions (BoP, current US$)',\n",
       " 'Net financial account (BoP, current US$)',\n",
       " 'Net primary income (BoP, current US$)',\n",
       " 'Net secondary income (BoP, current US$)',\n",
       " 'Net trade in goods (BoP, current US$)',\n",
       " 'Net trade in goods and services (BoP, current US$)',\n",
       " 'Portfolio investment, net (BoP, current US$)',\n",
       " 'Primary income payments (BoP, current US$)',\n",
       " 'Primary income receipts (BoP, current US$)',\n",
       " 'Reserves and related items (BoP, current US$)',\n",
       " 'Risk premium on lending (lending rate minus treasury bill rate, %)',\n",
       " 'Secondary income receipts (BoP, current US$)',\n",
       " 'Service exports (BoP, current US$)',\n",
       " 'Service imports (BoP, current US$)',\n",
       " 'Total reserves in months of imports',\n",
       " 'Trade in services (% of GDP)',\n",
       " 'Transport services (% of commercial service exports)',\n",
       " 'Transport services (% of commercial service imports)',\n",
       " 'Transport services (% of service exports, BoP)',\n",
       " 'Transport services (% of service imports, BoP)',\n",
       " 'Travel services (% of commercial service exports)',\n",
       " 'Travel services (% of commercial service imports)',\n",
       " 'Travel services (% of service exports, BoP)',\n",
       " 'Travel services (% of service imports, BoP)',\n",
       " 'Financial intermediary services indirectly Measured (FISIM) (current LCU)',\n",
       " 'Discrepancy in expenditure estimate of GDP (constant LCU)',\n",
       " 'External balance on goods and services (constant LCU)',\n",
       " 'Financial intermediary services indirectly Measured (FISIM) (constant LCU)',\n",
       " 'ICT service exports (% of service exports, BoP)',\n",
       " 'ICT service exports (BoP, current US$)',\n",
       " 'Insurance and financial services (% of commercial service exports)',\n",
       " 'Insurance and financial services (% of commercial service imports)',\n",
       " 'Insurance and financial services (% of service exports, BoP)',\n",
       " 'Insurance and financial services (% of service imports, BoP)',\n",
       " 'Net ODA received (% of imports of goods, services and primary income)',\n",
       " 'Secondary income, other sectors, payments (BoP, current US$)',\n",
       " 'Deposit interest rate (%)',\n",
       " 'Interest rate spread (lending rate minus deposit rate, %)',\n",
       " 'Unemployment, female (% of female labor force) (national estimate)',\n",
       " 'Unemployment, male (% of male labor force) (national estimate)',\n",
       " 'Unemployment, total (% of total labor force) (national estimate)',\n",
       " 'Gross savings (% of GDP)',\n",
       " 'Gross savings (% of GNI)',\n",
       " 'Gross savings (current US$)',\n",
       " 'Gross savings (current LCU)',\n",
       " 'International migrant stock (% of population)',\n",
       " 'Agricultural land (% of land area)',\n",
       " 'Agricultural land (sq. km)',\n",
       " 'Agricultural machinery, tractors',\n",
       " 'Agricultural machinery, tractors per 100 sq. km of arable land',\n",
       " 'Arable land (% of land area)',\n",
       " 'Arable land (hectares per person)',\n",
       " 'Cereal production (metric tons)',\n",
       " 'Cereal yield (kg per hectare)',\n",
       " 'Crop production index (2004-2006 = 100)',\n",
       " 'Food production index (2004-2006 = 100)',\n",
       " 'Land area (sq. km)',\n",
       " 'Land under cereal production (hectares)',\n",
       " 'Livestock production index (2004-2006 = 100)',\n",
       " 'Permanent cropland (% of land area)',\n",
       " 'Population density (people per sq. km of land area)',\n",
       " 'Population growth (annual %)',\n",
       " 'Rural population growth (annual %)',\n",
       " 'Surface area (sq. km)',\n",
       " 'Urban population growth (annual %)',\n",
       " 'Final consumption expenditure (annual % growth)',\n",
       " 'GDP growth (annual %)',\n",
       " 'GDP per capita growth (annual %)',\n",
       " 'Gross capital formation (annual % growth)',\n",
       " 'Gross fixed capital formation (annual % growth)',\n",
       " 'Households and NPISHs Final consumption expenditure (annual % growth)',\n",
       " 'Households and NPISHs Final consumption expenditure per capita growth (annual %)',\n",
       " 'Imports of goods and services (annual % growth)',\n",
       " 'Inflation, GDP deflator (annual %)',\n",
       " 'Agriculture, forestry, and fishing, value added (annual % growth)',\n",
       " 'Industry (including construction), value added (annual % growth)',\n",
       " 'Exports of goods and services (annual % growth)',\n",
       " 'General government final consumption expenditure (annual % growth)',\n",
       " 'GNI growth (annual %)',\n",
       " 'GNI per capita growth (annual %)',\n",
       " 'Manufacturing, value added (annual % growth)',\n",
       " 'Services, value added (annual % growth)',\n",
       " 'Arable land (hectares)',\n",
       " 'Broad money growth (annual %)',\n",
       " 'Claims on central government (annual growth as % of broad money)',\n",
       " 'Claims on private sector (annual growth as % of broad money)',\n",
       " 'Real interest rate (%)',\n",
       " 'Contraceptive prevalence, any methods (% of women ages 15-49)',\n",
       " 'Contraceptive prevalence, modern methods (% of women ages 15-49)',\n",
       " 'Maternal mortality ratio (national estimate, per 100,000 live births)',\n",
       " 'Net migration',\n",
       " 'Renewable internal freshwater resources per capita (cubic meters)',\n",
       " 'Renewable internal freshwater resources, total (billion cubic meters)',\n",
       " 'Sex ratio at birth (male births per female births)',\n",
       " 'Charges for the use of intellectual property, receipts (BoP, current US$)',\n",
       " 'GNI per capita, Atlas method (current US$)',\n",
       " 'GNI, Atlas method (current US$)',\n",
       " 'Agricultural raw materials exports (% of merchandise exports)',\n",
       " 'Agricultural raw materials imports (% of merchandise imports)',\n",
       " 'Food exports (% of merchandise exports)',\n",
       " 'Food imports (% of merchandise imports)',\n",
       " 'Fuel exports (% of merchandise exports)',\n",
       " 'Fuel imports (% of merchandise imports)',\n",
       " 'Manufactures exports (% of merchandise exports)',\n",
       " 'Manufactures imports (% of merchandise imports)',\n",
       " 'Ores and metals exports (% of merchandise exports)',\n",
       " 'Ores and metals imports (% of merchandise imports)',\n",
       " 'Average precipitation in depth (mm per year)',\n",
       " 'Annual freshwater withdrawals, total (% of internal resources)',\n",
       " 'Annual freshwater withdrawals, total (billion cubic meters)',\n",
       " 'Chemicals (% of value added in manufacturing)',\n",
       " 'Food, beverages and tobacco (% of value added in manufacturing)',\n",
       " 'Machinery and transport equipment (% of value added in manufacturing)',\n",
       " 'Other manufacturing (% of value added in manufacturing)',\n",
       " 'Textiles and clothing (% of value added in manufacturing)',\n",
       " 'Net bilateral aid flows from DAC donors, Australia (current US$)',\n",
       " 'Water productivity, total (constant 2010 US$ GDP per cubic meter of total freshwater withdrawal)',\n",
       " 'Annual freshwater withdrawals, agriculture (% of total freshwater withdrawal)',\n",
       " 'Annual freshwater withdrawals, domestic (% of total freshwater withdrawal)',\n",
       " 'Annual freshwater withdrawals, industry (% of total freshwater withdrawal)',\n",
       " 'Gini index (World Bank estimate)',\n",
       " 'Income share held by fourth 20%',\n",
       " 'Income share held by highest 10%',\n",
       " 'Income share held by highest 20%',\n",
       " 'Income share held by lowest 10%',\n",
       " 'Income share held by lowest 20%',\n",
       " 'Income share held by second 20%',\n",
       " 'Income share held by third 20%',\n",
       " 'Poverty gap at $1.90 a day (2011 PPP) (%)',\n",
       " 'Poverty gap at $3.20 a day (2011 PPP) (%)',\n",
       " 'Poverty gap at $5.50 a day (2011 PPP) (%)',\n",
       " 'Poverty headcount ratio at $1.90 a day (2011 PPP) (% of population)',\n",
       " 'Poverty headcount ratio at $3.20 a day (2011 PPP) (% of population)',\n",
       " 'Poverty headcount ratio at $5.50 a day (2011 PPP) (% of population)',\n",
       " 'Proportion of people living below 50 percent of median income (%)',\n",
       " 'Net official flows from UN agencies, UNDP (current US$)',\n",
       " 'Personal transfers, receipts (BoP, current US$)',\n",
       " 'Agricultural methane emissions (thousand metric tons of CO2 equivalent)',\n",
       " 'Agricultural nitrous oxide emissions (thousand metric tons of CO2 equivalent)',\n",
       " 'Methane emissions in energy sector (thousand metric tons of CO2 equivalent)',\n",
       " 'Net official flows from UN agencies, UNHCR (current US$)',\n",
       " 'Net official flows from UN agencies, UNRWA (current US$)',\n",
       " 'Net official flows from UN agencies, UNTA (current US$)',\n",
       " 'Net official flows from UN agencies, WFP (current US$)',\n",
       " 'Nitrous oxide emissions in energy sector (thousand metric tons of CO2 equivalent)',\n",
       " 'Net primary income (Net income from abroad) (constant LCU)',\n",
       " 'Adjusted savings: carbon dioxide damage (% of GNI)',\n",
       " 'Adjusted savings: consumption of fixed capital (% of GNI)',\n",
       " 'Adjusted savings: education expenditure (% of GNI)',\n",
       " 'Adjusted savings: energy depletion (% of GNI)',\n",
       " 'Adjusted savings: mineral depletion (% of GNI)',\n",
       " 'Adjusted savings: natural resources depletion (% of GNI)',\n",
       " 'Adjusted savings: net forest depletion (% of GNI)',\n",
       " 'Agricultural methane emissions (% of total)',\n",
       " 'Agricultural nitrous oxide emissions (% of total)',\n",
       " 'Air transport, freight (million ton-km)',\n",
       " 'Air transport, passengers carried',\n",
       " 'Air transport, registered carrier departures worldwide',\n",
       " 'Children out of school (% of primary school age)',\n",
       " 'Children out of school, female (% of female primary school age)',\n",
       " 'Children out of school, male (% of male primary school age)',\n",
       " 'Children out of school, primary',\n",
       " 'Children out of school, primary, female',\n",
       " 'Children out of school, primary, male',\n",
       " 'Energy related methane emissions (% of total)',\n",
       " 'Foreign direct investment, net inflows (% of GDP)',\n",
       " 'Foreign direct investment, net inflows (BoP, current US$)',\n",
       " 'Foreign direct investment, net outflows (BoP, current US$)',\n",
       " 'IFC, private nonguaranteed (NFL, current US$)',\n",
       " 'Lower secondary completion rate, total (% of relevant age group)',\n",
       " 'Methane emissions (kt of CO2 equivalent)',\n",
       " 'Net official flows from UN agencies, UNICEF (current US$)',\n",
       " 'Nitrous oxide emissions (thousand metric tons of CO2 equivalent)',\n",
       " 'Nitrous oxide emissions in energy sector (% of total)',\n",
       " 'Other greenhouse gas emissions, HFC, PFC and SF6 (thousand metric tons of CO2 equivalent)',\n",
       " 'Persistence to last grade of primary, total (% of cohort)',\n",
       " 'Personal remittances, received (current US$)',\n",
       " 'Primary completion rate, female (% of relevant age group)',\n",
       " 'Primary completion rate, male (% of relevant age group)',\n",
       " 'Primary completion rate, total (% of relevant age group)',\n",
       " 'Primary education, duration (years)',\n",
       " 'Primary education, pupils',\n",
       " 'Primary education, pupils (% female)',\n",
       " 'Primary education, teachers',\n",
       " 'Primary education, teachers (% female)',\n",
       " 'Public and publicly guaranteed debt service (% of GNI)',\n",
       " 'Pupil-teacher ratio, primary',\n",
       " 'Pupil-teacher ratio, secondary',\n",
       " 'Repeaters, primary, female (% of female enrollment)',\n",
       " 'Repeaters, primary, male (% of male enrollment)',\n",
       " 'Repeaters, primary, total (% of total enrollment)',\n",
       " 'School enrollment, preprimary (% gross)',\n",
       " 'School enrollment, preprimary, female (% gross)',\n",
       " 'School enrollment, preprimary, male (% gross)',\n",
       " 'School enrollment, primary (% gross)',\n",
       " 'School enrollment, primary (% net)',\n",
       " 'School enrollment, primary (gross), gender parity index (GPI)',\n",
       " 'School enrollment, primary and secondary (gross), gender parity index (GPI)',\n",
       " 'School enrollment, primary, female (% gross)',\n",
       " 'School enrollment, primary, female (% net)',\n",
       " 'School enrollment, primary, male (% gross)',\n",
       " 'School enrollment, primary, male (% net)',\n",
       " 'School enrollment, primary, private (% of total primary)',\n",
       " 'School enrollment, secondary (% gross)',\n",
       " 'School enrollment, secondary (% net)',\n",
       " 'School enrollment, secondary (gross), gender parity index (GPI)',\n",
       " 'School enrollment, secondary, female (% gross)',\n",
       " 'School enrollment, secondary, female (% net)',\n",
       " 'School enrollment, secondary, male (% gross)',\n",
       " 'School enrollment, secondary, male (% net)',\n",
       " 'School enrollment, tertiary (% gross)',\n",
       " 'School enrollment, tertiary (gross), gender parity index (GPI)',\n",
       " 'School enrollment, tertiary, female (% gross)',\n",
       " 'School enrollment, tertiary, male (% gross)',\n",
       " 'Secondary education, duration (years)',\n",
       " 'Secondary education, general pupils',\n",
       " 'Secondary education, general pupils (% female)',\n",
       " 'Secondary education, pupils',\n",
       " 'Secondary education, pupils (% female)',\n",
       " 'Secondary education, teachers',\n",
       " 'Secondary education, teachers (% female)',\n",
       " 'Secondary education, teachers, female',\n",
       " 'Secondary education, vocational pupils',\n",
       " 'Secondary education, vocational pupils (% female)',\n",
       " 'Total debt service (% of GNI)',\n",
       " 'Total greenhouse gas emissions (kt of CO2 equivalent)',\n",
       " 'Lower secondary completion rate, female (% of relevant age group)',\n",
       " 'Lower secondary completion rate, male (% of relevant age group)',\n",
       " 'Net financial flows, IBRD (NFL, current US$)',\n",
       " 'Net financial flows, IDA (NFL, current US$)',\n",
       " 'Personal remittances, paid (current US$)',\n",
       " 'Gross intake ratio in first grade of primary education, total (% of relevant age group)',\n",
       " 'Progression to secondary school (%)',\n",
       " 'Pupil-teacher ratio, preprimary',\n",
       " 'Adjusted net national income (current US$)',\n",
       " 'Adjusted net national income per capita (current US$)',\n",
       " 'Gross intake ratio in first grade of primary education, female (% of relevant age group)',\n",
       " 'Gross intake ratio in first grade of primary education, male (% of relevant age group)',\n",
       " 'Persistence to last grade of primary, female (% of cohort)',\n",
       " 'Persistence to last grade of primary, male (% of cohort)',\n",
       " 'Public and publicly guaranteed debt service (% of exports of goods, services and primary income)',\n",
       " 'Short-term debt (% of exports of goods, services and primary income)',\n",
       " 'Short-term debt (% of total reserves)',\n",
       " 'Net bilateral aid flows from DAC donors, Finland (current US$)',\n",
       " 'Net bilateral aid flows from DAC donors, New Zealand (current US$)',\n",
       " 'Tertiary education, academic staff (% female)',\n",
       " 'Commercial banks and other lending (PPG + PNG) (NFL, current US$)',\n",
       " 'Debt service on external debt, public and publicly guaranteed (PPG) (TDS, current US$)',\n",
       " 'Debt service on external debt, total (TDS, current US$)',\n",
       " 'External debt stocks (% of GNI)',\n",
       " 'External debt stocks, long-term (DOD, current US$)',\n",
       " 'External debt stocks, private nonguaranteed (PNG) (DOD, current US$)',\n",
       " 'External debt stocks, public and publicly guaranteed (PPG) (DOD, current US$)',\n",
       " 'External debt stocks, short-term (DOD, current US$)',\n",
       " 'External debt stocks, total (DOD, current US$)',\n",
       " 'IBRD loans and IDA credits (DOD, current US$)',\n",
       " 'IMF repurchases and charges (TDS, current US$)',\n",
       " 'Multilateral debt service (% of public and publicly guaranteed debt service)',\n",
       " 'Multilateral debt service (TDS, current US$)',\n",
       " 'Net financial flows, bilateral (NFL, current US$)',\n",
       " 'Net financial flows, IMF concessional (NFL, current US$)',\n",
       " 'Net financial flows, IMF nonconcessional (NFL, current US$)',\n",
       " 'Net financial flows, multilateral (NFL, current US$)',\n",
       " 'Net financial flows, others (NFL, current US$)',\n",
       " 'Net financial flows, RDB concessional (NFL, current US$)',\n",
       " 'Net financial flows, RDB nonconcessional (NFL, current US$)',\n",
       " 'Net flows on external debt, private nonguaranteed (PNG) (NFL, current US$)',\n",
       " 'PNG, bonds (NFL, current US$)',\n",
       " 'PNG, commercial banks and other creditors (NFL, current US$)',\n",
       " 'Portfolio investment, bonds (PPG + PNG) (NFL, current US$)',\n",
       " 'PPG, bonds (NFL, current US$)',\n",
       " 'PPG, commercial banks (NFL, current US$)',\n",
       " 'PPG, IBRD (DOD, current US$)',\n",
       " 'PPG, IDA (DOD, current US$)',\n",
       " 'PPG, official creditors (NFL, current US$)',\n",
       " 'PPG, other private creditors (NFL, current US$)',\n",
       " 'PPG, private creditors (NFL, current US$)',\n",
       " 'Short-term debt (% of total external debt)',\n",
       " 'Use of IMF credit (DOD, current US$)',\n",
       " 'Adjusted net national income (constant 2010 US$)',\n",
       " 'Adjusted net national income per capita (constant 2010 US$)',\n",
       " 'Foreign direct investment, net outflows (% of GDP)',\n",
       " 'Debt service (PPG and IMF only, % of exports of goods, services and primary income)',\n",
       " 'Progression to secondary school, female (%)',\n",
       " 'Progression to secondary school, male (%)',\n",
       " 'Adjusted net savings, excluding particulate emission damage (% of GNI)',\n",
       " 'Adjusted savings: gross savings (% of GNI)',\n",
       " 'Adjusted savings: net national savings (% of GNI)',\n",
       " 'Adjusted savings: carbon dioxide damage (current US$)',\n",
       " 'Adjusted savings: consumption of fixed capital (current US$)',\n",
       " 'Adjusted savings: education expenditure (current US$)',\n",
       " 'Adjusted savings: energy depletion (current US$)',\n",
       " 'Adjusted savings: mineral depletion (current US$)',\n",
       " 'Adjusted savings: net forest depletion (current US$)',\n",
       " 'Forest rents (% of GDP)',\n",
       " 'Lower secondary school starting age (years)',\n",
       " 'Mineral rents (% of GDP)',\n",
       " 'Natural gas rents (% of GDP)',\n",
       " 'Oil rents (% of GDP)',\n",
       " 'Primary school starting age (years)',\n",
       " 'Pupil-teacher ratio, tertiary',\n",
       " 'Total natural resources rents (% of GDP)',\n",
       " 'Women Business and the Law Index Score (scale 1-100)',\n",
       " 'Personal remittances, received (% of GDP)',\n",
       " 'Adjusted net enrollment rate, primary (% of primary school age children)',\n",
       " 'Adjusted net enrollment rate, primary, female (% of primary school age children)',\n",
       " 'Adjusted net enrollment rate, primary, male (% of primary school age children)',\n",
       " 'Educational attainment, at least completed lower secondary, population 25+, female (%) (cumulative)',\n",
       " 'Educational attainment, at least completed lower secondary, population 25+, male (%) (cumulative)',\n",
       " 'Educational attainment, at least completed lower secondary, population 25+, total (%) (cumulative)',\n",
       " 'Educational attainment, at least completed post-secondary, population 25+, female (%) (cumulative)',\n",
       " 'Educational attainment, at least completed post-secondary, population 25+, male (%) (cumulative)',\n",
       " 'Educational attainment, at least completed post-secondary, population 25+, total (%) (cumulative)',\n",
       " 'Educational attainment, at least completed primary, population 25+ years, female (%) (cumulative)',\n",
       " 'Educational attainment, at least completed primary, population 25+ years, male (%) (cumulative)',\n",
       " 'Educational attainment, at least completed primary, population 25+ years, total (%) (cumulative)',\n",
       " 'Expenditure on primary education (% of government expenditure on education)',\n",
       " 'Expenditure on secondary education (% of government expenditure on education)',\n",
       " 'Expenditure on tertiary education (% of government expenditure on education)',\n",
       " 'Government expenditure on education, total (% of GDP)',\n",
       " 'Over-age students, primary (% of enrollment)',\n",
       " 'Over-age students, primary, female (% of female enrollment)',\n",
       " 'Over-age students, primary, male (% of male enrollment)',\n",
       " 'Persistence to grade 5, female (% of cohort)',\n",
       " 'Persistence to grade 5, male (% of cohort)',\n",
       " 'Persistence to grade 5, total (% of cohort)',\n",
       " 'Coal rents (% of GDP)',\n",
       " 'Literacy rate, adult female (% of females ages 15 and above)',\n",
       " 'Literacy rate, adult male (% of males ages 15 and above)',\n",
       " 'Literacy rate, adult total (% of people ages 15 and above)',\n",
       " 'Literacy rate, youth (ages 15-24), gender parity index (GPI)',\n",
       " 'Literacy rate, youth female (% of females ages 15-24)',\n",
       " 'Literacy rate, youth male (% of males ages 15-24)',\n",
       " 'Literacy rate, youth total (% of people ages 15-24)',\n",
       " 'Educational attainment, at least completed upper secondary, population 25+, female (%) (cumulative)',\n",
       " 'Educational attainment, at least completed upper secondary, population 25+, male (%) (cumulative)',\n",
       " 'Educational attainment, at least completed upper secondary, population 25+, total (%) (cumulative)',\n",
       " \"Educational attainment, at least Bachelor's or equivalent, population 25+, female (%) (cumulative)\",\n",
       " \"Educational attainment, at least Bachelor's or equivalent, population 25+, male (%) (cumulative)\",\n",
       " \"Educational attainment, at least Bachelor's or equivalent, population 25+, total (%) (cumulative)\",\n",
       " 'Adjusted net savings, excluding particulate emission damage (current US$)',\n",
       " 'Adjusted savings: net national savings (current US$)',\n",
       " 'Educational attainment, at least completed short-cycle tertiary, population 25+, female (%) (cumulative)',\n",
       " 'Educational attainment, at least completed short-cycle tertiary, population 25+, male (%) (cumulative)',\n",
       " 'Educational attainment, at least completed short-cycle tertiary, population 25+, total (%) (cumulative)',\n",
       " 'Total debt service (% of exports of goods, services and primary income)',\n",
       " 'Adolescents out of school (% of lower secondary school age)',\n",
       " 'Adolescents out of school, female (% of female lower secondary school age)',\n",
       " 'Adolescents out of school, male (% of male lower secondary school age)',\n",
       " 'Government expenditure per student, tertiary (% of GDP per capita)',\n",
       " 'Preprimary education, duration (years)',\n",
       " 'Central government debt, total (% of GDP)',\n",
       " 'Central government debt, total (current LCU)',\n",
       " 'Net acquisition of financial assets (% of GDP)',\n",
       " 'Net acquisition of financial assets (current LCU)',\n",
       " 'Other expense (current LCU)',\n",
       " 'Subsidies and other transfers (current LCU)',\n",
       " 'Total reserves (% of total external debt)',\n",
       " 'Adjusted net national income (annual % growth)',\n",
       " 'Adjusted net national income per capita (annual % growth)',\n",
       " 'Net investment in nonfinancial assets (% of GDP)',\n",
       " 'Expense (% of GDP)',\n",
       " 'Grants and other revenue (% of revenue)',\n",
       " 'Net lending (+) / net borrowing (-) (% of GDP)',\n",
       " 'Revenue, excluding grants (% of GDP)',\n",
       " 'Tax revenue (% of GDP)',\n",
       " 'Taxes on income, profits and capital gains (% of revenue)',\n",
       " 'Compensation of employees (% of expense)',\n",
       " 'Goods and services expense (% of expense)',\n",
       " 'Interest payments (% of expense)',\n",
       " 'Interest payments (% of revenue)',\n",
       " 'Net incurrence of liabilities, total (% of GDP)',\n",
       " 'Other taxes (% of revenue)',\n",
       " 'Social contributions (% of revenue)',\n",
       " 'Taxes on goods and services (% of revenue)',\n",
       " 'Taxes on international trade (% of revenue)',\n",
       " 'Customs and other import duties (% of tax revenue)',\n",
       " 'Customs and other import duties (current LCU)',\n",
       " 'Expense (current LCU)',\n",
       " 'Grants and other revenue (current LCU)',\n",
       " 'Interest payments (current LCU)',\n",
       " 'Net incurrence of liabilities, total (current LCU)',\n",
       " 'Net investment in nonfinancial assets (current LCU)',\n",
       " 'Net lending (+) / net borrowing (-) (current LCU)',\n",
       " 'Other taxes (current LCU)',\n",
       " 'Revenue, excluding grants (current LCU)',\n",
       " 'Tax revenue (current LCU)',\n",
       " 'Taxes on exports (% of tax revenue)',\n",
       " 'Taxes on exports (current LCU)',\n",
       " 'Taxes on goods and services (current LCU)',\n",
       " 'Taxes on income, profits and capital gains (% of total taxes)',\n",
       " 'Taxes on income, profits and capital gains (current LCU)',\n",
       " 'Taxes on international trade (current LCU)',\n",
       " 'Compensation of employees (current LCU)',\n",
       " 'Goods and services expense (current LCU)',\n",
       " 'Social contributions (current LCU)',\n",
       " 'Subsidies and other transfers (% of expense)',\n",
       " 'Taxes on goods and services (% value added of industry and services)',\n",
       " 'Net ODA received (% of central government expense)',\n",
       " 'Net bilateral aid flows from DAC donors, Ireland (current US$)',\n",
       " 'Listed domestic companies, total',\n",
       " 'Stocks traded, total value (% of GDP)',\n",
       " 'Stocks traded, total value (current US$)',\n",
       " 'Market capitalization of listed domestic companies (% of GDP)',\n",
       " 'Market capitalization of listed domestic companies (current US$)',\n",
       " 'Stocks traded, turnover ratio of domestic shares (%)',\n",
       " 'Compulsory education, duration (years)',\n",
       " 'Part time employment, female (% of total female employment)',\n",
       " 'Part time employment, male (% of total male employment)',\n",
       " 'Part time employment, total (% of total employment)',\n",
       " 'Share of youth not in education, employment or training, female (% of female youth population)',\n",
       " 'Share of youth not in education, employment or training, male (% of male youth population)',\n",
       " 'Share of youth not in education, employment or training, total (% of youth population)',\n",
       " 'Net official flows from UN agencies, UNFPA (current US$)',\n",
       " 'Net official flows from UN agencies, IFAD (current US$)',\n",
       " 'Real effective exchange rate index (2010 = 100)',\n",
       " 'Patent applications, nonresidents',\n",
       " 'Patent applications, residents',\n",
       " 'Trademark applications, direct nonresident',\n",
       " 'Trademark applications, direct resident',\n",
       " 'Trademark applications, total',\n",
       " 'Immunization, DPT (% of children ages 12-23 months)',\n",
       " 'Newborns protected against tetanus (%)',\n",
       " 'Net bilateral aid flows from DAC donors, Spain (current US$)',\n",
       " 'Immunization, measles (% of children ages 12-23 months)',\n",
       " 'Industrial design applications, nonresident, by count',\n",
       " 'Industrial design applications, resident, by count',\n",
       " 'Export value index (2000 = 100)',\n",
       " 'Import value index (2000 = 100)',\n",
       " 'Export unit value index (2000 = 100)',\n",
       " 'Export volume index (2000 = 100)',\n",
       " 'Import unit value index (2000 = 100)',\n",
       " 'Import volume index (2000 = 100)',\n",
       " 'Net barter terms of trade index (2000 = 100)',\n",
       " 'Government expenditure on education, total (% of government expenditure)',\n",
       " 'Pupil-teacher ratio, lower secondary',\n",
       " 'Pupil-teacher ratio, upper secondary',\n",
       " 'Prevalence of overweight, weight for height (% of children under 5)',\n",
       " 'Prevalence of severe wasting, weight for height (% of children under 5)',\n",
       " 'Prevalence of stunting, height for age (% of children under 5)',\n",
       " 'Prevalence of underweight, weight for age (% of children under 5)',\n",
       " 'Prevalence of wasting, weight for height (% of children under 5)',\n",
       " 'Investment in energy with private participation (current US$)',\n",
       " 'Public private partnerships investment in energy (current US$)',\n",
       " 'Pregnant women receiving prenatal care (%)',\n",
       " 'Births attended by skilled health staff (% of total)',\n",
       " 'Unmet need for contraception (% of married women ages 15-49)',\n",
       " 'Investment in transport with private participation (current US$)',\n",
       " 'Public private partnerships investment in transport (current US$)',\n",
       " 'Demand for family planning satisfied by modern methods (% of married women with demand for family planning)',\n",
       " 'Armed forces personnel, total',\n",
       " 'Poverty headcount ratio at national poverty lines (% of population)',\n",
       " 'Diarrhea treatment (% of children under 5 who received ORS packet)',\n",
       " 'Increase in poverty gap at $1.90 ($ 2011 PPP) poverty line due to out-of-pocket health care expenditure (% of poverty line)',\n",
       " 'Increase in poverty gap at $1.90 ($ 2011 PPP) poverty line due to out-of-pocket health care expenditure (USD)',\n",
       " 'Increase in poverty gap at $3.20 ($ 2011 PPP) poverty line due to out-of-pocket health care expenditure (% of poverty line)',\n",
       " 'Increase in poverty gap at $3.20 ($ 2011 PPP) poverty line due to out-of-pocket health care expenditure (USD)',\n",
       " 'Proportion of population pushed below the $1.90 ($ 2011 PPP) poverty line by out-of-pocket health care expenditure (%)',\n",
       " 'Proportion of population spending more than 10% of household consumption or income on out-of-pocket health care expenditure (%)',\n",
       " 'Proportion of population spending more than 25% of household consumption or income on out-of-pocket health care expenditure (%)',\n",
       " 'Teenage mothers (% of women ages 15-19 who have had children or are currently pregnant)',\n",
       " 'Wanted fertility rate (births per woman)',\n",
       " 'Women who were first married by age 15 (% of women ages 20-24)',\n",
       " 'Women who were first married by age 18 (% of women ages 20-24)',\n",
       " 'Public private partnerships investment in ICT (current US$)',\n",
       " 'Exclusive breastfeeding (% of children under 6 months)',\n",
       " 'Diarrhea treatment (% of children under 5 receiving oral rehydration and continued feeding)',\n",
       " 'Investment in water and sanitation with private participation (current US$)',\n",
       " 'Public private partnerships investment in water and sanitation (current US$)',\n",
       " 'Prevalence of overweight, weight for height, female (% of children under 5)',\n",
       " 'Prevalence of overweight, weight for height, male (% of children under 5)',\n",
       " 'Prevalence of severe wasting, weight for height, female (% of children under 5)',\n",
       " 'Prevalence of severe wasting, weight for height, male (% of children under 5)',\n",
       " 'Prevalence of stunting, height for age, female (% of children under 5)',\n",
       " 'Prevalence of stunting, height for age, male (% of children under 5)',\n",
       " 'Prevalence of underweight, weight for age, female (% of children under 5)',\n",
       " 'Prevalence of underweight, weight for age, male (% of children under 5)',\n",
       " 'Prevalence of wasting, weight for height, female (% of children under 5)',\n",
       " 'Prevalence of wasting, weight for height, male (% of children under 5)',\n",
       " 'Military expenditure (% of general government expenditure)',\n",
       " 'Share of tariff lines with international peaks, all products (%)',\n",
       " 'Share of tariff lines with specific rates, all products (%)',\n",
       " 'Tariff rate, applied, simple mean, all products (%)',\n",
       " 'Tariff rate, applied, weighted mean, all products (%)',\n",
       " 'Tariff rate, most favored nation, simple mean, all products (%)',\n",
       " 'Tariff rate, most favored nation, weighted mean, all products (%)',\n",
       " 'Share of tariff lines with international peaks, manufactured products (%)',\n",
       " 'Share of tariff lines with international peaks, primary products (%)',\n",
       " 'Share of tariff lines with specific rates, manufactured products (%)',\n",
       " 'Share of tariff lines with specific rates, primary products (%)',\n",
       " 'Tariff rate, applied, simple mean, manufactured products (%)',\n",
       " 'Tariff rate, applied, simple mean, primary products (%)',\n",
       " 'Tariff rate, applied, weighted mean, manufactured products (%)',\n",
       " 'Tariff rate, applied, weighted mean, primary products (%)',\n",
       " 'Tariff rate, most favored nation, simple mean, manufactured products (%)',\n",
       " 'Tariff rate, most favored nation, simple mean, primary products (%)',\n",
       " 'Tariff rate, most favored nation, weighted mean, manufactured products (%)',\n",
       " 'Tariff rate, most favored nation, weighted mean, primary products (%)',\n",
       " 'Battle-related deaths (number of people)',\n",
       " 'GDP deflator: linked series (base year varies by country)',\n",
       " 'GDP: linked series (current LCU)',\n",
       " 'GNI: linked series (current LCU)',\n",
       " 'Immunization, HepB3 (% of one-year-old children)',\n",
       " 'Adjusted savings: particulate emission damage (% of GNI)',\n",
       " 'Armed forces personnel (% of total labor force)',\n",
       " 'CO2 emissions (kg per 2017 PPP $ of GDP)',\n",
       " 'CO2 emissions (kg per PPP $ of GDP)',\n",
       " 'Energy use (kg of oil equivalent) per $1,000 GDP (constant 2017 PPP)',\n",
       " 'Forest area (% of land area)',\n",
       " 'Forest area (sq. km)',\n",
       " 'GDP per capita, PPP (constant 2017 international $)',\n",
       " 'GDP per capita, PPP (current international $)',\n",
       " 'GDP per unit of energy use (constant 2017 PPP $ per kg of oil equivalent)',\n",
       " 'GDP per unit of energy use (PPP $ per kg of oil equivalent)',\n",
       " 'GDP, PPP (constant 2017 international $)',\n",
       " 'GDP, PPP (current international $)',\n",
       " 'GNI per capita, PPP (current international $)',\n",
       " 'GNI, PPP (current international $)',\n",
       " 'Households and NPISHs Final consumption expenditure, PPP (current international $)',\n",
       " 'Incidence of HIV, ages 15-49 (per 1,000 uninfected population ages 15-49)',\n",
       " 'Labor force participation rate for ages 15-24, female (%) (modeled ILO estimate)',\n",
       " 'Labor force participation rate for ages 15-24, male (%) (modeled ILO estimate)',\n",
       " 'Labor force participation rate for ages 15-24, total (%) (modeled ILO estimate)',\n",
       " 'Labor force participation rate, female (% of female population ages 15+) (modeled ILO estimate)',\n",
       " 'Labor force participation rate, female (% of female population ages 15-64) (modeled ILO estimate)',\n",
       " 'Labor force participation rate, male (% of male population ages 15+) (modeled ILO estimate)',\n",
       " 'Labor force participation rate, male (% of male population ages 15-64) (modeled ILO estimate)',\n",
       " 'Labor force participation rate, total (% of total population ages 15+) (modeled ILO estimate)',\n",
       " 'Labor force participation rate, total (% of total population ages 15-64) (modeled ILO estimate)',\n",
       " 'Labor force, female (% of total labor force)',\n",
       " 'Labor force, total',\n",
       " 'Land area where elevation is below 5 meters (% of total land area)',\n",
       " 'Net bilateral aid flows from DAC donors, Luxembourg (current US$)',\n",
       " 'Number of deaths ages 10-14 years',\n",
       " 'Number of deaths ages 15-19 years',\n",
       " 'Number of deaths ages 20-24 years',\n",
       " 'Number of deaths ages 5-9 years',\n",
       " 'Prevalence of anemia among children (% of children under 5)',\n",
       " 'Prevalence of anemia among non-pregnant women (% of women ages 15-49)',\n",
       " 'Prevalence of anemia among pregnant women (%)',\n",
       " 'Prevalence of anemia among women of reproductive age (% of women ages 15-49)',\n",
       " 'Prevalence of HIV, female (% ages 15-24)',\n",
       " 'Prevalence of HIV, male (% ages 15-24)',\n",
       " 'Prevalence of HIV, total (% of population ages 15-49)',\n",
       " 'Probability of dying among adolescents ages 10-14 years (per 1,000)',\n",
       " 'Probability of dying among adolescents ages 15-19 years (per 1,000)',\n",
       " 'Probability of dying among children ages 5-9 years (per 1,000)',\n",
       " 'Probability of dying among youth ages 20-24 years (per 1,000)',\n",
       " 'Ratio of female to male labor force participation rate (%) (modeled ILO estimate)',\n",
       " 'Renewable electricity output (% of total electricity output)',\n",
       " 'Renewable energy consumption (% of total final energy consumption)',\n",
       " 'Rural land area (sq. km)',\n",
       " 'Rural land area where elevation is below 5 meters (% of total land area)',\n",
       " 'Rural land area where elevation is below 5 meters (sq. km)',\n",
       " 'Urban land area (sq. km)',\n",
       " 'Urban land area where elevation is below 5 meters (% of total land area)',\n",
       " 'Urban land area where elevation is below 5 meters (sq. km)',\n",
       " \"Women's share of population ages 15+ living with HIV (%)\",\n",
       " 'Completeness of death registration with cause-of-death information (%)',\n",
       " 'Net official aid received (constant 2015 US$)',\n",
       " 'Net official aid received (current US$)',\n",
       " 'Nurses and midwives (per 1,000 people)',\n",
       " 'Adjusted net savings, including particulate emission damage (% of GNI)',\n",
       " 'GNI per capita, PPP (constant 2017 international $)',\n",
       " 'GNI, PPP (constant 2017 international $)',\n",
       " 'Households and NPISHs Final consumption expenditure, PPP (constant 2017 international $)',\n",
       " 'Population living in slums (% of urban population)',\n",
       " 'Community health workers (per 1,000 people)',\n",
       " 'ARI treatment (% of children under 5 taken to a health provider)',\n",
       " 'Other expense (% of expense)',\n",
       " 'Adults (ages 15+) and children (ages 0-14) newly infected with HIV',\n",
       " 'Adults (ages 15-49) newly infected with HIV',\n",
       " 'Children (0-14) living with HIV',\n",
       " 'Children (ages 0-14) newly infected with HIV',\n",
       " 'Energy intensity level of primary energy (MJ/$2011 PPP GDP)',\n",
       " 'Intentional homicides (per 100,000 people)',\n",
       " 'Intentional homicides, female (per 100,000 female)',\n",
       " 'Intentional homicides, male (per 100,000 male)',\n",
       " 'Medium and high-tech exports (% manufactured exports)',\n",
       " 'Medium and high-tech Industry (including construction) (% manufacturing value added)',\n",
       " 'PM2.5 air pollution, mean annual exposure (micrograms per cubic meter)',\n",
       " 'PM2.5 air pollution, population exposed to levels exceeding WHO guideline value (% of total)',\n",
       " 'PM2.5 pollution, population exposed to levels exceeding WHO Interim Target-1 value (% of total)',\n",
       " 'PM2.5 pollution, population exposed to levels exceeding WHO Interim Target-2 value (% of total)',\n",
       " 'PM2.5 pollution, population exposed to levels exceeding WHO Interim Target-3 value (% of total)',\n",
       " 'Adjusted net savings, including particulate emission damage (current US$)',\n",
       " 'Adjusted savings: particulate emission damage (current US$)',\n",
       " 'HFC gas emissions (thousand metric tons of CO2 equivalent)',\n",
       " 'Households and NPISHs final consumption expenditure: linked series (current LCU)',\n",
       " 'Inflation, GDP deflator: linked series (annual %)',\n",
       " 'PFC gas emissions (thousand metric tons of CO2 equivalent)',\n",
       " 'Population living in areas where elevation is below 5 meters (% of total population)',\n",
       " 'PPP conversion factor, GDP (LCU per international $)',\n",
       " 'Price level ratio of PPP conversion factor (GDP) to market exchange rate',\n",
       " 'Rural population living in areas where elevation is below 5 meters (% of total population)',\n",
       " 'SF6 gas emissions (thousand metric tons of CO2 equivalent)',\n",
       " 'Urban population living in areas where elevation is below 5 meters (% of total population)',\n",
       " 'PPP conversion factor, private consumption (LCU per international $)',\n",
       " 'Access to electricity (% of population)',\n",
       " 'Access to electricity, rural (% of rural population)',\n",
       " 'Access to electricity, urban (% of urban population)',\n",
       " 'GHG net emissions/removals by LUCF (Mt of CO2 equivalent)',\n",
       " 'S&P Global Equity Indices (annual % change)',\n",
       " 'Labor force with advanced education (% of total working-age population with advanced education)',\n",
       " 'Labor force with advanced education, female (% of female working-age population with advanced education)',\n",
       " 'Labor force with advanced education, male (% of male working-age population with advanced education)',\n",
       " 'Labor force with basic education (% of total working-age population with basic education)',\n",
       " 'Labor force with basic education, female (% of female working-age population with basic education)',\n",
       " 'Labor force with basic education, male (% of male working-age population with basic education)',\n",
       " 'Labor force with intermediate education (% of total working-age population with intermediate education)',\n",
       " 'Labor force with intermediate education, female (% of female working-age population with intermediate education)',\n",
       " 'Labor force with intermediate education, male (% of male working-age population with intermediate education)',\n",
       " 'Unemployment with advanced education (% of total labor force with advanced education)',\n",
       " 'Unemployment with advanced education, female (% of female labor force with advanced education)',\n",
       " 'Unemployment with advanced education, male (% of male labor force with advanced education)',\n",
       " 'Unemployment with basic education (% of total labor force with basic education)',\n",
       " 'Unemployment with basic education, female (% of female labor force with basic education)',\n",
       " 'Unemployment with basic education, male (% of male labor force with basic education)',\n",
       " 'Unemployment with intermediate education (% of total labor force with intermediate education)',\n",
       " 'Unemployment with intermediate education, female (% of female labor force with intermediate education)',\n",
       " 'Unemployment with intermediate education, male (% of male labor force with intermediate education)',\n",
       " 'Female headed households (% of households with a female head)',\n",
       " 'Female genital mutilation prevalence (%)',\n",
       " 'Agriculture, forestry, and fishing, value added per worker (constant 2010 US$)',\n",
       " 'Contributing family workers, female (% of female employment) (modeled ILO estimate)',\n",
       " 'Contributing family workers, male (% of male employment) (modeled ILO estimate)',\n",
       " 'Contributing family workers, total (% of total employment) (modeled ILO estimate)',\n",
       " 'Employers, female (% of female employment) (modeled ILO estimate)',\n",
       " 'Employers, male (% of male employment) (modeled ILO estimate)',\n",
       " 'Employers, total (% of total employment) (modeled ILO estimate)',\n",
       " 'Employment in agriculture (% of total employment) (modeled ILO estimate)',\n",
       " 'Employment in agriculture, female (% of female employment) (modeled ILO estimate)',\n",
       " 'Employment in agriculture, male (% of male employment) (modeled ILO estimate)',\n",
       " 'Employment in industry (% of total employment) (modeled ILO estimate)',\n",
       " 'Employment in industry, female (% of female employment) (modeled ILO estimate)',\n",
       " 'Employment in industry, male (% of male employment) (modeled ILO estimate)',\n",
       " 'Employment in services (% of total employment) (modeled ILO estimate)',\n",
       " 'Employment in services, female (% of female employment) (modeled ILO estimate)',\n",
       " 'Employment in services, male (% of male employment) (modeled ILO estimate)',\n",
       " 'Employment to population ratio, 15+, female (%) (modeled ILO estimate)',\n",
       " 'Employment to population ratio, 15+, male (%) (modeled ILO estimate)',\n",
       " 'Employment to population ratio, 15+, total (%) (modeled ILO estimate)',\n",
       " 'Employment to population ratio, ages 15-24, female (%) (modeled ILO estimate)',\n",
       " 'Employment to population ratio, ages 15-24, male (%) (modeled ILO estimate)',\n",
       " 'Employment to population ratio, ages 15-24, total (%) (modeled ILO estimate)',\n",
       " ...]"
      ]
     },
     "execution_count": 71,
     "metadata": {},
     "output_type": "execute_result"
    }
   ],
   "source": [
    "indicators"
   ]
  },
  {
   "cell_type": "markdown",
   "metadata": {},
   "source": [
    "### How many years of data do we have ?"
   ]
  },
  {
   "cell_type": "code",
   "execution_count": 72,
   "metadata": {},
   "outputs": [
    {
     "data": {
      "text/plain": [
       "61"
      ]
     },
     "execution_count": 72,
     "metadata": {},
     "output_type": "execute_result"
    }
   ],
   "source": [
    "# How many years of data do we have ?\n",
    "years = data['Year'].unique().tolist()\n",
    "len(years)"
   ]
  },
  {
   "cell_type": "markdown",
   "metadata": {},
   "source": [
    "### What's the range of years?"
   ]
  },
  {
   "cell_type": "code",
   "execution_count": 73,
   "metadata": {},
   "outputs": [
    {
     "name": "stdout",
     "output_type": "stream",
     "text": [
      "1960  to  2020\n"
     ]
    }
   ],
   "source": [
    "print(min(years) ,\" to \", max(years))"
   ]
  },
  {
   "cell_type": "markdown",
   "metadata": {},
   "source": [
    "<p style=\"font-family: Arial; font-size:2.5em;color:blue; font-style:bold\">\n",
    "Matplotlib: Basic Plotting, Part 1</p><br>"
   ]
  },
  {
   "cell_type": "markdown",
   "metadata": {},
   "source": [
    "### Lets pick a country and an indicator to explore: CO2 Emissions per capita and the USA"
   ]
  },
  {
   "cell_type": "code",
   "execution_count": 74,
   "metadata": {},
   "outputs": [],
   "source": [
    "# select CO2 emissions for the United States\n",
    "hist_indicator = 'CO2 emissions \\(metric'\n",
    "hist_country = 'USA'\n",
    "\n",
    "mask1 = data['Indicator Name'].str.contains(hist_indicator) \n",
    "mask2 = data['Country Code'].str.contains(hist_country)\n",
    "\n",
    "# stage is just those indicators matching the USA for country code and CO2 emissions over time.\n",
    "stage = data[mask1 & mask2]"
   ]
  },
  {
   "cell_type": "code",
   "execution_count": null,
   "metadata": {},
   "outputs": [],
   "source": []
  },
  {
   "cell_type": "code",
   "execution_count": 57,
   "metadata": {},
   "outputs": [
    {
     "data": {
      "text/html": [
       "<div>\n",
       "<style scoped>\n",
       "    .dataframe tbody tr th:only-of-type {\n",
       "        vertical-align: middle;\n",
       "    }\n",
       "\n",
       "    .dataframe tbody tr th {\n",
       "        vertical-align: top;\n",
       "    }\n",
       "\n",
       "    .dataframe thead th {\n",
       "        text-align: right;\n",
       "    }\n",
       "</style>\n",
       "<table border=\"1\" class=\"dataframe\">\n",
       "  <thead>\n",
       "    <tr style=\"text-align: right;\">\n",
       "      <th></th>\n",
       "      <th>Country Name</th>\n",
       "      <th>Country Code</th>\n",
       "      <th>Indicator Name</th>\n",
       "      <th>Indicator Code</th>\n",
       "      <th>Year</th>\n",
       "      <th>Value</th>\n",
       "    </tr>\n",
       "  </thead>\n",
       "  <tbody>\n",
       "    <tr>\n",
       "      <th>363754</th>\n",
       "      <td>United States</td>\n",
       "      <td>USA</td>\n",
       "      <td>CO2 emissions (metric tons per capita)</td>\n",
       "      <td>EN.ATM.CO2E.PC</td>\n",
       "      <td>1960</td>\n",
       "      <td>15.999779</td>\n",
       "    </tr>\n",
       "    <tr>\n",
       "      <th>743122</th>\n",
       "      <td>United States</td>\n",
       "      <td>USA</td>\n",
       "      <td>CO2 emissions (metric tons per capita)</td>\n",
       "      <td>EN.ATM.CO2E.PC</td>\n",
       "      <td>1961</td>\n",
       "      <td>15.681256</td>\n",
       "    </tr>\n",
       "    <tr>\n",
       "      <th>1122490</th>\n",
       "      <td>United States</td>\n",
       "      <td>USA</td>\n",
       "      <td>CO2 emissions (metric tons per capita)</td>\n",
       "      <td>EN.ATM.CO2E.PC</td>\n",
       "      <td>1962</td>\n",
       "      <td>16.013937</td>\n",
       "    </tr>\n",
       "    <tr>\n",
       "      <th>1501858</th>\n",
       "      <td>United States</td>\n",
       "      <td>USA</td>\n",
       "      <td>CO2 emissions (metric tons per capita)</td>\n",
       "      <td>EN.ATM.CO2E.PC</td>\n",
       "      <td>1963</td>\n",
       "      <td>16.482762</td>\n",
       "    </tr>\n",
       "    <tr>\n",
       "      <th>1881226</th>\n",
       "      <td>United States</td>\n",
       "      <td>USA</td>\n",
       "      <td>CO2 emissions (metric tons per capita)</td>\n",
       "      <td>EN.ATM.CO2E.PC</td>\n",
       "      <td>1964</td>\n",
       "      <td>16.968119</td>\n",
       "    </tr>\n",
       "  </tbody>\n",
       "</table>\n",
       "</div>"
      ],
      "text/plain": [
       "          Country Name Country Code                          Indicator Name  \\\n",
       "363754   United States          USA  CO2 emissions (metric tons per capita)   \n",
       "743122   United States          USA  CO2 emissions (metric tons per capita)   \n",
       "1122490  United States          USA  CO2 emissions (metric tons per capita)   \n",
       "1501858  United States          USA  CO2 emissions (metric tons per capita)   \n",
       "1881226  United States          USA  CO2 emissions (metric tons per capita)   \n",
       "\n",
       "         Indicator Code  Year      Value  \n",
       "363754   EN.ATM.CO2E.PC  1960  15.999779  \n",
       "743122   EN.ATM.CO2E.PC  1961  15.681256  \n",
       "1122490  EN.ATM.CO2E.PC  1962  16.013937  \n",
       "1501858  EN.ATM.CO2E.PC  1963  16.482762  \n",
       "1881226  EN.ATM.CO2E.PC  1964  16.968119  "
      ]
     },
     "execution_count": 57,
     "metadata": {},
     "output_type": "execute_result"
    }
   ],
   "source": [
    "stage.head()"
   ]
  },
  {
   "cell_type": "code",
   "execution_count": 58,
   "metadata": {},
   "outputs": [
    {
     "data": {
      "text/plain": [
       "(57, 6)"
      ]
     },
     "execution_count": 58,
     "metadata": {},
     "output_type": "execute_result"
    }
   ],
   "source": [
    "stage.shape"
   ]
  },
  {
   "cell_type": "code",
   "execution_count": 50,
   "metadata": {},
   "outputs": [
    {
     "data": {
      "text/plain": [
       "(57, 6)"
      ]
     },
     "execution_count": 50,
     "metadata": {},
     "output_type": "execute_result"
    }
   ],
   "source": [
    "stage.shape"
   ]
  },
  {
   "cell_type": "markdown",
   "metadata": {},
   "source": [
    "### Let's see how emissions have changed over time using MatplotLib"
   ]
  },
  {
   "cell_type": "code",
   "execution_count": 75,
   "metadata": {},
   "outputs": [
    {
     "data": {
      "image/png": "[encoded data removed]",
      "text/plain": [
       "<Figure size 640x480 with 1 Axes>"
      ]
     },
     "metadata": {},
     "output_type": "display_data"
    }
   ],
   "source": [
    "# get the years\n",
    "years = stage['Year'].values\n",
    "# get the values \n",
    "co2 = stage['Value'].values\n",
    "\n",
    "# create\n",
    "plt.bar(years,co2)\n",
    "plt.show()"
   ]
  },
  {
   "cell_type": "markdown",
   "metadata": {},
   "source": [
    "Let's see how emissions have changed over time using MatplotLi"
   ]
  },
  {
   "cell_type": "code",
   "execution_count": 21,
   "metadata": {},
   "outputs": [
    {
     "data": {
      "text/plain": [
       "array([15.99977916, 15.68125552, 16.0139375 , 16.48276215, 16.96811858,\n",
       "       17.45172525, 18.12107301, 18.59831788, 19.08938916, 19.85794566,\n",
       "       21.11125227, 20.98020348, 21.74864198, 22.51058213, 21.50293038,\n",
       "       20.40222407, 21.15761537, 21.53248401, 21.97300469, 21.78043698,\n",
       "       20.78648774, 19.76676417, 18.59049523, 18.57154371, 18.97675027,\n",
       "       18.88231274, 18.72072272, 19.35033442, 20.01041341, 20.07576978,\n",
       "       19.32275118, 19.05616319, 19.13943728, 19.34708291, 19.36089205,\n",
       "       19.27654526, 19.49602474, 19.69036318, 19.5792362 , 19.72716951,\n",
       "       20.17875051, 19.63650507, 19.61340408, 19.56410453, 19.65837118,\n",
       "       19.59188523, 19.09406652, 19.21789784, 18.46176387, 17.15773779,\n",
       "       17.4431109 , 16.91520177, 16.19342933, 16.36222413, 16.41657591,\n",
       "       15.98986626, 15.50220398])"
      ]
     },
     "execution_count": 21,
     "metadata": {},
     "output_type": "execute_result"
    }
   ],
   "source": [
    "co2"
   ]
  },
  {
   "cell_type": "markdown",
   "metadata": {},
   "source": [
    "Turns out emissions per capita have dropped a bit over time, but let's make this graphic a bit more appealing before we continue to explore it."
   ]
  },
  {
   "cell_type": "code",
   "execution_count": 22,
   "metadata": {},
   "outputs": [
    {
     "data": {
      "image/png": "[encoded data removed]",
      "text/plain": [
       "<Figure size 640x480 with 1 Axes>"
      ]
     },
     "metadata": {},
     "output_type": "display_data"
    }
   ],
   "source": [
    "# switch to a line plot\n",
    "plt.plot(stage['Year'].values, stage['Value'].values)\n",
    "\n",
    "# Label the axes\n",
    "plt.xlabel('Year')\n",
    "plt.ylabel(stage['Indicator Name'].iloc[0])\n",
    "\n",
    "#label the figure\n",
    "plt.title('CO2 Emissions in USA')\n",
    "\n",
    "# to make more honest, start they y axis at 0\n",
    "plt.axis([1959, 2011,0,25])\n",
    "\n",
    "plt.show()"
   ]
  },
  {
   "cell_type": "code",
   "execution_count": null,
   "metadata": {},
   "outputs": [],
   "source": []
  },
  {
   "cell_type": "code",
   "execution_count": 23,
   "metadata": {},
   "outputs": [],
   "source": [
    "import matplotlib.pyplot as plt\n",
    "import numpy as np\n",
    "     \n",
    "x = np.array([0, 1, 2, 3, 4, 5])\n",
    "y = np.array([1, 3, 2, 4, 6, 5])"
   ]
  },
  {
   "cell_type": "code",
   "execution_count": 24,
   "metadata": {},
   "outputs": [
    {
     "data": {
      "text/plain": [
       "[<matplotlib.lines.Line2D at 0x7f649639e230>]"
      ]
     },
     "execution_count": 24,
     "metadata": {},
     "output_type": "execute_result"
    },
    {
     "data": {
      "image/png": "[encoded data removed]",
      "text/plain": [
       "<Figure size 640x480 with 1 Axes>"
      ]
     },
     "metadata": {},
     "output_type": "display_data"
    }
   ],
   "source": [
    "plt.plot(y)"
   ]
  },
  {
   "cell_type": "code",
   "execution_count": 25,
   "metadata": {},
   "outputs": [
    {
     "data": {
      "text/plain": [
       "[<matplotlib.lines.Line2D at 0x7f6496532d40>]"
      ]
     },
     "execution_count": 25,
     "metadata": {},
     "output_type": "execute_result"
    },
    {
     "data": {
      "image/png": "[encoded data removed]",
      "text/plain": [
       "<Figure size 640x480 with 1 Axes>"
      ]
     },
     "metadata": {},
     "output_type": "display_data"
    }
   ],
   "source": [
    "plt.plot(x)"
   ]
  },
  {
   "cell_type": "code",
   "execution_count": 26,
   "metadata": {},
   "outputs": [
    {
     "data": {
      "text/plain": [
       "[<matplotlib.lines.Line2D at 0x7f649642a9e0>]"
      ]
     },
     "execution_count": 26,
     "metadata": {},
     "output_type": "execute_result"
    },
    {
     "data": {
      "image/png": "[encoded data removed]",
      "text/plain": [
       "<Figure size 640x480 with 1 Axes>"
      ]
     },
     "metadata": {},
     "output_type": "display_data"
    }
   ],
   "source": [
    "plt.plot(y, x)"
   ]
  },
  {
   "cell_type": "code",
   "execution_count": 27,
   "metadata": {},
   "outputs": [
    {
     "data": {
      "text/plain": [
       "[<matplotlib.lines.Line2D at 0x7f6496297910>]"
      ]
     },
     "execution_count": 27,
     "metadata": {},
     "output_type": "execute_result"
    },
    {
     "data": {
      "image/png": "[encoded data removed]",
      "text/plain": [
       "<Figure size 640x480 with 1 Axes>"
      ]
     },
     "metadata": {},
     "output_type": "display_data"
    }
   ],
   "source": [
    "plt.plot(x, y)"
   ]
  },
  {
   "cell_type": "markdown",
   "metadata": {},
   "source": [
    "### Using Histograms to explore the distribution of values\n",
    "We could also visualize this data as a histogram to better explore the ranges of values in CO2 production per year. "
   ]
  },
  {
   "cell_type": "code",
   "execution_count": 76,
   "metadata": {},
   "outputs": [],
   "source": [
    "# If you want to just include those within one standard deviation fo the mean, you could do the following\n",
    "lower = stage['Value'].mean() - stage['Value'].std()\n",
    "upper = stage['Value'].mean() + stage['Value'].std()\n",
    "hist_data = [x for x in stage[:10000]['Value'] if x>lower and x<upper ]\n",
    "\n",
    "# Otherwise, let's look at all the data\n",
    "hist_data = stage['Value'].values"
   ]
  },
  {
   "cell_type": "code",
   "execution_count": 77,
   "metadata": {},
   "outputs": [
    {
     "data": {
      "text/plain": [
       "20.76840195043908"
      ]
     },
     "execution_count": 77,
     "metadata": {},
     "output_type": "execute_result"
    }
   ],
   "source": [
    "upper"
   ]
  },
  {
   "cell_type": "code",
   "execution_count": 78,
   "metadata": {},
   "outputs": [
    {
     "name": "stdout",
     "output_type": "stream",
     "text": [
      "57\n"
     ]
    }
   ],
   "source": [
    "print(len(hist_data))"
   ]
  },
  {
   "cell_type": "code",
   "execution_count": 79,
   "metadata": {},
   "outputs": [
    {
     "data": {
      "image/png": "[encoded data removed]",
      "text/plain": [
       "<Figure size 640x480 with 1 Axes>"
      ]
     },
     "metadata": {},
     "output_type": "display_data"
    }
   ],
   "source": [
    "# the histogram of the data\n",
    "plt.hist(hist_data, 10, density=False, facecolor='red')\n",
    "\n",
    "plt.xlabel(stage['Indicator Name'].iloc[0])\n",
    "plt.ylabel('# of Years')\n",
    "plt.title('Histogram Example')\n",
    "\n",
    "plt.grid(True)\n",
    "\n",
    "plt.show()"
   ]
  },
  {
   "cell_type": "markdown",
   "metadata": {},
   "source": [
    "So the USA has many years where it produced between 19-20 metric tons per capita with outliers on either side."
   ]
  },
  {
   "cell_type": "markdown",
   "metadata": {},
   "source": [
    "### But how do the USA's numbers relate to those of other countries?"
   ]
  },
  {
   "cell_type": "code",
   "execution_count": 89,
   "metadata": {},
   "outputs": [
    {
     "data": {
      "text/html": [
       "<div>\n",
       "<style scoped>\n",
       "    .dataframe tbody tr th:only-of-type {\n",
       "        vertical-align: middle;\n",
       "    }\n",
       "\n",
       "    .dataframe tbody tr th {\n",
       "        vertical-align: top;\n",
       "    }\n",
       "\n",
       "    .dataframe thead th {\n",
       "        text-align: right;\n",
       "    }\n",
       "</style>\n",
       "<table border=\"1\" class=\"dataframe\">\n",
       "  <thead>\n",
       "    <tr style=\"text-align: right;\">\n",
       "      <th></th>\n",
       "      <th>Country Name</th>\n",
       "      <th>Country Code</th>\n",
       "      <th>Indicator Name</th>\n",
       "      <th>Indicator Code</th>\n",
       "      <th>Year</th>\n",
       "      <th>Value</th>\n",
       "    </tr>\n",
       "  </thead>\n",
       "  <tbody>\n",
       "    <tr>\n",
       "      <th>19347961</th>\n",
       "      <td>Arab World</td>\n",
       "      <td>ARB</td>\n",
       "      <td>CO2 emissions (metric tons per capita)</td>\n",
       "      <td>EN.ATM.CO2E.PC</td>\n",
       "      <td>2011</td>\n",
       "      <td>4.572407</td>\n",
       "    </tr>\n",
       "    <tr>\n",
       "      <th>19349398</th>\n",
       "      <td>Caribbean small states</td>\n",
       "      <td>CSS</td>\n",
       "      <td>CO2 emissions (metric tons per capita)</td>\n",
       "      <td>EN.ATM.CO2E.PC</td>\n",
       "      <td>2011</td>\n",
       "      <td>9.104855</td>\n",
       "    </tr>\n",
       "    <tr>\n",
       "      <th>19350835</th>\n",
       "      <td>Central Europe and the Baltics</td>\n",
       "      <td>CEB</td>\n",
       "      <td>CO2 emissions (metric tons per capita)</td>\n",
       "      <td>EN.ATM.CO2E.PC</td>\n",
       "      <td>2011</td>\n",
       "      <td>6.882900</td>\n",
       "    </tr>\n",
       "    <tr>\n",
       "      <th>19352272</th>\n",
       "      <td>Early-demographic dividend</td>\n",
       "      <td>EAR</td>\n",
       "      <td>CO2 emissions (metric tons per capita)</td>\n",
       "      <td>EN.ATM.CO2E.PC</td>\n",
       "      <td>2011</td>\n",
       "      <td>2.174205</td>\n",
       "    </tr>\n",
       "    <tr>\n",
       "      <th>19353709</th>\n",
       "      <td>East Asia &amp; Pacific</td>\n",
       "      <td>EAS</td>\n",
       "      <td>CO2 emissions (metric tons per capita)</td>\n",
       "      <td>EN.ATM.CO2E.PC</td>\n",
       "      <td>2011</td>\n",
       "      <td>6.134880</td>\n",
       "    </tr>\n",
       "  </tbody>\n",
       "</table>\n",
       "</div>"
      ],
      "text/plain": [
       "                            Country Name Country Code  \\\n",
       "19347961                      Arab World          ARB   \n",
       "19349398          Caribbean small states          CSS   \n",
       "19350835  Central Europe and the Baltics          CEB   \n",
       "19352272      Early-demographic dividend          EAR   \n",
       "19353709             East Asia & Pacific          EAS   \n",
       "\n",
       "                                  Indicator Name  Indicator Code  Year  \\\n",
       "19347961  CO2 emissions (metric tons per capita)  EN.ATM.CO2E.PC  2011   \n",
       "19349398  CO2 emissions (metric tons per capita)  EN.ATM.CO2E.PC  2011   \n",
       "19350835  CO2 emissions (metric tons per capita)  EN.ATM.CO2E.PC  2011   \n",
       "19352272  CO2 emissions (metric tons per capita)  EN.ATM.CO2E.PC  2011   \n",
       "19353709  CO2 emissions (metric tons per capita)  EN.ATM.CO2E.PC  2011   \n",
       "\n",
       "             Value  \n",
       "19347961  4.572407  \n",
       "19349398  9.104855  \n",
       "19350835  6.882900  \n",
       "19352272  2.174205  \n",
       "19353709  6.134880  "
      ]
     },
     "execution_count": 89,
     "metadata": {},
     "output_type": "execute_result"
    }
   ],
   "source": [
    "# select CO2 emissions for all countries in 2011\n",
    "hist_indicator = 'CO2 emissions \\(metric'\n",
    "hist_year = 2011\n",
    "\n",
    "mask1 = data['Indicator Name'].str.contains(hist_indicator) \n",
    "mask2 = data['Year'].isin([hist_year])\n",
    "\n",
    "# apply our mask\n",
    "co2_2011 = data[mask1 & mask2]\n",
    "co2_2011.head()"
   ]
  },
  {
   "cell_type": "markdown",
   "metadata": {},
   "source": [
    "For how many countries do we have CO2 per capita emissions data in 2011"
   ]
  },
  {
   "cell_type": "code",
   "execution_count": 90,
   "metadata": {},
   "outputs": [
    {
     "name": "stdout",
     "output_type": "stream",
     "text": [
      "250\n"
     ]
    }
   ],
   "source": [
    "print(len(co2_2011))"
   ]
  },
  {
   "cell_type": "code",
   "execution_count": 92,
   "metadata": {},
   "outputs": [
    {
     "data": {
      "image/png": "[encoded data removed]",
      "text/plain": [
       "<Figure size 640x480 with 1 Axes>"
      ]
     },
     "metadata": {},
     "output_type": "display_data"
    }
   ],
   "source": [
    "# let's plot a histogram of the emmissions per capita by country\n",
    "\n",
    "# subplots returns a touple with the figure, axis attributes.\n",
    "fig, ax = plt.subplots()\n",
    "\n",
    "ax.annotate(\"USA\",\n",
    "            xy=(18, 5), xycoords='data',\n",
    "            xytext=(18, 30), textcoords='data',\n",
    "            arrowprops=dict(arrowstyle=\"->\",\n",
    "                            connectionstyle=\"arc3\"),\n",
    "            )\n",
    "\n",
    "plt.hist(co2_2011['Value'], 10, density=False, facecolor='green')\n",
    "\n",
    "plt.xlabel(stage['Indicator Name'].iloc[0])\n",
    "plt.ylabel('# of Countries')\n",
    "plt.title('Histogram of CO2 Emissions Per Capita')\n",
    "\n",
    "#plt.axis([10, 22, 0, 14])\n",
    "plt.grid(True)\n",
    "\n",
    "plt.show()"
   ]
  },
  {
   "cell_type": "markdown",
   "metadata": {},
   "source": [
    "So the USA, at ~18 CO2 emissions (metric tons per capital) is quite high among all countries.\n",
    "\n",
    "An interesting next step, which we'll save for you, would be to explore how this relates to other industrialized nations and to look at the outliers with those values in the 40s!"
   ]
  },
  {
   "cell_type": "markdown",
   "metadata": {},
   "source": [
    "<p style=\"font-family: Arial; font-size:2.0em;color:blue; font-style:bold\">\n",
    "Matplotlib: Basic Plotting, Part 2</p>"
   ]
  },
  {
   "cell_type": "markdown",
   "metadata": {},
   "source": [
    "### Relationship between GPD and CO2 Emissions in USA"
   ]
  },
  {
   "cell_type": "code",
   "execution_count": 80,
   "metadata": {},
   "outputs": [],
   "source": [
    "# select GDP Per capita emissions for the United States\n",
    "hist_indicator = 'GDP per capita \\(constant 2010'\n",
    "hist_country = 'USA'\n",
    "\n",
    "mask1 = data['Indicator Name'].str.contains(hist_indicator) \n",
    "mask2 = data['Country Code'].str.contains(hist_country)\n",
    "\n",
    "# stage is just those indicators matching the USA for country code and CO2 emissions over time.\n",
    "gdp_stage = data[mask1 & mask2]\n",
    "\n",
    "#plot gdp_stage vs stage"
   ]
  },
  {
   "cell_type": "code",
   "execution_count": 81,
   "metadata": {
    "scrolled": true
   },
   "outputs": [
    {
     "data": {
      "text/plain": [
       "48          False\n",
       "54          False\n",
       "55          False\n",
       "56          False\n",
       "88          False\n",
       "            ...  \n",
       "23141428    False\n",
       "23141429    False\n",
       "23141430    False\n",
       "23141431    False\n",
       "23141432    False\n",
       "Name: Indicator Name, Length: 7578806, dtype: bool"
      ]
     },
     "execution_count": 81,
     "metadata": {},
     "output_type": "execute_result"
    }
   ],
   "source": [
    "mask1"
   ]
  },
  {
   "cell_type": "code",
   "execution_count": 82,
   "metadata": {},
   "outputs": [
    {
     "data": {
      "text/plain": [
       "11887"
      ]
     },
     "execution_count": 82,
     "metadata": {},
     "output_type": "execute_result"
    }
   ],
   "source": [
    "mask1[mask1==True].count().sum()"
   ]
  },
  {
   "cell_type": "code",
   "execution_count": 83,
   "metadata": {},
   "outputs": [
    {
     "data": {
      "text/html": [
       "<div>\n",
       "<style scoped>\n",
       "    .dataframe tbody tr th:only-of-type {\n",
       "        vertical-align: middle;\n",
       "    }\n",
       "\n",
       "    .dataframe tbody tr th {\n",
       "        vertical-align: top;\n",
       "    }\n",
       "\n",
       "    .dataframe thead th {\n",
       "        text-align: right;\n",
       "    }\n",
       "</style>\n",
       "<table border=\"1\" class=\"dataframe\">\n",
       "  <thead>\n",
       "    <tr style=\"text-align: right;\">\n",
       "      <th></th>\n",
       "      <th>Country Name</th>\n",
       "      <th>Country Code</th>\n",
       "      <th>Indicator Name</th>\n",
       "      <th>Indicator Code</th>\n",
       "      <th>Year</th>\n",
       "      <th>Value</th>\n",
       "    </tr>\n",
       "  </thead>\n",
       "  <tbody>\n",
       "    <tr>\n",
       "      <th>364032</th>\n",
       "      <td>United States</td>\n",
       "      <td>USA</td>\n",
       "      <td>GDP per capita (constant 2010 US$)</td>\n",
       "      <td>NY.GDP.PCAP.KD</td>\n",
       "      <td>1960</td>\n",
       "      <td>17562.592084</td>\n",
       "    </tr>\n",
       "    <tr>\n",
       "      <th>743400</th>\n",
       "      <td>United States</td>\n",
       "      <td>USA</td>\n",
       "      <td>GDP per capita (constant 2010 US$)</td>\n",
       "      <td>NY.GDP.PCAP.KD</td>\n",
       "      <td>1961</td>\n",
       "      <td>17671.150187</td>\n",
       "    </tr>\n",
       "  </tbody>\n",
       "</table>\n",
       "</div>"
      ],
      "text/plain": [
       "         Country Name Country Code                      Indicator Name  \\\n",
       "364032  United States          USA  GDP per capita (constant 2010 US$)   \n",
       "743400  United States          USA  GDP per capita (constant 2010 US$)   \n",
       "\n",
       "        Indicator Code  Year         Value  \n",
       "364032  NY.GDP.PCAP.KD  1960  17562.592084  \n",
       "743400  NY.GDP.PCAP.KD  1961  17671.150187  "
      ]
     },
     "execution_count": 83,
     "metadata": {},
     "output_type": "execute_result"
    }
   ],
   "source": [
    "gdp_stage.head(2)"
   ]
  },
  {
   "cell_type": "code",
   "execution_count": 84,
   "metadata": {},
   "outputs": [
    {
     "data": {
      "image/png": "[encoded data removed]",
      "text/plain": [
       "<Figure size 640x480 with 1 Axes>"
      ]
     },
     "metadata": {},
     "output_type": "display_data"
    }
   ],
   "source": [
    "# switch to a line plot\n",
    "plt.plot(gdp_stage['Year'].values, gdp_stage['Value'].values)\n",
    "\n",
    "# Label the axes\n",
    "plt.xlabel('Year')\n",
    "plt.ylabel(gdp_stage['Indicator Name'].iloc[0])\n",
    "\n",
    "#label the figure\n",
    "plt.title('GDP Per Capita USA')\n",
    "\n",
    "# to make more honest, start they y axis at 0\n",
    "\n",
    "#plt.axis([1959, 2011,0,25])\n",
    "\n",
    "plt.show()"
   ]
  },
  {
   "cell_type": "markdown",
   "metadata": {},
   "source": [
    "So although we've seen a decline in the CO2 emissions per capita, it does not seem to translate to a decline in GDP per capita"
   ]
  },
  {
   "cell_type": "markdown",
   "metadata": {},
   "source": [
    "### ScatterPlot for comparing GDP against CO2 emissions (per capita)\n",
    "\n",
    "First, we'll need to make sure we're looking at the same time frames"
   ]
  },
  {
   "cell_type": "code",
   "execution_count": 85,
   "metadata": {},
   "outputs": [
    {
     "name": "stdout",
     "output_type": "stream",
     "text": [
      "GDP Min Year =  1960 max:  2019\n",
      "CO2 Min Year =  1960 max:  2016\n"
     ]
    }
   ],
   "source": [
    "print(\"GDP Min Year = \", gdp_stage['Year'].min(), \"max: \", gdp_stage['Year'].max())\n",
    "print(\"CO2 Min Year = \", stage['Year'].min(), \"max: \", stage['Year'].max())"
   ]
  },
  {
   "cell_type": "markdown",
   "metadata": {},
   "source": [
    "We have 3 extra years of GDP data, so let's trim those off so the scatterplot has equal length arrays to compare (this is actually required by scatterplot)"
   ]
  },
  {
   "cell_type": "code",
   "execution_count": 86,
   "metadata": {},
   "outputs": [
    {
     "name": "stdout",
     "output_type": "stream",
     "text": [
      "57\n",
      "57\n"
     ]
    }
   ],
   "source": [
    "gdp_stage_trunc = gdp_stage[gdp_stage['Year'] < 2017]\n",
    "print(len(gdp_stage_trunc))\n",
    "print(len(stage))"
   ]
  },
  {
   "cell_type": "code",
   "execution_count": 87,
   "metadata": {},
   "outputs": [
    {
     "data": {
      "text/html": [
       "<div>\n",
       "<style scoped>\n",
       "    .dataframe tbody tr th:only-of-type {\n",
       "        vertical-align: middle;\n",
       "    }\n",
       "\n",
       "    .dataframe tbody tr th {\n",
       "        vertical-align: top;\n",
       "    }\n",
       "\n",
       "    .dataframe thead th {\n",
       "        text-align: right;\n",
       "    }\n",
       "</style>\n",
       "<table border=\"1\" class=\"dataframe\">\n",
       "  <thead>\n",
       "    <tr style=\"text-align: right;\">\n",
       "      <th></th>\n",
       "      <th>Country Name</th>\n",
       "      <th>Country Code</th>\n",
       "      <th>Indicator Name</th>\n",
       "      <th>Indicator Code</th>\n",
       "      <th>Year</th>\n",
       "      <th>Value</th>\n",
       "    </tr>\n",
       "  </thead>\n",
       "  <tbody>\n",
       "    <tr>\n",
       "      <th>364032</th>\n",
       "      <td>United States</td>\n",
       "      <td>USA</td>\n",
       "      <td>GDP per capita (constant 2010 US$)</td>\n",
       "      <td>NY.GDP.PCAP.KD</td>\n",
       "      <td>1960</td>\n",
       "      <td>17562.592084</td>\n",
       "    </tr>\n",
       "    <tr>\n",
       "      <th>743400</th>\n",
       "      <td>United States</td>\n",
       "      <td>USA</td>\n",
       "      <td>GDP per capita (constant 2010 US$)</td>\n",
       "      <td>NY.GDP.PCAP.KD</td>\n",
       "      <td>1961</td>\n",
       "      <td>17671.150187</td>\n",
       "    </tr>\n",
       "    <tr>\n",
       "      <th>1122768</th>\n",
       "      <td>United States</td>\n",
       "      <td>USA</td>\n",
       "      <td>GDP per capita (constant 2010 US$)</td>\n",
       "      <td>NY.GDP.PCAP.KD</td>\n",
       "      <td>1962</td>\n",
       "      <td>18462.935998</td>\n",
       "    </tr>\n",
       "    <tr>\n",
       "      <th>1502136</th>\n",
       "      <td>United States</td>\n",
       "      <td>USA</td>\n",
       "      <td>GDP per capita (constant 2010 US$)</td>\n",
       "      <td>NY.GDP.PCAP.KD</td>\n",
       "      <td>1963</td>\n",
       "      <td>18999.888387</td>\n",
       "    </tr>\n",
       "    <tr>\n",
       "      <th>1881504</th>\n",
       "      <td>United States</td>\n",
       "      <td>USA</td>\n",
       "      <td>GDP per capita (constant 2010 US$)</td>\n",
       "      <td>NY.GDP.PCAP.KD</td>\n",
       "      <td>1964</td>\n",
       "      <td>19824.587845</td>\n",
       "    </tr>\n",
       "  </tbody>\n",
       "</table>\n",
       "</div>"
      ],
      "text/plain": [
       "          Country Name Country Code                      Indicator Name  \\\n",
       "364032   United States          USA  GDP per capita (constant 2010 US$)   \n",
       "743400   United States          USA  GDP per capita (constant 2010 US$)   \n",
       "1122768  United States          USA  GDP per capita (constant 2010 US$)   \n",
       "1502136  United States          USA  GDP per capita (constant 2010 US$)   \n",
       "1881504  United States          USA  GDP per capita (constant 2010 US$)   \n",
       "\n",
       "         Indicator Code  Year         Value  \n",
       "364032   NY.GDP.PCAP.KD  1960  17562.592084  \n",
       "743400   NY.GDP.PCAP.KD  1961  17671.150187  \n",
       "1122768  NY.GDP.PCAP.KD  1962  18462.935998  \n",
       "1502136  NY.GDP.PCAP.KD  1963  18999.888387  \n",
       "1881504  NY.GDP.PCAP.KD  1964  19824.587845  "
      ]
     },
     "execution_count": 87,
     "metadata": {},
     "output_type": "execute_result"
    }
   ],
   "source": [
    "gdp_stage_trunc.head()"
   ]
  },
  {
   "cell_type": "code",
   "execution_count": 88,
   "metadata": {},
   "outputs": [
    {
     "data": {
      "image/png": "[encoded data removed]",
      "text/plain": [
       "<Figure size 640x480 with 1 Axes>"
      ]
     },
     "metadata": {},
     "output_type": "display_data"
    }
   ],
   "source": [
    "%matplotlib inline\n",
    "import matplotlib.pyplot as plt\n",
    "\n",
    "fig, axis = plt.subplots()\n",
    "# Grid lines, Xticks, Xlabel, Ylabel\n",
    "\n",
    "axis.yaxis.grid(False)\n",
    "axis.set_title('CO2 Emissions vs. GDP \\(per capita\\)',fontsize=10)\n",
    "axis.set_xlabel(gdp_stage_trunc['Indicator Name'].iloc[0],fontsize=10)\n",
    "axis.set_ylabel(stage['Indicator Name'].iloc[0],fontsize=10)\n",
    "\n",
    "X = gdp_stage_trunc['Value']\n",
    "Y = stage['Value']\n",
    "\n",
    "axis.scatter(X, Y)\n",
    "plt.show()"
   ]
  },
  {
   "cell_type": "code",
   "execution_count": 89,
   "metadata": {},
   "outputs": [
    {
     "data": {
      "text/plain": [
       "(57,)"
      ]
     },
     "execution_count": 89,
     "metadata": {},
     "output_type": "execute_result"
    }
   ],
   "source": [
    "X.shape"
   ]
  },
  {
   "cell_type": "code",
   "execution_count": 174,
   "metadata": {},
   "outputs": [
    {
     "data": {
      "text/plain": [
       "(57,)"
      ]
     },
     "execution_count": 174,
     "metadata": {},
     "output_type": "execute_result"
    }
   ],
   "source": [
    "Y.shape"
   ]
  },
  {
   "cell_type": "markdown",
   "metadata": {},
   "source": [
    "This doesn't look like a strong relationship.  We can test this by looking at correlation."
   ]
  },
  {
   "cell_type": "code",
   "execution_count": 175,
   "metadata": {},
   "outputs": [
    {
     "data": {
      "text/plain": [
       "array([[ 1.        , -0.20456087],\n",
       "       [-0.20456087,  1.        ]])"
      ]
     },
     "execution_count": 175,
     "metadata": {},
     "output_type": "execute_result"
    }
   ],
   "source": [
    "np.corrcoef(gdp_stage_trunc['Value'],stage['Value'])"
   ]
  },
  {
   "cell_type": "markdown",
   "metadata": {},
   "source": [
    "A correlation of 0.07 is pretty weak, but you'll learn more about correlation in the next course.\n",
    "\n",
    "You could continue to explore this to see if other countries have a closer relationship between CO2 emissions and GDP.  Perhaps it is stronger for developing countries?"
   ]
  },
  {
   "cell_type": "markdown",
   "metadata": {
    "collapsed": true,
    "jupyter": {
     "outputs_hidden": true
    }
   },
   "source": [
    "## Want more ? \n",
    "\n",
    "### Matplotlib Examples Library"
   ]
  },
  {
   "cell_type": "markdown",
   "metadata": {},
   "source": [
    "http://matplotlib.org/examples/index.html"
   ]
  },
  {
   "cell_type": "code",
   "execution_count": 177,
   "metadata": {},
   "outputs": [
    {
     "data": {
      "application/javascript": [
       "IPython.OutputArea.auto_scroll_threshold = 9999;\n"
      ],
      "text/plain": [
       "<IPython.core.display.Javascript object>"
      ]
     },
     "metadata": {},
     "output_type": "display_data"
    }
   ],
   "source": [
    "%%javascript\n",
    "IPython.OutputArea.auto_scroll_threshold = 9999;"
   ]
  },
  {
   "cell_type": "markdown",
   "metadata": {},
   "source": [
    "## LETS SEE THE AGE DEPENDENCY OF USA"
   ]
  },
  {
   "cell_type": "code",
   "execution_count": 63,
   "metadata": {},
   "outputs": [],
   "source": [
    "hist_indicator2 = 'Age dependency ratio'\n",
    "hist_country2 = 'USA'\n",
    "\n",
    "mask3 = data['Indicator Name'].str.contains(hist_indicator2) \n",
    "mask4 = data['Country Code'].str.contains(hist_country2)\n",
    "\n",
    "# stage is just those indicators matching the USA for country code and CO2 emissions over time.\n",
    "stage2 = data[mask3 & mask4]"
   ]
  },
  {
   "cell_type": "code",
   "execution_count": 64,
   "metadata": {},
   "outputs": [
    {
     "data": {
      "text/html": [
       "<div>\n",
       "<style scoped>\n",
       "    .dataframe tbody tr th:only-of-type {\n",
       "        vertical-align: middle;\n",
       "    }\n",
       "\n",
       "    .dataframe tbody tr th {\n",
       "        vertical-align: top;\n",
       "    }\n",
       "\n",
       "    .dataframe thead th {\n",
       "        text-align: right;\n",
       "    }\n",
       "</style>\n",
       "<table border=\"1\" class=\"dataframe\">\n",
       "  <thead>\n",
       "    <tr style=\"text-align: right;\">\n",
       "      <th></th>\n",
       "      <th>Country Name</th>\n",
       "      <th>Country Code</th>\n",
       "      <th>Indicator Name</th>\n",
       "      <th>Indicator Code</th>\n",
       "      <th>Year</th>\n",
       "      <th>Value</th>\n",
       "    </tr>\n",
       "  </thead>\n",
       "  <tbody>\n",
       "    <tr>\n",
       "      <th>363615</th>\n",
       "      <td>United States</td>\n",
       "      <td>USA</td>\n",
       "      <td>Age dependency ratio (% of working-age populat...</td>\n",
       "      <td>SP.POP.DPND</td>\n",
       "      <td>1960</td>\n",
       "      <td>66.131735</td>\n",
       "    </tr>\n",
       "    <tr>\n",
       "      <th>363616</th>\n",
       "      <td>United States</td>\n",
       "      <td>USA</td>\n",
       "      <td>Age dependency ratio, old (% of working-age po...</td>\n",
       "      <td>SP.POP.DPND.OL</td>\n",
       "      <td>1960</td>\n",
       "      <td>15.144111</td>\n",
       "    </tr>\n",
       "    <tr>\n",
       "      <th>363617</th>\n",
       "      <td>United States</td>\n",
       "      <td>USA</td>\n",
       "      <td>Age dependency ratio, young (% of working-age ...</td>\n",
       "      <td>SP.POP.DPND.YG</td>\n",
       "      <td>1960</td>\n",
       "      <td>50.987625</td>\n",
       "    </tr>\n",
       "    <tr>\n",
       "      <th>742983</th>\n",
       "      <td>United States</td>\n",
       "      <td>USA</td>\n",
       "      <td>Age dependency ratio (% of working-age populat...</td>\n",
       "      <td>SP.POP.DPND</td>\n",
       "      <td>1961</td>\n",
       "      <td>66.648032</td>\n",
       "    </tr>\n",
       "    <tr>\n",
       "      <th>742984</th>\n",
       "      <td>United States</td>\n",
       "      <td>USA</td>\n",
       "      <td>Age dependency ratio, old (% of working-age po...</td>\n",
       "      <td>SP.POP.DPND.OL</td>\n",
       "      <td>1961</td>\n",
       "      <td>15.316125</td>\n",
       "    </tr>\n",
       "  </tbody>\n",
       "</table>\n",
       "</div>"
      ],
      "text/plain": [
       "         Country Name Country Code  \\\n",
       "363615  United States          USA   \n",
       "363616  United States          USA   \n",
       "363617  United States          USA   \n",
       "742983  United States          USA   \n",
       "742984  United States          USA   \n",
       "\n",
       "                                           Indicator Name  Indicator Code  \\\n",
       "363615  Age dependency ratio (% of working-age populat...     SP.POP.DPND   \n",
       "363616  Age dependency ratio, old (% of working-age po...  SP.POP.DPND.OL   \n",
       "363617  Age dependency ratio, young (% of working-age ...  SP.POP.DPND.YG   \n",
       "742983  Age dependency ratio (% of working-age populat...     SP.POP.DPND   \n",
       "742984  Age dependency ratio, old (% of working-age po...  SP.POP.DPND.OL   \n",
       "\n",
       "        Year      Value  \n",
       "363615  1960  66.131735  \n",
       "363616  1960  15.144111  \n",
       "363617  1960  50.987625  \n",
       "742983  1961  66.648032  \n",
       "742984  1961  15.316125  "
      ]
     },
     "execution_count": 64,
     "metadata": {},
     "output_type": "execute_result"
    }
   ],
   "source": [
    "stage2.head()"
   ]
  },
  {
   "cell_type": "code",
   "execution_count": 65,
   "metadata": {},
   "outputs": [
    {
     "data": {
      "image/png": "[encoded data removed]",
      "text/plain": [
       "<Figure size 640x480 with 1 Axes>"
      ]
     },
     "metadata": {},
     "output_type": "display_data"
    }
   ],
   "source": [
    "# get the years\n",
    "years1 = stage2['Year'].values\n",
    "# get the values \n",
    "AGE_DEPENDENCY = stage2['Value'].values\n",
    "\n",
    "# create\n",
    "plt.bar(years1,AGE_DEPENDENCY)\n",
    "plt.show()"
   ]
  },
  {
   "cell_type": "code",
   "execution_count": 90,
   "metadata": {},
   "outputs": [],
   "source": [
    "cntry = data['Country Name'].value_counts()"
   ]
  },
  {
   "cell_type": "code",
   "execution_count": 91,
   "metadata": {},
   "outputs": [
    {
     "data": {
      "text/plain": [
       "Country Name\n",
       "Peru                         42853\n",
       "Costa Rica                   42598\n",
       "Mexico                       42573\n",
       "Colombia                     42435\n",
       "Turkey                       41372\n",
       "                             ...  \n",
       "American Samoa                4977\n",
       "Northern Mariana Islands      3606\n",
       "Isle of Man                   3012\n",
       "Sint Maarten (Dutch part)     2391\n",
       "St. Martin (French part)       902\n",
       "Name: count, Length: 263, dtype: int64"
      ]
     },
     "execution_count": 91,
     "metadata": {},
     "output_type": "execute_result"
    }
   ],
   "source": [
    "cntry.head()"
   ]
  },
  {
   "cell_type": "code",
   "execution_count": 92,
   "metadata": {},
   "outputs": [
    {
     "data": {
      "text/plain": [
       "Indicator Name\n",
       "Population, total                                                              15701\n",
       "Urban population (% of total population)                                       15652\n",
       "Rural population (% of total population)                                       15652\n",
       "Rural population                                                               15581\n",
       "Urban population                                                               15581\n",
       "                                                                               ...  \n",
       "Multidimensional poverty headcount ratio, household (% of total households)       42\n",
       "Multidimensional poverty index (scale 0-1)                                        39\n",
       "Investment in ICT with private participation (current US$)                        20\n",
       "Net official flows from UN agencies, UNEP (current US$)                           16\n",
       "Multidimensional poverty index, children (population ages 0-17) (scale 0-1)        2\n",
       "Name: count, Length: 1437, dtype: int64"
      ]
     },
     "execution_count": 92,
     "metadata": {},
     "output_type": "execute_result"
    }
   ],
   "source": [
    "indic = data['Indicator Name'].value_counts()\n",
    "indic"
   ]
  },
  {
   "cell_type": "code",
   "execution_count": 97,
   "metadata": {},
   "outputs": [
    {
     "data": {
      "text/plain": [
       "15701"
      ]
     },
     "execution_count": 97,
     "metadata": {},
     "output_type": "execute_result"
    }
   ],
   "source": [
    "indic.max()"
   ]
  },
  {
   "cell_type": "code",
   "execution_count": 95,
   "metadata": {},
   "outputs": [],
   "source": [
    "val = data['Value'].value_counts()"
   ]
  },
  {
   "cell_type": "code",
   "execution_count": 96,
   "metadata": {},
   "outputs": [
    {
     "data": {
      "text/plain": [
       "Value\n",
       "0.000000      234759\n",
       "100.000000     32265\n",
       "6.000000       26092\n",
       "7.000000       12733\n",
       "3.000000       11948\n",
       "               ...  \n",
       "5.949200           1\n",
       "13.510400          1\n",
       "8.308200           1\n",
       "14.762340          1\n",
       "64.588001          1\n",
       "Name: count, Length: 5526322, dtype: int64"
      ]
     },
     "execution_count": 96,
     "metadata": {},
     "output_type": "execute_result"
    }
   ],
   "source": [
    "val"
   ]
  },
  {
   "cell_type": "code",
   "execution_count": 107,
   "metadata": {},
   "outputs": [
    {
     "data": {
      "text/plain": [
       "0    1\n",
       "Name: count, dtype: int64"
      ]
     },
     "execution_count": 107,
     "metadata": {},
     "output_type": "execute_result"
    }
   ],
   "source": [
    "x = val.mode()\n",
    "x"
   ]
  },
  {
   "cell_type": "code",
   "execution_count": null,
   "metadata": {},
   "outputs": [],
   "source": []
  }
 ],
 "metadata": {
  "kernelspec": {
   "display_name": "Python 3 (ipykernel)",
   "language": "python",
   "name": "python3"
  },
  "language_info": {
   "codemirror_mode": {
    "name": "ipython",
    "version": 3
   },
   "file_extension": ".py",
   "mimetype": "text/x-python",
   "name": "python",
   "nbconvert_exporter": "python",
   "pygments_lexer": "ipython3",
   "version": "3.10.12"
  }
 },
 "nbformat": 4,
 "nbformat_minor": 4
}
